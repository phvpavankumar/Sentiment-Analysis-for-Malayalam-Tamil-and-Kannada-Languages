{
 "cells": [
  {
   "cell_type": "code",
   "execution_count": 1,
   "metadata": {
    "colab": {
     "base_uri": "https://localhost:8080/"
    },
    "id": "Zfxs5vGpn8QB",
    "outputId": "9aeceb1d-afea-4d52-8669-15827231d489"
   },
   "outputs": [],
   "source": [
    "#!gdown --id 1tV-TWBqet6R_oDc1lEInAmjBSvk-EMml\n",
    "#!gdown --id 1jqtA93q5bckLLbZi_g_D4VNdsCC2HU9f\n",
    "#!gdown --id 1gKH_bQ3CtmirmznKj12_gZy3vGhD_d0m"
   ]
  },
  {
   "cell_type": "code",
   "execution_count": 2,
   "metadata": {
    "colab": {
     "base_uri": "https://localhost:8080/"
    },
    "id": "3WRIsTi0zCs-",
    "outputId": "e0df9222-62d5-43c9-a541-f8028585670d"
   },
   "outputs": [],
   "source": [
    "#!nvidia-smi"
   ]
  },
  {
   "cell_type": "code",
   "execution_count": 3,
   "metadata": {
    "colab": {
     "base_uri": "https://localhost:8080/"
    },
    "id": "OlFORVm4zCs_",
    "outputId": "1a9e6a51-034b-4de9-c096-9471288aa12f"
   },
   "outputs": [
    {
     "name": "stdout",
     "output_type": "stream",
     "text": [
      "1 Physical GPUs, 1 Logical GPUs\n"
     ]
    }
   ],
   "source": [
    "import tensorflow as tf\n",
    "gpus = tf.config.experimental.list_physical_devices('GPU')\n",
    "if gpus:\n",
    "  # Restrict TensorFlow to only allocate 4GB of memory on the first GPU\n",
    "  try:\n",
    "    tf.config.experimental.set_virtual_device_configuration(\n",
    "        gpus[0],\n",
    "        [tf.config.experimental.VirtualDeviceConfiguration(memory_limit=4096)])\n",
    "    logical_gpus = tf.config.experimental.list_logical_devices('GPU')\n",
    "    print(len(gpus), \"Physical GPUs,\", len(logical_gpus), \"Logical GPUs\")\n",
    "  except RuntimeError as e:\n",
    "    # Virtual devices must be set before GPUs have been initialized\n",
    "    print(e)"
   ]
  },
  {
   "cell_type": "code",
   "execution_count": 4,
   "metadata": {
    "colab": {
     "base_uri": "https://localhost:8080/"
    },
    "id": "NPsBVUt4CPFK",
    "outputId": "c45b9b4f-bea4-45cb-f8cf-b41bb2951553"
   },
   "outputs": [
    {
     "name": "stderr",
     "output_type": "stream",
     "text": [
      "[nltk_data] Downloading package treebank to\n",
      "[nltk_data]     C:\\Users\\phvpa\\AppData\\Roaming\\nltk_data...\n",
      "[nltk_data]   Package treebank is already up-to-date!\n",
      "[nltk_data] Downloading package stopwords to\n",
      "[nltk_data]     C:\\Users\\phvpa\\AppData\\Roaming\\nltk_data...\n",
      "[nltk_data]   Package stopwords is already up-to-date!\n",
      "[nltk_data] Downloading package punkt to\n",
      "[nltk_data]     C:\\Users\\phvpa\\AppData\\Roaming\\nltk_data...\n",
      "[nltk_data]   Package punkt is already up-to-date!\n",
      "[nltk_data] Downloading package wordnet to\n",
      "[nltk_data]     C:\\Users\\phvpa\\AppData\\Roaming\\nltk_data...\n",
      "[nltk_data]   Package wordnet is already up-to-date!\n",
      "[nltk_data] Downloading package averaged_perceptron_tagger to\n",
      "[nltk_data]     C:\\Users\\phvpa\\AppData\\Roaming\\nltk_data...\n",
      "[nltk_data]   Package averaged_perceptron_tagger is already up-to-\n",
      "[nltk_data]       date!\n",
      "C:\\Users\\phvpa\\anaconda3\\envs\\NLP\\lib\\site-packages\\gensim\\similarities\\__init__.py:15: UserWarning: The gensim.similarities.levenshtein submodule is disabled, because the optional Levenshtein package <https://pypi.org/project/python-Levenshtein/> is unavailable. Install Levenhstein (e.g. `pip install python-Levenshtein`) to suppress this warning.\n",
      "  warnings.warn(msg)\n"
     ]
    }
   ],
   "source": [
    "import pandas as pd\n",
    "import re\n",
    "import numpy as np\n",
    "import itertools\n",
    "import collections\n",
    "from collections import defaultdict, Counter\n",
    "import matplotlib.pyplot as plt\n",
    "import string\n",
    "from wordcloud import WordCloud\n",
    "\n",
    "import nltk\n",
    "nltk.download('treebank')\n",
    "nltk.download('stopwords')\n",
    "nltk.download('punkt')\n",
    "nltk.download('wordnet')\n",
    "nltk.download('averaged_perceptron_tagger')\n",
    "from nltk.corpus import stopwords\n",
    "from nltk.corpus import wordnet as wn\n",
    "from nltk.stem.wordnet import WordNetLemmatizer\n",
    "from nltk import word_tokenize, pos_tag\n",
    "\n",
    "from sklearn.metrics import classification_report\n",
    "from sklearn.model_selection import train_test_split\n",
    "from sklearn.preprocessing import LabelEncoder\n",
    "from sklearn.metrics import accuracy_score, f1_score, precision_score, recall_score, confusion_matrix\n",
    "from sklearn.svm import SVC\n",
    "from sklearn.neighbors import KNeighborsClassifier\n",
    "from sklearn.neural_network import MLPClassifier\n",
    "from sklearn.tree import DecisionTreeClassifier\n",
    "from sklearn.naive_bayes import GaussianNB\n",
    "from sklearn.ensemble import RandomForestClassifier\n",
    "from sklearn.feature_extraction.text import CountVectorizer, TfidfVectorizer \n",
    "\n",
    "import gensim\n",
    "from gensim.models import KeyedVectors, Word2Vec, FastText\n",
    "\n",
    "import tensorflow as tf\n",
    "import unicodedata"
   ]
  },
  {
   "cell_type": "code",
   "execution_count": 5,
   "metadata": {
    "colab": {
     "base_uri": "https://localhost:8080/"
    },
    "id": "6GV9JIe0CO2b",
    "outputId": "c23d2012-01b4-471c-8df5-a824a05ce39b"
   },
   "outputs": [],
   "source": [
    "#ls"
   ]
  },
  {
   "cell_type": "code",
   "execution_count": 6,
   "metadata": {
    "colab": {
     "base_uri": "https://localhost:8080/"
    },
    "id": "b6f18C1DCRRT",
    "outputId": "dbdff83e-72b2-4816-8e0d-63e489176f04"
   },
   "outputs": [
    {
     "name": "stdout",
     "output_type": "stream",
     "text": [
      "35656\n",
      "3962\n"
     ]
    },
    {
     "data": {
      "text/plain": [
       "4402"
      ]
     },
     "execution_count": 6,
     "metadata": {},
     "output_type": "execute_result"
    }
   ],
   "source": [
    "\n",
    "train_df = pd.read_csv(\"tamil_sentiment_full_train.tsv\", sep='\\t')\n",
    "print(len(train_df))\n",
    "\n",
    "valid_df = pd.read_csv(\"tamil_sentiment_full_dev.tsv\", sep='\\t')\n",
    "print(len(valid_df))\n",
    "\n",
    "test_df = pd.read_csv(\"tamil_sentiment_full_test_withoutlabels.tsv\", sep='\\t')\n",
    "len(test_df)"
   ]
  },
  {
   "cell_type": "code",
   "execution_count": 7,
   "metadata": {
    "colab": {
     "base_uri": "https://localhost:8080/",
     "height": 417
    },
    "id": "oX1Xsa743NiH",
    "outputId": "e7b7f88e-920d-4c68-f293-3b7a996621d6"
   },
   "outputs": [
    {
     "data": {
      "text/html": [
       "<div>\n",
       "<style scoped>\n",
       "    .dataframe tbody tr th:only-of-type {\n",
       "        vertical-align: middle;\n",
       "    }\n",
       "\n",
       "    .dataframe tbody tr th {\n",
       "        vertical-align: top;\n",
       "    }\n",
       "\n",
       "    .dataframe thead th {\n",
       "        text-align: right;\n",
       "    }\n",
       "</style>\n",
       "<table border=\"1\" class=\"dataframe\">\n",
       "  <thead>\n",
       "    <tr style=\"text-align: right;\">\n",
       "      <th></th>\n",
       "      <th>id</th>\n",
       "      <th>text</th>\n",
       "    </tr>\n",
       "  </thead>\n",
       "  <tbody>\n",
       "    <tr>\n",
       "      <th>0</th>\n",
       "      <td>Tam_1</td>\n",
       "      <td>வீர செங்குந்தர் சார்பாக இந்த திரைப்படம் வெற்றி...</td>\n",
       "    </tr>\n",
       "    <tr>\n",
       "      <th>1</th>\n",
       "      <td>Tam_2</td>\n",
       "      <td>Teruk ah irukku .... mokke movie .. waste of time</td>\n",
       "    </tr>\n",
       "    <tr>\n",
       "      <th>2</th>\n",
       "      <td>Tam_3</td>\n",
       "      <td>manitha samuthaayam amaipil irunthu intha pada...</td>\n",
       "    </tr>\n",
       "    <tr>\n",
       "      <th>3</th>\n",
       "      <td>Tam_4</td>\n",
       "      <td>JJ mam we miss u</td>\n",
       "    </tr>\n",
       "    <tr>\n",
       "      <th>4</th>\n",
       "      <td>Tam_5</td>\n",
       "      <td>Subtitle me traller dekhne wale like karo</td>\n",
       "    </tr>\n",
       "    <tr>\n",
       "      <th>...</th>\n",
       "      <td>...</td>\n",
       "      <td>...</td>\n",
       "    </tr>\n",
       "    <tr>\n",
       "      <th>4397</th>\n",
       "      <td>Tam_4398</td>\n",
       "      <td>Ithukum dislike potta kammanattti koovaingalam...</td>\n",
       "    </tr>\n",
       "    <tr>\n",
       "      <th>4398</th>\n",
       "      <td>Tam_4399</td>\n",
       "      <td>Suyama Sinthikiravan than super Hero Seama dia...</td>\n",
       "    </tr>\n",
       "    <tr>\n",
       "      <th>4399</th>\n",
       "      <td>Tam_4400</td>\n",
       "      <td>Super thalaiva.... Nee mass dha eppavume</td>\n",
       "    </tr>\n",
       "    <tr>\n",
       "      <th>4400</th>\n",
       "      <td>Tam_4401</td>\n",
       "      <td>பெண்ணை அடிமையாக்க நினைக்கும் இந்த படம் தோல்வித...</td>\n",
       "    </tr>\n",
       "    <tr>\n",
       "      <th>4401</th>\n",
       "      <td>Tam_4402</td>\n",
       "      <td>Semma thalaiva alu athikama akirukum enimale e...</td>\n",
       "    </tr>\n",
       "  </tbody>\n",
       "</table>\n",
       "<p>4402 rows × 2 columns</p>\n",
       "</div>"
      ],
      "text/plain": [
       "            id                                               text\n",
       "0        Tam_1  வீர செங்குந்தர் சார்பாக இந்த திரைப்படம் வெற்றி...\n",
       "1        Tam_2  Teruk ah irukku .... mokke movie .. waste of time\n",
       "2        Tam_3  manitha samuthaayam amaipil irunthu intha pada...\n",
       "3        Tam_4                                   JJ mam we miss u\n",
       "4        Tam_5          Subtitle me traller dekhne wale like karo\n",
       "...        ...                                                ...\n",
       "4397  Tam_4398  Ithukum dislike potta kammanattti koovaingalam...\n",
       "4398  Tam_4399  Suyama Sinthikiravan than super Hero Seama dia...\n",
       "4399  Tam_4400           Super thalaiva.... Nee mass dha eppavume\n",
       "4400  Tam_4401  பெண்ணை அடிமையாக்க நினைக்கும் இந்த படம் தோல்வித...\n",
       "4401  Tam_4402  Semma thalaiva alu athikama akirukum enimale e...\n",
       "\n",
       "[4402 rows x 2 columns]"
      ]
     },
     "execution_count": 7,
     "metadata": {},
     "output_type": "execute_result"
    }
   ],
   "source": [
    "test_df"
   ]
  },
  {
   "cell_type": "code",
   "execution_count": 8,
   "metadata": {
    "colab": {
     "base_uri": "https://localhost:8080/"
    },
    "id": "SS50qjBF3NiI",
    "outputId": "7026325d-df9d-47bf-d893-5afe8ad028f6"
   },
   "outputs": [
    {
     "name": "stdout",
     "output_type": "stream",
     "text": [
      "The King is Arriving.....  Anil Kunjugal Padhungum Neram Vandhu vitadhu.....\n",
      "ஆக மொத்தம் , விவசாயிங்க கண்ணிர், இளைஞர்கள் வேலைவாய்ப்பு, விலைவாசி உயர்வு, நாட்டின் முன்னேற்றம் பற்றி எந்த நாயிம் படம் எடுக்காது.  போங்கடா நீங்களும் உங்க ஜாதி புண்** யும்.\n",
      "Verithanama iruka pogithu athula doubt te ila\n",
      "luv u ರಜನಿ... luv from Karnataka\n",
      "Padipa mattum  eduthuka  mudiyathu.....\n",
      "Masssss Na massss dha pakkkkaaaaa masssssss ummmmmmhhaaaa\n",
      "Thalaiva  Makkal selvan Annan\n",
      "1m likes kooda oomba mudila   Fan base matter\n",
      "Wow....... Ak is looking.... Very dangerous.... ...\n",
      "Vj Sethupathi Ah Kamichitu Piragu Tha Trailer eh Mass Ah Poovthu ..!\n",
      "epdi thalaivare? all star vachi padam pandringa? marana waiding.... 🤗🤗🤗🤗\n"
     ]
    }
   ],
   "source": [
    "print(test_df['text'][279])\n",
    "print(test_df['text'][516])\n",
    "print(test_df['text'][546])\n",
    "print(test_df['text'][555])\n",
    "print(test_df['text'][559])\n",
    "print(test_df['text'][570])\n",
    "print(test_df['text'][825])\n",
    "print(test_df['text'][838])\n",
    "print(test_df['text'][860])\n",
    "print(test_df['text'][890])\n",
    "print(test_df['text'][1234])"
   ]
  },
  {
   "cell_type": "code",
   "execution_count": 9,
   "metadata": {
    "colab": {
     "base_uri": "https://localhost:8080/",
     "height": 35
    },
    "id": "fB0N5Wm7Ecat",
    "outputId": "1c4fedd8-3cc6-4166-f780-27dc2464edf0"
   },
   "outputs": [
    {
     "data": {
      "text/plain": [
       "'Vani bhojam fans hit like solli 500 like Vangida Vendiyathu than'"
      ]
     },
     "execution_count": 9,
     "metadata": {},
     "output_type": "execute_result"
    }
   ],
   "source": [
    "train_df['text'][0]"
   ]
  },
  {
   "cell_type": "code",
   "execution_count": 10,
   "metadata": {
    "colab": {
     "base_uri": "https://localhost:8080/",
     "height": 417
    },
    "id": "Sf-_l1oMqnwW",
    "outputId": "fa1cf166-019b-4ba5-c914-209867343457",
    "scrolled": false
   },
   "outputs": [
    {
     "data": {
      "text/html": [
       "<div>\n",
       "<style scoped>\n",
       "    .dataframe tbody tr th:only-of-type {\n",
       "        vertical-align: middle;\n",
       "    }\n",
       "\n",
       "    .dataframe tbody tr th {\n",
       "        vertical-align: top;\n",
       "    }\n",
       "\n",
       "    .dataframe thead th {\n",
       "        text-align: right;\n",
       "    }\n",
       "</style>\n",
       "<table border=\"1\" class=\"dataframe\">\n",
       "  <thead>\n",
       "    <tr style=\"text-align: right;\">\n",
       "      <th></th>\n",
       "      <th>text</th>\n",
       "      <th>category</th>\n",
       "    </tr>\n",
       "  </thead>\n",
       "  <tbody>\n",
       "    <tr>\n",
       "      <th>0</th>\n",
       "      <td>Vani bhojam fans hit like solli 500 like Vangi...</td>\n",
       "      <td>unknown_state</td>\n",
       "    </tr>\n",
       "    <tr>\n",
       "      <th>1</th>\n",
       "      <td>I love you ajith very I like</td>\n",
       "      <td>Positive</td>\n",
       "    </tr>\n",
       "    <tr>\n",
       "      <th>2</th>\n",
       "      <td>ennaya trailer Ku mudi Ellam nikkudhu... Vera ...</td>\n",
       "      <td>Positive</td>\n",
       "    </tr>\n",
       "    <tr>\n",
       "      <th>3</th>\n",
       "      <td>Vijay Annaa  Ur Maassssss Therrrrriiiiii</td>\n",
       "      <td>Positive</td>\n",
       "    </tr>\n",
       "    <tr>\n",
       "      <th>4</th>\n",
       "      <td>நம்ப நடே நாசாமா தான் போச்சி</td>\n",
       "      <td>Negative</td>\n",
       "    </tr>\n",
       "    <tr>\n",
       "      <th>...</th>\n",
       "      <td>...</td>\n",
       "      <td>...</td>\n",
       "    </tr>\n",
       "    <tr>\n",
       "      <th>35651</th>\n",
       "      <td>ஒருவர் செய்த தவறுக்காக எல்லாரையும் பழி போடுவது...</td>\n",
       "      <td>Mixed_feelings</td>\n",
       "    </tr>\n",
       "    <tr>\n",
       "      <th>35652</th>\n",
       "      <td>Repeated Mode to Watching Theri Trailer &amp; Ther...</td>\n",
       "      <td>Positive</td>\n",
       "    </tr>\n",
       "    <tr>\n",
       "      <th>35653</th>\n",
       "      <td>yeevanikuachu  pula kutti erudhal oodi poyidu....</td>\n",
       "      <td>Negative</td>\n",
       "    </tr>\n",
       "    <tr>\n",
       "      <th>35654</th>\n",
       "      <td>She is looking like laughing budha</td>\n",
       "      <td>Positive</td>\n",
       "    </tr>\n",
       "    <tr>\n",
       "      <th>35655</th>\n",
       "      <td>NORTH OR SOUTH KGF IS THE BEST!!</td>\n",
       "      <td>Positive</td>\n",
       "    </tr>\n",
       "  </tbody>\n",
       "</table>\n",
       "<p>35656 rows × 2 columns</p>\n",
       "</div>"
      ],
      "text/plain": [
       "                                                    text        category\n",
       "0      Vani bhojam fans hit like solli 500 like Vangi...   unknown_state\n",
       "1                           I love you ajith very I like        Positive\n",
       "2      ennaya trailer Ku mudi Ellam nikkudhu... Vera ...        Positive\n",
       "3               Vijay Annaa  Ur Maassssss Therrrrriiiiii        Positive\n",
       "4                            நம்ப நடே நாசாமா தான் போச்சி        Negative\n",
       "...                                                  ...             ...\n",
       "35651  ஒருவர் செய்த தவறுக்காக எல்லாரையும் பழி போடுவது...  Mixed_feelings\n",
       "35652  Repeated Mode to Watching Theri Trailer & Ther...        Positive\n",
       "35653  yeevanikuachu  pula kutti erudhal oodi poyidu....        Negative\n",
       "35654                 She is looking like laughing budha        Positive\n",
       "35655                   NORTH OR SOUTH KGF IS THE BEST!!        Positive\n",
       "\n",
       "[35656 rows x 2 columns]"
      ]
     },
     "execution_count": 10,
     "metadata": {},
     "output_type": "execute_result"
    }
   ],
   "source": [
    "train_df"
   ]
  },
  {
   "cell_type": "code",
   "execution_count": 11,
   "metadata": {
    "colab": {
     "base_uri": "https://localhost:8080/",
     "height": 417
    },
    "id": "o2xrnA9DqstY",
    "outputId": "9a465b4f-b6b5-4c3a-d963-dd654d2f201f"
   },
   "outputs": [
    {
     "data": {
      "text/html": [
       "<div>\n",
       "<style scoped>\n",
       "    .dataframe tbody tr th:only-of-type {\n",
       "        vertical-align: middle;\n",
       "    }\n",
       "\n",
       "    .dataframe tbody tr th {\n",
       "        vertical-align: top;\n",
       "    }\n",
       "\n",
       "    .dataframe thead th {\n",
       "        text-align: right;\n",
       "    }\n",
       "</style>\n",
       "<table border=\"1\" class=\"dataframe\">\n",
       "  <thead>\n",
       "    <tr style=\"text-align: right;\">\n",
       "      <th></th>\n",
       "      <th>text</th>\n",
       "      <th>category</th>\n",
       "    </tr>\n",
       "  </thead>\n",
       "  <tbody>\n",
       "    <tr>\n",
       "      <th>0</th>\n",
       "      <td>@0:40 songsuperb..kamallllla..  I'm waiting fo...</td>\n",
       "      <td>unknown_state</td>\n",
       "    </tr>\n",
       "    <tr>\n",
       "      <th>1</th>\n",
       "      <td>கணத்ததோர் அகமுடையார் சார்பாக  படம் வெற்றி அடைய...</td>\n",
       "      <td>Positive</td>\n",
       "    </tr>\n",
       "    <tr>\n",
       "      <th>2</th>\n",
       "      <td>Thalavia neenga veera level boss and neega tha...</td>\n",
       "      <td>Positive</td>\n",
       "    </tr>\n",
       "    <tr>\n",
       "      <th>3</th>\n",
       "      <td>Oru padam patha fell.vera level music</td>\n",
       "      <td>Positive</td>\n",
       "    </tr>\n",
       "    <tr>\n",
       "      <th>4</th>\n",
       "      <td>Hairstyle than mattama iruku. Adhu mattum math...</td>\n",
       "      <td>unknown_state</td>\n",
       "    </tr>\n",
       "    <tr>\n",
       "      <th>...</th>\n",
       "      <td>...</td>\n",
       "      <td>...</td>\n",
       "    </tr>\n",
       "    <tr>\n",
       "      <th>3957</th>\n",
       "      <td>நாடக காதல் மிகப்பெரிய தவறு. இதை தான் இந்த படம்...</td>\n",
       "      <td>Positive</td>\n",
       "    </tr>\n",
       "    <tr>\n",
       "      <th>3958</th>\n",
       "      <td>So long to see you suriya</td>\n",
       "      <td>not-Tamil</td>\n",
       "    </tr>\n",
       "    <tr>\n",
       "      <th>3959</th>\n",
       "      <td>Super  sK  ettan adipoli makkalle dec20  waiti...</td>\n",
       "      <td>Mixed_feelings</td>\n",
       "    </tr>\n",
       "    <tr>\n",
       "      <th>3960</th>\n",
       "      <td>Minimum 50m viewa vara veppoma all thala fans</td>\n",
       "      <td>Positive</td>\n",
       "    </tr>\n",
       "    <tr>\n",
       "      <th>3961</th>\n",
       "      <td>Vera Vera level da version 2.0</td>\n",
       "      <td>Positive</td>\n",
       "    </tr>\n",
       "  </tbody>\n",
       "</table>\n",
       "<p>3962 rows × 2 columns</p>\n",
       "</div>"
      ],
      "text/plain": [
       "                                                   text        category\n",
       "0     @0:40 songsuperb..kamallllla..  I'm waiting fo...   unknown_state\n",
       "1     கணத்ததோர் அகமுடையார் சார்பாக  படம் வெற்றி அடைய...        Positive\n",
       "2     Thalavia neenga veera level boss and neega tha...        Positive\n",
       "3                 Oru padam patha fell.vera level music        Positive\n",
       "4     Hairstyle than mattama iruku. Adhu mattum math...   unknown_state\n",
       "...                                                 ...             ...\n",
       "3957  நாடக காதல் மிகப்பெரிய தவறு. இதை தான் இந்த படம்...        Positive\n",
       "3958                          So long to see you suriya       not-Tamil\n",
       "3959  Super  sK  ettan adipoli makkalle dec20  waiti...  Mixed_feelings\n",
       "3960      Minimum 50m viewa vara veppoma all thala fans        Positive\n",
       "3961                     Vera Vera level da version 2.0        Positive\n",
       "\n",
       "[3962 rows x 2 columns]"
      ]
     },
     "execution_count": 11,
     "metadata": {},
     "output_type": "execute_result"
    }
   ],
   "source": [
    "valid_df"
   ]
  },
  {
   "cell_type": "code",
   "execution_count": 12,
   "metadata": {
    "colab": {
     "base_uri": "https://localhost:8080/"
    },
    "id": "BY80vVjRCgpK",
    "outputId": "677224d4-9871-4c72-e6d7-ed236d42a957"
   },
   "outputs": [
    {
     "data": {
      "text/plain": [
       "0       @0:40 songsuperb..kamallllla..  I'm waiting fo...\n",
       "1       கணத்ததோர் அகமுடையார் சார்பாக  படம் வெற்றி அடைய...\n",
       "2       Thalavia neenga veera level boss and neega tha...\n",
       "3                   Oru padam patha fell.vera level music\n",
       "4       Hairstyle than mattama iruku. Adhu mattum math...\n",
       "                              ...                        \n",
       "3957    நாடக காதல் மிகப்பெரிய தவறு. இதை தான் இந்த படம்...\n",
       "3958                            So long to see you suriya\n",
       "3959    Super  sK  ettan adipoli makkalle dec20  waiti...\n",
       "3960        Minimum 50m viewa vara veppoma all thala fans\n",
       "3961                       Vera Vera level da version 2.0\n",
       "Name: text, Length: 3962, dtype: object"
      ]
     },
     "execution_count": 12,
     "metadata": {},
     "output_type": "execute_result"
    }
   ],
   "source": [
    "valid_df['text']"
   ]
  },
  {
   "cell_type": "code",
   "execution_count": 13,
   "metadata": {
    "colab": {
     "base_uri": "https://localhost:8080/"
    },
    "id": "dPoTJfJT8e2n",
    "outputId": "24b816eb-99ae-46ca-b2d1-5c989db42b8b"
   },
   "outputs": [
    {
     "data": {
      "text/plain": [
       "35656"
      ]
     },
     "execution_count": 13,
     "metadata": {},
     "output_type": "execute_result"
    }
   ],
   "source": [
    "len(train_df)"
   ]
  },
  {
   "cell_type": "code",
   "execution_count": 14,
   "metadata": {
    "colab": {
     "base_uri": "https://localhost:8080/"
    },
    "id": "F7ykGAMg7ImZ",
    "outputId": "0af2bb39-e8e1-4060-feca-46e3db60b67f"
   },
   "outputs": [
    {
     "name": "stdout",
     "output_type": "stream",
     "text": [
      "32852\n"
     ]
    }
   ],
   "source": [
    "for i in range(len(train_df)):\n",
    "  if (train_df['category'][i] == 'Positive '):\n",
    "    print(i)"
   ]
  },
  {
   "cell_type": "code",
   "execution_count": 15,
   "metadata": {
    "colab": {
     "base_uri": "https://localhost:8080/",
     "height": 35
    },
    "id": "JA0iNCwX85gI",
    "outputId": "21e2b144-927a-40d0-fd1b-3265a65533bb"
   },
   "outputs": [
    {
     "data": {
      "text/plain": [
       "'Positive '"
      ]
     },
     "execution_count": 15,
     "metadata": {},
     "output_type": "execute_result"
    }
   ],
   "source": [
    "train_df['category'][32852]"
   ]
  },
  {
   "cell_type": "code",
   "execution_count": 16,
   "metadata": {
    "colab": {
     "base_uri": "https://localhost:8080/",
     "height": 35
    },
    "id": "l3gULUZP9XTK",
    "outputId": "2e23c0ff-fe32-4886-f8eb-7391f2867205"
   },
   "outputs": [
    {
     "data": {
      "text/plain": [
       "'Positive'"
      ]
     },
     "execution_count": 16,
     "metadata": {},
     "output_type": "execute_result"
    }
   ],
   "source": [
    "train_df['category'][32852] = 'Positive'\n",
    "train_df['category'][32852]"
   ]
  },
  {
   "cell_type": "code",
   "execution_count": 17,
   "metadata": {
    "id": "5M7bMSkdAhbS"
   },
   "outputs": [],
   "source": [
    "#removing all the emoji from the given data\n",
    "\n",
    "def deEmojify(text):\n",
    "    regrex_pattern = re.compile(pattern = \"[\"\n",
    "        u\"\\U0001F600-\\U0001F64F\"  # emoticons\n",
    "        u\"\\U0001F300-\\U0001F5FF\"  # symbols & pictographs\n",
    "        u\"\\U0001F680-\\U0001F6FF\"  # transport & map symbols\n",
    "        u\"\\U0001F1E0-\\U0001F1FF\"  # flags (iOS)\n",
    "        u\"\\U00002500-\\U00002BEF\"  # chinese char\n",
    "        u\"\\U00002702-\\U000027B0\"\n",
    "        u\"\\U00002702-\\U000027B0\"\n",
    "        u\"\\U000024C2-\\U0001F251\"\n",
    "        u\"\\U0001f926-\\U0001f937\"\n",
    "        u\"\\U00010000-\\U0010ffff\"\n",
    "        u\"\\u2640-\\u2642\"\n",
    "        u\"\\u2600-\\u2B55\"\n",
    "        u\"\\u200d\"\n",
    "        u\"\\u23cf\"\n",
    "        u\"\\u23e9\"\n",
    "        u\"\\u231a\"\n",
    "        u\"\\ufe0f\"  # dingbats\n",
    "        u\"\\u3030\"\n",
    "        \"]+\", flags = re.UNICODE)\n",
    "    return regrex_pattern.sub(r'',text)\n",
    "\n",
    "\n",
    "for i in range(len(train_df)):\n",
    "    temp1 = deEmojify(train_df['text'][i])\n",
    "    train_df['text'][i] = temp1\n",
    "\n",
    "for j in range(len(valid_df)):\n",
    "    temp2 = deEmojify(valid_df['text'][j])\n",
    "    valid_df['text'][j] = temp2\n",
    "\n",
    "for k in range(len(test_df)):\n",
    "    temp3 = deEmojify(test_df['text'][k])\n",
    "    test_df['text'][k]=temp3"
   ]
  },
  {
   "cell_type": "code",
   "execution_count": 18,
   "metadata": {
    "colab": {
     "base_uri": "https://localhost:8080/"
    },
    "id": "ChYnt8dRI7pV",
    "outputId": "8861b690-42d2-42c2-b03e-0f316267fd8a"
   },
   "outputs": [
    {
     "name": "stdout",
     "output_type": "stream",
     "text": [
      "ஆக மொத்தம் , விவசாயிங்க கண்ணிர், இளைஞர்கள் வேலைவாய்ப்பு, விலைவாசி உயர்வு, நாட்டின் முன்னேற்றம் பற்றி எந்த நாயிம் படம் எடுக்காது.  போங்கடா நீங்களும் உங்க ஜாதி புண்** யும்.\n",
      "Verithanama iruka pogithu athula doubt te ila\n",
      "luv u ರಜನಿ... luv from Karnataka\n",
      "Padipa mattum  eduthuka  mudiyathu.....\n",
      "Masssss Na massss dha pakkkkaaaaa masssssss ummmmmmhhaaaa\n",
      "Thalaiva  Makkal selvan Annan\n",
      "1m likes kooda oomba mudila   Fan base matter\n",
      "Wow....... Ak is looking.... Very dangerous.... ...\n",
      "Vj Sethupathi Ah Kamichitu Piragu Tha Trailer eh Mass Ah Poovthu ..!\n",
      "epdi thalaivare? all star vachi padam pandringa? marana waiding.... \n"
     ]
    }
   ],
   "source": [
    "print(test_df['text'][516])\n",
    "print(test_df['text'][546])\n",
    "print(test_df['text'][555])\n",
    "print(test_df['text'][559])\n",
    "print(test_df['text'][570])\n",
    "print(test_df['text'][825])\n",
    "print(test_df['text'][838])\n",
    "print(test_df['text'][860])\n",
    "print(test_df['text'][890])\n",
    "print(test_df['text'][1234])"
   ]
  },
  {
   "cell_type": "code",
   "execution_count": 19,
   "metadata": {
    "id": "kvZOI__qZ7zd"
   },
   "outputs": [],
   "source": [
    "def preprocess_data(text):\n",
    "  user_name = '@[A-Za-z0-9]+' # Pattern for matching the user names in the tweet\n",
    "  has_tag = '#[A-Za-z0-9]+' # Pattern for matching the hasgtags in the tweer\n",
    "  url = 'https?:\\/\\/[A-Za-z0-9\\.\\/\\-]+' # Pattern for matching the URLs in the tweet\n",
    "  #emoji_pattern = r'/[x{1F600}-x{1F64F}]/u'\n",
    "  \n",
    "  x = text.lower()  # Lower casing all the characters\n",
    "  x = re.sub(user_name, '', x) # Replace the username with an empty characrer\n",
    "  x = re.sub(has_tag,'',x) # Replace the hashtags with an empty characrer\n",
    "  x = re.sub(url, '', x) # Replace the URLs with an empty characrer\n",
    "  #x = re.sub(emoji_pattern, '', x)\n",
    "  x = x.translate(str.maketrans('', '', string.punctuation)) # Replace all the characters except alphabets and digits from the tweet\n",
    "\n",
    "  return x"
   ]
  },
  {
   "cell_type": "code",
   "execution_count": 20,
   "metadata": {
    "id": "kXmiAchmcPq_"
   },
   "outputs": [],
   "source": [
    "train_df['text'] = train_df['text'].apply(lambda x: preprocess_data(x)) # Apply the clean_data() to all the entries in the dataframe\n",
    "valid_df['text'] = valid_df['text'].apply(lambda x: preprocess_data(x)) # Apply the clean_data() to all the entries in the dataframe\n",
    "test_df['text'] = test_df['text'].apply(lambda x: preprocess_data(x)) # Apply the clean_data() to all the entries in the dataframe"
   ]
  },
  {
   "cell_type": "code",
   "execution_count": 21,
   "metadata": {
    "colab": {
     "base_uri": "https://localhost:8080/"
    },
    "id": "WFyMDJhU3NiL",
    "outputId": "c7a4464d-5687-488d-c9ee-2f3794d1b284"
   },
   "outputs": [
    {
     "name": "stdout",
     "output_type": "stream",
     "text": [
      "the king is arriving  anil kunjugal padhungum neram vandhu vitadhu\n",
      "ஆக மொத்தம்  விவசாயிங்க கண்ணிர் இளைஞர்கள் வேலைவாய்ப்பு விலைவாசி உயர்வு நாட்டின் முன்னேற்றம் பற்றி எந்த நாயிம் படம் எடுக்காது  போங்கடா நீங்களும் உங்க ஜாதி புண் யும்\n",
      "verithanama iruka pogithu athula doubt te ila\n",
      "luv u ರಜನಿ luv from karnataka\n",
      "padipa mattum  eduthuka  mudiyathu\n",
      "masssss na massss dha pakkkkaaaaa masssssss ummmmmmhhaaaa\n",
      "thalaiva  makkal selvan annan\n",
      "1m likes kooda oomba mudila   fan base matter\n",
      "wow ak is looking very dangerous \n",
      "vj sethupathi ah kamichitu piragu tha trailer eh mass ah poovthu \n",
      "epdi thalaivare all star vachi padam pandringa marana waiding \n"
     ]
    }
   ],
   "source": [
    "print(test_df['text'][279])\n",
    "print(test_df['text'][516])\n",
    "print(test_df['text'][546])\n",
    "print(test_df['text'][555])\n",
    "print(test_df['text'][559])\n",
    "print(test_df['text'][570])\n",
    "print(test_df['text'][825])\n",
    "print(test_df['text'][838])\n",
    "print(test_df['text'][860])\n",
    "print(test_df['text'][890])\n",
    "print(test_df['text'][1234])"
   ]
  },
  {
   "cell_type": "code",
   "execution_count": 22,
   "metadata": {
    "colab": {
     "base_uri": "https://localhost:8080/",
     "height": 35
    },
    "id": "ZaxBiC7ByJJH",
    "outputId": "6dac9b12-25b5-4ba4-a4f2-e206bd50d262"
   },
   "outputs": [
    {
     "data": {
      "text/plain": [
       "'40 songsuperbkamallllla  im waiting for dis song you'"
      ]
     },
     "execution_count": 22,
     "metadata": {},
     "output_type": "execute_result"
    }
   ],
   "source": [
    "valid_df['text'][0]"
   ]
  },
  {
   "cell_type": "code",
   "execution_count": 23,
   "metadata": {
    "colab": {
     "base_uri": "https://localhost:8080/"
    },
    "id": "l445loMxdKoP",
    "outputId": "32993bfd-7ffb-4b24-ad4a-09e264d96604"
   },
   "outputs": [
    {
     "name": "stdout",
     "output_type": "stream",
     "text": [
      "                                                    text        category\n",
      "0      vani bhojam fans hit like solli 500 like vangi...   unknown_state\n",
      "1                           i love you ajith very i like        Positive\n",
      "2      ennaya trailer ku mudi ellam nikkudhu vera lev...        Positive\n",
      "3               vijay annaa  ur maassssss therrrrriiiiii        Positive\n",
      "4                            நம்ப நடே நாசாமா தான் போச்சி        Negative\n",
      "...                                                  ...             ...\n",
      "35651  ஒருவர் செய்த தவறுக்காக எல்லாரையும் பழி போடுவது...  Mixed_feelings\n",
      "35652  repeated mode to watching theri trailer  theri...        Positive\n",
      "35653  yeevanikuachu  pula kutti erudhal oodi poyidu ...        Negative\n",
      "35654                 she is looking like laughing budha        Positive\n",
      "35655                     north or south kgf is the best        Positive\n",
      "\n",
      "[35656 rows x 2 columns]\n",
      "\n",
      "                                                   text        category\n",
      "0     40 songsuperbkamallllla  im waiting for dis so...   unknown_state\n",
      "1     கணத்ததோர் அகமுடையார் சார்பாக  படம் வெற்றி அடைய...        Positive\n",
      "2     thalavia neenga veera level boss and neega tha...        Positive\n",
      "3                  oru padam patha fellvera level music        Positive\n",
      "4     hairstyle than mattama iruku adhu mattum mathi...   unknown_state\n",
      "...                                                 ...             ...\n",
      "3957  நாடக காதல் மிகப்பெரிய தவறு இதை தான் இந்த படம் ...        Positive\n",
      "3958                          so long to see you suriya       not-Tamil\n",
      "3959  super  sk  ettan adipoli makkalle dec20  waiti...  Mixed_feelings\n",
      "3960      minimum 50m viewa vara veppoma all thala fans        Positive\n",
      "3961                      vera vera level da version 20        Positive\n",
      "\n",
      "[3962 rows x 2 columns]\n",
      "\n",
      "            id                                               text\n",
      "0        Tam_1  வீர செங்குந்தர் சார்பாக இந்த திரைப்படம் வெற்றி...\n",
      "1        Tam_2        teruk ah irukku  mokke movie  waste of time\n",
      "2        Tam_3  manitha samuthaayam amaipil irunthu intha pada...\n",
      "3        Tam_4                                   jj mam we miss u\n",
      "4        Tam_5          subtitle me traller dekhne wale like karo\n",
      "...        ...                                                ...\n",
      "4397  Tam_4398  ithukum dislike potta kammanattti koovaingalam...\n",
      "4398  Tam_4399  suyama sinthikiravan than super hero seama dia...\n",
      "4399  Tam_4400               super thalaiva nee mass dha eppavume\n",
      "4400  Tam_4401  பெண்ணை அடிமையாக்க நினைக்கும் இந்த படம் தோல்வித...\n",
      "4401  Tam_4402  semma thalaiva alu athikama akirukum enimale e...\n",
      "\n",
      "[4402 rows x 2 columns]\n"
     ]
    }
   ],
   "source": [
    "print(train_df)\n",
    "print()\n",
    "#print(valid_df.head())\n",
    "#print()\n",
    "print(valid_df)\n",
    "print()\n",
    "print(test_df)"
   ]
  },
  {
   "cell_type": "code",
   "execution_count": 24,
   "metadata": {
    "id": "W9ClJ_HMdSnG"
   },
   "outputs": [],
   "source": [
    "train_text = train_df['text'].tolist()\n",
    "valid_text = valid_df['text'].tolist()\n",
    "test_text = test_df['text'].tolist()\n",
    "\n",
    "train_label = train_df['category'].tolist()\n",
    "valid_label = valid_df['category'].tolist()\n"
   ]
  },
  {
   "cell_type": "code",
   "execution_count": 25,
   "metadata": {
    "colab": {
     "base_uri": "https://localhost:8080/"
    },
    "id": "OOWw9McfrknT",
    "outputId": "20d5bb35-27dc-4aec-8cb6-38ab042d3f24"
   },
   "outputs": [
    {
     "data": {
      "text/plain": [
       "['வீர செங்குந்தர் சார்பாக இந்த திரைப்படம் வெற்றி பெற வாழ்த்துக்கள் இயக்குனர் மோகன்g அவர்களுக்கு எங்கள் சமுதாயத்தின் சார்பாக வாழ்த்துக்கள்',\n",
       " 'teruk ah irukku  mokke movie  waste of time',\n",
       " 'manitha samuthaayam amaipil irunthu intha padam vetri adaiya vaalthukal',\n",
       " 'jj mam we miss u',\n",
       " 'subtitle me traller dekhne wale like karo',\n",
       " 'என்னடா இது சிஸ்டத்தை வச்சு செய்ஞ்சுட்டானுங்க ',\n",
       " 'ஒரு ஆளு உன்ன எதிர்த்தா நீ வளர அதுவே  பல கூட்டமே உன்னை எதுத்து கதருதுனா  நீ வளந்துட்டனு அர்த்தம்   இப்படம் நாடக காதலுக்கும் உன்மை காதலை ஆனவ கொலை செய்வோர்க்கு சாட்டை அடியாக இருக்கும் என எதிர் பார்க்கப்படுகிறது வெற்றி பெற வாழ்த்துக்கள்',\n",
       " 'ayutha ezhuthu 2 semmai m waiting',\n",
       " '150 to 155  vera level mass',\n",
       " '16 varushama rajini arasiyalukku varuvennu sollittu irukkaaru aaana innum varala ha ha ha',\n",
       " 'makkal selvan fan from tollywood   we need u makkal in tollywood',\n",
       " 'str and arun vj vera leavel',\n",
       " 'thalas hardwork  dedication in the movie next level  ',\n",
       " 'raniji arasial idhu 96 semma bro',\n",
       " 'நாடார் சார்பாக படம் வெற்றி பெற வாழ்த்துக்கள்',\n",
       " 'பார்க்கவ குல உடையார்களின் சார்பாக படம் வெற்றி பெற மனமார்ந்த வாழ்த்துக்கள்',\n",
       " 'கன்னியாகுமரி மாவட்ட வெள்ளாளர் வேளாளர் சார்பாக வாழ்த்துக்கள்',\n",
       " 'viswasam 17m view 3days petta 17m views 7 days',\n",
       " 'dubbing remake of pink movie',\n",
       " 'chiyan ninga fast furiors laye nadikalam',\n",
       " 'itha patha actors elarkum vairu kalakirukum thala pakka marana masssss',\n",
       " 'மனிதனாய் வாழ்வதற்கு தேவை மனிதாபிமானம் மட்டுமே ஜாதி இல்லை விவேக் இதை ஏற்றுக் கொண்டு ஜாதி இல்லை எந்த சலுகையும் தேவை இல்லை இதை ஏற்றால் தான் இந்த நாடு உருப்படும் ஜாதி ஒழியும்',\n",
       " 'தூத்துக்குடி நாடார்கள் சார்பாக படம் வெற்றி பெற வாழ்த்துக்கள்',\n",
       " 'thalaivar epovum mass dha sk anna love u anna',\n",
       " 'சோழநாடு தஞ்சாவூர் வெள்ளாளர்  பிள்ளைமார்  சார்பாக படம் வெற்றி பெற வாழ்த்துக்கள்',\n",
       " 'iyoooo i cartoon trailer bhaaaa ithuuu',\n",
       " 'this movie based on keka beka tamil short flim',\n",
       " 'thaarumaaru waiting lae veri yeruthae thala',\n",
       " 'oh my god idhepole teaser idhuvaraiku kanave ille suryaaaaaaa sir semme masssssssssss marane waiting',\n",
       " 'mani siraaa yarum chase panna mudiyathu  never ever',\n",
       " 'yaaahoooooo 5 million views  luv u thala fanz',\n",
       " 'any school students here hit like    hiphop tamizha',\n",
       " 'late ah vandhalum latest ahh trending avom da',\n",
       " 'viswasam teaser vartum nama side la irnthu oru sambavam panuvom',\n",
       " 'samma samma samma samma samma supper',\n",
       " 'ஒரு ஓவியன் தான் பிள்ளைக்கு ஓவியம் வரைய கத்து தருவான்எங்க அப்பா மிலிட்டரிடா ஓவியம் வரையவா கத்து தருவன் sema mass dialoguetrailer sema vera level',\n",
       " 'அட பாவிங்கள ரஜினிய ஏன்ட செஞ்சிங்க   மரண பங்கம்',\n",
       " 'str  anna  veriyan  daa',\n",
       " 'இந்த படத்தை தயவு செய்து அனைவரும் திரையரங்குகள் சென்று காண வேண்டும்',\n",
       " 'vjs famous aanadhuki kaaraname avaru adikadi padam nadikiraru adhunalladhaan aanaa andha padam avalova odaadhu',\n",
       " 'resent thala padathulaa ithaa enakku pudicha movie',\n",
       " 'kadaram kondan south indian cinema vendran engal chiyaan vikram',\n",
       " 'official teaser  trailer vera mathiri iruku  seguvara surya getup  appa va  onnumey puriyalaiyea seri wait pannuvom',\n",
       " '4 days continuously trending at no1  kaappaan ',\n",
       " 'kangana ranaut ke fans like here',\n",
       " 'phoenix thala in nkpku marana waiting  agust 10 therika vuduranda',\n",
       " '046 its looked like game poor vfx cgi',\n",
       " 'சங்ககால தமிழன் சார்பில் இத்திரைபடம் வெற்றி பெற வாழ்த்துக்கள்',\n",
       " 'marana maaaaaaas thalaiva  soooper star ',\n",
       " 'கள்ளர் வம்சத்தை சார்ந்த அனைவரும் துணை நிற்போம்',\n",
       " 'superb one  theri ku marana waiting',\n",
       " 'ivlo mokayana trailera pathiruntha padatha pakama irunthirupen',\n",
       " 'தலைவன் தரிசனம்  எங்களுக்கு இது போதும் தலைவா',\n",
       " 'semma dialogue  semma action  semma scene   merasal agitte',\n",
       " 'romba mokka padamah irukuh 20 flop',\n",
       " 'padam name petta rajini sattaila otta',\n",
       " 'اييييييه البرما مايبطلو البلاهه حقت جدهم ذي',\n",
       " 'thala illana mundamava thalaiya pagacha kandamava eppovume thalathanda engalukku mashu vijay oru da thala is very beautiful memper',\n",
       " 'dislike panna  ungalukku eptiya thonuthu',\n",
       " 'i think kangana ki jagah sonakshi fit hoti iss role me',\n",
       " 'ajith fans reaction  kaithi movie director next thalapathy movie yoda director  nalla irukunu sollalama ila mokkanu sollalama  billa pandi hitunu soli otikalam',\n",
       " 'பெண்ணை பெற்ற ஒவ்வொரு தகப்பனும் தன் மகளோடு பார்க்கவேண்டிய மாபெரும் திரைகாவியம்',\n",
       " 'singapore m tranding no 1  wow',\n",
       " 'wow suryakv anand harris jayaraj       best combo',\n",
       " 'release kulla 14 million views avadhu thaanduma thala bloods',\n",
       " 'yebbah dei  nalla padatha keduthutingale da  go and watch pink',\n",
       " '100 king is coming  str str str str',\n",
       " 'marana mass  dhanush  anna   adutta  award   waiting',\n",
       " '100k likes in 31 min da deiiii wowwww huge man',\n",
       " 'padam paththudu vanthu  trailer pakka vanthavanga mattum like podu',\n",
       " 'appo sayyeshaa suriya ku pair kidaiyadha indha arya kaiya pudichi kalyanam pannikiriya nu ketukitu irukapudi  teaser marana mass therikudhu',\n",
       " 'u1 bgm vera leval thala masss',\n",
       " 'திருக்கடையூர் வாழ் வன்னியர் மக்கள் சார்பாக திரெளபதி  படம் பிரம்மாண்ட வெற்றி அடைய வாழ்த்துக்கள்',\n",
       " 'dislike pandravanga elam rajini sir ah parthu poramai pidichavanga',\n",
       " 'இத்திரைப்படம் மாபெரும் வெற்றி பெற வன்னியர்கள் சார்பாக வாழ்த்துக்கள் இப்படிக்கு பெரியவண் பாசறை மனஞ்சேரி',\n",
       " 'sajan kerala malappuram edappal mohanlal fans',\n",
       " 'wtf kaha raja bose kaha gangu teli',\n",
       " 'woohaaaa varlam varlam vaa bhairavaa no01 in worldwide trending thats what it means mass',\n",
       " 'na arasayil ku varuvadhu urudhi urudhi udhiii',\n",
       " 'trailer maranna mass  thalaivar therika vidrarruuuu',\n",
       " 'pwoli pwolii  dhanush vetrimaaran manju warrier ',\n",
       " 'surya maas 140 vera leval goosebumps',\n",
       " 'yaaru intha 80k dislikes antha 80k kaila kedacha sethanunga',\n",
       " 'funny to hear tamil language for urdupunjabi speaking people at puta nagada duta mala keda under duka etc lol',\n",
       " 'jbrdsti ka makeup aur prosthetic use kiya gya h esse achha krte hi nhi',\n",
       " 'எல்லோரும் நம்ம முதல்வருக்கு நன்றி சொல்லுவோம் ஏன்னா அவர்இருப்பதநாலதான் இந்த படம் செம கெத்தா திறைக்கு வரபோகுது இதே திமுக வாக இருந்திருந்தால் இந்தபடமும் டீசரும் நமக்கு வந்து சேராது அதனால நம்ம தல இப்போதைக்கு முதல்வர் மதிப்பிர்க்குறிய வள்ளல் திரு எடப்பாடி பழனி சாமிக்கு நன்றி கூருவோம் இந்தபடத்தை அவர் திறைக்கு கொண்டுவருவார்',\n",
       " 'velangirum da  endha rendu nainga tholla thanga mudiyala da   dhayavu senji neengalam unga orlayae sethu poirunga da vera endha oruku vandhuradhinga avainga oru picha neenga oru echcha edhula evan periyavanu padam vera edukurainga',\n",
       " 'pongal ke confirm sweet sapada porum',\n",
       " 'keka paka keka paka short film fans',\n",
       " 'பரியேறும் பெருமாள் அசுரன் படம் பார்த்த பிறகு புத்தி வந்து எடுக்கின்றனர் அந்த படங்களில் இருக்கும் குறைந்த பட்சம் நேர்த்தி நாகரிகம் கூடஇந்த படத்தில் இருப்பதாக தெரியவில்லை தெளிவும் அறிவும் பிறரை பார்த்தும் வரவில்லை என்றால் படம் எடுத்து என்ன பயன்  படம் பாடமாக இருக்க வேண்டும் வன்மத்தையும் வன்முறையையும் விதைக்க கூடாது விஷமிகளே',\n",
       " 'oru shotla kooda karu vizhi asayala',\n",
       " 'mass bgmvarlam varlam va varlam va bariavaa line creating goose bumsssssawesomeeeee',\n",
       " 'நீ சிரித்தால் pennywise மாதிரியே இருக்க bro ',\n",
       " 'bhai hindi me bhi release krna',\n",
       " 'padam october release diwali release pannuna bigiluku sanguthankaithi vera varuthu ',\n",
       " '106 suriya mathiri irukku avar thaana',\n",
       " 'போராடுவதே தப்பு என்றால் போராடுவதற்கான சூழ்நிலையை உருவாக்கியதும் தப்பு',\n",
       " 'enna da full story trailer la solita',\n",
       " 'podra vediya  deepavali ku oru karumathi irukku',\n",
       " 'sirappana tharamaana padatha pongal annaiku paakaporeenga',\n",
       " 'naanu nijima rombo santhoshama eruke palaye pudhupettai  sullan dhanusa paathesuper movie i give 5starpadathe paathangho unghalade viruphathe sollulayenuku',\n",
       " 'uyiroada irundhirundha kaidhi usura vittadhnaala thalaivi',\n",
       " 'chiyan vikramclass  mass kadaram kondan',\n",
       " 'tha treiler solla vartheye ella vera leval thalaaaaaaaaaaaaaaa',\n",
       " 'thooku oru bhookunii va thalaivaapongal nambalathu thaa',\n",
       " 'vijay anna maari thala enna mo try pandraru paakalam',\n",
       " 'thala ya oda real rage enna nu theriyanuma  24 annaiku theatre ku vanga da anils',\n",
       " 'என் தமிழ் தென் நாட்ட அழிக்க  sterlite hydrocarbon methane project இது எல்லாம் ஒன்னுமே கிடையாது  உங்க ஜாதி வெறி முன்னாடி உங்கள சூட்டு தல்ரதுல தப்பே  இல்ல',\n",
       " 'தீரன் சின்னமலை கவுண்டர் பேரவை சார்பில் இந்த திரைப்படம் வெள்ளி விழா காண வாழ்த்துக்கள்',\n",
       " 'bgm kagave thirupi thirupi pathadhu yaarla',\n",
       " 'ராட்சசன் மாதிரி ஒரு த்ரில்லர்படம் கிடைக்கும் என்று நினைக்கிறேன்',\n",
       " '103rajini appa unga stylukku innnnnnnaaaa kuratchaalever stylish no one can beat you style',\n",
       " 'கேரளா ஃபேன்ஸ் தன்னோட தலைவனா கொண்டாடுவான்   ஆந்திரா ஃபேன்ஸ் அவங்க ஊரு நடிகனாவே நினைப்பாங்க   கர்நாடாகா ஃபேன்ஸ் கூட தலையில தூக்கிவைச்சு கொண்டாடுவாங்க   ஊரு மாறுனாலும் மொழி மாறுனாலும் சூர்யாங்கிற அந்த மனுசனோட புகழை மட்டும் அழிக்கவே முடியாதுடா ',\n",
       " 'viswasam jettyoda oda poguthu manam kapal yera poguthu thalaivar comeback',\n",
       " 'ஜி முகநூலில் இதான் ஃபேமஸ் ஓடிக்கொண்டிருக்கிறதுஇந்த திரைப்படத்தை வைத்து சாதனை படைக்க வாழ்த்துக்கள்',\n",
       " 'மாஸ் டிரைலர் மோகன் ஜி அண்ணா அவர்களுக்கு வாழ்த்துக்கள்',\n",
       " 'ungalukku comfortable uh illlana trailera paakama irunga ayayo idhu nalla irke kola gaandu la irken',\n",
       " 'enna manusanyaacting parthalle pullarikkuthu danish  fan from srilanka',\n",
       " 'semma semma semma semma semma semma no words vera level',\n",
       " 'awarda eduthu veinga da   adichi thavamsam panna varan thalaivan',\n",
       " 'paruthiveeranuku aparam indha getup ipathan arumaiya irukku',\n",
       " 'k v anand fans hit like here',\n",
       " '495 k iruntha like ipo kammi aakuthu ',\n",
       " 'ѕєℓνα яαgнαναи αмαzιиg тσ тяανєℓ ρυ∂υρєттαι 2',\n",
       " '18k dislike pple hang yourself teaser is mind blowing 80s rajini sir is back',\n",
       " 'plzzzzzz sir ji hindi me bhi chahiye',\n",
       " 'dailyum thala ya pakkama irukka mudiyala',\n",
       " 'pariyerum perumal movie fans from kerala',\n",
       " 'அய்யய்யோ தலித்தை பேசிட்டீங்க போச்சு போச்சு',\n",
       " 'pakathana pora intha kaalioda atatha petta parak',\n",
       " 'gajini scene aa pathu siripu varudha adha pathu evalo feel pannirukan thariyuma',\n",
       " 'ommala marana mass ya directoruchumma kzkhli',\n",
       " 'thalaivar manirathinam semma semma semma vera level marana mass sir',\n",
       " 'sirapana tharamana sambavam paka waiting thalaiava',\n",
       " 'மாவீரன் வன்னியர் படை சார்பாக வாழ்த்துக்கள் ',\n",
       " 'simran mam so beautiful thalaivar ivlo young ah pathu evlo naal achu jithu ',\n",
       " 'idu 96u  ha ha',\n",
       " 'why 43k dislikewhat they understandplese tell me dislike persons',\n",
       " 'anna  innumum you look so young ',\n",
       " 'pongada vada naattu kaarana kaala nakki polaikkura naaigala thamilargalukul jathigal illai',\n",
       " 'who won makeup challenge  like        kangana makeup comment   ranu mondal makeup ',\n",
       " 'superb fans for all your likes',\n",
       " 'nala maathi maathi adichikinu saavunga da elarum sethuta nalarkum jaathi pakama irukravan jollya irupan ninmathiya',\n",
       " 'super star ilayathalabathi vijay da naanga ellam chellama thalaivaaaaa innu solluoom thalaivaaaaa ne vanda le podum idale ne tesrrrr theri',\n",
       " 'i m big fan of big b',\n",
       " 'orthan mela neenga viswasam kaatrathukaaga inorthara yeh asinga paduthuringa  ella heros oda rasigargalukkum porunthum  ',\n",
       " 'antha 96 scene sema ha ha ha',\n",
       " 'maranam sema i luv u surya anna',\n",
       " 'dan dan dan dadadaedann u1',\n",
       " 'like ah pottu video pathavan lik ah podu',\n",
       " 'srk fan plz dislike tha video',\n",
       " 'universal cop ah enna da comedy panreenga paathukonga baa ellarum universal cop u kudhara savari poraru  idhula onan balli nu punch vera',\n",
       " 'tum kya leke aye the aur kya leke jaoge',\n",
       " 'சேது அண்ணா   getup ல மங்காத்தா    தல மாதிரியே இருக்காரு',\n",
       " 'rowdyngaluku support ilama iruntha nala irukkum',\n",
       " 'semma maaassss looks like must watch',\n",
       " 'thala ne vera level super trailer',\n",
       " 'paaaa high voltage trailer tha kola mass   1 the deadliest combo is back  acting vera level as a thalapathy fan yenake idu bayangara goosebumps ah iruku',\n",
       " 'maranammmmmsema suryas anbaana fans hit like',\n",
       " 'after kaappaan suntv sirappu nigalchi',\n",
       " 'very goodippadi padangal neraya varanumappothaan namma tamilnatla irukura karuppu satta poattu vaela illama suthura pundainga thirunthumeppadiyum oru naal thirunthithaan aaganumvaera vali illa',\n",
       " 'jadi veriyan like here ',\n",
       " 'kathir is back to form after pariyarum perumal  v studios kodaangi style la solanum na vazthukal sir',\n",
       " 'aduthavanaga music permission vaangi use pannaalum music composers ah impotent nu solluvanga sila per',\n",
       " 'vijay sethupathy kerala fans like podu',\n",
       " 'கதிர் பரியேறும் பெருமாள் படத்தில  நல்லா நடிச்சு இருந்தீங்க  வாழ்த்துக்கள் இந்த படம் வெற்றியடைய',\n",
       " '96 movie pola oru nalla movie nu ninaikuran papom iam waiting',\n",
       " 'koi aur nahi mila kya director ko',\n",
       " '400k likes on d way',\n",
       " 'kangana u r beyond amazing girl ',\n",
       " 'selvaraghavan  yuvan vera level sollava venum  surya also vera level',\n",
       " 'ட்ரெய்லர் நல்லா இருக்கு ஆல் த பெஸ்ட் சீரு டீம்',\n",
       " 'pppaaaaa thala back to citizen vibez',\n",
       " 'na arasiyal ku kandipa varuven  yaara yemathura idhu 96u',\n",
       " 'ipdi niraya nirayaniraya thala hit kuduparu that is thala',\n",
       " 'rajini  நா கண்டிப்பா அரசியலுக்கு வருவேன்  jayam ravi  ஹேய் இது 1996  புரிஞ்சவங்க மட்டும் லைக் பன்னுங்க',\n",
       " 'நான் நீண்டநாட்களாக இது போன்ற படத்தை தான் எதிர் பார்த்தேன்  திரௌபதி வெற்றியடைய வாழ்த்துக்கள்',\n",
       " 'pa enna song ethu semma change ella super',\n",
       " 'vera leval mani rathnam return 2018',\n",
       " 'ajithuku vakkil getup and argument pandrathellam set agathu',\n",
       " 'nanga yarum caste virumbula but engal veetu theivam yana pengal loveingra perula emathupothu caste kull nanga varoom enimeelu  thiruthunga da',\n",
       " 'oru paakkam arasiyal innoru pakkam terrorist verithenama iruku paaaaaaa waiting over load',\n",
       " 'dei rajinikanth ye kalaichitinga worst raa',\n",
       " 'semma da dai kadasiyila thaazhthapattavanga ngra perula antha naayinga panra attagasatheyellam kaatreenga nalla oraikkattum antha pannadaingalukku intha vatti no tamil rockers only theatre ',\n",
       " 'before movie gonna release target 20m views n 650k likes',\n",
       " 'நீல சட்டை அணிந்த தோழர் மற்றும் ஜெய் பீம் தோழர் கதறல் சத்தம் சற்று அதிகமாக இ௫க்கின்றது',\n",
       " 'இராமநாதபுரம் மாவட்டம் ஒட்டுமொத்த தேவர் சமுதாயம் சார்பாக வாழ்த்துக்கள்',\n",
       " 'who gave dislike is ajith fan',\n",
       " 'sema sema sema sema sema sema sema',\n",
       " 'climax thilla thatti thookitanka  unka thairiyathuku kandipa movie hit than',\n",
       " 'படம் சிறப்பாக இருக்கும் போல பெண்கள் பெற்ற பெறிய குடும்பத்தை கெடுக்க நினைப்பவனுக்கு இந்த படம் உதாரணமாக இருக்கும்',\n",
       " 'rajni is back to bang again',\n",
       " 'thiruvallur vanniyar kula kshatriya vasam sarapaga vazhthukal',\n",
       " 'கள்ளக்குறிச்சி மாவட்டம் விழுப்புரம் மாவட்டம் கடலூர் மாவட்டம் இளைஞர்கள் சார்பில் திரௌபதி  திரைப்படம் வெற்றி பெற வாழ்த்துக்கள்r rwe proud of mohan jiiiiiiiiii',\n",
       " 'enga da enga thalaiva vjs kanom',\n",
       " 'பரமக்குடி வன்னியர்கள் சார்பாக படம் வெற்றி பெற வாழ்த்துகள்',\n",
       " 'இராமநாபுரம் மாவட்டம் முத்தரையர்கள் வழிமறிச்சான் முத்தரையர்கள் சார்பாக படம் வெற்றிடைய வாழ்த்துக்கள்',\n",
       " 'unaku vayase agala ya ne vera level',\n",
       " 'இந்த title காக வே படம் பார்க்கணும் theater ல போய்     எங்க ஊர்ல கொஞ்ச நாள் அவர் duty ல இருந்தார் அதனை திருடர்கள் கொள்ளை கொலை காரர்கள் எல்லாம் பயத்துல வெளியே தலை காட்டவில்லை அரசியல்வாதிகளை அளரவிட்டார்      ஆனால் ரொம்ப குறுகிய காலம் தான் இருந்தார்  நல்லவர்களை அடிக்கடி இடம் மாற்றுவது தானே அதிகாரத்திற்கு வேலை திரு சகாயம் ias மாறி இவரையும் நிறைய இடத்துக்கு மாற்றம் செய்தார்கள் அப்போது நான் 11 th படித்து கொண்டு இருந்தேன்',\n",
       " 'teaser like akshay kumar baby movie',\n",
       " 'end comedy semma ya arasiyaluku varuvathu uruthi',\n",
       " 'awesome trailer pinnitaru vijay anna vijaykumar',\n",
       " 'mokka palaya film sayal niraya irukku',\n",
       " 'selvaraghavan fans all like their',\n",
       " 'looks very goodvaa thalaiva vaa ',\n",
       " 'september 4 kaapan trailer hit like',\n",
       " 'vera leavel thalava aadhi anna same problem enakuk apdi dha smile in life',\n",
       " 'epo pa indha padam release aagum',\n",
       " 'unlike pannava ava amma ellam item tha thevadiyanga pasangala ungamma koothingala kilichiduvan by surya anna big rasigai',\n",
       " '1 day to go for kaappaan',\n",
       " 'ena raja sir nengalum music thiruduringale intha music django unchained padathula vara music',\n",
       " 'u kena tunggu lama lagi utk tau saya',\n",
       " 'ciyaan  vikram i love  you',\n",
       " 'enna da viswasam bgma  slow motionla potrukaan',\n",
       " 'tha thaaru maaru trailer like potutu tha paakave start panna',\n",
       " 'inthaaa traser kagaa yenodaa uyiraa kudaa kudukaa ready thiviraa thalapathy veriyan',\n",
       " 'dailoug marana mass thala i love  u thala',\n",
       " 'எந்த மேடையில் திருமாவளவன் பெரிய விட்டு பெண்ண திருமணம் பன்ன சொன்னாரு video link kudunga nanba',\n",
       " 'talaivaa ur great am waiting 4 dis mve',\n",
       " 'vikram sir u r a pure fire',\n",
       " 'vfx daww ajith tamilan ila dawwww inu nala koovunga da',\n",
       " 'enuku visuvasam padatha pathatha parithavama iruku',\n",
       " 'thala padam eppo varum eppo varum nu verithanama wait pandravanga like pannunga',\n",
       " 'trailer verithanama iruku poran naanum 16yrs ku munnadi pora',\n",
       " 'diwaliku varama eruntha good elladi summa vasool kuranji flop akathan',\n",
       " 'after viswasam trailer  hit like',\n",
       " 'nejamavae sema trailer dhanushvetrimaaran kalaiyum kaviyum vivasayathin paguthi  puthumai padappu asuran',\n",
       " 'sathyama namba alunga natta british karan kita irunthu arasiyalvathi kitta than koduthirukom  percent',\n",
       " 'jiiva in searu padam vettri ataiya top star prasanth fan sarpake valthukal',\n",
       " 'etha vida engaluku ena venumne va thala',\n",
       " 'bahubali records out of signal  shankar daww rajini daww arr dawww vfx daww old is always gold',\n",
       " 'thala trailer a vera level a iruka',\n",
       " 'very nice therija athireyavida theriyatha athirekkutha aalluuuuuuuuuuuuuuuuu',\n",
       " ' trending make it no 1again',\n",
       " 'yo nxt year achu padam release aguma 2020',\n",
       " '  hardcore fans hit like',\n",
       " 'sunday kulla 15 million views varanum',\n",
       " 'paavam amayan fans rombhe aadareengebut deepavalikku unge nilamaya ninaicha ayyo pavam',\n",
       " 'it shows other side of storysumma dalit dalit nuavan pandradayum paaru nu solre madiri irukueppadiyoadichikame sandosama irungeeippolaam evanum keele kadaiyaduevanum mele kadiyaduellarum kovil ku porangepalaya pagai vititu velai parunge',\n",
       " 'jadhi ya thooki koodhila podunga da  ',\n",
       " 'oruthar mela viswasam kaatrathukkaga innoruthara yen asinga paduthuringa',\n",
       " 'rekka 20  oru top class padam kudutha 2 mokka padam kuduve nadichi kudutherarru namma makkal selvannukku ithe velaiya poiruchu',\n",
       " 'ithu 96 su vera level lu senjachi',\n",
       " '9 minutes 200 k views 45 k likes',\n",
       " 'semasurya have killing eyessurya fans hit a like',\n",
       " 'darbar motion poster pathutu vanthavanga yaru',\n",
       " 'i love u karthik supparaj  thirumbavum palaya mathiri thalaivar ah kattunathuku tqq',\n",
       " 'mai langue nhi samjhta but dekh ke maza aagya osm thlaiva',\n",
       " 'yuvan bgmleh  thalaiya pakka mothe innu vera level ke pothu paa thalapathy fan',\n",
       " 'ilayathalapathy teaser parakum easya ellathayum thokka adikalam',\n",
       " 'ngk trailer la record vakkanumna yella suriya anna fans um neraiya id create pannunga yella  id la irunthum likescmts pannunga guys',\n",
       " '100times paathavanga irukkingala iruntha oru like pottu ponga frds',\n",
       " 'yuvan shankar raja fans oru attendance podunga',\n",
       " 'teaser  trailer paathu veri yethikiravanga oru like podunga',\n",
       " 'amy jackson pakka vanthaven la like  podunka',\n",
       " 'enga irundha ya concept edukaringa   super ya  neat execution',\n",
       " 'poda pundai sakthi naren oru mokka teaser',\n",
       " 'ithellam oru teaser ahkaatu mokka  thala fans enjoy',\n",
       " 'mmmm surya mohanlal verendu venam ee cinemakku ithu 500cr kadakkum ith polikum super',\n",
       " 'yarela 500 k like ku wait pandrenga like here  thala bloods',\n",
       " '141 bgm vera level  u1',\n",
       " 'theri vera  mega hit 2016 rajini kamal vijay  shanker rajamahli  atlee',\n",
       " 'எப்பா டேய் கொஞ்சம் கதறல மிச்சம் வைங்கடா டிரெய்லர்தான் வந்திருக்கு இன்னும் படம் ரிலீஸ் ஆகல படம் ரிலீஸ் ஆனதுக்கு அப்புரம் நல்ல சத்தமா கதரலாம் சரியா படத்த தடை பன்னலாம்னு அலையாதீங்க இது  கிரௌடு பண்டு மூலமா எடுக்குர படம் வீட்டுக்கு ஒரு சீடி கேசட் சும்மாவே குடுக்கலாம் அது போக  அண்ணன் மோகன் ஜி படம் பாக்குரதுக்குதான் சம்பாரிக்க இல்ல தியேட்டர்ல இல்லைனாலும் டவுன்லோடு பன்னி பாருங்கனு சொல்லிருக்காரு அர்த்தம் புரிஞ்சுதா அதனால நல்ல முட்டி முட்டி கதறுங்க',\n",
       " 'ponnunga na ungaluku enna oru porul nu nennapa vekama illa',\n",
       " 'trailer vera level guys music adichikavae mudiyala ',\n",
       " 'ஒரே ஒரு ட்ரெய்லர் தான் மொத்த நாடகக் காதல் கும்பலும் குத்தி போட்ட பன்னி மாதிரி  கதறிக்கிட்டு இருக்கானுங்க  திரெளபதி நீ ஜெயிச்சுட்ட',\n",
       " 'nee va thalaiva   inga iruka chinna payala ku payam kaattu',\n",
       " 'why this movie given 12k dislike brooo',\n",
       " 'vera vera vera mathri panitinga broooo',\n",
       " '300 k views in 45 mins ',\n",
       " 'thala solla varthai ella semma mass trailer',\n",
       " 'வேட்டு கவுண்டர் சார்பாக  படம் வெற்றி பெற வாழ்த்துகள்',\n",
       " 'jai akfrom pk fanjai pk jai ak',\n",
       " 'im in karnataka  but i  love  vijay sethupathi love you  sir',\n",
       " 'who ever  seen deadpool here',\n",
       " 'thalaivaa semmmaaaa therla apdi than pesikiraanga',\n",
       " 'i am  waiting  ',\n",
       " 'thalaivar na summa va  fire',\n",
       " 'bgm kgf bgm modified mathiri iruku',\n",
       " 'the king is arriving  anil kunjugal padhungum neram vandhu vitadhu',\n",
       " 'சூர்யாவின் ஆய்த எழுத்து2ngk வெற்றி பெற வாழ்த்துக்கள்',\n",
       " 'kangana aunty looks like uncooked potato',\n",
       " 'adingo  maranam maasu maranam  odu annanaaanda  tha vediya podu',\n",
       " 'தமிழ்நாட்டின் அனைத்து மாவட்ட வன்னியர் சமுதாய சார்பாக திரௌபதி படம் வெற்றி பெற வாழ்த்துக்கள்',\n",
       " 'best trailer like for thalaiva',\n",
       " 'feeling like im watching rgv movie',\n",
       " 'remake of amitab bachan and tapasi pannu movie pink',\n",
       " 'tamil se jyade hindi wale log trailer dekh rhe hai',\n",
       " 'wtf it looks like power rangers lol ',\n",
       " 'kelatu punda 70 yr amitab character ah play pandran adutha padam 80 yr lol thalapathy ageing in reverse haha',\n",
       " 'views alluday  kadaruvaan galay  paavam thalaivaa  ella nadigarayum voda vidurengalay',\n",
       " 'supar movie thala sema suparu1 bgm nice',\n",
       " 'awesome teaser da real singam da haters pathu saavuga da',\n",
       " 'thalaivar  thalaivarr ',\n",
       " 'varalam varalam   12millon on the way',\n",
       " 'oruthar mela irukaa visawasathanala aduthavgala humilate panna venamthala words',\n",
       " 'main itna khush hua atlantica mata ki aarti cinema dekhne ke liye pita tumhi password rupasi cinema',\n",
       " 'orutharu mela irukura viswaasathuku iniruthara yen asinga paduthuringa likes for this',\n",
       " 'ஆனா இந்த வசன நடை செத்துப்போச்சு நாங்கள் யதார்தமாக வட்டார மொழி பேசும் படங்களை பார்க்க ஆரம்பித்து விட்டோம் mr mani இவ்வளவு கோடி கொட்டி படம் பண்றீங்க ஒரு வசன கர்த்தாவ வச்சுக்க கூடாதா shankar ஐ பாத்தாவது திருந்த வேண்டாமா',\n",
       " 'pathute  iruken thalaiva summa alluthu',\n",
       " 'naraiya naraiya naraiya tym pakravanga yaravadhu',\n",
       " 'padam vera level ah irukkum pola irukku',\n",
       " 'tharamana sambavam great vetri maran  and dhanush',\n",
       " 'படத்தை கட்சிகாரங்க கிட்ட காட்டிட்டு படத்தை ரிலிஸ் பன்னுங்க',\n",
       " '133 arjun dialogue is for video memes',\n",
       " 'indha trailer pudikalana avan tamil cinema rasigan illa  wokka makka  therikkudhu',\n",
       " 'ithu tha unmaiyana trailer aa romba sekirama vandhuchu',\n",
       " 'பிரபுதேவா பேன்ஸ் லைக் பண்ணுங்க எத்தனை பேர் இருக்கிறார்கள் பார்க்கலாமா',\n",
       " 'இந்த படத்தின் வெற்றி பெண் இனத்தின் வெற்றி',\n",
       " 'oruthar vijay mela viswasam kaatardhukaga innortharaajith en asinga paduthureenga or vice versa well said',\n",
       " 'etho onnu kuraiyuthey     ithu selva padam dapadam patha than padama theriyum',\n",
       " 'தென்மாவட்ட தேவமார் சார்பாக படம் வெற்றியடைய வாழ்த்துக்கள்',\n",
       " 'மொக்க ட்ரைலர்னு நினைக்கிறவங்க ஒரு like போடுங்க',\n",
       " 'thalaivar sonna maari sweet sapida poren',\n",
       " '90s thalaivara thirupi thandaduku big thanks to karthik subburaj',\n",
       " 'enna sir ivlo azhaga vanthinga oru dialogue kooda pesama chumma thayya thakkanu sollitu poiteenga',\n",
       " 'i think it will be rekka',\n",
       " 'komjor dilwalo ye video link pe clik na kare   u just cant tolerate',\n",
       " 'அண்ணா இது உங்க படம் இல்ல நம்ம படம் நாங்க இருக்ேகாம் வெற்றி நிச்சயம் ஆசாரி இனம் உங்க பின்னால் துணை நிற்க்கும் மேலும் நிங்க நிறைய படம் எடுக்கனும் nellai',\n",
       " 'vijay sethupathi ke ino build up panirkalaam',\n",
       " 'தமிழன் என்றோர் இனமுன்டு   தனியே அவருக்கோர் குணம் உண்டு  அந்த கூற்று பலித்தது பாவம் பாரதிதாசன்நடப்பதை பார்க்காமல் போய்விட்டான்',\n",
       " 'semma semma semma semma mass thalapathy',\n",
       " 'adhuku like podunga idhuku like podunga kovil vaasal ah pakara mariye iruku',\n",
       " 'pliz pliz hindi dubbed movie sir',\n",
       " 'trisha trailer la oru scene dhaana ',\n",
       " 'used titan music for entire trailerilayaraja music podaliya',\n",
       " 'koun tiktok se aya yeah tone sunne bs',\n",
       " 'like  90s kids comment  2k kids',\n",
       " 'any one after siriki promo hit like',\n",
       " 'padam nala irukum pola simple laugh laugh always',\n",
       " 'vera level bgm trailer therikka vidudhu',\n",
       " 'thapapathy indhe bairava mega hit aagum',\n",
       " 'நாடு இருக்கக் கூடிய நிலைமையில் இது ரொம்ப முக்கியம் டா நல்லா இருங்கடா சாதியை தூக்கிப் பிடிக்கிற எல்லாம் நல்லா இருங்கடா',\n",
       " 'ena da pani vechurukinga  kola masssss ah iruku',\n",
       " 'thala therika vuda poraru nu ninaikura thala entry kaga marana waiting love u thala by thalapathy fan',\n",
       " 'definitely box hit nu nenaikiravanga like podunga',\n",
       " 'december 20naan starwars pooren hero vum',\n",
       " 'kongu nadu vettuva gounder kalin sarpa valithukal',\n",
       " 'awesome trailer vikram style vera level',\n",
       " 'super sir  please dub telugu',\n",
       " 'dhanush fans comment  sk fans like',\n",
       " 'betavaku atharavu sonna entha pottaioda padam petta',\n",
       " 'vara vara likes pichaikaaranga tholla thaanga mudila pa dont like here',\n",
       " 'ரெட்டியார் சமூகம் சார்பாக படம்  வெற்றி பெற வாழ்த்துக்கள் mohan  g all the very best we all behind you',\n",
       " 'pink movie  ki copy h bhai',\n",
       " 'hindi me kon kon dekhana chahata h',\n",
       " 'பறையர் சார்பாக வாழ்த்துக்கள் படம் வெற்றி பெற',\n",
       " 'yarellam 10 vatikku mele trailer pathingalo avunge like podunge',\n",
       " 'im thalapathy anna fantrailar summa therikka viduthu marana mass ah irukku',\n",
       " 'periyar selai thiruvalluvar selai ellam udainga da  anna sithanthatha ',\n",
       " 'yandha court laiyum ipudi nai mathirre kathaara mattanga bha  rip nerkonda parvai',\n",
       " 'vijay sethupathi  arun vijay prakash raj simbu  senapati intro  thyagu intro  ethi intro',\n",
       " 'kaapaan surya anna mass super move',\n",
       " 'yarukuda vayasayiduchi theaterla parungadaa vayasaa ahahahah petta daa',\n",
       " 'pakka masshonestly far far better than ',\n",
       " 'kangana ranaut is perfect acting jay lalita',\n",
       " 'supper intha padam namba jaathiyapathi erukku so namba vanniyar sonthanga anaivarum support pannunga',\n",
       " ' jii inga ennah pandringa ingaium ungaal kootitu vantangla',\n",
       " 'கதறியே சாவுறானுங்க சிறுத்தை குட்டிங்கபொறுக்க முடியாம செத்றுவானுங்க போல',\n",
       " 'ithuvarai 13 thousands thevidia pasanga irunkanga tamilnatla',\n",
       " 'dai remake ravi  thalaiver pathi thappa pesatha da',\n",
       " 'ivan orutha varushathuku oru padam eduthu thaaliya arukurann',\n",
       " '90s kids kagave edutha padam mathiri iruku',\n",
       " 'ஏன்டா உங்க ஜாதியில் பொண்ணுகளே இல்லையாஅடுத்தவங்க பொண்ண  கல்யாணம் பண்ணிட்டுஉங்க பொண்ணுகளை டார்ச் லைட் கொடுத்து நெடுசாலையில் நிக்க வைப்பிங்களா',\n",
       " 'thaaa mersal thalaivaa bgm oora masssssss',\n",
       " 'kv ananth surya combonale hit than pa padam',\n",
       " 'நாடக காதலுக்கு சரியான சவுக்கடி  திரவுபதி',\n",
       " 'சூப்பர் அண்ணா இது போன்ற படங்களை ஆதரிக்கும் மற்ற சாதிகளின் நானும் ஒருவன் முத்தரையர்',\n",
       " 'mysskin sir trailer la dialogue venam movie wait ah pesum',\n",
       " 'இதுதான் உண்மையா நடக்குது நாட்டுல மக்கள் எல்லோரும் தெரிந்து கொள்ளுங்கள் hats off to director n producer',\n",
       " 'thala fans   thala mela viswasam kadanamun thalapathy yen asingapaduthiriga',\n",
       " 'உனக்கு யாராவது பழைய ஃபிரண்ட் இருக்காங்களா     நம்பாத  ',\n",
       " 'இளையவர்கள் மனதில் வெறுப்பை விதைக்கப் போகும் படம்  கல்வி மிகவும் முக்கியம் நண்பா  காட்டான்களாகவே எவ்வளவு காலம் இறுக்க போறிங்க  education is very important  govt has to impose mandatory education until college for north tamilnadu youths',\n",
       " 'iron lady     nithya menon',\n",
       " 'விஜய் சேதுபதி police katepla super ahh irukaru',\n",
       " 'petta semma super muni 4 kanchana 3 motion poster release',\n",
       " 'sethupathi vijay fanz hit like',\n",
       " 'am frm kerala 1 year aa wait punnure intha padam yeppo rls aakum',\n",
       " 'beethoven be like  am i a joke to you ',\n",
       " 'kv anand sir dont disappoint ur fans',\n",
       " 'padippu irutntha evanalyum onnum pudunga mudiyathu mass',\n",
       " 'oruthar mela viswasam kaatrathukaga innoruthara yean asinga paduthuringa bgm awesome',\n",
       " 'vijay sethupathi mass str pakka mass',\n",
       " 'marana waitinggggg for another irumbu thirai',\n",
       " 'வரலாம் வரலாம் வா வரலாம் வா பைரவா',\n",
       " 'நல்ல படம் கண்டிப்பா வெற்றி அடையும் வாழ்த்துக்கள்',\n",
       " 'yov yov director ivlo naala engaya irundha unna dhan ya theditrundhen orey movie la ella samoogathayum onnu sethutiyee andha thiruma naaiku edhiraa',\n",
       " 'just 19k likes to reach 400k likes',\n",
       " 'திரைபடத்தின் வெற்றிகாக நம் மக்கள் அனைவரும் ஒன்று கூடுவோம் இது நம்மாண பிரச்சினை',\n",
       " 'you kena tunggu lebih lama lagi untuk tau saya',\n",
       " 'this movie is very very super sankar sir',\n",
       " 'trailer pakurathu munadi comment and like panavanga laa yaaru',\n",
       " 'intha patta muthala trend pannuga',\n",
       " 'இடஒதுக்கீடு தாழ்தபட்டவன் மட்டும்தான் வாங்குறான்னு முட்டாளாய் பேசுவோம் பாப்பா பார்ப்பானுக்கு அடிமையாய் இருப்போம் பாப்பா  சாதி ஒழிப்பு பற்றி படம் வந்தா சாதிபடம்னு சொல்லுவோம் பாப்பா  ஐந்து பேர ஓத்த பாஞ்சாலியை சாமியாய் கொண்டாடுவோம் பாப்பா வரதட்சணை வாங்கி கல்யாணம் நாங்க பண்ணுவோம் சாதிமாறி காசே இல்லாமல் காதல் பண்றவனை நாடக காதல் பண்றான் னு சொல்வோம் பாப்பா  ஆனால் பொள்ளாச்சியில் நடந்ததை கண்டுக்க மாட்டோம் பாப்பா ஏன்னா அவன் உயரந்த சாதி பாப்பா',\n",
       " 'rajini pola oombugha da  appo than unghaluku villambaram',\n",
       " 'intha trailer pathapo yarkellam kaththi trailer njyavagathuk vanthidch',\n",
       " 'trailer mudinju daan moochu ye vitten habbbbaaaaaaa',\n",
       " 'enaku ennamo next paruthi veeran mari irukumnu thonuthu  im waiting for kaithi',\n",
       " 'ajith fans la like pannu',\n",
       " 'பா ரஞ்ஜித் தமிழில் முன்னணி நடிகர் வைத்து எடுத்தா இப்ப புது முகம் திரோபதி செம மாஸ் அங்க ஒரு படம் வந்தா இப்ப இரண்டு படம் வரும் இனிமேல்',\n",
       " 'பிகில் தளபதிக்கு விசில் போடு  happy birthday thalapathi',\n",
       " 'u1 tharu maru music da yepa',\n",
       " 'படக்குழுவுக்கு வாழ்த்துக்கள்  ஆனால் கடைசியாக  மொத்த அர்த்தங்களும் மாற்றாமல் இருந்தால் நல்லா இருக்கும் climax la thavarukalai sutti katungal anaivaroda thavarukalaium',\n",
       " 'thala na mass  mathavanga ellam thala munnadi duss',\n",
       " 'bgm marana mass    dhanush fans like panunga',\n",
       " 'all thala fans like pottingla ',\n",
       " 'oviyam varaiyiravan avan pullaiku oviyam varaya solli kodupan yengapa military da odi velayadava solli kuduthurupan',\n",
       " 'ennnada onnume priyala padama illa pei padama',\n",
       " 'yen da epdi sathi veri pidichu alairingalo evalo rosam irukaravan avanga avanga sathikaran thayarikara porulaaa mattum use pannunga da athuku ungaluku thupu ella vandutanga',\n",
       " 'like it mysskin fans from telangana',\n",
       " 'just 12 million giews left 4 10 millioncome on suriya fanslets make it',\n",
       " 'நான் மருத்துவர் community படம் வெற்றி பெற வாழ்த்துக்கள்',\n",
       " 'mass mass mass mass mass mass mass masssss',\n",
       " 'ipo dhan draupadi trailer paathutu varen     chumma solren 3',\n",
       " 'என்னடா இது ஹாலிவுட் படத்து டிரெய்லர் பார்த்த மாறி இருக்கு',\n",
       " 'i am vijays fan i love to see vibrantvivegam',\n",
       " 'namma kitta kadu iruntha eduthupanga kasu iruntha pudingipanganga ana namma dhanush fan ha mattum ethum pnamudiyathu  d',\n",
       " 'meanwhile 90s kids be like  coma ku pogamale namma vaazhkai ipudi tha poitu irkuuu',\n",
       " 'thalaivaaa verithanam apdye chumma therikkavidra',\n",
       " '101 இந்த பொண்ணையே heroineya போட்டுருக்கலாம் செம்ம அழகு',\n",
       " 'kv ananth sirkeep rocking after kavan',\n",
       " 'நீங்க சொன்ன ஒவ்வொரு  வார்த்தையும் இந்த சலுகையில வாழுர  bc 30 mbc 20 oc 10  sc15 sca3 st1    நாயகள செருப்பால அடிச்சா மாதிரி இருந்துச்சு நண்பா    உங்களுக்கு எப்போ தான் டா அறிவு இங்கிறது ஊருகா அளவுக்காச்சும் வளர போகுது ',\n",
       " 'lalettan fans like adikadda  ',\n",
       " 'love u dhanush anna semma massss',\n",
       " 'same story same sandaa karrr thuuu',\n",
       " 'நா சவுதியில் வேலை பார்க்குறேன் என்னுடைய இரண்டு மாத சம்பளம் 50000 கொடுத்து திரௌபதி படத்தை பாக்க சொல்லியிருக்கிரேன் என்னுடைய கிராமத்தில்',\n",
       " 'director  kamal  fan pola  96 la rajini varenu  sollave ilada',\n",
       " 'vera lvl romba nal ku apporam ajith sir on full form nalla velaiku siruthai siva thollai inni illai',\n",
       " 'i am a kannadiga i love tamilians and tamil movies luv frm karnataka love adhibro',\n",
       " 'தரமான கல்வி  கல்விக்கேற்ற வேலை வாய்ப்பு அதை கொண்டு பொருளாதார நிலை உயர்வு  அத விட்டு போட்டு அடுத்த சாதி பொண்ண கல்யாணம் பண்ணாதான் முன்னேற முடியும் சொல்ற சில லூசு கூமுட்டைகள் திருந்த வேண்டும்  கலப்பு திருமணத்துக்கு எதிரான பதிவு இது இல்ல கலப்பு திருமணம் செய்யும் இளைஞர்கள் தங்களை பெற்று வளர்த்த பெற்றோரின் சம்மதத்தோடு திருமணம் செய்யுங்கள்  நன்றி',\n",
       " 'what a bgm man  omg',\n",
       " 'sathima ipdi oru padam varanum apdinu thaan kathutu irundhan',\n",
       " 'it looks like a animated movie',\n",
       " 'ajith fans poi sivakarthikeyan record beet panna parunga inga vanthu karuthu solitu irukathinga unga vedhalam vida remo vasul adhigamama poi thongungugada',\n",
       " 'idhula oru samugakaruthu iruku adha matum eduthukongacommentla ovoru jaadhi per kekumbodhu inu neegala maaraladanu nalla theriudhuujaadhi pera vidu elaru manusanganu unaruu',\n",
       " 'trailer la vandha neraya scene padathula varala',\n",
       " '50 k likes in 17 minutes',\n",
       " 'naanga ujirukkujira viswasam kaadduravanukkaandi jaarajum asinkavum paduththuvam athukku mealajum seivam okya',\n",
       " 'pongalku petta parrak sure petaa gon be enjoyed by fans ullalllaa song maranamass',\n",
       " 'potan da tamil masalapink vida hit aga valthukkal',\n",
       " 'in india women empowerment na onnu thani yadipalunga illa tham yadipalunga',\n",
       " 'mavane kola kaandula iruken kollama vida matenalways showing his class and mass',\n",
       " 'vfx ah paaaru daa  superstar',\n",
       " 'adi dhoolu maamu thaarumaaru style first time paarthadhum udambu siluthuruchu vijay rockz',\n",
       " 'for 39k views 36k likes ah eppaaaa',\n",
       " 'maass dialogue kola gaandule irukken  that pistol twisting scene awesome',\n",
       " 'indha no 1 no 2la pappas villaiattu super star is a no one and super one',\n",
       " 'vera leval  thala maranna mass',\n",
       " 'nalla short film upload again keka beka',\n",
       " '203 yeh kya tha',\n",
       " 'yeppa verithanam da saamypadam na ippadi irukanum',\n",
       " 'super star rajinikanth chakravarthyhit movies sasikumar makkal selvan vijay sethupathy all stars  mass',\n",
       " 'இதுல கமெண்ட் செய்துள்ள அதிகமான பேர் ஜாதி பெயரை சொல்லி திரைப்படம் வெற்றிப்பெற வாழ்த்து தெரிவிக்குறாங்க',\n",
       " 'marana waiting thalaivaaaaa      asuran entry soon',\n",
       " 'கண்டிப்பாக பார்க்கவேண்டிய படமாகத் தான் இருக்கும் நன்றி',\n",
       " 'காமெடி கலாட்டா சூப்பர் ஜெயம் ரவி அண்ணா',\n",
       " 'tamil nhi samjh aayi but akshay tere liye kuch bhi',\n",
       " 'சாதி வெறியர்களின் ஆதரவு நிச்சயம் இந்த படத்திற்கு உண்டு மனிதனின் மாண்பு அழிய சாதி வளரும்  இப்பல்லாம் யாருப சாதி பாக்குறாங்க அழிக்கப்பட வேண்டிய விஷச் செடியை விருட்சமாக வளர்த்தெடுப்பொம் பிறப்பால் உயர்வு தாழ்வு பார்ப்போம்',\n",
       " 'namaku thevaiyanatha nama tha adichi vanganum',\n",
       " 'saiva pillai sarpaga padam vetriaadaya valthukal',\n",
       " 'nerkonda parvai vetri pera vazthukal by nadippin nayagan surya fan',\n",
       " 'ஒரு ஜாதி ய மட்டும் குத்தி கட்டுகிறார் அப்படி இன்ன என் ஊர் ல இருக்கும் கீழ் ஜாதி யன வன்னியர் களுக்கு எங்க பெண்ண தெட்ட ஒத்த உன்ன வெட்டுவேம் டா என்ன kuthi comments pandringa ipo thearithu eagaluku baiyathinganu',\n",
       " 'vere level thalaivaa karthik subbaraj sir vere maari irukk unga characterization',\n",
       " 'indha padam epdium release aagathunu nenaikaren',\n",
       " 'face kitnna nakli lagg raaaa',\n",
       " 'guys porathum poringa appadiye intha trailer ku dislike  pottutu ponaga',\n",
       " 'enneda posukunu bigil padathey pei padama aakidinge oru vele bigil 2 oh',\n",
       " 'nayakar sarbaga padam vetri pera valthukal ',\n",
       " 'still acting like a youngsterchiyaan vikram',\n",
       " '467k views 428k likes   power of thala ajith',\n",
       " 'superb nai super star rajini sir',\n",
       " 'ajith oru lose kirrruken romba scene podva',\n",
       " 'yaaru yaarukellam 027 la goosebums start aachu',\n",
       " 'pa ranjith avargale inime oombiduvinga ngommala replay pannungada enga ponna thotta inime saavu bayam varum ungaluku',\n",
       " 'திரௌபதி படத்தை அனைவரும் பார்க்க வேண்டுமென்று உங்கள் பொற்பாதங்களை தொட்டு வணங்கி கேட்டுக்கொள்கிறேன்',\n",
       " 'kancha kattaya vachi adicha car kuda parakuthu ethu bala krishna movie la kuda ennum varala bala krishna va over take panitinka orea scene la',\n",
       " 'bilaaaaaa laa malaysia nk buat pilem kuaiti mcm niiii',\n",
       " 'ஒத்த டிரைலர் மொத்த கூட்டத்தையும் ஒன்னு சேத்துடுச்சி நல்ல காதல கொண்டாடுற மாதிரி நாடக காதலையும் தோலுரிச்சி காட்டனும்ல  மலையமான் உடையார் சார்பாக படம் வெற்றிபெற வாழ்த்துகள்',\n",
       " 'marana masssssirappaana tharamaana sambhavam iruku pongal ku',\n",
       " 'yarra paithiyam rajanikku yalra atikkurathu rajani arasiyalukku vanthu ennatha kilikka poran sollunga avanra mantaila mutiye ella appuram arasiyalukku vanthu oru mairaium pulunga mutiyathu',\n",
       " 'நெத்தியடி இன்னேரம் ரஞ்சித் குருப் கதற ஆரம்பித்து இருக்கும்மைக்க தூக்கிட்டு ஊர் ஊரா கத்த வந்துடுவாங்க',\n",
       " 'bairavaa is a flop movie daaa',\n",
       " 'vera level  oruthar mela viswasam kata innorutara yen asinga paduthireenga',\n",
       " 'telugu trailer epudu sir im veiting',\n",
       " 'engae annakoo nammae melae paitheyam ila na epipadi oru padam panuvara',\n",
       " 'teaser ipdiya irukuna iyooo movie appo',\n",
       " 'tha  waiting  64 ',\n",
       " 'enaku vijay a putikathu  anaa  vijay sethupathi ya thavira evanayum putikathu massss  vs ',\n",
       " 'நீண்ட நாளாக எதிர்பார்த்த உண்மைக்கதை சோதனைகளை கடந்து சாதனை படைக்க வாழ்த்துக்கள்',\n",
       " 'ஆதிசைவ வைணவ மத்வ பிற அந்தணர்கள் குலத்தின் சார்பாக வாழ்த்துக்கள்  ஈஸ்வரோ ரக்ஷது ஸ்ரீ மாத்ரே நம',\n",
       " 'irukku padathule etho visayo irukku',\n",
       " 'tiktok ban not available play store',\n",
       " 'bhai logslap on rangoli chandels statement made on bhais ki ankh saste prsthetics',\n",
       " 'அம்பேத்கார் என் பூலு  பர் தேவிடியா பசங்க',\n",
       " 'நீங்க இட ஒதுக்கீடு வாங்கறது இல்ல பாப்பா உங்களுக்கு சாதி கட்சி இல்ல பாப்பா நீங்க சாதி பெயரை வெளியிலையே சொல்லறது இல்ல பாப்பா நீ பார்பான் கிட்ட கும்பிடு போடறது இல்ல பாப்பா நீங்க மானங்கெட்டடு போய் பிஜேபி கூட்டணி வைக்கல பாப்பா மொத்ததுல உங்களுக்கு வெக்கமே இல்ல பாப்பா',\n",
       " 'vijay sethupathi fans hit like here',\n",
       " 'வெறி நாய்கள் இந்த வீடியோ பார்த்து கதறுமாரு கேட்டு கொள்கிறேன்உங்களுக்கான தரமான செருப்படி இந்த லிங்க் இல் உள்ளது',\n",
       " 'ennada sk paithiyakara maari dialogue pesama irukanenu paathan kadaisiya pesitan',\n",
       " 'summa uhhh aahhh nu irukku great thala',\n",
       " 'harris jayaraj bgm  electrical pulse  vera level',\n",
       " 'vetta ready  nanga enga ayyya ramadass  kannu asacha tamilnatta azhichuduvom veera vanniyan',\n",
       " 'always thala  agalatheey pathutu trailor pakuravanga like panunga',\n",
       " 'suriya anna mass i like suriya anna always ',\n",
       " 'move pathutu vanthu trailer pakurvnga yaru',\n",
       " 'padam flop thaaaaa venum na bestu flim nu vijay awards vaangikkoo padam flop because bïgïl',\n",
       " 'சீட்டிங் சீட்டாஸ்ஓசிசோறு கைய்ஸ் நாங்கள் நாடககாதல் கட்டபஞ்சாயத்துகள் செய்யவில்லை ஆதீ ',\n",
       " 'can we have 300k likes  cmon thalapathy bloods',\n",
       " 'நாடக காதல் பன்றவனுக்கு இந்த படம் ஒரு பாடம்',\n",
       " 'mng endhichadhum trailer paaka vandha suriya anna fans',\n",
       " 'semma love you jayam ravi',\n",
       " 'super action movie maza aa gya',\n",
       " 'mom ka putla jeisa dikh rahi',\n",
       " 'sure blockbuster   from kerala   agree',\n",
       " 'dei andha amma evalo azhaga irukum ennada ipdi pannivechirukinga',\n",
       " 'வேற லெவல் சூப்பர் ஹீரோ படம் போல வாழ்த்துக்கள் ரவி கோமாளி',\n",
       " 'chiyaan fight  looking mass ',\n",
       " 'ஆக மொத்தம்  விவசாயிங்க கண்ணிர் இளைஞர்கள் வேலைவாய்ப்பு விலைவாசி உயர்வு நாட்டின் முன்னேற்றம் பற்றி எந்த நாயிம் படம் எடுக்காது  போங்கடா நீங்களும் உங்க ஜாதி புண் யும்',\n",
       " 'thalaivaaanee ena periya vasul manan ah apdithan soldranga pongal  of boxoffice',\n",
       " 'pattaya kelapitey siva  awesome',\n",
       " 'poduraa vediyaaa otha enimatha parka poraaenga aattathaa',\n",
       " 'indha padatha remake panna solli vinoth kita ketadhu thala dhan appo endha alavuku padam mukiyamnu parunga',\n",
       " 'summa than iruku iam a pawan kalyan star fan',\n",
       " 'ennada idhu mannu ponnu bunnu nu kitu  ennada padam edukringa thiruttu jaadhi veri puducha porambokku thayoligala',\n",
       " 'she looks like kangana ranaut',\n",
       " 'frist looks super  songs semma trailer marana mass   i think movie vera level nu ninaikkuravagga marakkama like and comment  pannugga all 90 s kids or 2k kids ',\n",
       " 'யாதவ சமுதயம் சார்பாக திரைபடம் வெற்றிபெற வாழ்த்துகள்',\n",
       " 'likes surya rajini fan semma masss trailer',\n",
       " 'deepavali sema cinema treat guarantee  ',\n",
       " 'i am rajini fan but i like suriya sir',\n",
       " 'en da dai athan pink remake ku sollitanga aparam en da eillam avan seiyal mairu seiyal nu pesitu erukinga',\n",
       " 'சிவகங்கை மாவட்டம் முக்குலத்தோர் சார்பாக படம் வெற்றி பெற வாழ்த்துக்கள் இது போன்ற படம் தமிழ்நாட்டுக்கு மிகவும் முக்கியம்  thanks mohan j',\n",
       " 'thalaivaa  nee epavume superstar thaan',\n",
       " 'thalaivaaaaa  marana mass celebration ',\n",
       " 'verum build up dhanpadathula oru mirum ila',\n",
       " 'பிறப்பால் அனைவரும் சமம் படம் நன்றாக இருந்தால் வாழ்தூக்கள்',\n",
       " 'annan uyir suriya ir heavy trailer  love from kerala',\n",
       " 'trailer antha pola nu solravanga oru like podunga',\n",
       " 'surya anna masss by sfc big fan',\n",
       " 'thalaivar mass ah irukaru palaya rajini ah paatha maari iruku',\n",
       " 'bigil vfx ku ithu parvala nice kathi team',\n",
       " 'same concept in tamil short film keka beka keka beka',\n",
       " 'waiting thalaa katta fan from kerala yuvan bgm no rekshaa',\n",
       " 'டேய் என்னடா பண்ணிவச்சுருக்கிங்க ஏண்டா உங்களுக்கு இந்த வேலை கதை இல்லையினா  என்னிடம் கேளுங்கள் ஆயிரம் கதை வச்சுருக்கேன் இல்லை என்றால் கோடம்பாக்கத்தில் சுற்றி தெரியும் நபரிடம் கேட்டால் அற்புதமான கதை சொல்லுவார்கள் ஏண்டா புரச்சி தலைவி அம்மாவை கேவள படுத்துரிங்க',\n",
       " 'tirumbi vanthittennu sollu annan  suriya sir',\n",
       " 'innaiku social media thala fans kaila',\n",
       " 'very avg cm kangana looks like a japanese robot',\n",
       " 'verithanama iruka pogithu athula doubt te ila',\n",
       " 'vedhalam teaser ah compare panrapa idhu elam pakame vara mudiyadhuworst bhairava teaser',\n",
       " 'தமிழ் சினிமாவில் ஒரு ஆகச்சிறந்த ஆண்மகன் இந்த இயக்குனர் என்றுதான் கூறவேண்டும் இயல்புக்கு நெருக்கமாக படம் எடுக்க நினைக்கும் இவரது எண்ணம் பாராட்டுதலுக்குரியது  சமுதாயத்தில் உள்ள நிதர்சனங்களையும் சில நாடகக்காதல் கும்பல்களையும் இந்த படம் தோலுரிக்கும் என்பதில் சந்தேகமில்லை',\n",
       " 'super surya anna trailer vera level',\n",
       " 'younger look superstar rajni sir ',\n",
       " 'marwal studeo ka baap hai 20',\n",
       " 'kousalya shankar photo nadaga kadhal group',\n",
       " 'dhaush nadipuku intha padam theeni podum nu ninaikuren',\n",
       " 'இங்க நிறைய பேர் உங்கள் சாதி பெயரை சொல்லி புலம்புவதும் ஆதங்க படுவதும்உணர்ச்சிவசப்படுவதும் வீண் சொந்தங்களேமாறாக நம் வீட்டில் இருக்கும் பெண்களுக்கு இந்த சாதியியல் சார்ந்த சமூகம் பற்றியும்உங்கள் சமுதாய பற்றை பற்றியும் சொல்லிக்கொடுத்து வளருங்கள்இதுவே மாற்றத்தின் முதல் படி',\n",
       " 'luv u ರಜನಿ luv from karnataka',\n",
       " 'movie paathuttu trailer paaka vanthavanga 2020',\n",
       " 'dislike pannravanga rasanai thiran illathavanga so surya anna fans yaarum kavalapadaathinga',\n",
       " 'கரூர் காெங்கு கவுண்டன் சார்பாக படம் வெற்றி பெற வாழ்த்துக்கள் ',\n",
       " 'padipa mattum  eduthuka  mudiyathu',\n",
       " 'police na suriya suriya na police singam da',\n",
       " '118 and 223 vera level ',\n",
       " 'i from karnataka i love ajith sir',\n",
       " 'kappan teaser super hit kappan trailerbluckbuster kappan movie all time bluckbuster',\n",
       " 'who watching 2k19 like here',\n",
       " 'thalaiva nee mass vera leval ',\n",
       " 'enada 2 padathoda trialer patha maari iruku',\n",
       " 'surya anna vere lvlenga waiting ku oru artham kedacha mari erukuback to back  pa goosebumps tha na teaser ku marubadiyum acting scope erukura mari ungla pakka porom',\n",
       " 'omg its really mass vijay sir',\n",
       " 'woaaaaaaaahhhhhhhh woooaaaaaahhhhhh woaaaaaaaahhhhhhhh woaaaaaaaahhhhhhhh  wooaaaahhhhhhhhhhh multi starer thriller',\n",
       " 'masssss na massss dha pakkkkaaaaa masssssss ummmmmmhhaaaa',\n",
       " 'tha yaaru yaa nee karthik subbaraj paa maranam',\n",
       " '13 million views soon',\n",
       " 'dei mudiyala da  innuma da indha maari padam eduthutu varinga  naanga paavam da',\n",
       " 'dislike vida comments adhigam like 160k verithanam அனைத்து மக்களின் ஆதரவு கமென்ட் பாக்ஸ் ல தெரியுது  அனைவருக்கும் வன்னியர் சார்பாக நன்றி நண்பர்களே',\n",
       " 'mass thalaivaa vera level hit akirum',\n",
       " 'தேவர் இனத்தின் சார்பாக படம் வெற்றி பெற வாழ்த்துகள்',\n",
       " 'koduma ennana ellarum avanga jathi pera pottu valthukkal soldringa namba nadu develop aga chance ee illa polaye',\n",
       " 'காடுவெட்டி ஜெ குரு வன்னியர்களின் சார்பாக படத்தை வெற்றியடைச்செய்வதே நோக்கம்இதை எதிர்ப்பவன் முடிஞ்சதை பாத்துகோங்கடா ஒரு மயிபுடுங்க முடியாது',\n",
       " 'ngk reel la nijathula ntk daaaa',\n",
       " 'ivan inthamaare dialogue pesanaale padam oothikum',\n",
       " 'kv anandh sir surya sir fan sangada paduvanganu ninainga kappan trailer than soona sir',\n",
       " 'தயவு செஞ்சு இந்த மூஞ்சியை  படத்துல காமிகாதிங்க',\n",
       " 'thala original mass vilambaram seiyamale mignightrelease pannalum double mass  vj fake bcozday la release  vilambaram pannathanda avanal mass kattamudiyum  thala pola varuma da',\n",
       " 'என் அருமை பாரதம் ஒரு மிக கொடுமையான நோயினால் பாதிக்கப்பட்டு இருக்கிறது அந்த நோயின் பெயர் சாதி  அதை ஒழிக்க ஒரே வழி அது சாதி மறுப்பு திருமணங்கள் மட்டுமே',\n",
       " 'இது 96 ரஜினி ரசிகர்கள் 2036 ',\n",
       " 'enna dhaan simbu class ah irundhalum aravind swamy style ah irundhalum vijay sethupathy dhaan mass rasool fans hit like',\n",
       " 'only for yuvan veriyan hit it',\n",
       " 'another flop for santhanam innum ethana kaalathuku dhan mokkaiya aduthavana kalaichitu kaalatha oatuvanungalo',\n",
       " 'super thalaivar rasigan naan but irundhalum kadaisiyila neenga poturuka andha oru clipkaga naa like poduren epa vanthalum naanga dhan gethu adhu 96 ah irundhalum seri 2019 ah irundhalum seri',\n",
       " 'thaladan mass yevanalaiyum onnum pudunga mudiyadu',\n",
       " 'amy jackson fans kill like button',\n",
       " 'ليش ترند عندنا؟  معقوله في ناس تترك الأتراك والأجانب والكوريين وتتابع هنود',\n",
       " 'aruvi part 2 pakra mari irukuya',\n",
       " 'even oru shot kuda poring ga illa sema movie',\n",
       " '120896 likes in 54 minutes  im pakistani but i live in italy',\n",
       " 'singam 2 teaser super than bhairava',\n",
       " 'super dialouges 1 unaku antha pona pidichi iruntha tha kalyanam nan ok nu solala na vj  apdi elam solla kudathu 2 bible la ena soliruku vj bible la neraya solirukuneenga ena ethir pakuringa emy love your enemies ilaya ama ama 3 vj loveah sola veka padrava valzhavae veka padran nu artham ga theri 4 brother  raja rani style',\n",
       " 'எங்களுக்கு மண்ணும் ஒன்னுதான் பொண்ணும் ஒன்னு தான்  யாரு கைய வச்சாலும் கைய வெட்டுவோம்  ஏன்டா 50 ருபா குடுத்தா அவளுகளே வந்துருவாளுக',\n",
       " 'inaiku night kula 80k comments kondu varanum adha target yaarlam support pana poringa comment below',\n",
       " '136 u kena tunggu lebih lama lagi untuk tahu saya',\n",
       " 'marana waiting for thala 59 pink',\n",
       " 'நான் அரசியலுக்கு வருவது உறுதி ஹே யார ஏமாத்த பார்க்கிறங்க இது 1996   ',\n",
       " 'ayyyoooo naneeyy 24 hrs la 10 times mela pathutten str',\n",
       " 'திருநெல்வேலி சைவ வெள்ளாளர் இளைஞர்கள் சார்பாக வாழ்த்துகிறேன்',\n",
       " 'dhanush enaya ivan manushaana paaah verithaanamana acting raa dei',\n",
       " 'neenga kaasu paaka yen avar name ah use pandringa  pera keduthuradhinga tamil peoples avara rmba madhikirom',\n",
       " 'வேதாரண்யம் கவுண்டர்கள்வன்னியர் சார்பாக படம் வெற்றி பெற வாழ்த்துகள்',\n",
       " 'enna da ethu kannea katti vittu tu trailer pakka sonnathu mathri eruku onnumea puriyalaea',\n",
       " 'hoy hoy inke  enkeyo idikkuth',\n",
       " 'next level pakka hit movie ',\n",
       " 'climax thala plus yuvan bgm trailer terikudu',\n",
       " 'mohan anna vera level  keep rocking ultimate entha sa laiyum onnum panna mudiyathu namba padatha',\n",
       " 'vera level bgm surya anna vera level performance masss',\n",
       " 'aiyo intha koothiyanunge likes ku pichai eduka arambicitanungele',\n",
       " 'i like kaappaan more than ngk',\n",
       " 'jeeeeezzzzzzzzzz thala on new level nah meannnnnn',\n",
       " 'movie la current matter pathi neraya solla poguthu pola',\n",
       " 'kangana is best actor lekin amma jessi bilkul nahi lag rahi',\n",
       " '5 language nalli trailer nodidoru like madi',\n",
       " 'mass trailer anna yuvan bgm ',\n",
       " 'may31 ngk august 30 kaappaan 2020 pongal surarai pottru2020 diwali suriya39',\n",
       " 'title thaan sangathamizhan trailer fulla balayya cinema laage undi ',\n",
       " 'teejay va yaru lam note paninga',\n",
       " 'rendu varushama mukki mukki intha karumaththa than eduthanungala',\n",
       " 'yena aga pore sakthiman periya ooollll',\n",
       " 'oru puthu trailer vanthura kudathu  odane likes kettu picha yeduka aara michuruvanga',\n",
       " 'unaku yarachum palaya frd irukangala  ',\n",
       " 'rajini scene cut pannathukku ethiruppu iruntha like pottu unga aatharava therivinga makkalae',\n",
       " 'dai ithu enga amma vada ithuethoo bomma mathiri iruku',\n",
       " 'watch kekka bekka short filmsame pitch',\n",
       " 'வணக்கம் டா மாப்ள மதுரைல இருந்து  மதுரை மக்களின் சார்பாக படம் வெற்றி பெற வாழ்த்துக்கள்டா  ',\n",
       " 'you are anti indian dialogue yarkulam last la yosichinga',\n",
       " 'trailer verithanam solluravanga like pannunga ',\n",
       " 'zero faltu hain lekin 20 joss  hain',\n",
       " 'mahaa nadihan vj sethupathi',\n",
       " 'poraduradhey thappuna poradura soolnilaya uruvakkunadhum thappudhaney',\n",
       " 'ஹலோ இயக்குனர் சார் நல்ல யோசனை கோமாளி படம்',\n",
       " 'sema but aniruth music sumara irukku yuvan best ah oottruparu ',\n",
       " 'மிகவும் அருமை இப்போது இந்த நிலையில் இப்படிப்பட்ட படங்கள் அவசியம் வாழ்த்துக்கள்',\n",
       " 'விருத்தாசலம் நகர தலைமை விஜய் மக்கள் இயக்கம் சார்பில் வெற்றி பெற்றார் வாழ்த்துக்கள்',\n",
       " 'ab kuch log ayenge bolenge ki kon kon tik tok se aya hai',\n",
       " 'a selvaraghavan flim இந்த title பார்த்து ரொம்ப நாள் ஆச்சுwaitting',\n",
       " 'nvp voda recorda break pannanum solravangalike pannunga',\n",
       " 'naduvulla konjam pakatha kanum part 2 movie pa ithu',\n",
       " 'last dialogue suit for all fans',\n",
       " 'செம்ம movie vallthukkal iam waiting block buster movie no சந்தேகம்',\n",
       " 'கடலூர் மாவட்டம் முதனைபாட்டாளி மக்கள் கட்சி சார்பில் திரைப்படம் வெற்றி பெற வாழ்த்துகள்',\n",
       " 'dey enaku viswasam scene sirichathu kuda enaku siripu varala 122 scene ah paatha udane loudly ah sirichiten da ennada pani vachirukeenga',\n",
       " 'vere level one annan',\n",
       " 'superb just 3more k to touch 200k likes',\n",
       " 'i am thalapathi fan nkp semma',\n",
       " 'bhai hindi me bhi dubbed karo',\n",
       " 'what  did  you say thala masss',\n",
       " 'தல i am waiting for nerkoonda paarvai',\n",
       " 'எனக்கு என்ன சொல்றது நு தெறியல vfc டொ',\n",
       " 'shivakartikeyn fans where are you hit like here kamino',\n",
       " 'yaruya ivaaru  ipdi mass katraru',\n",
       " 'osmmmm surya baya    im waiting for movie',\n",
       " 'antha naal muthal intha naal varai manithan maarivitan intha manushan maravilai  style um maravilai  hohohooohoiyyyyy',\n",
       " 'mass vijay ah paathurupingaactor n mass vijay ah idhula paapinga',\n",
       " 'wow  naa ivlo mass aah irukumnu ninaikave illa   and thala weight u',\n",
       " 'nalla kathainu ethachum irukuma bosss ',\n",
       " 'pakkalam padam thalaivar shankar arr combo vera waiting',\n",
       " 'nadodigal1 theatre la pakka mudiyalanu feel pandravanga like pannunga',\n",
       " 'so poor dialogue delivery  from mohanlal',\n",
       " 'rajana vantha rajavukku nooru josthe  love you anna sethupathi',\n",
       " 'இந்த படம் இளையராஜா இசைக்காகவே ஓடும் அவ்வளவு அருமையாக உள்ளது பிண்ணனி இசை உதயநிதி நடிப்புதான் பார்க்கலாம்',\n",
       " 'ரஞ்சித் போன்ற தன் சாதி அடையாளத்தை காமிக்க நினைப்பவர்களுக்கு செருப்படியாக அமைய வேண்டும் இப் படம்',\n",
       " 'anna vere level love u suriya anna    fan from kerala',\n",
       " 'massss fr all   sedhu na n simbu na  waiting',\n",
       " 'ye kya bawaseer bna diye ho be',\n",
       " 'here only thalapathy rules bairava தர மின்னலுண்னு நின்னு பார்ரா புரியும்',\n",
       " 'ayan movie oda semmaya irukum pola suriya anna im waiting',\n",
       " 'padam mulusa varama yarum comments panna venam  release agattum oppo pakkalam',\n",
       " 'thala ajith sirmass konjam kammiya irukuravanga like pannunga',\n",
       " 'scene mass sa eruku bgm thaan enn thalaivanuku oru oru paduthulaiyum miss avuthu ozunga mattum bgm ila aprm eruku',\n",
       " 'adikara veyiluku senthil goundamani vadivelu  santhanam ella hero va theriaranga ',\n",
       " 'yov pa ranjith thalaivara vechu ippadi padam edukkanumneeyum dhan eduthiye kumuthavalli kothamallinu',\n",
       " '0143 enaya tamil idhumass iruku but kekrapo siripu vandhurudhu',\n",
       " 'trailer pathutu inga teaser mass nu solravan like podu',\n",
       " 'ennada ithu 1 month ku apram trending aaavuthu',\n",
       " 'neraiya neraiya neraiya mass trailer love you thala',\n",
       " 'paathute iruken marubadiyum marubadiyum avlo pudichiruku  only for thala nd u1',\n",
       " 'na pakrathu kanava illla nanava',\n",
       " 'பெண்ணை பெத்த ஒவ்வொரு தாய்தகப்பனும் பார்க்க வேண்டும்  வெற்றி பெற வாழ்த்துக்கள்',\n",
       " 'thirumavalavan ku special show potu katanum nu feel panravanga like podunga',\n",
       " 'ட்ரைலர் செம்ம அந்த குருப்ஸ் கதற போகுது',\n",
       " 'vara level la movie iruka poguthu',\n",
       " 'இந்தபடம் வெற்றி பெறவாழ்த்துகள்     விழுப்புரம் opr மன்றம்',\n",
       " 'engineering aaganum miss athalaaaam oru kaalam',\n",
       " 'ipdi tha muga moodi nu onu vitanga',\n",
       " 'i love you so much thala samaaaa',\n",
       " 'atha oda da atha oda da atha oda da',\n",
       " 'அனைத்து சமுதாய சங்கம் நிறுவனர்கள் கட்டாயம் நிறைய பேருக்கு இலவசமாக டிக்கெட் வாங்கித் தரவேண்டும் சேவையாக குறிப்பாக மாநாடு நடத்தும் சாதி சங்கம் மாநாட்டுக்கு செலவு செய்து பத்த இல்லை இந்தப் படத்துக்கு டிக்கெட்டுக்கு மற்றும் போஸ்டருக்கு செலவு செய்யுங்கள்',\n",
       " 'maathiri dialogues  sarakku scences  muthram kusu dialogues  santhanam ivanlam oru actor nu sollrade kaevam',\n",
       " 'bigil edutha traininga yogi kathirum intha moviela kaataporingala',\n",
       " 'wowwww so amazing clip pakka masssssss thalapathy',\n",
       " 'karthik super thalivar marana mass waiting',\n",
       " 'masss maranam thalaivaaaa back to s kid rajini sir',\n",
       " 'surya mwuthe trailer kanditt paadam kaanan kothi aavanu',\n",
       " 'kaappan trailer  parthuttu vanthu teaser parthavanga ethana peru',\n",
       " 'போங்கடா ஜாதி வெறி புடிச்ச கூதி புண்டைங்க',\n",
       " 'teaser la irundhadha apdiye trailer la potrukingaavlo lam nalla ila so sad',\n",
       " 'ஆதரவாக கமாண்ட் போட்ட அனைத்து நல்ல உள்ளங்களுக்கும் கோடி கோடி நன்றிகள்  அடுத்து ஒரு இயக்குனர் உதயமாக வாழ்த்துகள்  2020 ல் இருந்து நாடக காதல் அழிய விதை விதைப்போம்',\n",
       " 'title heavy aah vechikure padam mokkaya thaan erukkum',\n",
       " 'suriya anna semma mass',\n",
       " 'sema pakkava erukku bairava teaser vijay style pattaiya kelapputhu bairava teaser allo alluthu',\n",
       " 'trailor வைத்து எதையும் முடிவு செய்து சண்டை போடாதீங்கயா படம் வரட்டும் சமத்துவம் பேசாத எந்த சாதிய படத்தையும் மக்கள் ஏற்கமாட்டார்கள்',\n",
       " 'makeup kyn itna khrab kr diya yar ni to kangna madam mv to hit kra hi deti',\n",
       " 'விழுப்புரம் மாவட்ட மக்களால் லைக் போடுங்க    villupuram district makkal ellam like potutu poga',\n",
       " '4k potta amai kunchus spotted so far',\n",
       " 'villan ki wajy se movie nhi chaly ge koi dhang ka villan lety',\n",
       " 'i am thala fan but i like surya mass trailer',\n",
       " 'padam mokkaya than irukkum odave odathu',\n",
       " 'enaku ennamo ntk ntk nu ketkuthu athuvum avanunku intha naattu mela thaan paithyamnu solrathu seeman ah sonna mathiri thaan iruku all the best team',\n",
       " 'yuvan fans    hit like',\n",
       " 'thalapathy daa entha padam vathalum en thalaiva irrukan‼',\n",
       " 'முதலியார் சமூகம் சார்பாக இப்படம் மாபெரும் வெற்றி பெற வாழ்த்துகிறோம்',\n",
       " 'kaithi will be beat bigil sure',\n",
       " 'summa marana mass trailer mirattala irukku excellent',\n",
       " 'thala da vera arum thala avamudiyatgu',\n",
       " 'ஆண்ட சாதிகளுக்கு பொறுமை இருந்தால் பாரிசாலனின் இந்த ஒரு மணிநேரம் காணொளியை பாருங்கள் தயவு செய்து ',\n",
       " 'remo rohit thevdiyaa payan ingayum vanthu uumbitu irukaan',\n",
       " 'yenakku mattum than iru mugan movie  maari thonudha',\n",
       " 'சூப்பர் ஸ்டார் செய்த தவறு ரஞ்சித் இயக்கத்தில் நடித்ததுபெரிய ஸ்டார் எல்லாம் கொஞ்சம் யோசித்து இனிமேல் நடிக்கவும்',\n",
       " 'அடி தர்ம அடி நாடக காதல் கும்பல் கதர் உங்கட நாய்களே',\n",
       " 'புதுக்கோட்டை மாவட்டம் ராஜ குல அகமுடையார் சார்பாக வாழ்த்துக்கள்',\n",
       " 'dei yenga annan vijay ah paathu sirikira',\n",
       " 'ithu 96 haha apdiyae sotta mandaila aani adicha maathiri iruku',\n",
       " 'finally trending no1 gommala haters ippo vaangada',\n",
       " 'surya annan and mohanlal sir',\n",
       " '1st day la 3 shows kku ticket eduthuttu padam release aagaama kola gaandla irukkaen  ',\n",
       " 'caller tune la kola gaandla irukkaen mavana kollaama vidamaattaennu dialogue vechaa phone panravan reaction eppadi irukkum',\n",
       " '4 hero irukalam but str tha mass',\n",
       " 'awesome    aravinda swami fans like here',\n",
       " 'any kekka bokkashort film lovers here ',\n",
       " 'ena sir rajini ku rajni nu varuthu',\n",
       " 'பல வருடங்களா இந்த நாடக காதல் மற்றும் சினிமாவில் வரும்சில சமுதாயங்களை மட்டம் தட்டி  காதல் செய்வது சரிதான் தவறில்லை என்று பெண்களின் வாழ்க்கையை சீராக்கும் காட்சிகளைக் கொண்ட படங்களை எல்லா சமுதாய மக்களும் வெறுத்துக் கொண்டு தான் இருக்கிறார்கள் இதையெல்லாம் மாற்ற பாதிக்கப்பட்ட சமுதாயத்திலிருந்து ஒருவர் நம் பிரச்சனைகளை படமாக்கினால் மட்டுமே இது எல்லோராலும் உணரப்படும் அதுபோல திரவுபதி படம் அமைந்தது மிகவும் மகிழ்ச்சி அளிக்கிறது அனைத்து சமுதாயத்தினருக்கும் கண்டிப்பாக அனைவரின் சப்போர்ட்டும் இந்த படத்திற்கு கிடைக்கும்இதோடு நிறுத்தாமல் அடுத்தடுத்து இது போன்ற படங்களைக் கொடுக்க வேண்டும் என்று மனமார்ந்த கேட்டுக்கொள்கிறோம்',\n",
       " 'ellam ok entha harrish ah nenacha payama eruku',\n",
       " 'trailer paakamale command paaka vanthavanga oru like podunga',\n",
       " 'last dialogue pudichvak mattum like podunga',\n",
       " 'படம் ரிலீஸ் ஆகிறதுகுள்ள  5 million views மேல் வந்திடும் போலயே   வாழ்த்துக்கள்',\n",
       " 'surya sir ithu neriya padam panunga nan thala fan enga elarukum surya sir a romba pudikum',\n",
       " 'mass da maniratham sir vera level',\n",
       " 'sk annnnaaaa i love you anna',\n",
       " 'yogi babu ku main roll koduthuruntha nalla irukumavarukku fight scene kodutha vera level ah irukum',\n",
       " 'கட்சி வேலைய பாருடா னா இங்க வந்து படம் நடிச்சிகிட்டு இருக்கிற வெண்ண',\n",
       " 'poduuuuuuuuuuuuuuuuuuuuuuuuuuuuuuuuuuuuuuuuuuuuuuuuuuuuuuuuuuuuuuuuu  verithanam big fan of dhanush ',\n",
       " '033 varadhans bgm 042 thyagus 101 ethis 138 rasool  mudila pa release it soon',\n",
       " 'best wishes from thalapathy fans  விஜய் அண்ணா ரசிகர்கள் like போடுங்கள்',\n",
       " 'singam     singam roars olwayzzzz',\n",
       " '4days ah no 1 la eruku',\n",
       " 'yenna da trailer ethu epadi pullarikuthuthala shivaaniruth verithaanam',\n",
       " 'आईचया गावात काय आहे हे हिच्या पेक्षा बुजगावण बरं दिसत',\n",
       " 'பொறையார் ராவ் பகதூர்  t இரத்தினசாமி நாடார் நற்பணி மன்றம் சார்பில் திரெளபதி படம் வெற்றி பெற்ற வாழ்த்துகள்',\n",
       " 'dei school pasangala yeppavomae rajini dhan superstar',\n",
       " 'thala vera levelultimate star ajithkumar vaalga',\n",
       " 'rajanikanth sir fans like here',\n",
       " 'கைதி block buster hit yarulm solluringa like podunga',\n",
       " 'any one after   మాకు మా దేవుడు స్క్రీన్ మీద కనపడితేచాలు',\n",
       " 'str weight mattum kammi ya iruntha semaaaa ya irunthirukum',\n",
       " '25days to go for ngk festival',\n",
       " 'likes therikanum 2m likes on the way',\n",
       " 'ரஜினி சார் அரசியலுக்கு வருவது அவரது இஷ்டம் இப்போ உங்களவே ஒரு படத்தில் நடிங்க இல்ல தயாரிங்கனு சொன்னா எவ்வளவு யோசிப்பீங்க அது போல தான் ரஜினி சாரும் அடுத்தவங்கள விரல் நீட்டி குறை கூறும் போது ஒருவிரல் நம்மை காட்டும் தயவுசெய்து புரிஞ்சுக்கங்க',\n",
       " 'dai like podunga elarum shere panunga',\n",
       " 'thalaivar vere leveltrailer eh  ipdina movie confirm marana mass',\n",
       " 'mass hero na yanga ravi anna than',\n",
       " 'averu control pannuanga pa neriya neriya neriya vera level da',\n",
       " 'trailer climax kageve padatha parkalaamrajini senjitanunga',\n",
       " 'thalaivar ra ethu eyankkanna ennala namba mudiyala pakka mass i u love thalaiva',\n",
       " 'thalaivaaaa  70 vayasu la nenache paaka mudiyadha energystyle  maranana mass',\n",
       " 'trailer bangam youv shankar yepaya ni ippadi oru padam rajini vechi yeduka pora yepapar robo gobo ni poya',\n",
       " 'aaaaaaaaaawwwwwwwwwweeeeeeeeeesssssssssooooooommmmmmeeeee teaser love u vijay anna',\n",
       " 'cringe concept onnu aaki padama eduthu irukanga',\n",
       " 'thalaivaaaaaaa sema style sema mass unaai vella evanum illa',\n",
       " 'dr br ambedkar dialogue jai bheem',\n",
       " 'subha se 30 baar sun chuka hun',\n",
       " 'thalana thala than naan thala ser fans paaa',\n",
       " 'pink  but nerkonda paarvai 200',\n",
       " 'caste haa vachi nala vallranga pa',\n",
       " 'kathirunne kathirunne kandavar adikada like ithe sample thrissur pooram varunne ullu  ngk world wild release ',\n",
       " 'bigil apparam yaru pakkranga oru like podunge',\n",
       " 'trailer payangarama irukku movie ku waiting',\n",
       " 'mooka padam big disaster in ajiths careeer',\n",
       " 'எனக்கு தெரிந்தது எல்லாம் இரண்டு ஜாதி 1 ஆண் 2 பெண் இதை தவிர வேறு ஜாதி எனக்கு தெரியாது நீங்க என்னடான்னா புதுசு புதுசா படம் காட்டுறீங்க',\n",
       " 'omg 4 hours la 26 million views  ultimate ',\n",
       " 'திருநெல்வேலி பகுதியைச் சார்ந்த நாடார் சமூகத்தைச் சார்ந்த மக்களின் சார்பாக இத் திரைப்படம் மிகப்பெரிய வெற்றியை அடைய எல்லாம் வல்ல இறைவனை பிரார்த்திக்கிறேன்',\n",
       " 'mai hi chutiya hu bas',\n",
       " 'vijay fans bairava teaser like it',\n",
       " 'thala da vera evanda fire wow',\n",
       " 'இந்த தலைமுறைக்கு ஜாதி தெரியாது டா ஏன்டா படம் எடுத்து மனசுல பதிய வைய்கிறீங்க ',\n",
       " '46 to 50 verra level dialogue pudichavanga like podunga',\n",
       " 'thalaiva looking good even at 70semme',\n",
       " 'arjun sir hero level  mass',\n",
       " 'support pannunga pa indha maari nalla diretors kuapram 5 years kaluchu part 2 aedunga pls nu solladinga',\n",
       " 'இந்த படத்துலையாவது அந்த அம்மா எப்புடி செத்துப்போச்சின்னு சொல்லுங்க ப்ளீஸ் ப்ளீஸ்',\n",
       " '9m views9m apparam paakuravanga like pannunga',\n",
       " 'bro sathiyama sludra seriyana copy waste uh',\n",
       " 'only 7 days   thala bloods  therika vidalama pangaligalaaaa',\n",
       " 'பெண் பிள்ளைகளை இந்த நாடக காதலுக்காக இழந்த வலியுள்ள தந்தைகளுக்கும் இனி இவ்வாறு நடக்க கூடாது என்று எண்ணுபவர்களுக்கும் சமர்ப்பணம் வன்னிய குல சத்ரியர்கள் சார்பாக வாழ்த்துக்கள்',\n",
       " 'thalaa thalaaa thalaaaa always thalaaaa fan da',\n",
       " 'kya dekh lie maine matlab kuch bhi banaoge',\n",
       " 'poda punda  ajith oru sap  sap ke  ta riukata rimeu pa ajith oru kuda',\n",
       " 'just amazing thalaivaaaaaaaaaa  arr sir u r that best   bgm ',\n",
       " 'andha baby mattera ena matter angle super',\n",
       " 'well done super maass kolamaaas movie',\n",
       " 'elarum soona paana kgf agida mudiuma',\n",
       " 'enaku ennamo entha movie than dipawali theriga vida pokuthunu ninaikiran',\n",
       " 'yow verithanama iruku ma vera level',\n",
       " 'dai idhu  90s kids  yaara yemaathureenga  i m also 90s kids',\n",
       " 'thala thaa super epoovum super yagaan sir',\n",
       " 'ye to cartoon lg lag raha h',\n",
       " 'today nyt kulla 10m views varum nu soldravaga smash like',\n",
       " 'highest kollywood film trailer  1st viswasam 13m likes 2nd nerkonda paarvai 721k likes',\n",
       " 'சரக்கு மிடுக்கு தோழர்களாக எல்லா ஜாதியிலும் பாதிக்கபட்டு இ௫க்காங்க போல',\n",
       " 'suyama sindhika therinjavan thaan super herointha padathula naan veram hero',\n",
       " 'தரமான எதிர்பார்த்த ஒன்றுவிஸ்வகர்மா சமூகம் சார்பாக வெற்றி அடைய வாழ்த்துகிறோம் சமதர்மம் என்பது எல்லா மனிதக் குழுக்களும் இணைந்து வாழ்வதே மேல் நடு கீழ் என்பது இயற்கைத் தன்மை',\n",
       " 'நத்தம்     சதீஸ்குமார் ஆண்டிஅம்பலம் முத்தரையர் சமுதாயம்  எனது சார்பாக மனமார்ந்த வாழ்த்துக்கள்',\n",
       " 'அடங்குன்னா அடங்க கூடாதுன்னு எங்க அண்ணன் சொல்லிருக்காப்ளை   திரௌபதி',\n",
       " 'best wishs from suriya fans niraiya niraiya niraiyaaaaaa',\n",
       " 'oruthar mela visvaasam kaatradhukaga inoruthara yen asinga paduthuringa sema',\n",
       " 'indha ulagathula yar venumanalum yara venalum kathalikalamtapu ila but avanga higher caste evlo naal nambala andanga adhunala higher caste  ponna love pani namba avangala love pani adimai akuvom nu mindset la irukura silara pathi indha padamrevenge kaga love panradhu rmba peria tapuadhuku sila araisiyal thalaivargal oduka patavangaluku poraduranu perla idha dha panrangaela caste liyum nalavan ketavan irkanenaku jaadhi madha nambikai ilabut lower caste kaga poraduranu perla silar indha mari negative vishayanagala panranga adhu miga periya tapu',\n",
       " 'yosikkama bhagubali movie da comber pannalam vera level la irukum paru',\n",
       " 'sirappana tharamana sambavam pongalukku papinga kaali oda attatha',\n",
       " 'thalaiva  makkal selvan annan',\n",
       " '400k left for 15m views',\n",
       " 'செம செம வாழ்த்துக்கள் வீரர்களே தோளோடு தோள் செல்வோம் நன்றி',\n",
       " 'i love u surya annaa marana mass',\n",
       " 'pokkri raja movie concept mathri iruke',\n",
       " 'tha enna da ipdi trailer irukku vera level editing level semma ithatha movie apaum pakkanum ',\n",
       " ' means no  thala  dialouge delivery super',\n",
       " 'entha manusanu ku vayasu ana mariya erukaru epppa aa enna enarji mengreat vikram sir',\n",
       " 'படம் வெற்றி பெற மாணவர் சாதியின் சார்பாக வாழ்த்துகள் திரைப்படம் மூலமாக சாதி வெறியை தூண்டும் கும்பலுக்கு திரள்பதி  படம் சரியான பதில் அடி',\n",
       " 'punch dialogues laam vera levelpakka mass',\n",
       " 'surya anna love uuu itharkku thanea rombanaala waiting love uuuuuuuuuuuu',\n",
       " 'director thalapathy 64 gangster padamaa podunga',\n",
       " 'ஜாதி மதம் பெயர் சொல்லி பொழப்பு நடந்த  அரசியல் அடுத்து இப்பொழுது சினிமா  நாடு இல்ல சுடுகாடு பாவம் மக்கள் நாம் தமிழர்',\n",
       " '1m likes kooda oomba mudila   fan base matter',\n",
       " 'super star rajani sir is next chief minister tamilnadu',\n",
       " 'epic scene  054  attakasama iruku trailer',\n",
       " 'gommaala okka asith test tube thevdia mavanseen punda podatha amai asith',\n",
       " 'evan vanthaluminthe pongaluku naagethandahit like if u agree',\n",
       " 'dai pathi trailer nala eruku da balance enada pani vachirukinga aruvam padam mari panidathingada',\n",
       " 'yaarella tee jay note panigeh fans oru like podungeh ',\n",
       " 'வாண்டியாம்பள்ளம் வன்னியர் பாசங்க சார்பாக வெற்றிபெற வாழ்த்துகள்',\n",
       " 'nanbargale petta vum viswasam compare panna theenga ajith mm nalla manushan rajiyum nalla manushan rendu perum jaikkattumsumma unarchiya kilapatheenga',\n",
       " 'saaho has highest views than nerkonda paarvai',\n",
       " 'but ye movie to tv pe aa chuki h',\n",
       " '  well and good   bgm',\n",
       " 'marana teaser kaappaan thalaiva suriya anna mass acting',\n",
       " 'aaha massdhan aana eano thevar magan  shivaji  gnayabagam varduhu',\n",
       " 'sk anna vera level mass sk fans hit like',\n",
       " 'sarkar teaser ku veri etha ella thalapathy teaser um paaka vandhavan like ah podeyyy',\n",
       " 'silent ahh vandhalum violent ahh irukum',\n",
       " 'sk fans like here to block buster hit',\n",
       " 'legends meets another legend ilayarajabeethovan symphony',\n",
       " 'yarellam  trailer ku wait pandringa ',\n",
       " 'enimea action king arjun herova parkkamudiyathu',\n",
       " 'dei thalaivara kindal panra vennaingala 1996 ku apram thaan padayappa chandramukhi sivaji endhiran 20 padam lam nadicharu ellame tamil cinema va india level la hit aakuna padam avaru avar velai la correct ah thaan irukaru neenga poi urupadiya unga velaiya paarungada nonnaingala',\n",
       " 'wow ak is looking very dangerous ',\n",
       " 'adaar pwoli kolamaass teaser',\n",
       " 'படம் வெற்றி பெற சம்புவராயர் மகரிஷி நண்பர்கள் அனைவரின் சார்பாக வாழ்த்துக்கள் தென்காசி மாவட்டம்நெல்லை சீமை',\n",
       " 'suriya anna super ngk hevy level',\n",
       " 'this teaser looks like insulting jayalalitha madam',\n",
       " 'na vijay rasikansemma thala u choose story',\n",
       " 'peeniks paravai daw muthugu elumbu daww first intha mokka dialogue pesuratha stop pannunga mrdala',\n",
       " 'because  time travel  time  kadakumpothan  nadakum',\n",
       " 'oh my god thalaivaaaaaa sema masssssss vera level',\n",
       " 'azhagiya tamil magan 2 vanthuruchu doi ',\n",
       " 'mnm mnm from sri lanka',\n",
       " 'vera level from karnataka fan  thala fans ',\n",
       " 'ngkarasiyalvathi kappancommando rendayum crcta vithiyasam theriya pannirikaru ivarunga vainga da cut outa',\n",
       " 'santhanam anna super  therika vidalaam',\n",
       " 'trailer ah paatha angaali pangaali elam oru like podunga',\n",
       " 'அருமையான படமா இருக்க போவுது இந்த நூற்றாண்டுல    டைரக்டர் மோகன் g ராயல் சல்யூட் சார்',\n",
       " 'அருமை வீரமோடு புறப்பட்டு  வருகிறாள்  மாயகண்ணனின்  தங்கை திரௌபதி படம் வெற்றி அடைய  இந்த கோனாரின் வாழ்த்துக்களையும் ஏற்று கொள்ளுங்கள்',\n",
       " 'semma padippu  mattu namma kitta erunthu etukka mudiyathu',\n",
       " 'concept vera level  jayam ravi acting  திரைப்படம் வெற்றி அடைய வாழ்த்துக்கள்',\n",
       " 'endamohanlaal oru aalunu avanuku oru mukkiyamana role kudithiringeleygetha pesurathuku vera aaley kidaikilaya ithula arya yum irukan enna koduma sir ithu padam nichaiyam semma hit aagum ',\n",
       " 'semma trailer ma pppaaa mass meratal',\n",
       " 'இங்கு உள்ள கமெண்டுகளை பார்க்கும்போதே ஜாதி வெறியை தூண்டும் படம் என்பது மெய்ப்படும்',\n",
       " 'சாதித்து சாதிய ஒழிக்கனுமே தவிர  பெண்களை ஏமாற்றி சாதிய ஒழிக்க முடியாது ௨யர்ந்தவன் தாழ்ந்தவனை தீர்மானிப்பது பணம் பேர் புகழ்  இதை தான்டி இந்த ௨லகில் பெரியது எதுவும் இல்லை ௮றிவை கொண்டு ௮தை சம்பாதிக்க வேண்டும்',\n",
       " '22 lakhs views in just 18 hoursomg vijay masss in youtube ',\n",
       " 'anni trailer lu teaser lu bagane vunnai film matram  yemi laydu',\n",
       " 'ravi anna vera level na movie trailer',\n",
       " ' varlam varlam vaaa bairavaa vera level',\n",
       " 'you kena tunggu lama lagi untuk tahu sayamass kelambuthu malaysia fans are eagerly waiting',\n",
       " 'மோசமான trailer director ஜாதி வெறி புடிச்ச தேவிடியா paiya pola எல்லாரும் எல்லா சமம்னு நினைக்கணும் போதுமா da',\n",
       " 'sema trailer ji padam pakka blockbuster  from vijay fan  and villain also semma getha irukaru',\n",
       " 'vj sethupathi ah kamichitu piragu tha trailer eh mass ah poovthu ',\n",
       " 'rekha padam  director ahpothum da saami',\n",
       " 'ithu you tubula pannitaga pa  this is copy',\n",
       " 'petta film dub to kannada version release in karnataka',\n",
       " 'dear fans pls press like button for kaappan trailer ok',\n",
       " 'நாடாண்ட நாடார்குலம் சார்பில் இந்த அண்ணாச்சியின் வாழ்த்துக்கள்',\n",
       " 'nallaarukkuppaa   olli meesa  like  meesa with thaadi  comment',\n",
       " 'surya annan masss  ettan pwoli',\n",
       " 'தரமான படம் நாட்டுக்கு இன்றைய சூழலில் தேவையான படம் படம் பெருவெற்றி பெற வாழ்த்துக்கள் நெல்லை சீமையில் இருந்து வாழ்த்துக்களுடன்',\n",
       " 'viluppuram enga mavattam athula nallathu athikam ellarukku thirumbau nenikira sollama ma solrapada',\n",
       " 'எனது சார்பாக திரௌபதி படம் வெற்றியடைய வாழ்த்துக்கள்',\n",
       " 'suryaaaa annaaaa after long time mass entry ',\n",
       " 'ohh bhai kiya zahar look hai bahencho  from kolkata',\n",
       " 'என்ன சகோ உண்மைய பளிச்சுனு சொல்லிட்டீங்க அப்பறம் உங்களையும் சாதி வெறி பிடிச்சவன்னு திராவிட கோஷ்டி சொல்லப்போறானுங்க',\n",
       " 'trailer semma ya irukku kandippa idu blockbuster',\n",
       " 'ningaa vere levalaaaa ilaya thalapathy',\n",
       " 'kola mass thala',\n",
       " 'dislikers please better go and die',\n",
       " 'தளபதி ரசிகனின் வாழ்த்துக்கள்suriya sir  team',\n",
       " 'vera level selva love you  surya mass u1 bgm  king⏰kathiruppom',\n",
       " 'மணி ரத்னம் படம் கண்டிப்பா flop தான் பாவம் producer',\n",
       " 'arya sayeesha neenga ingayum vandhutinglaa',\n",
       " 'semma ji semma jisolla vaarthe illathalaivaa ur great',\n",
       " 'since video and and i kv eera',\n",
       " 'ngk kaapaan surya fans get awesome year',\n",
       " 'intha matri thairiyasaali epavavathu oruthan than porapan avana payan paduthikidavan than buthisaali neenga buthisaali than vetrimaran sir',\n",
       " 'vera level   mass ',\n",
       " 'vijay sir kya baat hai i love tamil films',\n",
       " 'mere channel ko subscribe karo bhaiyo  ',\n",
       " 'intha like pannunga nu solravana pathale irritate aguthunu solravanla like pannitu pongada',\n",
       " 'konjam nerathula you ta hang agikidichu  you are awesome',\n",
       " 'திரௌபதி வெற்றி பெற வைத்தல் நம் கடமை',\n",
       " 'அடப்பாவிங்களா இந்த அரசியல்வாதிங்கதான் பாகிஸ்தான ஒரு ஆயுதமா use பன்னுறானுங்கனு பாத்தா படத்துலயுமாபகுத்தறிவுனு ஒன்னு இருக்கா',\n",
       " 'wow nice trailer rajini kant super star',\n",
       " 'ippa 104 la iruku andha 105 mathi vitu polama thala bloods',\n",
       " 'காணொளியில் பின் வருவது பீத்தோவனின் இசை இதற்கு இளையராஜா எப்படி சம்மதித்தார் என தெரியவில்லை அதீத சத்தம் இல்லை வசனம் இல்லை  beethoven music  gate ஐ இழுத்து மூடும் சப்தம் இவை மட்டுமே trailerல் இசைத்து மிரட்டி இருக்கிறார் பரபரப்பான காட்சிகள் நிறைய இருப்பினும் director சிங்கம் புலியை காட்டிய விதம் சிறுவர்களுடன் பலூன் வைத்து குதூகலிக்கும் கோமாளி இரு சிறிய நாய்குட்டிகள்watch mechanisemகள்ளிச்செடி  பூந்தொட்டி என ஏகப்ட்ட குறியீடுகள் வைத்து அசத்தி விட்டார் மிஷ்கின் இவை தான் என்னை 10முறை தாண்டியும் தொடர்ந்து பார்க்க வைக்கிறது',\n",
       " 'hahaha kali ko 1 aur janam lena honga nawazzuddin ko takker dene kd liye poda kali',\n",
       " 'manju warrier fans like hit here',\n",
       " 'enga erukura comments padikirapo pitchakaranuku support pitchankaran comedy than da neyabagam varudhu endha naai padathuku support panni ethana naai kathitu eruku',\n",
       " 'manju warrier vadachennai andriya vuku duff kodupanga pola',\n",
       " 'திரெளபதி படம் மூலம் அனைத்து பிற்படுத்தப்பட்ட சமூகமும் சகோதரத்துவமாக சேர்ந்து உள்ளனர்r r இதனால் வரும்காலங்களில் அனைத்து பிற்படுத்தப்பட்ட சமூக தலைவர்களும் இந்திய முழுவதும் ஒன்றிணைத்து நாடக காதல் கலப்பு திருமணத்த சட்டப்படி தடைச்செய்துநாடக காதல் கும்பலை தண்டிக்க நாடாளுமன்றத்தில் நடவடிக்கை  எடுக்க வேண்டும்',\n",
       " '1 lakh likes in just 40 minutes',\n",
       " 'kekka bekka nu oru shortfilm vandhuchey  andha kadhaiyaa',\n",
       " 'lokesh katta awaiting for thalapathy 64 iam waiting',\n",
       " 'hit like u r a rajinikanth fan',\n",
       " 'tik tok se kon aaya hai',\n",
       " 'jathi pera sola asiga padanumda elarum vandhu kuuvitu rukinga epo thanda maruvinga elarum yar epdi padam edutha ena danenga jathi pakama irungaipdi oru oru thanum ninaichi  undagum',\n",
       " 'intha movie yathu thalaivanuku come back ah irukanum',\n",
       " 'சாதியை முன்னிறுத்தி திரைப்படம் எடுக்கத் தூண்டிய வர்களுக்கு முதல் பரிசு நீங்கள் அமைதியாக இருக்கும் வரை எங்கள் அமைதி நீடிக்கும் உங்க வேலையை நீங்க பாருங்க எங்க வேலையை நாங்க பார்க்கிறோம்',\n",
       " 'padam flop confirm over scene poodathinga da dai',\n",
       " 'idhukku mela thalaivara styla yaralayum katta mudiyadhu',\n",
       " 'yuvans bgm never disappoints you ',\n",
       " 'பெண் பிள்ளைகளை படம் பார்க்க அழைத்து சொல்வும்  அல்லது download செய்து பார்க்கவும் கட்டயமாக',\n",
       " 'teaser vera level updates vanthukitae irrukku',\n",
       " 'adangaa vaipom da thevidiya payalunga kuruma boys tharamana movie aaga amaiya pogudhu kuruma boyss',\n",
       " 'ajay devgan sir best jodi rakul preet de de pery de',\n",
       " 'inda concept madiri oru hollywood padam iruken pa idhu anda padam remake aa',\n",
       " 'tamilan nukku sathilaam kedaiyathuda ithalam ariyargal padai yaduppukku pirahudhan da varnam muraiya solli ni intha paya intha vela thaan pakkanum nee ivan inthaa velathan paakanum adinu solli otrumaiyaa irruntha tamilar gallaa piruchu aanddan avaan sonnatha keekka vachan namma adaiyalamee otruma thanda ullakathin muthal mozhi tamilnammalukku sathilaam kedaiyathu inimevathu saathi adaaiyalatha thedama tamilar adaaiyalatha theduvoomda intha arasiyal sathiya vachu nadathuraangaa athu yangavathu naaammaku nallaaa aatchiya irruka inimeyadhu yosingaada',\n",
       " 'gotha potta baadungala ungala la serupalaiye adikanum',\n",
       " 'super ho super darling surya ummahahha',\n",
       " 'starting la vara music engayo ketta mathiri eruku oru vela suttutangalo',\n",
       " 'thalaivara nega eppaum axn stylé movié mátum tha nadíkanúm',\n",
       " 'dai nanga mattum mersal teaser ku dislike potomna like vida dislike tha high ah erukumdai teaser vidunga vatchu seirom',\n",
       " 'hockey bat mustache  santhanam semma kalai',\n",
       " 'trailer la pagal time ee kanom',\n",
       " 'cvfs  lam like pannu ga',\n",
       " 'who is here after movierulz  but ',\n",
       " 'yella vijay padatha seathu oru vijay seadhupathy padam adha direct pannunadhu vijay chandar',\n",
       " 'str love makkal selvan from kerala',\n",
       " 'appdi yalla cholla kudadhutherikya vedaporinga ji semmmma',\n",
       " 'பெரிய ஊட்டு பொண்ண கண்ணானம் பன்னா கெத்தா இருக்கலான்னு எங்க அண்ண சொல்லிக்கீறார்',\n",
       " 'ivarku lawyer style and body language varla romba mosam olunga pesa kooda illa lawyer mathiriye illa mokka',\n",
       " 'vidya balan ko lena chahiye tha',\n",
       " 'tamil industry singam surya back as kaappaan pakka blockbuster',\n",
       " 'அனைத்து சமுதாய மக்களும் அவர்களின் ஊரில் நம் திரௌபதி படத்தின் பேனர் வைக்கவும் அப்போ தான் நம்மோட ஆதங்கம் வெளியே தெரியும் படத்தினை தியேட்டர் ல வெளி வர ஈஸியா இருக்கும்  இந்த படத்தினை பற்றி கமென்ட் செய்த அனைத்து நண்பர்களுக்கும் பகிரவும் please சப்போர்ட்  என் உரவுகளே  நாங்களும் திருவண்ணாமலை மாவட்டம் தூசி கிராமம் ல வைக்க போரம்   தூசி  குரங்கணில் முட்டம் வன்னியர் நண்பர்கள் சார்பாக படம் வெற்றி பெற வாழ்த்துக்கள் we are வெறித்தனமா waiting',\n",
       " '025 paasist bjp ilaganesan dialogue india kaha oru state ilakalaam',\n",
       " 'surya anna fans hit like here',\n",
       " 'intha padathukku askar award kekkuravanga like podunga',\n",
       " 'thalaivar varum bodhu mezhuguvarthi anajadha paatheengalaa stand irattai mezhuguvarthi simonukku tharamaana sambavam',\n",
       " '136 pon manickavel epo da bar la lam dance adunaru',\n",
       " 'teaser semaya eruku aana oru chinna visayam ilayaraja sir beethoven music aa use pannuvaaraamaana matha music director avar music use panna kudadhaam adhu dhaan enna gnayam nu therla',\n",
       " 'பெண்ணை பெற்ற அப்பாக்களும் அக்கா தங்கைகளை கொண்ட அண்ணன் தம்பிகளுக்கு திரௌபதி அருமை புரியும்',\n",
       " 'en daa deiiii vjs irukaru avaruku dialogue kanum pakathula irukavan pesrannn ena da ithu',\n",
       " 'ellam movie a theatr la poi parunga pls',\n",
       " 'vijay sethu pathi yoda thivara fan na avarkruka tha padam papen',\n",
       " 'bgm u1 rocks  thala always',\n",
       " 'லத்துவாடி பூஞ்சோலை ஊர் பொதுமக்கள்  சார்பாக இப்திரைப்படம்  வெற்றி பெற வாழ்த்துகள் தொட்டுப்பார எங்க பொன்னு மேல கைய',\n",
       " 'வாவ் ட்ரெலர் செம  சூர்யான்னா ரசிகர்கள் சார்பாக வாழ்த்துக்கள் நண்பா',\n",
       " 'awesome movie shot i like this',\n",
       " 'thalaaaa jst 3 days more',\n",
       " 'nan 75 views ah cross pannitenanyone else like me',\n",
       " 'last line vera lvl dialogue',\n",
       " 'intha week kulla 800k likes varanum',\n",
       " 'trailer chumma therikithu  anna always masssssssssss thaaaaaaaaaaaaaaaaaaaaaaaa',\n",
       " 'சுற்றித்திரியும் மேகக் கூட்டத்தை  பற்றிஇழுத்து மழையாக மாற்றிடும் குளிா்தமிழ் கேட்டிட ஆற்றிடும் சொற்களில்  தூயதமிழ் ஒலித்திட கற்றிடும் கல்வியில் வெற்றி கிட்டிட மக்கள் தொலைக்காட்சி யை யூ டியூப் ல் காணுங்கள் நன்றி',\n",
       " 'my dear ajith anna super thalamovie sekirama release pannuga',\n",
       " 'சமூகத்தில் நடக்கும் நாடக காதலை வெளி  கொண்டுவரும் இந்த திரௌபதி படம்',\n",
       " 'ohhh 4 days ah no 1 trending vera level  guys make it fastly 500 k  likes',\n",
       " 'இது பெண்களுக்கு மட்டுமல்ல தவறான வழியில் செல்லும் ஆண்களுக்கான படமும் கூட அண்மை என்பது பெண்ணை அடக்குவதில் அல்ல பாதுகாப்பதில் உள்ளது  kudos to the entire team',\n",
       " 'sivakarthikeyan en inum velaikkaran movie la pesna mariye pesringa',\n",
       " 'nadaga kaathal na ellarum ethukuringa app  unmayana kaathal na sethivaipingala  apovum ungaluku jaathithana prachanaya irukum ',\n",
       " 'vara laval songvara laval trailer waiting movie',\n",
       " 'jayam ravi idhu 96 yara yemathranga',\n",
       " 'yenndhada idhu idha paathada mela indha video patha enjoy panlaam d',\n",
       " 'enakum antha prblm iruku liteta ',\n",
       " 'antha fight payangara kola mass ah irukku pls sekkirama movie ah release pannunga',\n",
       " 'neenga vig matringala illa vijay fan solli vig matranangrathu mukkiyam illa yepadio vig matina sari',\n",
       " 'நா ஒரு கவுண்டன் டா கோவை கொங்கு வெள்ளாளர் என் சொந்தம் சார்பாக படம் வெற்றி பெற வாழ்த்துகிறோம்',\n",
       " 'waiting for movie     super star rajini sir maas',\n",
       " 'சேலம் மாவட்ட பாட்டாளி மக்கள் கட்சி மற்றும் வன்னியர் சங்கம் சார்பாக இந்த திரைப்படம் வெள்ளிவிழா காண வெற்றி வாழ்த்துக்கள்',\n",
       " ...]"
      ]
     },
     "execution_count": 25,
     "metadata": {},
     "output_type": "execute_result"
    }
   ],
   "source": [
    "test_text"
   ]
  },
  {
   "cell_type": "code",
   "execution_count": 26,
   "metadata": {
    "colab": {
     "base_uri": "https://localhost:8080/"
    },
    "id": "bMQmi9NBd31c",
    "outputId": "5c5fcf6e-3259-42d1-d9cd-711b6659ba2e"
   },
   "outputs": [
    {
     "data": {
      "text/plain": [
       "['Positive', 'unknown_state', 'not-Tamil', 'Mixed_feelings', 'Negative']"
      ]
     },
     "execution_count": 26,
     "metadata": {},
     "output_type": "execute_result"
    }
   ],
   "source": [
    "class_names = list(set(train_label))\n",
    "class_names"
   ]
  },
  {
   "cell_type": "code",
   "execution_count": 27,
   "metadata": {
    "colab": {
     "base_uri": "https://localhost:8080/"
    },
    "id": "bHp9Bfdv7_uz",
    "outputId": "6b6e349f-a071-4cc7-8a1f-76f3851bf083"
   },
   "outputs": [
    {
     "data": {
      "text/plain": [
       "35656"
      ]
     },
     "execution_count": 27,
     "metadata": {},
     "output_type": "execute_result"
    }
   ],
   "source": [
    "len(train_label)"
   ]
  },
  {
   "cell_type": "code",
   "execution_count": 28,
   "metadata": {
    "colab": {
     "base_uri": "https://localhost:8080/"
    },
    "id": "RxUjnFZ1eCjm",
    "outputId": "9da76b16-1be7-4f81-bf2b-5763c3e8529c"
   },
   "outputs": [
    {
     "data": {
      "text/plain": [
       "Counter({'unknown_state': 5628,\n",
       "         'Positive': 20070,\n",
       "         'Negative': 4271,\n",
       "         'Mixed_feelings': 4020,\n",
       "         'not-Tamil': 1667})"
      ]
     },
     "execution_count": 28,
     "metadata": {},
     "output_type": "execute_result"
    }
   ],
   "source": [
    "class_dist = Counter(train_label)\n",
    "class_dist"
   ]
  },
  {
   "cell_type": "code",
   "execution_count": 29,
   "metadata": {
    "colab": {
     "base_uri": "https://localhost:8080/"
    },
    "id": "61GcYBOy9H-l",
    "outputId": "a7c93bb2-d3b4-4a47-a2b1-9de77ecf97a8"
   },
   "outputs": [
    {
     "data": {
      "text/plain": [
       "Counter({'unknown_state': 611,\n",
       "         'Positive': 2257,\n",
       "         'Mixed_feelings': 438,\n",
       "         'Negative': 480,\n",
       "         'not-Tamil': 176})"
      ]
     },
     "execution_count": 29,
     "metadata": {},
     "output_type": "execute_result"
    }
   ],
   "source": [
    "class_dist = Counter(valid_label)\n",
    "class_dist"
   ]
  },
  {
   "cell_type": "code",
   "execution_count": 30,
   "metadata": {
    "colab": {
     "base_uri": "https://localhost:8080/"
    },
    "id": "8R_8V6g4jvmK",
    "outputId": "9b5d04b6-b2ca-4c57-a885-79f9924c81c6"
   },
   "outputs": [
    {
     "data": {
      "text/plain": [
       "array([4, 2, 2, ..., 1, 2, 2], dtype=int64)"
      ]
     },
     "execution_count": 30,
     "metadata": {},
     "output_type": "execute_result"
    }
   ],
   "source": [
    "le = LabelEncoder()\n",
    "\n",
    "train_label = le.fit_transform(train_label)\n",
    "train_label"
   ]
  },
  {
   "cell_type": "code",
   "execution_count": 31,
   "metadata": {
    "colab": {
     "base_uri": "https://localhost:8080/"
    },
    "id": "uOmQ_UBvqgdn",
    "outputId": "ea1f8476-a361-4ba6-b525-8ed16096d3c4"
   },
   "outputs": [
    {
     "data": {
      "text/plain": [
       "array([4, 2, 2, ..., 0, 2, 2], dtype=int64)"
      ]
     },
     "execution_count": 31,
     "metadata": {},
     "output_type": "execute_result"
    }
   ],
   "source": [
    "valid_label = le.fit_transform(valid_label)\n",
    "valid_label"
   ]
  },
  {
   "cell_type": "code",
   "execution_count": 32,
   "metadata": {
    "colab": {
     "base_uri": "https://localhost:8080/"
    },
    "id": "Go0uHvEZel75",
    "outputId": "4fc86322-3245-45d3-cf2e-e62fe0f1f095"
   },
   "outputs": [
    {
     "data": {
      "text/plain": [
       "array(['Mixed_feelings', 'Negative', 'Positive', 'not-Tamil',\n",
       "       'unknown_state'], dtype='<U14')"
      ]
     },
     "execution_count": 32,
     "metadata": {},
     "output_type": "execute_result"
    }
   ],
   "source": [
    "le.inverse_transform([0,1,2,3,4])"
   ]
  },
  {
   "cell_type": "code",
   "execution_count": 33,
   "metadata": {
    "colab": {
     "base_uri": "https://localhost:8080/"
    },
    "id": "MFegTSuMeqSb",
    "outputId": "d1fb2a30-61a0-4a87-f779-4f10c30bd3c8"
   },
   "outputs": [
    {
     "data": {
      "text/plain": [
       "{0: 9.045662100456621,\n",
       " 1: 8.254166666666666,\n",
       " 2: 1.7554275587062473,\n",
       " 3: 22.511363636363637,\n",
       " 4: 6.484451718494272}"
      ]
     },
     "execution_count": 33,
     "metadata": {},
     "output_type": "execute_result"
    }
   ],
   "source": [
    "class_weight = {0:sum(class_dist.values())/class_dist[le.inverse_transform([0])[0]],\n",
    "                1:sum(class_dist.values())/class_dist[le.inverse_transform([1])[0]],\n",
    "                2:sum(class_dist.values())/class_dist[le.inverse_transform([2])[0]],\n",
    "                3:sum(class_dist.values())/class_dist[le.inverse_transform([3])[0]],\n",
    "                4:sum(class_dist.values())/class_dist[le.inverse_transform([4])[0]]}\n",
    "\n",
    "class_weight"
   ]
  },
  {
   "cell_type": "code",
   "execution_count": 34,
   "metadata": {
    "id": "W3uxiyM4j-68"
   },
   "outputs": [],
   "source": [
    "training_labels = tf.keras.utils.to_categorical(train_label)\n",
    "validation_labels = tf.keras.utils.to_categorical(valid_label)"
   ]
  },
  {
   "cell_type": "code",
   "execution_count": 35,
   "metadata": {
    "colab": {
     "base_uri": "https://localhost:8080/"
    },
    "id": "jkjV9lB9d51D",
    "outputId": "9a70d0a8-1c79-4c69-8a19-2044239faeae"
   },
   "outputs": [
    {
     "data": {
      "text/plain": [
       "[['vani',\n",
       "  'bhojam',\n",
       "  'fans',\n",
       "  'hit',\n",
       "  'like',\n",
       "  'solli',\n",
       "  '500',\n",
       "  'like',\n",
       "  'vangida',\n",
       "  'vendiyathu',\n",
       "  'than'],\n",
       " ['i', 'love', 'you', 'ajith', 'very', 'i', 'like'],\n",
       " ['ennaya',\n",
       "  'trailer',\n",
       "  'ku',\n",
       "  'mudi',\n",
       "  'ellam',\n",
       "  'nikkudhu',\n",
       "  'vera',\n",
       "  'level',\n",
       "  'trailer'],\n",
       " ['vijay', 'annaa', 'ur', 'maassssss', 'therrrrriiiiii'],\n",
       " ['நம்ப', 'நடே', 'நாசாமா', 'தான்', 'போச்சி']]"
      ]
     },
     "execution_count": 35,
     "metadata": {},
     "output_type": "execute_result"
    }
   ],
   "source": [
    "words_in_train = [sent.split() for sent in train_text] # Splitting the tweet into tokens\n",
    "words_in_train[0:5]"
   ]
  },
  {
   "cell_type": "code",
   "execution_count": 36,
   "metadata": {
    "colab": {
     "base_uri": "https://localhost:8080/"
    },
    "id": "tD9tzRqeeHCK",
    "outputId": "ca4e58c1-7144-406f-9555-e6f180d9390a"
   },
   "outputs": [
    {
     "data": {
      "text/plain": [
       "[['40', 'songsuperbkamallllla', 'im', 'waiting', 'for', 'dis', 'song', 'you'],\n",
       " ['கணத்ததோர்',\n",
       "  'அகமுடையார்',\n",
       "  'சார்பாக',\n",
       "  'படம்',\n",
       "  'வெற்றி',\n",
       "  'அடைய',\n",
       "  'வாழ்த்துகள்'],\n",
       " ['thalavia',\n",
       "  'neenga',\n",
       "  'veera',\n",
       "  'level',\n",
       "  'boss',\n",
       "  'and',\n",
       "  'neega',\n",
       "  'thaan',\n",
       "  'marana',\n",
       "  'mass'],\n",
       " ['oru', 'padam', 'patha', 'fellvera', 'level', 'music'],\n",
       " ['hairstyle',\n",
       "  'than',\n",
       "  'mattama',\n",
       "  'iruku',\n",
       "  'adhu',\n",
       "  'mattum',\n",
       "  'mathirukalaam',\n",
       "  'teaser',\n",
       "  'paakurapo',\n",
       "  'vettaikaran',\n",
       "  'padam',\n",
       "  'maari',\n",
       "  'theridhu']]"
      ]
     },
     "execution_count": 36,
     "metadata": {},
     "output_type": "execute_result"
    }
   ],
   "source": [
    "words_in_valid = [sent.split() for sent in valid_text] # Splitting the tweet into tokens\n",
    "words_in_valid[0:5]"
   ]
  },
  {
   "cell_type": "code",
   "execution_count": 37,
   "metadata": {
    "colab": {
     "base_uri": "https://localhost:8080/"
    },
    "id": "9CdT5ChSSvXD",
    "outputId": "95fd24d2-01ed-4a15-a4d1-73812c8e7387"
   },
   "outputs": [
    {
     "data": {
      "text/plain": [
       "[['வீர',\n",
       "  'செங்குந்தர்',\n",
       "  'சார்பாக',\n",
       "  'இந்த',\n",
       "  'திரைப்படம்',\n",
       "  'வெற்றி',\n",
       "  'பெற',\n",
       "  'வாழ்த்துக்கள்',\n",
       "  'இயக்குனர்',\n",
       "  'மோகன்g',\n",
       "  'அவர்களுக்கு',\n",
       "  'எங்கள்',\n",
       "  'சமுதாயத்தின்',\n",
       "  'சார்பாக',\n",
       "  'வாழ்த்துக்கள்'],\n",
       " ['teruk', 'ah', 'irukku', 'mokke', 'movie', 'waste', 'of', 'time'],\n",
       " ['manitha',\n",
       "  'samuthaayam',\n",
       "  'amaipil',\n",
       "  'irunthu',\n",
       "  'intha',\n",
       "  'padam',\n",
       "  'vetri',\n",
       "  'adaiya',\n",
       "  'vaalthukal'],\n",
       " ['jj', 'mam', 'we', 'miss', 'u'],\n",
       " ['subtitle', 'me', 'traller', 'dekhne', 'wale', 'like', 'karo']]"
      ]
     },
     "execution_count": 37,
     "metadata": {},
     "output_type": "execute_result"
    }
   ],
   "source": [
    "words_in_test = [sent.split() for sent in test_text] # Splitting the tweet into tokens\n",
    "words_in_test[0:5]"
   ]
  },
  {
   "cell_type": "code",
   "execution_count": 38,
   "metadata": {
    "id": "Ol-a8g8OeLCl"
   },
   "outputs": [],
   "source": [
    "#words_in_test = [sent.split() for sent in test_text] # Splitting the tweet into tokens\n",
    "#words_in_test[0:5]"
   ]
  },
  {
   "cell_type": "code",
   "execution_count": 39,
   "metadata": {
    "colab": {
     "base_uri": "https://localhost:8080/"
    },
    "id": "nGt1UytVeN8w",
    "outputId": "7ba3a600-e8b7-4075-e90d-967e9814c16a"
   },
   "outputs": [
    {
     "data": {
      "text/plain": [
       "['vani',\n",
       " 'bhojam',\n",
       " 'fans',\n",
       " 'hit',\n",
       " 'like',\n",
       " 'solli',\n",
       " '500',\n",
       " 'like',\n",
       " 'vangida',\n",
       " 'vendiyathu']"
      ]
     },
     "execution_count": 39,
     "metadata": {},
     "output_type": "execute_result"
    }
   ],
   "source": [
    "all_words_train = list(itertools.chain(*words_in_train)) # Making a flatlist of all the words in the corpus\n",
    "all_words_train[0:10]"
   ]
  },
  {
   "cell_type": "code",
   "execution_count": 40,
   "metadata": {
    "colab": {
     "base_uri": "https://localhost:8080/"
    },
    "id": "LsXmgJMdeTsx",
    "outputId": "9fa14367-087f-4404-ca9a-e7c6893b83c7"
   },
   "outputs": [
    {
     "data": {
      "text/plain": [
       "['40',\n",
       " 'songsuperbkamallllla',\n",
       " 'im',\n",
       " 'waiting',\n",
       " 'for',\n",
       " 'dis',\n",
       " 'song',\n",
       " 'you',\n",
       " 'கணத்ததோர்',\n",
       " 'அகமுடையார்']"
      ]
     },
     "execution_count": 40,
     "metadata": {},
     "output_type": "execute_result"
    }
   ],
   "source": [
    "all_words_valid = list(itertools.chain(*words_in_valid)) # Making a flatlist of all the words in the corpus\n",
    "all_words_valid[0:10]"
   ]
  },
  {
   "cell_type": "code",
   "execution_count": 41,
   "metadata": {
    "colab": {
     "base_uri": "https://localhost:8080/"
    },
    "id": "jA7L0evJeZ23",
    "outputId": "d0e2e945-9343-4929-bc73-914e25ab38cf"
   },
   "outputs": [
    {
     "data": {
      "text/plain": [
       "['வீர',\n",
       " 'செங்குந்தர்',\n",
       " 'சார்பாக',\n",
       " 'இந்த',\n",
       " 'திரைப்படம்',\n",
       " 'வெற்றி',\n",
       " 'பெற',\n",
       " 'வாழ்த்துக்கள்',\n",
       " 'இயக்குனர்',\n",
       " 'மோகன்g']"
      ]
     },
     "execution_count": 41,
     "metadata": {},
     "output_type": "execute_result"
    }
   ],
   "source": [
    "all_words_test = list(itertools.chain(*words_in_test)) # Making a flatlist of all the words in the corpus\n",
    "all_words_test[0:10]"
   ]
  },
  {
   "cell_type": "code",
   "execution_count": 42,
   "metadata": {
    "colab": {
     "base_uri": "https://localhost:8080/"
    },
    "id": "P95OuslMecpt",
    "outputId": "df592590-da1d-4dfe-adac-75b6991fb776"
   },
   "outputs": [
    {
     "data": {
      "text/plain": [
       "[('like', 3872),\n",
       " ('thala', 3309),\n",
       " ('trailer', 2709),\n",
       " ('mass', 2600),\n",
       " ('vera', 2525),\n",
       " ('la', 2195),\n",
       " ('படம்', 2160),\n",
       " ('movie', 2154),\n",
       " ('padam', 2144),\n",
       " ('level', 2104),\n",
       " ('da', 2056),\n",
       " ('fans', 1937),\n",
       " ('வாழ்த்துக்கள்', 1776),\n",
       " ('ah', 1727),\n",
       " ('super', 1656)]"
      ]
     },
     "execution_count": 42,
     "metadata": {},
     "output_type": "execute_result"
    }
   ],
   "source": [
    "word_counts_train = collections.Counter(all_words_train)  # Computing the number of occurrence of all the words in the corpus\n",
    "word_counts_train.most_common(15)"
   ]
  },
  {
   "cell_type": "code",
   "execution_count": 43,
   "metadata": {
    "colab": {
     "base_uri": "https://localhost:8080/"
    },
    "id": "kA0rdXg-eiXH",
    "outputId": "a29d48c4-e7e5-460f-f120-4423e652fbf6"
   },
   "outputs": [
    {
     "data": {
      "text/plain": [
       "[('like', 432),\n",
       " ('thala', 373),\n",
       " ('trailer', 318),\n",
       " ('vera', 280),\n",
       " ('mass', 276),\n",
       " ('படம்', 267),\n",
       " ('level', 248),\n",
       " ('da', 244),\n",
       " ('movie', 243),\n",
       " ('padam', 220),\n",
       " ('la', 219),\n",
       " ('வாழ்த்துக்கள்', 214),\n",
       " ('surya', 205),\n",
       " ('fans', 196),\n",
       " ('anna', 172)]"
      ]
     },
     "execution_count": 43,
     "metadata": {},
     "output_type": "execute_result"
    }
   ],
   "source": [
    "word_counts_valid = collections.Counter(all_words_valid)  # Computing the number of occurrence of all the words in the corpus\n",
    "word_counts_valid.most_common(15)"
   ]
  },
  {
   "cell_type": "code",
   "execution_count": 44,
   "metadata": {
    "colab": {
     "base_uri": "https://localhost:8080/"
    },
    "id": "08AoagvYelwh",
    "outputId": "1aef45de-0c80-44a5-cdbc-79bcbb8154a7"
   },
   "outputs": [
    {
     "data": {
      "text/plain": [
       "[('like', 443),\n",
       " ('thala', 380),\n",
       " ('mass', 334),\n",
       " ('trailer', 329),\n",
       " ('படம்', 303),\n",
       " ('vera', 285),\n",
       " ('padam', 271),\n",
       " ('movie', 258),\n",
       " ('la', 246),\n",
       " ('level', 232),\n",
       " ('fans', 224),\n",
       " ('da', 223),\n",
       " ('semma', 220),\n",
       " ('sir', 220),\n",
       " ('வாழ்த்துக்கள்', 211)]"
      ]
     },
     "execution_count": 44,
     "metadata": {},
     "output_type": "execute_result"
    }
   ],
   "source": [
    "word_counts_test = collections.Counter(all_words_test)  # Computing the number of occurrence of all the words in the corpus\n",
    "word_counts_test.most_common(15)"
   ]
  },
  {
   "cell_type": "code",
   "execution_count": 45,
   "metadata": {
    "colab": {
     "base_uri": "https://localhost:8080/"
    },
    "id": "cABBZtMSeujn",
    "outputId": "8baf7a78-decc-4582-9758-2dabbf7c50ea"
   },
   "outputs": [
    {
     "name": "stdout",
     "output_type": "stream",
     "text": [
      "     words  count\n",
      "0     like   3872\n",
      "1    thala   3309\n",
      "2  trailer   2709\n",
      "3     mass   2600\n",
      "4     vera   2525\n"
     ]
    }
   ],
   "source": [
    "# Creating a dataframe with words and corresponding frequency\n",
    "words_with_counts_train = pd.DataFrame(word_counts_train.most_common(len(all_words_train)), columns=['words', 'count']) \n",
    "print(words_with_counts_train.head())"
   ]
  },
  {
   "cell_type": "code",
   "execution_count": 46,
   "metadata": {
    "colab": {
     "base_uri": "https://localhost:8080/"
    },
    "id": "N4ECtFEefMMT",
    "outputId": "b4eb9d6a-4f3d-41a6-e2f4-fc705c2ff899"
   },
   "outputs": [
    {
     "name": "stdout",
     "output_type": "stream",
     "text": [
      "     words  count\n",
      "0     like    432\n",
      "1    thala    373\n",
      "2  trailer    318\n",
      "3     vera    280\n",
      "4     mass    276\n"
     ]
    }
   ],
   "source": [
    "# Creating a dataframe with words and corresponding frequency\n",
    "words_with_counts_valid = pd.DataFrame(word_counts_valid.most_common(len(all_words_valid)), columns=['words', 'count']) \n",
    "print(words_with_counts_valid.head())"
   ]
  },
  {
   "cell_type": "code",
   "execution_count": 47,
   "metadata": {
    "colab": {
     "base_uri": "https://localhost:8080/"
    },
    "id": "UG3jn4Wd3NiQ",
    "outputId": "6320b6b6-4b4b-4c53-88ed-f8653cc71100"
   },
   "outputs": [
    {
     "name": "stdout",
     "output_type": "stream",
     "text": [
      "     words  count\n",
      "0     like    443\n",
      "1    thala    380\n",
      "2     mass    334\n",
      "3  trailer    329\n",
      "4     படம்    303\n"
     ]
    }
   ],
   "source": [
    "# Creating a dataframe with words and corresponding frequency\n",
    "words_with_counts_test = pd.DataFrame(word_counts_test.most_common(len(all_words_test)), columns=['words', 'count']) \n",
    "print(words_with_counts_test.head())"
   ]
  },
  {
   "cell_type": "code",
   "execution_count": 48,
   "metadata": {
    "id": "oEz6Ik75fl4S"
   },
   "outputs": [],
   "source": [
    "all_words = all_words_train + all_words_valid + all_words_test\n",
    "corpus = train_text + valid_text + test_text\n",
    "vocab_size = len(set(all_words)) # number of words to keep.\n",
    "embedding_dim = 100 # Dimension of the vector representation for each word \n",
    "max_length = 0\n",
    "for i in range(len(corpus)):\n",
    "  x = word_tokenize(corpus[i])\n",
    "  if len(x) > max_length:\n",
    "    max_length = len(x)\n",
    "\n",
    "oov_tok = \"<OOV>\"  # Token to represent Out-of-Vocabulary words"
   ]
  },
  {
   "cell_type": "code",
   "execution_count": 49,
   "metadata": {
    "id": "jW6TrRPcg24l"
   },
   "outputs": [],
   "source": [
    "tokenizer = tf.keras.preprocessing.text.Tokenizer(num_words = vocab_size, oov_token=oov_tok)\n",
    "tokenizer.fit_on_texts(train_text)\n",
    "word_index = tokenizer.word_index"
   ]
  },
  {
   "cell_type": "code",
   "execution_count": 50,
   "metadata": {
    "id": "O0MNdZiBhFZh"
   },
   "outputs": [],
   "source": [
    "# Pad the sequences so that they are all the same length\n",
    "training_sequences = tokenizer.texts_to_sequences(train_text)\n",
    "training_padded = tf.keras.preprocessing.sequence.pad_sequences(training_sequences,maxlen=max_length, padding='post')\n",
    "\n",
    "valid_sequences = tokenizer.texts_to_sequences(valid_text)\n",
    "valid_padded = tf.keras.preprocessing.sequence.pad_sequences(valid_sequences,maxlen=max_length, padding='post')\n",
    "\n",
    "\n",
    "test_sequences = tokenizer.texts_to_sequences(test_text)\n",
    "test_padded = tf.keras.preprocessing.sequence.pad_sequences(test_sequences,maxlen=max_length, padding='post')"
   ]
  },
  {
   "cell_type": "code",
   "execution_count": 51,
   "metadata": {
    "id": "WCOmevLrmUHO"
   },
   "outputs": [],
   "source": [
    "METRICS = [\n",
    "      #tf.keras.metrics.TruePositives(name='tp'),\n",
    "      #tf.keras.metrics.FalsePositives(name='fp'),\n",
    "      #tf.keras.metrics.TrueNegatives(name='tn'),\n",
    "      #tf.keras.metrics.FalseNegatives(name='fn'), \n",
    "      tf.keras.metrics.BinaryAccuracy(name='accuracy'),\n",
    "      tf.keras.metrics.Precision(name='precision'),\n",
    "      tf.keras.metrics.Recall(name='recall'),\n",
    "      tf.keras.metrics.AUC(name='auc'),\n",
    "]"
   ]
  },
  {
   "cell_type": "code",
   "execution_count": 52,
   "metadata": {
    "colab": {
     "base_uri": "https://localhost:8080/"
    },
    "id": "kS9-3gVVEuGF",
    "outputId": "968add59-8ec3-45f7-df9d-05e7367fb679"
   },
   "outputs": [
    {
     "name": "stdout",
     "output_type": "stream",
     "text": [
      "(35656, 124)\n",
      "(3962, 124)\n",
      "(4402, 124)\n"
     ]
    }
   ],
   "source": [
    "print(np.shape(training_padded))\n",
    "print(np.shape(valid_padded))\n",
    "print(np.shape(test_padded))"
   ]
  },
  {
   "cell_type": "code",
   "execution_count": 53,
   "metadata": {
    "colab": {
     "base_uri": "https://localhost:8080/"
    },
    "id": "D7ggw2JBhhzk",
    "outputId": "ae4fbdd6-2c37-4df1-b32f-14b6d9f91590"
   },
   "outputs": [
    {
     "name": "stdout",
     "output_type": "stream",
     "text": [
      "Model: \"sequential\"\n",
      "_________________________________________________________________\n",
      "Layer (type)                 Output Shape              Param #   \n",
      "=================================================================\n",
      "embedding (Embedding)        (None, 124, 100)          8270700   \n",
      "_________________________________________________________________\n",
      "flatten (Flatten)            (None, 12400)             0         \n",
      "_________________________________________________________________\n",
      "dense (Dense)                (None, 128)               1587328   \n",
      "_________________________________________________________________\n",
      "dense_1 (Dense)              (None, 5)                 645       \n",
      "=================================================================\n",
      "Total params: 9,858,673\n",
      "Trainable params: 9,858,673\n",
      "Non-trainable params: 0\n",
      "_________________________________________________________________\n"
     ]
    }
   ],
   "source": [
    "\n",
    "model = tf.keras.Sequential([\n",
    "    tf.keras.layers.Embedding(vocab_size, embedding_dim, input_length=max_length),\n",
    "    tf.keras.layers.Flatten(),\n",
    "    tf.keras.layers.Dense(128, activation=tf.nn.relu),\n",
    "    tf.keras.layers.Dense(5, activation=tf.nn.softmax)\n",
    "])\n",
    "\n",
    "model.compile(\n",
    "    loss=tf.keras.losses.CategoricalCrossentropy(),\n",
    "    optimizer=tf.keras.optimizers.Adam(learning_rate=0.01),\n",
    "    metrics=METRICS\n",
    ")\n",
    "\n",
    "model.summary()"
   ]
  },
  {
   "cell_type": "code",
   "execution_count": 54,
   "metadata": {
    "colab": {
     "base_uri": "https://localhost:8080/"
    },
    "id": "zNRmogOdhnbz",
    "outputId": "0c9ba9ad-9986-43c1-997d-0bce6c3fcd2f",
    "scrolled": false
   },
   "outputs": [
    {
     "name": "stdout",
     "output_type": "stream",
     "text": [
      "Epoch 1/100\n",
      "558/558 [==============================] - 58s 101ms/step - loss: 7.7130 - accuracy: 0.8072 - precision: 0.5632 - recall: 0.1602 - auc: 0.7023 - val_loss: 1.2574 - val_accuracy: 0.8254 - val_precision: 0.6660 - val_recall: 0.2547 - val_auc: 0.7901\n",
      "Epoch 2/100\n",
      "558/558 [==============================] - 55s 99ms/step - loss: 3.1588 - accuracy: 0.9056 - precision: 0.8175 - recall: 0.6802 - auc: 0.9396 - val_loss: 1.3146 - val_accuracy: 0.8362 - val_precision: 0.6197 - val_recall: 0.4685 - val_auc: 0.8207\n",
      "Epoch 3/100\n",
      "558/558 [==============================] - 57s 103ms/step - loss: 1.0583 - accuracy: 0.9689 - precision: 0.9385 - recall: 0.9037 - auc: 0.9909 - val_loss: 1.7544 - val_accuracy: 0.8151 - val_precision: 0.5455 - val_recall: 0.4528 - val_auc: 0.7854\n",
      "Epoch 4/100\n",
      "558/558 [==============================] - 53s 94ms/step - loss: 0.8538 - accuracy: 0.9792 - precision: 0.9584 - recall: 0.9367 - auc: 0.9932 - val_loss: 2.2433 - val_accuracy: 0.7833 - val_precision: 0.4485 - val_recall: 0.3627 - val_auc: 0.7215\n",
      "Epoch 5/100\n",
      "558/558 [==============================] - 55s 99ms/step - loss: 0.7147 - accuracy: 0.9804 - precision: 0.9597 - recall: 0.9417 - auc: 0.9944 - val_loss: 2.1884 - val_accuracy: 0.8264 - val_precision: 0.5707 - val_recall: 0.5318 - val_auc: 0.7996\n",
      "Epoch 6/100\n",
      "558/558 [==============================] - 52s 94ms/step - loss: 0.8371 - accuracy: 0.9846 - precision: 0.9693 - recall: 0.9529 - auc: 0.9958 - val_loss: 2.6125 - val_accuracy: 0.8029 - val_precision: 0.5079 - val_recall: 0.4705 - val_auc: 0.7647\n",
      "Epoch 7/100\n",
      "558/558 [==============================] - 52s 93ms/step - loss: 0.5320 - accuracy: 0.9872 - precision: 0.9744 - recall: 0.9610 - auc: 0.9971 - val_loss: 2.3418 - val_accuracy: 0.8125 - val_precision: 0.5328 - val_recall: 0.5068 - val_auc: 0.7873\n",
      "Epoch 8/100\n",
      "558/558 [==============================] - 53s 95ms/step - loss: 0.6132 - accuracy: 0.9861 - precision: 0.9679 - recall: 0.9624 - auc: 0.9960 - val_loss: 2.4920 - val_accuracy: 0.8005 - val_precision: 0.5012 - val_recall: 0.4765 - val_auc: 0.7685\n",
      "Epoch 9/100\n",
      "558/558 [==============================] - 54s 97ms/step - loss: 0.4185 - accuracy: 0.9906 - precision: 0.9780 - recall: 0.9748 - auc: 0.9975 - val_loss: 2.7752 - val_accuracy: 0.8142 - val_precision: 0.5369 - val_recall: 0.5156 - val_auc: 0.7829\n",
      "Epoch 10/100\n",
      "558/558 [==============================] - 54s 96ms/step - loss: 0.3184 - accuracy: 0.9912 - precision: 0.9794 - recall: 0.9766 - auc: 0.9979 - val_loss: 3.0119 - val_accuracy: 0.8079 - val_precision: 0.5205 - val_recall: 0.5020 - val_auc: 0.7742\n",
      "Epoch 11/100\n",
      "558/558 [==============================] - 52s 93ms/step - loss: 0.3540 - accuracy: 0.9906 - precision: 0.9779 - recall: 0.9749 - auc: 0.9977 - val_loss: 3.1891 - val_accuracy: 0.8050 - val_precision: 0.5135 - val_recall: 0.4743 - val_auc: 0.7659\n",
      "Epoch 12/100\n",
      "558/558 [==============================] - 51s 92ms/step - loss: 0.3965 - accuracy: 0.9905 - precision: 0.9787 - recall: 0.9737 - auc: 0.9972 - val_loss: 3.4184 - val_accuracy: 0.8166 - val_precision: 0.5450 - val_recall: 0.5025 - val_auc: 0.7682\n"
     ]
    }
   ],
   "source": [
    "callback = tf.keras.callbacks.EarlyStopping(monitor= 'val_auc' , patience=10, mode='max', restore_best_weights=True)\n",
    "#callback = tf.keras.callbacks.EarlyStopping(monitor='loss', patience=10)\n",
    "num_epochs = 100\n",
    "history = model.fit(\n",
    "    training_padded, \n",
    "    training_labels,\n",
    "    epochs= num_epochs,\n",
    "    batch_size = 64,\n",
    "    callbacks=[callback],\n",
    "    validation_data=(valid_padded, validation_labels),\n",
    "    class_weight=class_weight)"
   ]
  },
  {
   "cell_type": "code",
   "execution_count": 55,
   "metadata": {
    "colab": {
     "base_uri": "https://localhost:8080/",
     "height": 661
    },
    "id": "fhzty8Tufzie",
    "outputId": "f7d12ad1-c285-452a-ea63-aaebe01a3cee"
   },
   "outputs": [
    {
     "data": {
      "image/png": "[encoded data removed]",
      "text/plain": [
       "<IPython.core.display.Image object>"
      ]
     },
     "execution_count": 55,
     "metadata": {},
     "output_type": "execute_result"
    }
   ],
   "source": [
    "tf.keras.utils.plot_model(\n",
    "    model,\n",
    "    to_file=\"model.png\",\n",
    "    show_shapes=False,\n",
    "    show_dtype=False,\n",
    "    show_layer_names=True,\n",
    "    rankdir=\"TB\",\n",
    "    expand_nested=False,\n",
    "    dpi=96,\n",
    ")"
   ]
  },
  {
   "cell_type": "code",
   "execution_count": 56,
   "metadata": {
    "colab": {
     "base_uri": "https://localhost:8080/",
     "height": 541
    },
    "id": "Rw8WDqSZhpCl",
    "outputId": "243572f4-125b-4edb-eafe-3e25d61a20e1"
   },
   "outputs": [
    {
     "data": {
      "image/png": "[encoded data removed]",
      "text/plain": [
       "<Figure size 432x288 with 1 Axes>"
      ]
     },
     "metadata": {
      "needs_background": "light"
     },
     "output_type": "display_data"
    },
    {
     "data": {
      "image/png": "[encoded data removed]",
      "text/plain": [
       "<Figure size 432x288 with 1 Axes>"
      ]
     },
     "metadata": {
      "needs_background": "light"
     },
     "output_type": "display_data"
    }
   ],
   "source": [
    "def plot_graphs(history, string):\n",
    "  plt.plot(history.history[string])\n",
    "  plt.plot(history.history['val_'+string])\n",
    "  plt.xlabel(\"Epochs\")\n",
    "  plt.ylabel(string)\n",
    "  plt.legend([string, 'val_'+string])\n",
    "  plt.show()\n",
    "  \n",
    "plot_graphs(history, \"auc\")\n",
    "plot_graphs(history, \"loss\")"
   ]
  },
  {
   "cell_type": "code",
   "execution_count": 57,
   "metadata": {
    "colab": {
     "base_uri": "https://localhost:8080/"
    },
    "id": "DfJokgM_ll7w",
    "outputId": "10e732bb-96c8-45b0-c92c-4fa00511597d"
   },
   "outputs": [
    {
     "name": "stdout",
     "output_type": "stream",
     "text": [
      "124/124 [==============================] - 0s 3ms/step - loss: 1.3146 - accuracy: 0.8362 - precision: 0.6197 - recall: 0.4685 - auc: 0.8207\n",
      "Loss = 1.3145983219146729\n",
      "Accuracy = 83.62%\n",
      "[1.3145983219146729, 0.8361936211585999, 0.6196994781494141, 0.46845027804374695, 0.8206762671470642]\n"
     ]
    }
   ],
   "source": [
    "score = model.evaluate(valid_padded, validation_labels)\n",
    "print(\"Loss = {}\".format(score[0]))\n",
    "print(\"Accuracy = {0:.2f}%\".format(score[1]*100))\n",
    "print(score)"
   ]
  },
  {
   "cell_type": "code",
   "execution_count": 58,
   "metadata": {
    "colab": {
     "base_uri": "https://localhost:8080/"
    },
    "id": "5ToVHSgyni2H",
    "outputId": "6e1c9d3b-2b29-4bb9-d1df-f6422f0ac08a"
   },
   "outputs": [
    {
     "name": "stderr",
     "output_type": "stream",
     "text": [
      "C:\\Users\\phvpa\\anaconda3\\envs\\NLP\\lib\\site-packages\\tensorflow\\python\\keras\\engine\\sequential.py:450: UserWarning: `model.predict_classes()` is deprecated and will be removed after 2021-01-01. Please use instead:* `np.argmax(model.predict(x), axis=-1)`,   if your model does multi-class classification   (e.g. if it uses a `softmax` last-layer activation).* `(model.predict(x) > 0.5).astype(\"int32\")`,   if your model does binary classification   (e.g. if it uses a `sigmoid` last-layer activation).\n",
      "  warnings.warn('`model.predict_classes()` is deprecated and '\n"
     ]
    },
    {
     "name": "stdout",
     "output_type": "stream",
     "text": [
      "Accuracy = 55.22\n",
      "Precision = 0.4300\n",
      "Recall = 0.4631\n",
      "F1-score = 0.4408\n"
     ]
    }
   ],
   "source": [
    "y_pred = model.predict_classes(valid_padded)\n",
    "\n",
    "accuracy = accuracy_score(valid_label, y_pred)\n",
    "precision = precision_score(valid_label, y_pred, average='macro')\n",
    "recall = recall_score(valid_label, y_pred, average='macro')\n",
    "f1 = f1_score(valid_label, y_pred, average='macro')\n",
    "\n",
    "print(\"Accuracy = {0:.2f}\".format(accuracy*100))\n",
    "print(\"Precision = {0:.4f}\".format(precision))\n",
    "print(\"Recall = {0:.4f}\".format(recall))\n",
    "print(\"F1-score = {0:.4f}\".format(f1))"
   ]
  },
  {
   "cell_type": "code",
   "execution_count": 59,
   "metadata": {
    "colab": {
     "base_uri": "https://localhost:8080/"
    },
    "id": "4kzRK7MCzCtM",
    "outputId": "5677427d-12c7-468a-c8d1-55d80ff856bc"
   },
   "outputs": [
    {
     "data": {
      "text/plain": [
       "array([[ 111,   95,  153,   13,   66],\n",
       "       [  94,  211,  121,   16,   38],\n",
       "       [ 246,  204, 1562,   78,  167],\n",
       "       [   7,    5,   47,  107,   10],\n",
       "       [  92,   86,  205,   31,  197]], dtype=int64)"
      ]
     },
     "execution_count": 59,
     "metadata": {},
     "output_type": "execute_result"
    }
   ],
   "source": [
    "confusion_matrix(valid_label,y_pred)"
   ]
  },
  {
   "cell_type": "code",
   "execution_count": 60,
   "metadata": {
    "colab": {
     "base_uri": "https://localhost:8080/"
    },
    "id": "_N3CegKPzCtN",
    "outputId": "52caa3d8-6b88-4e0f-95d1-ced48bd1e66c"
   },
   "outputs": [
    {
     "name": "stdout",
     "output_type": "stream",
     "text": [
      "              precision    recall  f1-score   support\n",
      "\n",
      "           0       0.20      0.25      0.22       438\n",
      "           1       0.35      0.44      0.39       480\n",
      "           2       0.75      0.69      0.72      2257\n",
      "           3       0.44      0.61      0.51       176\n",
      "           4       0.41      0.32      0.36       611\n",
      "\n",
      "    accuracy                           0.55      3962\n",
      "   macro avg       0.43      0.46      0.44      3962\n",
      "weighted avg       0.57      0.55      0.56      3962\n",
      "\n"
     ]
    }
   ],
   "source": [
    "print(classification_report(valid_label,y_pred))"
   ]
  },
  {
   "cell_type": "code",
   "execution_count": null,
   "metadata": {
    "id": "wfhnUijF3NiT"
   },
   "outputs": [],
   "source": []
  },
  {
   "cell_type": "code",
   "execution_count": null,
   "metadata": {
    "id": "c-axMoRan6uV"
   },
   "outputs": [],
   "source": []
  },
  {
   "cell_type": "code",
   "execution_count": 61,
   "metadata": {
    "id": "Mur1SQptoWRD"
   },
   "outputs": [],
   "source": [
    "# Define a function to prepare the new reviews for use with a model\n",
    "# and then use the model to predict the sentiment of the new reviews           \n",
    "\n",
    "def predict_review(model, reviews):\n",
    "  # Create the sequences\n",
    "  padding_type='post'\n",
    "  sample_sequences = tokenizer.texts_to_sequences(reviews)\n",
    "  reviews_padded = tf.keras.preprocessing.sequence.pad_sequences(sample_sequences, padding=padding_type, \n",
    "                                 maxlen=max_length) \n",
    "  classes = model.predict_classes(reviews_padded)\n",
    "  classes_prob = model.predict(reviews_padded)\n",
    "  for x in range(len(reviews_padded)):\n",
    "    print(reviews[x])\n",
    "    print(le.inverse_transform([classes[x]]))\n",
    "    print(classes_prob[x])\n",
    "    print('\\n')\n"
   ]
  },
  {
   "cell_type": "code",
   "execution_count": 62,
   "metadata": {
    "colab": {
     "base_uri": "https://localhost:8080/"
    },
    "id": "EtYEUicf3NiT",
    "outputId": "bd81ca6e-277d-4f20-fc95-f9a8670690e9"
   },
   "outputs": [
    {
     "data": {
      "text/plain": [
       "['வீர செங்குந்தர் சார்பாக இந்த திரைப்படம் வெற்றி பெற வாழ்த்துக்கள் இயக்குனர் மோகன்g அவர்களுக்கு எங்கள் சமுதாயத்தின் சார்பாக வாழ்த்துக்கள்',\n",
       " 'teruk ah irukku  mokke movie  waste of time',\n",
       " 'manitha samuthaayam amaipil irunthu intha padam vetri adaiya vaalthukal',\n",
       " 'jj mam we miss u',\n",
       " 'subtitle me traller dekhne wale like karo',\n",
       " 'என்னடா இது சிஸ்டத்தை வச்சு செய்ஞ்சுட்டானுங்க ',\n",
       " 'ஒரு ஆளு உன்ன எதிர்த்தா நீ வளர அதுவே  பல கூட்டமே உன்னை எதுத்து கதருதுனா  நீ வளந்துட்டனு அர்த்தம்   இப்படம் நாடக காதலுக்கும் உன்மை காதலை ஆனவ கொலை செய்வோர்க்கு சாட்டை அடியாக இருக்கும் என எதிர் பார்க்கப்படுகிறது வெற்றி பெற வாழ்த்துக்கள்',\n",
       " 'ayutha ezhuthu 2 semmai m waiting',\n",
       " '150 to 155  vera level mass',\n",
       " '16 varushama rajini arasiyalukku varuvennu sollittu irukkaaru aaana innum varala ha ha ha']"
      ]
     },
     "execution_count": 62,
     "metadata": {},
     "output_type": "execute_result"
    }
   ],
   "source": [
    "sample_test = test_text[0:10]\n",
    "sample_test"
   ]
  },
  {
   "cell_type": "code",
   "execution_count": 63,
   "metadata": {
    "colab": {
     "base_uri": "https://localhost:8080/"
    },
    "id": "L7E57r6c3NiT",
    "outputId": "a19f7ffa-2cc2-41bb-ca9a-7ae69c8262ac"
   },
   "outputs": [
    {
     "name": "stdout",
     "output_type": "stream",
     "text": [
      "வீர செங்குந்தர் சார்பாக இந்த திரைப்படம் வெற்றி பெற வாழ்த்துக்கள் இயக்குனர் மோகன்g அவர்களுக்கு எங்கள் சமுதாயத்தின் சார்பாக வாழ்த்துக்கள்\n",
      "['Positive']\n",
      "[3.4516264e-04 2.6902220e-05 9.9811292e-01 1.0756014e-06 1.5139184e-03]\n",
      "\n",
      "\n",
      "teruk ah irukku  mokke movie  waste of time\n",
      "['Positive']\n",
      "[0.1957966  0.21480854 0.5633016  0.00796176 0.01813155]\n",
      "\n",
      "\n",
      "manitha samuthaayam amaipil irunthu intha padam vetri adaiya vaalthukal\n",
      "['Positive']\n",
      "[0.03898577 0.01640935 0.92491287 0.00436127 0.01533071]\n",
      "\n",
      "\n",
      "jj mam we miss u\n",
      "['Positive']\n",
      "[0.28324503 0.05169268 0.60939765 0.00148061 0.05418404]\n",
      "\n",
      "\n",
      "subtitle me traller dekhne wale like karo\n",
      "['not-Tamil']\n",
      "[0.00218405 0.00160006 0.00377969 0.98581845 0.00661788]\n",
      "\n",
      "\n",
      "என்னடா இது சிஸ்டத்தை வச்சு செய்ஞ்சுட்டானுங்க \n",
      "['Negative']\n",
      "[0.1258707  0.58409494 0.20428634 0.00871963 0.07702839]\n",
      "\n",
      "\n",
      "ஒரு ஆளு உன்ன எதிர்த்தா நீ வளர அதுவே  பல கூட்டமே உன்னை எதுத்து கதருதுனா  நீ வளந்துட்டனு அர்த்தம்   இப்படம் நாடக காதலுக்கும் உன்மை காதலை ஆனவ கொலை செய்வோர்க்கு சாட்டை அடியாக இருக்கும் என எதிர் பார்க்கப்படுகிறது வெற்றி பெற வாழ்த்துக்கள்\n",
      "['unknown_state']\n",
      "[0.05956761 0.03166117 0.08701871 0.01160374 0.8101488 ]\n",
      "\n",
      "\n",
      "ayutha ezhuthu 2 semmai m waiting\n",
      "['not-Tamil']\n",
      "[0.1170053  0.04540728 0.23766108 0.5053979  0.09452841]\n",
      "\n",
      "\n",
      "150 to 155  vera level mass\n",
      "['Positive']\n",
      "[0.1052676  0.02598346 0.8651341  0.00128101 0.00233378]\n",
      "\n",
      "\n",
      "16 varushama rajini arasiyalukku varuvennu sollittu irukkaaru aaana innum varala ha ha ha\n",
      "['unknown_state']\n",
      "[0.05006524 0.36903888 0.12459284 0.00751706 0.448786  ]\n",
      "\n",
      "\n"
     ]
    },
    {
     "name": "stderr",
     "output_type": "stream",
     "text": [
      "C:\\Users\\phvpa\\anaconda3\\envs\\NLP\\lib\\site-packages\\tensorflow\\python\\keras\\engine\\sequential.py:450: UserWarning: `model.predict_classes()` is deprecated and will be removed after 2021-01-01. Please use instead:* `np.argmax(model.predict(x), axis=-1)`,   if your model does multi-class classification   (e.g. if it uses a `softmax` last-layer activation).* `(model.predict(x) > 0.5).astype(\"int32\")`,   if your model does binary classification   (e.g. if it uses a `sigmoid` last-layer activation).\n",
      "  warnings.warn('`model.predict_classes()` is deprecated and '\n"
     ]
    }
   ],
   "source": [
    "predict_review(model, sample_test)"
   ]
  },
  {
   "cell_type": "code",
   "execution_count": 64,
   "metadata": {
    "colab": {
     "base_uri": "https://localhost:8080/"
    },
    "id": "iy2qX-VbzdQQ",
    "outputId": "ad7b5650-ac55-42e2-b456-2936ba04d5d4"
   },
   "outputs": [],
   "source": [
    "classes = model.predict_classes(test_padded)\n",
    "pred = []\n",
    "\n",
    "for i in range(len(classes)):\n",
    "  pred.append(le.inverse_transform([classes[i]])[0])"
   ]
  },
  {
   "cell_type": "code",
   "execution_count": 65,
   "metadata": {
    "id": "zmLnZCYS3NiU"
   },
   "outputs": [],
   "source": [
    "#pred[:]"
   ]
  },
  {
   "cell_type": "code",
   "execution_count": 66,
   "metadata": {
    "colab": {
     "base_uri": "https://localhost:8080/",
     "height": 203
    },
    "id": "UXY_ISeO3NiU",
    "outputId": "90ccb394-83bc-4ef1-cd05-a8eaa2b61a60"
   },
   "outputs": [
    {
     "data": {
      "text/html": [
       "<div>\n",
       "<style scoped>\n",
       "    .dataframe tbody tr th:only-of-type {\n",
       "        vertical-align: middle;\n",
       "    }\n",
       "\n",
       "    .dataframe tbody tr th {\n",
       "        vertical-align: top;\n",
       "    }\n",
       "\n",
       "    .dataframe thead th {\n",
       "        text-align: right;\n",
       "    }\n",
       "</style>\n",
       "<table border=\"1\" class=\"dataframe\">\n",
       "  <thead>\n",
       "    <tr style=\"text-align: right;\">\n",
       "      <th></th>\n",
       "      <th>label</th>\n",
       "    </tr>\n",
       "  </thead>\n",
       "  <tbody>\n",
       "    <tr>\n",
       "      <th>0</th>\n",
       "      <td>Positive</td>\n",
       "    </tr>\n",
       "    <tr>\n",
       "      <th>1</th>\n",
       "      <td>Positive</td>\n",
       "    </tr>\n",
       "    <tr>\n",
       "      <th>2</th>\n",
       "      <td>Positive</td>\n",
       "    </tr>\n",
       "    <tr>\n",
       "      <th>3</th>\n",
       "      <td>Positive</td>\n",
       "    </tr>\n",
       "    <tr>\n",
       "      <th>4</th>\n",
       "      <td>not-Tamil</td>\n",
       "    </tr>\n",
       "  </tbody>\n",
       "</table>\n",
       "</div>"
      ],
      "text/plain": [
       "       label\n",
       "0   Positive\n",
       "1   Positive\n",
       "2   Positive\n",
       "3   Positive\n",
       "4  not-Tamil"
      ]
     },
     "execution_count": 66,
     "metadata": {},
     "output_type": "execute_result"
    }
   ],
   "source": [
    "pred_df = pd.DataFrame(pred, columns=['label'])\n",
    "pred_df.head()"
   ]
  },
  {
   "cell_type": "code",
   "execution_count": 67,
   "metadata": {
    "colab": {
     "base_uri": "https://localhost:8080/",
     "height": 203
    },
    "id": "mec7Wkmy3NiU",
    "outputId": "869fd30e-00d2-4378-96bb-d560afa07e40"
   },
   "outputs": [
    {
     "data": {
      "text/html": [
       "<div>\n",
       "<style scoped>\n",
       "    .dataframe tbody tr th:only-of-type {\n",
       "        vertical-align: middle;\n",
       "    }\n",
       "\n",
       "    .dataframe tbody tr th {\n",
       "        vertical-align: top;\n",
       "    }\n",
       "\n",
       "    .dataframe thead th {\n",
       "        text-align: right;\n",
       "    }\n",
       "</style>\n",
       "<table border=\"1\" class=\"dataframe\">\n",
       "  <thead>\n",
       "    <tr style=\"text-align: right;\">\n",
       "      <th></th>\n",
       "      <th>id</th>\n",
       "      <th>text</th>\n",
       "      <th>label</th>\n",
       "    </tr>\n",
       "  </thead>\n",
       "  <tbody>\n",
       "    <tr>\n",
       "      <th>0</th>\n",
       "      <td>Tam_1</td>\n",
       "      <td>வீர செங்குந்தர் சார்பாக இந்த திரைப்படம் வெற்றி...</td>\n",
       "      <td>Positive</td>\n",
       "    </tr>\n",
       "    <tr>\n",
       "      <th>1</th>\n",
       "      <td>Tam_2</td>\n",
       "      <td>teruk ah irukku  mokke movie  waste of time</td>\n",
       "      <td>Positive</td>\n",
       "    </tr>\n",
       "    <tr>\n",
       "      <th>2</th>\n",
       "      <td>Tam_3</td>\n",
       "      <td>manitha samuthaayam amaipil irunthu intha pada...</td>\n",
       "      <td>Positive</td>\n",
       "    </tr>\n",
       "    <tr>\n",
       "      <th>3</th>\n",
       "      <td>Tam_4</td>\n",
       "      <td>jj mam we miss u</td>\n",
       "      <td>Positive</td>\n",
       "    </tr>\n",
       "    <tr>\n",
       "      <th>4</th>\n",
       "      <td>Tam_5</td>\n",
       "      <td>subtitle me traller dekhne wale like karo</td>\n",
       "      <td>not-Tamil</td>\n",
       "    </tr>\n",
       "  </tbody>\n",
       "</table>\n",
       "</div>"
      ],
      "text/plain": [
       "      id                                               text      label\n",
       "0  Tam_1  வீர செங்குந்தர் சார்பாக இந்த திரைப்படம் வெற்றி...   Positive\n",
       "1  Tam_2        teruk ah irukku  mokke movie  waste of time   Positive\n",
       "2  Tam_3  manitha samuthaayam amaipil irunthu intha pada...   Positive\n",
       "3  Tam_4                                   jj mam we miss u   Positive\n",
       "4  Tam_5          subtitle me traller dekhne wale like karo  not-Tamil"
      ]
     },
     "execution_count": 67,
     "metadata": {},
     "output_type": "execute_result"
    }
   ],
   "source": [
    "result = pd.concat([test_df, pred_df], axis=1)\n",
    "result.head()"
   ]
  },
  {
   "cell_type": "code",
   "execution_count": 68,
   "metadata": {
    "id": "_FxTxWpt3NiU"
   },
   "outputs": [],
   "source": [
    "result.to_csv('DNN_Tamil_Test_Pred_Labels_22-06-2021.csv', sep = '\\t', index=False)"
   ]
  },
  {
   "cell_type": "code",
   "execution_count": 69,
   "metadata": {
    "colab": {
     "base_uri": "https://localhost:8080/"
    },
    "id": "URZopPQE3NiU",
    "outputId": "c10ecfc7-2e45-4313-8f35-42ee18b5c685"
   },
   "outputs": [
    {
     "name": "stderr",
     "output_type": "stream",
     "text": [
      "C:\\Users\\phvpa\\anaconda3\\envs\\NLP\\lib\\site-packages\\tensorflow\\python\\keras\\engine\\sequential.py:450: UserWarning: `model.predict_classes()` is deprecated and will be removed after 2021-01-01. Please use instead:* `np.argmax(model.predict(x), axis=-1)`,   if your model does multi-class classification   (e.g. if it uses a `softmax` last-layer activation).* `(model.predict(x) > 0.5).astype(\"int32\")`,   if your model does binary classification   (e.g. if it uses a `sigmoid` last-layer activation).\n",
      "  warnings.warn('`model.predict_classes()` is deprecated and '\n"
     ]
    }
   ],
   "source": [
    "Valid_classes = model.predict_classes(valid_padded)\n",
    "Valid_pred = []\n",
    "\n",
    "for i in range(len(Valid_classes)):\n",
    "    Valid_pred.append(le.inverse_transform([Valid_classes[i]])[0])"
   ]
  },
  {
   "cell_type": "code",
   "execution_count": 70,
   "metadata": {
    "colab": {
     "base_uri": "https://localhost:8080/"
    },
    "id": "n4tAHZuG3NiV",
    "outputId": "d6f37350-428d-408c-91c8-d8a45d40078c"
   },
   "outputs": [
    {
     "data": {
      "text/plain": [
       "(3962,)"
      ]
     },
     "execution_count": 70,
     "metadata": {},
     "output_type": "execute_result"
    }
   ],
   "source": [
    "Valid_classes.shape"
   ]
  },
  {
   "cell_type": "code",
   "execution_count": 71,
   "metadata": {
    "colab": {
     "base_uri": "https://localhost:8080/",
     "height": 203
    },
    "id": "HcrNYNgC3NiV",
    "outputId": "a5725470-c7b6-4520-92ad-21d186a71cd6"
   },
   "outputs": [
    {
     "data": {
      "text/html": [
       "<div>\n",
       "<style scoped>\n",
       "    .dataframe tbody tr th:only-of-type {\n",
       "        vertical-align: middle;\n",
       "    }\n",
       "\n",
       "    .dataframe tbody tr th {\n",
       "        vertical-align: top;\n",
       "    }\n",
       "\n",
       "    .dataframe thead th {\n",
       "        text-align: right;\n",
       "    }\n",
       "</style>\n",
       "<table border=\"1\" class=\"dataframe\">\n",
       "  <thead>\n",
       "    <tr style=\"text-align: right;\">\n",
       "      <th></th>\n",
       "      <th>Predicted label</th>\n",
       "    </tr>\n",
       "  </thead>\n",
       "  <tbody>\n",
       "    <tr>\n",
       "      <th>0</th>\n",
       "      <td>Positive</td>\n",
       "    </tr>\n",
       "    <tr>\n",
       "      <th>1</th>\n",
       "      <td>Positive</td>\n",
       "    </tr>\n",
       "    <tr>\n",
       "      <th>2</th>\n",
       "      <td>Positive</td>\n",
       "    </tr>\n",
       "    <tr>\n",
       "      <th>3</th>\n",
       "      <td>Negative</td>\n",
       "    </tr>\n",
       "    <tr>\n",
       "      <th>4</th>\n",
       "      <td>Mixed_feelings</td>\n",
       "    </tr>\n",
       "  </tbody>\n",
       "</table>\n",
       "</div>"
      ],
      "text/plain": [
       "  Predicted label\n",
       "0        Positive\n",
       "1        Positive\n",
       "2        Positive\n",
       "3        Negative\n",
       "4  Mixed_feelings"
      ]
     },
     "execution_count": 71,
     "metadata": {},
     "output_type": "execute_result"
    }
   ],
   "source": [
    "Valid_pred_df = pd.DataFrame(Valid_pred, columns=['Predicted label'])\n",
    "Valid_pred_df.head()"
   ]
  },
  {
   "cell_type": "code",
   "execution_count": 72,
   "metadata": {
    "colab": {
     "base_uri": "https://localhost:8080/",
     "height": 417
    },
    "id": "g77kfidx3NiV",
    "outputId": "74ba5798-4803-42a6-d884-a51d1816adeb"
   },
   "outputs": [
    {
     "data": {
      "text/html": [
       "<div>\n",
       "<style scoped>\n",
       "    .dataframe tbody tr th:only-of-type {\n",
       "        vertical-align: middle;\n",
       "    }\n",
       "\n",
       "    .dataframe tbody tr th {\n",
       "        vertical-align: top;\n",
       "    }\n",
       "\n",
       "    .dataframe thead th {\n",
       "        text-align: right;\n",
       "    }\n",
       "</style>\n",
       "<table border=\"1\" class=\"dataframe\">\n",
       "  <thead>\n",
       "    <tr style=\"text-align: right;\">\n",
       "      <th></th>\n",
       "      <th>text</th>\n",
       "      <th>category</th>\n",
       "      <th>Predicted label</th>\n",
       "    </tr>\n",
       "  </thead>\n",
       "  <tbody>\n",
       "    <tr>\n",
       "      <th>0</th>\n",
       "      <td>40 songsuperbkamallllla  im waiting for dis so...</td>\n",
       "      <td>unknown_state</td>\n",
       "      <td>Positive</td>\n",
       "    </tr>\n",
       "    <tr>\n",
       "      <th>1</th>\n",
       "      <td>கணத்ததோர் அகமுடையார் சார்பாக  படம் வெற்றி அடைய...</td>\n",
       "      <td>Positive</td>\n",
       "      <td>Positive</td>\n",
       "    </tr>\n",
       "    <tr>\n",
       "      <th>2</th>\n",
       "      <td>thalavia neenga veera level boss and neega tha...</td>\n",
       "      <td>Positive</td>\n",
       "      <td>Positive</td>\n",
       "    </tr>\n",
       "    <tr>\n",
       "      <th>3</th>\n",
       "      <td>oru padam patha fellvera level music</td>\n",
       "      <td>Positive</td>\n",
       "      <td>Negative</td>\n",
       "    </tr>\n",
       "    <tr>\n",
       "      <th>4</th>\n",
       "      <td>hairstyle than mattama iruku adhu mattum mathi...</td>\n",
       "      <td>unknown_state</td>\n",
       "      <td>Mixed_feelings</td>\n",
       "    </tr>\n",
       "    <tr>\n",
       "      <th>...</th>\n",
       "      <td>...</td>\n",
       "      <td>...</td>\n",
       "      <td>...</td>\n",
       "    </tr>\n",
       "    <tr>\n",
       "      <th>3957</th>\n",
       "      <td>நாடக காதல் மிகப்பெரிய தவறு இதை தான் இந்த படம் ...</td>\n",
       "      <td>Positive</td>\n",
       "      <td>Positive</td>\n",
       "    </tr>\n",
       "    <tr>\n",
       "      <th>3958</th>\n",
       "      <td>so long to see you suriya</td>\n",
       "      <td>not-Tamil</td>\n",
       "      <td>Positive</td>\n",
       "    </tr>\n",
       "    <tr>\n",
       "      <th>3959</th>\n",
       "      <td>super  sk  ettan adipoli makkalle dec20  waiti...</td>\n",
       "      <td>Mixed_feelings</td>\n",
       "      <td>Negative</td>\n",
       "    </tr>\n",
       "    <tr>\n",
       "      <th>3960</th>\n",
       "      <td>minimum 50m viewa vara veppoma all thala fans</td>\n",
       "      <td>Positive</td>\n",
       "      <td>Positive</td>\n",
       "    </tr>\n",
       "    <tr>\n",
       "      <th>3961</th>\n",
       "      <td>vera vera level da version 20</td>\n",
       "      <td>Positive</td>\n",
       "      <td>Mixed_feelings</td>\n",
       "    </tr>\n",
       "  </tbody>\n",
       "</table>\n",
       "<p>3962 rows × 3 columns</p>\n",
       "</div>"
      ],
      "text/plain": [
       "                                                   text        category  \\\n",
       "0     40 songsuperbkamallllla  im waiting for dis so...   unknown_state   \n",
       "1     கணத்ததோர் அகமுடையார் சார்பாக  படம் வெற்றி அடைய...        Positive   \n",
       "2     thalavia neenga veera level boss and neega tha...        Positive   \n",
       "3                  oru padam patha fellvera level music        Positive   \n",
       "4     hairstyle than mattama iruku adhu mattum mathi...   unknown_state   \n",
       "...                                                 ...             ...   \n",
       "3957  நாடக காதல் மிகப்பெரிய தவறு இதை தான் இந்த படம் ...        Positive   \n",
       "3958                          so long to see you suriya       not-Tamil   \n",
       "3959  super  sk  ettan adipoli makkalle dec20  waiti...  Mixed_feelings   \n",
       "3960      minimum 50m viewa vara veppoma all thala fans        Positive   \n",
       "3961                      vera vera level da version 20        Positive   \n",
       "\n",
       "     Predicted label  \n",
       "0           Positive  \n",
       "1           Positive  \n",
       "2           Positive  \n",
       "3           Negative  \n",
       "4     Mixed_feelings  \n",
       "...              ...  \n",
       "3957        Positive  \n",
       "3958        Positive  \n",
       "3959        Negative  \n",
       "3960        Positive  \n",
       "3961  Mixed_feelings  \n",
       "\n",
       "[3962 rows x 3 columns]"
      ]
     },
     "execution_count": 72,
     "metadata": {},
     "output_type": "execute_result"
    }
   ],
   "source": [
    "Valid_result = pd.concat([valid_df, Valid_pred_df], axis=1)\n",
    "Valid_result"
   ]
  },
  {
   "cell_type": "code",
   "execution_count": 73,
   "metadata": {
    "id": "J8XE3ge63NiV"
   },
   "outputs": [],
   "source": [
    "Valid_result.to_csv('DNN_Tamil_Valid_Pred_Labels_22-06-2021.csv', sep = '\\t', index=False)"
   ]
  },
  {
   "cell_type": "code",
   "execution_count": 74,
   "metadata": {
    "colab": {
     "base_uri": "https://localhost:8080/",
     "height": 417
    },
    "id": "W_3F4CrO3NiV",
    "outputId": "82de5dbd-17ac-493a-d0f3-955b93f4d2d6"
   },
   "outputs": [
    {
     "data": {
      "text/html": [
       "<div>\n",
       "<style scoped>\n",
       "    .dataframe tbody tr th:only-of-type {\n",
       "        vertical-align: middle;\n",
       "    }\n",
       "\n",
       "    .dataframe tbody tr th {\n",
       "        vertical-align: top;\n",
       "    }\n",
       "\n",
       "    .dataframe thead th {\n",
       "        text-align: right;\n",
       "    }\n",
       "</style>\n",
       "<table border=\"1\" class=\"dataframe\">\n",
       "  <thead>\n",
       "    <tr style=\"text-align: right;\">\n",
       "      <th></th>\n",
       "      <th>text</th>\n",
       "      <th>category</th>\n",
       "    </tr>\n",
       "  </thead>\n",
       "  <tbody>\n",
       "    <tr>\n",
       "      <th>0</th>\n",
       "      <td>40 songsuperbkamallllla  im waiting for dis so...</td>\n",
       "      <td>unknown_state</td>\n",
       "    </tr>\n",
       "    <tr>\n",
       "      <th>1</th>\n",
       "      <td>கணத்ததோர் அகமுடையார் சார்பாக  படம் வெற்றி அடைய...</td>\n",
       "      <td>Positive</td>\n",
       "    </tr>\n",
       "    <tr>\n",
       "      <th>2</th>\n",
       "      <td>thalavia neenga veera level boss and neega tha...</td>\n",
       "      <td>Positive</td>\n",
       "    </tr>\n",
       "    <tr>\n",
       "      <th>3</th>\n",
       "      <td>oru padam patha fellvera level music</td>\n",
       "      <td>Positive</td>\n",
       "    </tr>\n",
       "    <tr>\n",
       "      <th>4</th>\n",
       "      <td>hairstyle than mattama iruku adhu mattum mathi...</td>\n",
       "      <td>unknown_state</td>\n",
       "    </tr>\n",
       "    <tr>\n",
       "      <th>...</th>\n",
       "      <td>...</td>\n",
       "      <td>...</td>\n",
       "    </tr>\n",
       "    <tr>\n",
       "      <th>3957</th>\n",
       "      <td>நாடக காதல் மிகப்பெரிய தவறு இதை தான் இந்த படம் ...</td>\n",
       "      <td>Positive</td>\n",
       "    </tr>\n",
       "    <tr>\n",
       "      <th>3958</th>\n",
       "      <td>so long to see you suriya</td>\n",
       "      <td>not-Tamil</td>\n",
       "    </tr>\n",
       "    <tr>\n",
       "      <th>3959</th>\n",
       "      <td>super  sk  ettan adipoli makkalle dec20  waiti...</td>\n",
       "      <td>Mixed_feelings</td>\n",
       "    </tr>\n",
       "    <tr>\n",
       "      <th>3960</th>\n",
       "      <td>minimum 50m viewa vara veppoma all thala fans</td>\n",
       "      <td>Positive</td>\n",
       "    </tr>\n",
       "    <tr>\n",
       "      <th>3961</th>\n",
       "      <td>vera vera level da version 20</td>\n",
       "      <td>Positive</td>\n",
       "    </tr>\n",
       "  </tbody>\n",
       "</table>\n",
       "<p>3962 rows × 2 columns</p>\n",
       "</div>"
      ],
      "text/plain": [
       "                                                   text        category\n",
       "0     40 songsuperbkamallllla  im waiting for dis so...   unknown_state\n",
       "1     கணத்ததோர் அகமுடையார் சார்பாக  படம் வெற்றி அடைய...        Positive\n",
       "2     thalavia neenga veera level boss and neega tha...        Positive\n",
       "3                  oru padam patha fellvera level music        Positive\n",
       "4     hairstyle than mattama iruku adhu mattum mathi...   unknown_state\n",
       "...                                                 ...             ...\n",
       "3957  நாடக காதல் மிகப்பெரிய தவறு இதை தான் இந்த படம் ...        Positive\n",
       "3958                          so long to see you suriya       not-Tamil\n",
       "3959  super  sk  ettan adipoli makkalle dec20  waiti...  Mixed_feelings\n",
       "3960      minimum 50m viewa vara veppoma all thala fans        Positive\n",
       "3961                      vera vera level da version 20        Positive\n",
       "\n",
       "[3962 rows x 2 columns]"
      ]
     },
     "execution_count": 74,
     "metadata": {},
     "output_type": "execute_result"
    }
   ],
   "source": [
    "valid_df"
   ]
  },
  {
   "cell_type": "code",
   "execution_count": 75,
   "metadata": {
    "colab": {
     "base_uri": "https://localhost:8080/",
     "height": 417
    },
    "id": "_OcPZcuk3NiV",
    "outputId": "684c8967-1719-4b61-d815-5c511f74af7e"
   },
   "outputs": [
    {
     "data": {
      "text/html": [
       "<div>\n",
       "<style scoped>\n",
       "    .dataframe tbody tr th:only-of-type {\n",
       "        vertical-align: middle;\n",
       "    }\n",
       "\n",
       "    .dataframe tbody tr th {\n",
       "        vertical-align: top;\n",
       "    }\n",
       "\n",
       "    .dataframe thead th {\n",
       "        text-align: right;\n",
       "    }\n",
       "</style>\n",
       "<table border=\"1\" class=\"dataframe\">\n",
       "  <thead>\n",
       "    <tr style=\"text-align: right;\">\n",
       "      <th></th>\n",
       "      <th>text</th>\n",
       "      <th>category</th>\n",
       "      <th>Predicted label</th>\n",
       "    </tr>\n",
       "  </thead>\n",
       "  <tbody>\n",
       "    <tr>\n",
       "      <th>0</th>\n",
       "      <td>40 songsuperbkamallllla  im waiting for dis so...</td>\n",
       "      <td>unknown_state</td>\n",
       "      <td>Positive</td>\n",
       "    </tr>\n",
       "    <tr>\n",
       "      <th>1</th>\n",
       "      <td>கணத்ததோர் அகமுடையார் சார்பாக  படம் வெற்றி அடைய...</td>\n",
       "      <td>Positive</td>\n",
       "      <td>Positive</td>\n",
       "    </tr>\n",
       "    <tr>\n",
       "      <th>2</th>\n",
       "      <td>thalavia neenga veera level boss and neega tha...</td>\n",
       "      <td>Positive</td>\n",
       "      <td>Positive</td>\n",
       "    </tr>\n",
       "    <tr>\n",
       "      <th>3</th>\n",
       "      <td>oru padam patha fellvera level music</td>\n",
       "      <td>Positive</td>\n",
       "      <td>Negative</td>\n",
       "    </tr>\n",
       "    <tr>\n",
       "      <th>4</th>\n",
       "      <td>hairstyle than mattama iruku adhu mattum mathi...</td>\n",
       "      <td>unknown_state</td>\n",
       "      <td>Mixed_feelings</td>\n",
       "    </tr>\n",
       "    <tr>\n",
       "      <th>...</th>\n",
       "      <td>...</td>\n",
       "      <td>...</td>\n",
       "      <td>...</td>\n",
       "    </tr>\n",
       "    <tr>\n",
       "      <th>3957</th>\n",
       "      <td>நாடக காதல் மிகப்பெரிய தவறு இதை தான் இந்த படம் ...</td>\n",
       "      <td>Positive</td>\n",
       "      <td>Positive</td>\n",
       "    </tr>\n",
       "    <tr>\n",
       "      <th>3958</th>\n",
       "      <td>so long to see you suriya</td>\n",
       "      <td>not-Tamil</td>\n",
       "      <td>Positive</td>\n",
       "    </tr>\n",
       "    <tr>\n",
       "      <th>3959</th>\n",
       "      <td>super  sk  ettan adipoli makkalle dec20  waiti...</td>\n",
       "      <td>Mixed_feelings</td>\n",
       "      <td>Negative</td>\n",
       "    </tr>\n",
       "    <tr>\n",
       "      <th>3960</th>\n",
       "      <td>minimum 50m viewa vara veppoma all thala fans</td>\n",
       "      <td>Positive</td>\n",
       "      <td>Positive</td>\n",
       "    </tr>\n",
       "    <tr>\n",
       "      <th>3961</th>\n",
       "      <td>vera vera level da version 20</td>\n",
       "      <td>Positive</td>\n",
       "      <td>Mixed_feelings</td>\n",
       "    </tr>\n",
       "  </tbody>\n",
       "</table>\n",
       "<p>3962 rows × 3 columns</p>\n",
       "</div>"
      ],
      "text/plain": [
       "                                                   text        category  \\\n",
       "0     40 songsuperbkamallllla  im waiting for dis so...   unknown_state   \n",
       "1     கணத்ததோர் அகமுடையார் சார்பாக  படம் வெற்றி அடைய...        Positive   \n",
       "2     thalavia neenga veera level boss and neega tha...        Positive   \n",
       "3                  oru padam patha fellvera level music        Positive   \n",
       "4     hairstyle than mattama iruku adhu mattum mathi...   unknown_state   \n",
       "...                                                 ...             ...   \n",
       "3957  நாடக காதல் மிகப்பெரிய தவறு இதை தான் இந்த படம் ...        Positive   \n",
       "3958                          so long to see you suriya       not-Tamil   \n",
       "3959  super  sk  ettan adipoli makkalle dec20  waiti...  Mixed_feelings   \n",
       "3960      minimum 50m viewa vara veppoma all thala fans        Positive   \n",
       "3961                      vera vera level da version 20        Positive   \n",
       "\n",
       "     Predicted label  \n",
       "0           Positive  \n",
       "1           Positive  \n",
       "2           Positive  \n",
       "3           Negative  \n",
       "4     Mixed_feelings  \n",
       "...              ...  \n",
       "3957        Positive  \n",
       "3958        Positive  \n",
       "3959        Negative  \n",
       "3960        Positive  \n",
       "3961  Mixed_feelings  \n",
       "\n",
       "[3962 rows x 3 columns]"
      ]
     },
     "execution_count": 75,
     "metadata": {},
     "output_type": "execute_result"
    }
   ],
   "source": [
    "d = pd.read_csv(\"DNN_Tamil_Valid_Pred_Labels_22-06-2021.csv\", sep='\\t')\n",
    "d"
   ]
  },
  {
   "cell_type": "code",
   "execution_count": 76,
   "metadata": {
    "colab": {
     "base_uri": "https://localhost:8080/",
     "height": 417
    },
    "id": "Btmj-2Do3NiW",
    "outputId": "530d7026-841a-4ae2-c535-60f20563d7a3"
   },
   "outputs": [
    {
     "data": {
      "text/html": [
       "<div>\n",
       "<style scoped>\n",
       "    .dataframe tbody tr th:only-of-type {\n",
       "        vertical-align: middle;\n",
       "    }\n",
       "\n",
       "    .dataframe tbody tr th {\n",
       "        vertical-align: top;\n",
       "    }\n",
       "\n",
       "    .dataframe thead th {\n",
       "        text-align: right;\n",
       "    }\n",
       "</style>\n",
       "<table border=\"1\" class=\"dataframe\">\n",
       "  <thead>\n",
       "    <tr style=\"text-align: right;\">\n",
       "      <th></th>\n",
       "      <th>id</th>\n",
       "      <th>text</th>\n",
       "      <th>label</th>\n",
       "    </tr>\n",
       "  </thead>\n",
       "  <tbody>\n",
       "    <tr>\n",
       "      <th>0</th>\n",
       "      <td>Tam_1</td>\n",
       "      <td>வீர செங்குந்தர் சார்பாக இந்த திரைப்படம் வெற்றி...</td>\n",
       "      <td>Positive</td>\n",
       "    </tr>\n",
       "    <tr>\n",
       "      <th>1</th>\n",
       "      <td>Tam_2</td>\n",
       "      <td>teruk ah irukku  mokke movie  waste of time</td>\n",
       "      <td>Positive</td>\n",
       "    </tr>\n",
       "    <tr>\n",
       "      <th>2</th>\n",
       "      <td>Tam_3</td>\n",
       "      <td>manitha samuthaayam amaipil irunthu intha pada...</td>\n",
       "      <td>Positive</td>\n",
       "    </tr>\n",
       "    <tr>\n",
       "      <th>3</th>\n",
       "      <td>Tam_4</td>\n",
       "      <td>jj mam we miss u</td>\n",
       "      <td>Positive</td>\n",
       "    </tr>\n",
       "    <tr>\n",
       "      <th>4</th>\n",
       "      <td>Tam_5</td>\n",
       "      <td>subtitle me traller dekhne wale like karo</td>\n",
       "      <td>not-Tamil</td>\n",
       "    </tr>\n",
       "    <tr>\n",
       "      <th>...</th>\n",
       "      <td>...</td>\n",
       "      <td>...</td>\n",
       "      <td>...</td>\n",
       "    </tr>\n",
       "    <tr>\n",
       "      <th>4397</th>\n",
       "      <td>Tam_4398</td>\n",
       "      <td>ithukum dislike potta kammanattti koovaingalam...</td>\n",
       "      <td>Negative</td>\n",
       "    </tr>\n",
       "    <tr>\n",
       "      <th>4398</th>\n",
       "      <td>Tam_4399</td>\n",
       "      <td>suyama sinthikiravan than super hero seama dia...</td>\n",
       "      <td>Mixed_feelings</td>\n",
       "    </tr>\n",
       "    <tr>\n",
       "      <th>4399</th>\n",
       "      <td>Tam_4400</td>\n",
       "      <td>super thalaiva nee mass dha eppavume</td>\n",
       "      <td>Positive</td>\n",
       "    </tr>\n",
       "    <tr>\n",
       "      <th>4400</th>\n",
       "      <td>Tam_4401</td>\n",
       "      <td>பெண்ணை அடிமையாக்க நினைக்கும் இந்த படம் தோல்வித...</td>\n",
       "      <td>Positive</td>\n",
       "    </tr>\n",
       "    <tr>\n",
       "      <th>4401</th>\n",
       "      <td>Tam_4402</td>\n",
       "      <td>semma thalaiva alu athikama akirukum enimale e...</td>\n",
       "      <td>Positive</td>\n",
       "    </tr>\n",
       "  </tbody>\n",
       "</table>\n",
       "<p>4402 rows × 3 columns</p>\n",
       "</div>"
      ],
      "text/plain": [
       "            id                                               text  \\\n",
       "0        Tam_1  வீர செங்குந்தர் சார்பாக இந்த திரைப்படம் வெற்றி...   \n",
       "1        Tam_2        teruk ah irukku  mokke movie  waste of time   \n",
       "2        Tam_3  manitha samuthaayam amaipil irunthu intha pada...   \n",
       "3        Tam_4                                   jj mam we miss u   \n",
       "4        Tam_5          subtitle me traller dekhne wale like karo   \n",
       "...        ...                                                ...   \n",
       "4397  Tam_4398  ithukum dislike potta kammanattti koovaingalam...   \n",
       "4398  Tam_4399  suyama sinthikiravan than super hero seama dia...   \n",
       "4399  Tam_4400               super thalaiva nee mass dha eppavume   \n",
       "4400  Tam_4401  பெண்ணை அடிமையாக்க நினைக்கும் இந்த படம் தோல்வித...   \n",
       "4401  Tam_4402  semma thalaiva alu athikama akirukum enimale e...   \n",
       "\n",
       "               label  \n",
       "0           Positive  \n",
       "1           Positive  \n",
       "2           Positive  \n",
       "3           Positive  \n",
       "4          not-Tamil  \n",
       "...              ...  \n",
       "4397        Negative  \n",
       "4398  Mixed_feelings  \n",
       "4399        Positive  \n",
       "4400        Positive  \n",
       "4401        Positive  \n",
       "\n",
       "[4402 rows x 3 columns]"
      ]
     },
     "execution_count": 76,
     "metadata": {},
     "output_type": "execute_result"
    }
   ],
   "source": [
    "d1 = pd.read_csv(\"DNN_Tamil_Test_Pred_Labels_22-06-2021.csv\", sep='\\t')\n",
    "d1"
   ]
  },
  {
   "cell_type": "code",
   "execution_count": null,
   "metadata": {
    "id": "h3hRLo8-3NiW"
   },
   "outputs": [],
   "source": []
  }
 ],
 "metadata": {
  "accelerator": "GPU",
  "colab": {
   "collapsed_sections": [],
   "name": "CNN+LSTM_Tamil_Test_17_06_2021.ipynb",
   "provenance": []
  },
  "kernelspec": {
   "display_name": "Python 3",
   "language": "python",
   "name": "python3"
  },
  "language_info": {
   "codemirror_mode": {
    "name": "ipython",
    "version": 3
   },
   "file_extension": ".py",
   "mimetype": "text/x-python",
   "name": "python",
   "nbconvert_exporter": "python",
   "pygments_lexer": "ipython3",
   "version": "3.8.8"
  }
 },
 "nbformat": 4,
 "nbformat_minor": 1
}
