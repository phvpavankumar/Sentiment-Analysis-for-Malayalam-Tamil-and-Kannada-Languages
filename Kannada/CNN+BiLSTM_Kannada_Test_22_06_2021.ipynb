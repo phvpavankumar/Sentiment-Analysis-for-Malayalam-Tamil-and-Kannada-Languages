{
 "cells": [
  {
   "cell_type": "code",
   "execution_count": 1,
   "metadata": {
    "colab": {
     "base_uri": "https://localhost:8080/"
    },
    "id": "OobAIwrYCTa4",
    "outputId": "fee506da-a6fd-460e-ff96-a4f639b92cfc"
   },
   "outputs": [],
   "source": [
    "# !gdown --id 1Z79gdspuXtAegoq-_eBbLwZT8-5RUA1f\n",
    "# !gdown --id 1cNQqmd1p7gj6SBfCyU_myIkJ7g5jbEw9\n",
    "# !gdown --id 1Smqw9wd1u6WJLO0wmWwKInzmcA2osw42"
   ]
  },
  {
   "cell_type": "code",
   "execution_count": 2,
   "metadata": {
    "colab": {
     "base_uri": "https://localhost:8080/"
    },
    "id": "3WRIsTi0zCs-",
    "outputId": "8f7bade0-729a-4faf-bac6-3bd48075116b"
   },
   "outputs": [],
   "source": [
    "#!nvidia-smi"
   ]
  },
  {
   "cell_type": "code",
   "execution_count": 3,
   "metadata": {
    "colab": {
     "base_uri": "https://localhost:8080/"
    },
    "id": "OlFORVm4zCs_",
    "outputId": "57251a6a-69dd-4966-a565-8015c47946a5"
   },
   "outputs": [
    {
     "name": "stdout",
     "output_type": "stream",
     "text": [
      "1 Physical GPUs, 1 Logical GPUs\n"
     ]
    }
   ],
   "source": [
    "import tensorflow as tf\n",
    "gpus = tf.config.experimental.list_physical_devices('GPU')\n",
    "if gpus:\n",
    "  # Restrict TensorFlow to only allocate 4GB of memory on the first GPU\n",
    "  try:\n",
    "    tf.config.experimental.set_virtual_device_configuration(\n",
    "        gpus[0],\n",
    "        [tf.config.experimental.VirtualDeviceConfiguration(memory_limit=4096)])\n",
    "    logical_gpus = tf.config.experimental.list_logical_devices('GPU')\n",
    "    print(len(gpus), \"Physical GPUs,\", len(logical_gpus), \"Logical GPUs\")\n",
    "  except RuntimeError as e:\n",
    "    # Virtual devices must be set before GPUs have been initialized\n",
    "    print(e)"
   ]
  },
  {
   "cell_type": "code",
   "execution_count": 4,
   "metadata": {
    "colab": {
     "base_uri": "https://localhost:8080/"
    },
    "id": "NPsBVUt4CPFK",
    "outputId": "d9fa4de7-f466-4c45-ca42-4a612469ce3d"
   },
   "outputs": [
    {
     "name": "stderr",
     "output_type": "stream",
     "text": [
      "[nltk_data] Downloading package treebank to\n",
      "[nltk_data]     C:\\Users\\phvpa\\AppData\\Roaming\\nltk_data...\n",
      "[nltk_data]   Package treebank is already up-to-date!\n",
      "[nltk_data] Downloading package stopwords to\n",
      "[nltk_data]     C:\\Users\\phvpa\\AppData\\Roaming\\nltk_data...\n",
      "[nltk_data]   Package stopwords is already up-to-date!\n",
      "[nltk_data] Downloading package punkt to\n",
      "[nltk_data]     C:\\Users\\phvpa\\AppData\\Roaming\\nltk_data...\n",
      "[nltk_data]   Package punkt is already up-to-date!\n",
      "[nltk_data] Downloading package wordnet to\n",
      "[nltk_data]     C:\\Users\\phvpa\\AppData\\Roaming\\nltk_data...\n",
      "[nltk_data]   Package wordnet is already up-to-date!\n",
      "[nltk_data] Downloading package averaged_perceptron_tagger to\n",
      "[nltk_data]     C:\\Users\\phvpa\\AppData\\Roaming\\nltk_data...\n",
      "[nltk_data]   Package averaged_perceptron_tagger is already up-to-\n",
      "[nltk_data]       date!\n",
      "C:\\Users\\phvpa\\anaconda3\\envs\\NLP\\lib\\site-packages\\gensim\\similarities\\__init__.py:15: UserWarning: The gensim.similarities.levenshtein submodule is disabled, because the optional Levenshtein package <https://pypi.org/project/python-Levenshtein/> is unavailable. Install Levenhstein (e.g. `pip install python-Levenshtein`) to suppress this warning.\n",
      "  warnings.warn(msg)\n"
     ]
    }
   ],
   "source": [
    "import pandas as pd\n",
    "import re\n",
    "import numpy as np\n",
    "import itertools\n",
    "import collections\n",
    "from collections import defaultdict, Counter\n",
    "import matplotlib.pyplot as plt\n",
    "import string\n",
    "from wordcloud import WordCloud\n",
    "\n",
    "import nltk\n",
    "nltk.download('treebank')\n",
    "nltk.download('stopwords')\n",
    "nltk.download('punkt')\n",
    "nltk.download('wordnet')\n",
    "nltk.download('averaged_perceptron_tagger')\n",
    "from nltk.corpus import stopwords\n",
    "from nltk.corpus import wordnet as wn\n",
    "from nltk.stem.wordnet import WordNetLemmatizer\n",
    "from nltk import word_tokenize, pos_tag\n",
    "\n",
    "from sklearn.metrics import classification_report\n",
    "from sklearn.model_selection import train_test_split\n",
    "from sklearn.preprocessing import LabelEncoder\n",
    "from sklearn.metrics import accuracy_score, f1_score, precision_score, recall_score, confusion_matrix\n",
    "from sklearn.svm import SVC\n",
    "from sklearn.neighbors import KNeighborsClassifier\n",
    "from sklearn.neural_network import MLPClassifier\n",
    "from sklearn.tree import DecisionTreeClassifier\n",
    "from sklearn.naive_bayes import GaussianNB\n",
    "from sklearn.ensemble import RandomForestClassifier\n",
    "from sklearn.feature_extraction.text import CountVectorizer, TfidfVectorizer \n",
    "\n",
    "import gensim\n",
    "from gensim.models import KeyedVectors, Word2Vec, FastText\n",
    "\n",
    "import tensorflow as tf\n",
    "import unicodedata"
   ]
  },
  {
   "cell_type": "code",
   "execution_count": 5,
   "metadata": {
    "colab": {
     "base_uri": "https://localhost:8080/"
    },
    "id": "6GV9JIe0CO2b",
    "outputId": "08db6557-07c2-45a1-944a-8f3957b2deeb"
   },
   "outputs": [],
   "source": [
    "#ls"
   ]
  },
  {
   "cell_type": "code",
   "execution_count": 6,
   "metadata": {
    "colab": {
     "base_uri": "https://localhost:8080/"
    },
    "id": "b6f18C1DCRRT",
    "outputId": "859bc8d1-8132-449c-bd78-fdf2845e6d1c"
   },
   "outputs": [
    {
     "name": "stdout",
     "output_type": "stream",
     "text": [
      "6212\n",
      "691\n"
     ]
    },
    {
     "data": {
      "text/plain": [
       "768"
      ]
     },
     "execution_count": 6,
     "metadata": {},
     "output_type": "execute_result"
    }
   ],
   "source": [
    "train_df = pd.read_csv(\"kannada_sentiment_full_train.tsv\", sep='\\t')\n",
    "print(len(train_df))\n",
    "\n",
    "valid_df = pd.read_csv(\"kannada_sentiment_full_dev.tsv\", sep='\\t')\n",
    "print(len(valid_df))\n",
    "\n",
    "test_df = pd.read_csv(\"kannada_sentiment_full_test_withoutlabels.tsv\", sep='\\t')\n",
    "len(test_df)"
   ]
  },
  {
   "cell_type": "code",
   "execution_count": 7,
   "metadata": {
    "colab": {
     "base_uri": "https://localhost:8080/",
     "height": 417
    },
    "id": "ycsmoYB-CEEG",
    "outputId": "896abce2-030d-41f7-94fd-ffee4deae657"
   },
   "outputs": [
    {
     "data": {
      "text/html": [
       "<div>\n",
       "<style scoped>\n",
       "    .dataframe tbody tr th:only-of-type {\n",
       "        vertical-align: middle;\n",
       "    }\n",
       "\n",
       "    .dataframe tbody tr th {\n",
       "        vertical-align: top;\n",
       "    }\n",
       "\n",
       "    .dataframe thead th {\n",
       "        text-align: right;\n",
       "    }\n",
       "</style>\n",
       "<table border=\"1\" class=\"dataframe\">\n",
       "  <thead>\n",
       "    <tr style=\"text-align: right;\">\n",
       "      <th></th>\n",
       "      <th>id</th>\n",
       "      <th>text</th>\n",
       "    </tr>\n",
       "  </thead>\n",
       "  <tbody>\n",
       "    <tr>\n",
       "      <th>0</th>\n",
       "      <td>Kan_1</td>\n",
       "      <td>ಈ ಹಾಡನ್ನು ಹಾಡಿದ ವಿಜಯ ಪ್ರಕಾಶ voice ಯಾರಿಗೆಲ್ಲಾ ಇ...</td>\n",
       "    </tr>\n",
       "    <tr>\n",
       "      <th>1</th>\n",
       "      <td>Kan_2</td>\n",
       "      <td>Jai D Boss</td>\n",
       "    </tr>\n",
       "    <tr>\n",
       "      <th>2</th>\n",
       "      <td>Kan_3</td>\n",
       "      <td>Signature move</td>\n",
       "    </tr>\n",
       "    <tr>\n",
       "      <th>3</th>\n",
       "      <td>Kan_4</td>\n",
       "      <td>Super song bro</td>\n",
       "    </tr>\n",
       "    <tr>\n",
       "      <th>4</th>\n",
       "      <td>Kan_5</td>\n",
       "      <td>Wow  Super agi helidira sir</td>\n",
       "    </tr>\n",
       "    <tr>\n",
       "      <th>...</th>\n",
       "      <td>...</td>\n",
       "      <td>...</td>\n",
       "    </tr>\n",
       "    <tr>\n",
       "      <th>763</th>\n",
       "      <td>Kan_764</td>\n",
       "      <td>Thu thukali trailer</td>\n",
       "    </tr>\n",
       "    <tr>\n",
       "      <th>764</th>\n",
       "      <td>Kan_765</td>\n",
       "      <td>Siri gannadam galge haakbitallapa Thu  yaro ni...</td>\n",
       "    </tr>\n",
       "    <tr>\n",
       "      <th>765</th>\n",
       "      <td>Kan_766</td>\n",
       "      <td>ನಾವೇನಾದರು ಸ್ವಾಬಿಮಾನಿಯಾಗಿ ಬದುಕನ್ನು ಕಟ್ಟಿಕೊಳ್ಳಲು...</td>\n",
       "    </tr>\n",
       "    <tr>\n",
       "      <th>766</th>\n",
       "      <td>Kan_767</td>\n",
       "      <td>ದಿಯಾ ನೀವು ಸೋಷಿಯಲ್ ಮೀಡಿಯಾ ಅಲ್ಲಿ ಕಾಣ್ತಿಲ್ಲ.nದಯವಿ...</td>\n",
       "    </tr>\n",
       "    <tr>\n",
       "      <th>767</th>\n",
       "      <td>Kan_768</td>\n",
       "      <td>magaluru kade kalsi avanannu .navu avanige mad...</td>\n",
       "    </tr>\n",
       "  </tbody>\n",
       "</table>\n",
       "<p>768 rows × 2 columns</p>\n",
       "</div>"
      ],
      "text/plain": [
       "          id                                               text\n",
       "0      Kan_1  ಈ ಹಾಡನ್ನು ಹಾಡಿದ ವಿಜಯ ಪ್ರಕಾಶ voice ಯಾರಿಗೆಲ್ಲಾ ಇ...\n",
       "1      Kan_2                                         Jai D Boss\n",
       "2      Kan_3                                     Signature move\n",
       "3      Kan_4                                     Super song bro\n",
       "4      Kan_5                        Wow  Super agi helidira sir\n",
       "..       ...                                                ...\n",
       "763  Kan_764                                Thu thukali trailer\n",
       "764  Kan_765  Siri gannadam galge haakbitallapa Thu  yaro ni...\n",
       "765  Kan_766  ನಾವೇನಾದರು ಸ್ವಾಬಿಮಾನಿಯಾಗಿ ಬದುಕನ್ನು ಕಟ್ಟಿಕೊಳ್ಳಲು...\n",
       "766  Kan_767  ದಿಯಾ ನೀವು ಸೋಷಿಯಲ್ ಮೀಡಿಯಾ ಅಲ್ಲಿ ಕಾಣ್ತಿಲ್ಲ.nದಯವಿ...\n",
       "767  Kan_768  magaluru kade kalsi avanannu .navu avanige mad...\n",
       "\n",
       "[768 rows x 2 columns]"
      ]
     },
     "execution_count": 7,
     "metadata": {},
     "output_type": "execute_result"
    }
   ],
   "source": [
    "test_df"
   ]
  },
  {
   "cell_type": "code",
   "execution_count": 8,
   "metadata": {
    "colab": {
     "base_uri": "https://localhost:8080/"
    },
    "id": "Up1en1W1CEEH",
    "outputId": "67ac5767-df08-4f05-a744-7a0c02171619"
   },
   "outputs": [
    {
     "name": "stdout",
     "output_type": "stream",
     "text": [
      "ಈ ಹಾಡನ್ನು ಹಾಡಿದ ವಿಜಯ ಪ್ರಕಾಶ voice ಯಾರಿಗೆಲ್ಲಾ ಇಷ್ಟವಾಗಿದೆ ಲೈಕ್ ಮಾಡಿಗಾಳಿ ಮಾತಿನ ಬಜಾರು ಸುದ್ದಿ ಸಾರಿದೆ..........@@@@\n"
     ]
    }
   ],
   "source": [
    "print(test_df['text'][0])"
   ]
  },
  {
   "cell_type": "code",
   "execution_count": 9,
   "metadata": {
    "colab": {
     "base_uri": "https://localhost:8080/",
     "height": 35
    },
    "id": "fB0N5Wm7Ecat",
    "outputId": "6327f10c-d5f2-4cff-f286-6c9db482be22"
   },
   "outputs": [
    {
     "data": {
      "text/plain": [
       "'പൊളി ഡാൻസ്🥰 രക്ഷിത് ഷെട്ടി മാസ്സ്'"
      ]
     },
     "execution_count": 9,
     "metadata": {},
     "output_type": "execute_result"
    }
   ],
   "source": [
    "train_df['text'][6208]"
   ]
  },
  {
   "cell_type": "code",
   "execution_count": 10,
   "metadata": {
    "colab": {
     "base_uri": "https://localhost:8080/",
     "height": 417
    },
    "id": "Sf-_l1oMqnwW",
    "outputId": "b6f4dd3c-747f-4432-a00b-1daad815eabd",
    "scrolled": false
   },
   "outputs": [
    {
     "data": {
      "text/html": [
       "<div>\n",
       "<style scoped>\n",
       "    .dataframe tbody tr th:only-of-type {\n",
       "        vertical-align: middle;\n",
       "    }\n",
       "\n",
       "    .dataframe tbody tr th {\n",
       "        vertical-align: top;\n",
       "    }\n",
       "\n",
       "    .dataframe thead th {\n",
       "        text-align: right;\n",
       "    }\n",
       "</style>\n",
       "<table border=\"1\" class=\"dataframe\">\n",
       "  <thead>\n",
       "    <tr style=\"text-align: right;\">\n",
       "      <th></th>\n",
       "      <th>text</th>\n",
       "      <th>category</th>\n",
       "    </tr>\n",
       "  </thead>\n",
       "  <tbody>\n",
       "    <tr>\n",
       "      <th>0</th>\n",
       "      <td>ಒಂದು ದೇಶದ ಮುಂದುವರಿಯುವುದು ಅದರ ಆರ್ಥಿಕ ಸ್ಥಿತಿಯನ್ನ...</td>\n",
       "      <td>Negative</td>\n",
       "    </tr>\n",
       "    <tr>\n",
       "      <th>1</th>\n",
       "      <td>ಕನ್ನಡದಲ್ಲಿ ಡೈಲಿ ಟೆಕ್ ಅಪ್ಡೇಟ್ಸ್ ಪಡೆಯಲು ಸಬ್ಸ್ಕ್ರ...</td>\n",
       "      <td>Positive</td>\n",
       "    </tr>\n",
       "    <tr>\n",
       "      <th>2</th>\n",
       "      <td>Super sar song</td>\n",
       "      <td>not-Kannada</td>\n",
       "    </tr>\n",
       "    <tr>\n",
       "      <th>3</th>\n",
       "      <td>Tiktokers present situation... nನೋಡುವವರು ಯಾರು ...</td>\n",
       "      <td>Negative</td>\n",
       "    </tr>\n",
       "    <tr>\n",
       "      <th>4</th>\n",
       "      <td>Super ಸಾಂಗ್ ವೆರಿ ನೈಸ್....</td>\n",
       "      <td>Positive</td>\n",
       "    </tr>\n",
       "    <tr>\n",
       "      <th>...</th>\n",
       "      <td>...</td>\n",
       "      <td>...</td>\n",
       "    </tr>\n",
       "    <tr>\n",
       "      <th>6207</th>\n",
       "      <td>@A.R.W   tumbad tanhaji andhadhun aise bahot h...</td>\n",
       "      <td>not-Kannada</td>\n",
       "    </tr>\n",
       "    <tr>\n",
       "      <th>6208</th>\n",
       "      <td>പൊളി ഡാൻസ്🥰 രക്ഷിത് ഷെട്ടി മാസ്സ്</td>\n",
       "      <td>not-Kannada</td>\n",
       "    </tr>\n",
       "    <tr>\n",
       "      <th>6209</th>\n",
       "      <td>Bro...nNeen este Roast madudru...China ne beku...</td>\n",
       "      <td>Negative</td>\n",
       "    </tr>\n",
       "    <tr>\n",
       "      <th>6210</th>\n",
       "      <td>ಕೌಶಲ್ಯ ಇದ್ದವರ ಸಂಖ್ಯೆ ಕಡಿಮೆ ಇಲ್ಲ ಸರ್ ತುಂಬಾ ಪ್ರತ...</td>\n",
       "      <td>Positive</td>\n",
       "    </tr>\n",
       "    <tr>\n",
       "      <th>6211</th>\n",
       "      <td>26 M Views</td>\n",
       "      <td>Mixed feelings</td>\n",
       "    </tr>\n",
       "  </tbody>\n",
       "</table>\n",
       "<p>6212 rows × 2 columns</p>\n",
       "</div>"
      ],
      "text/plain": [
       "                                                   text        category\n",
       "0     ಒಂದು ದೇಶದ ಮುಂದುವರಿಯುವುದು ಅದರ ಆರ್ಥಿಕ ಸ್ಥಿತಿಯನ್ನ...        Negative\n",
       "1     ಕನ್ನಡದಲ್ಲಿ ಡೈಲಿ ಟೆಕ್ ಅಪ್ಡೇಟ್ಸ್ ಪಡೆಯಲು ಸಬ್ಸ್ಕ್ರ...        Positive\n",
       "2                                        Super sar song     not-Kannada\n",
       "3     Tiktokers present situation... nನೋಡುವವರು ಯಾರು ...        Negative\n",
       "4                             Super ಸಾಂಗ್ ವೆರಿ ನೈಸ್....        Positive\n",
       "...                                                 ...             ...\n",
       "6207  @A.R.W   tumbad tanhaji andhadhun aise bahot h...     not-Kannada\n",
       "6208                  പൊളി ഡാൻസ്🥰 രക്ഷിത് ഷെട്ടി മാസ്സ്     not-Kannada\n",
       "6209  Bro...nNeen este Roast madudru...China ne beku...        Negative\n",
       "6210  ಕೌಶಲ್ಯ ಇದ್ದವರ ಸಂಖ್ಯೆ ಕಡಿಮೆ ಇಲ್ಲ ಸರ್ ತುಂಬಾ ಪ್ರತ...        Positive\n",
       "6211                                         26 M Views  Mixed feelings\n",
       "\n",
       "[6212 rows x 2 columns]"
      ]
     },
     "execution_count": 10,
     "metadata": {},
     "output_type": "execute_result"
    }
   ],
   "source": [
    "train_df"
   ]
  },
  {
   "cell_type": "code",
   "execution_count": 11,
   "metadata": {
    "colab": {
     "base_uri": "https://localhost:8080/",
     "height": 417
    },
    "id": "o2xrnA9DqstY",
    "outputId": "5eef6a48-9bcd-4fff-e58d-070aeb3ee341"
   },
   "outputs": [
    {
     "data": {
      "text/html": [
       "<div>\n",
       "<style scoped>\n",
       "    .dataframe tbody tr th:only-of-type {\n",
       "        vertical-align: middle;\n",
       "    }\n",
       "\n",
       "    .dataframe tbody tr th {\n",
       "        vertical-align: top;\n",
       "    }\n",
       "\n",
       "    .dataframe thead th {\n",
       "        text-align: right;\n",
       "    }\n",
       "</style>\n",
       "<table border=\"1\" class=\"dataframe\">\n",
       "  <thead>\n",
       "    <tr style=\"text-align: right;\">\n",
       "      <th></th>\n",
       "      <th>text</th>\n",
       "      <th>category</th>\n",
       "    </tr>\n",
       "  </thead>\n",
       "  <tbody>\n",
       "    <tr>\n",
       "      <th>0</th>\n",
       "      <td>Binduge saryagi ugithidira good go ahead  we a...</td>\n",
       "      <td>Mixed feelings</td>\n",
       "    </tr>\n",
       "    <tr>\n",
       "      <th>1</th>\n",
       "      <td>yen song guru ...super</td>\n",
       "      <td>Positive</td>\n",
       "    </tr>\n",
       "    <tr>\n",
       "      <th>2</th>\n",
       "      <td>my fevorat story</td>\n",
       "      <td>not-Kannada</td>\n",
       "    </tr>\n",
       "    <tr>\n",
       "      <th>3</th>\n",
       "      <td>Super ತೋಗರಿ ತೀಪ್ಪ</td>\n",
       "      <td>Positive</td>\n",
       "    </tr>\n",
       "    <tr>\n",
       "      <th>4</th>\n",
       "      <td>ನಿಮ್ಮ ಮಾತುಗಳು ಅಕ್ಷರಶಃ ಸತ್ಯ... ನಿಮ್ಮ ಈ ಸಾಮಾನ್ಯ ...</td>\n",
       "      <td>Positive</td>\n",
       "    </tr>\n",
       "    <tr>\n",
       "      <th>...</th>\n",
       "      <td>...</td>\n",
       "      <td>...</td>\n",
       "    </tr>\n",
       "    <tr>\n",
       "      <th>686</th>\n",
       "      <td>@Nandi Parthasarathi ನಿಮ್ಮ ಅಪ್ಪ ದೊಡ್ ಗಾಂಡು ಸೂಳೆಮಗ</td>\n",
       "      <td>Negative</td>\n",
       "    </tr>\n",
       "    <tr>\n",
       "      <th>687</th>\n",
       "      <td>Hugi guru badethawke</td>\n",
       "      <td>Negative</td>\n",
       "    </tr>\n",
       "    <tr>\n",
       "      <th>688</th>\n",
       "      <td>Trending no.1 wow</td>\n",
       "      <td>Positive</td>\n",
       "    </tr>\n",
       "    <tr>\n",
       "      <th>689</th>\n",
       "      <td>@Troll Stupid Fans naanu adikke kano helthirod...</td>\n",
       "      <td>Positive</td>\n",
       "    </tr>\n",
       "    <tr>\n",
       "      <th>690</th>\n",
       "      <td>@JustAn Opinion ninu Tika mucchu...Evattu Kann...</td>\n",
       "      <td>Positive</td>\n",
       "    </tr>\n",
       "  </tbody>\n",
       "</table>\n",
       "<p>691 rows × 2 columns</p>\n",
       "</div>"
      ],
      "text/plain": [
       "                                                  text        category\n",
       "0    Binduge saryagi ugithidira good go ahead  we a...  Mixed feelings\n",
       "1                               yen song guru ...super        Positive\n",
       "2                                     my fevorat story     not-Kannada\n",
       "3                                    Super ತೋಗರಿ ತೀಪ್ಪ        Positive\n",
       "4    ನಿಮ್ಮ ಮಾತುಗಳು ಅಕ್ಷರಶಃ ಸತ್ಯ... ನಿಮ್ಮ ಈ ಸಾಮಾನ್ಯ ...        Positive\n",
       "..                                                 ...             ...\n",
       "686  @Nandi Parthasarathi ನಿಮ್ಮ ಅಪ್ಪ ದೊಡ್ ಗಾಂಡು ಸೂಳೆಮಗ        Negative\n",
       "687                               Hugi guru badethawke        Negative\n",
       "688                                  Trending no.1 wow        Positive\n",
       "689  @Troll Stupid Fans naanu adikke kano helthirod...        Positive\n",
       "690  @JustAn Opinion ninu Tika mucchu...Evattu Kann...        Positive\n",
       "\n",
       "[691 rows x 2 columns]"
      ]
     },
     "execution_count": 11,
     "metadata": {},
     "output_type": "execute_result"
    }
   ],
   "source": [
    "valid_df"
   ]
  },
  {
   "cell_type": "code",
   "execution_count": 12,
   "metadata": {
    "colab": {
     "base_uri": "https://localhost:8080/"
    },
    "id": "BY80vVjRCgpK",
    "outputId": "86d88e33-534e-4807-a617-985236abfa1c"
   },
   "outputs": [
    {
     "data": {
      "text/plain": [
       "0      Binduge saryagi ugithidira good go ahead  we a...\n",
       "1                                 yen song guru ...super\n",
       "2                                       my fevorat story\n",
       "3                                      Super ತೋಗರಿ ತೀಪ್ಪ\n",
       "4      ನಿಮ್ಮ ಮಾತುಗಳು ಅಕ್ಷರಶಃ ಸತ್ಯ... ನಿಮ್ಮ ಈ ಸಾಮಾನ್ಯ ...\n",
       "                             ...                        \n",
       "686    @Nandi Parthasarathi ನಿಮ್ಮ ಅಪ್ಪ ದೊಡ್ ಗಾಂಡು ಸೂಳೆಮಗ\n",
       "687                                 Hugi guru badethawke\n",
       "688                                    Trending no.1 wow\n",
       "689    @Troll Stupid Fans naanu adikke kano helthirod...\n",
       "690    @JustAn Opinion ninu Tika mucchu...Evattu Kann...\n",
       "Name: text, Length: 691, dtype: object"
      ]
     },
     "execution_count": 12,
     "metadata": {},
     "output_type": "execute_result"
    }
   ],
   "source": [
    "valid_df['text']"
   ]
  },
  {
   "cell_type": "code",
   "execution_count": 13,
   "metadata": {
    "id": "5M7bMSkdAhbS"
   },
   "outputs": [],
   "source": [
    "#removing all the emoji from the given data\n",
    "\n",
    "def deEmojify(text):\n",
    "    regrex_pattern = re.compile(pattern = \"[\"\n",
    "        u\"\\U0001F600-\\U0001F64F\"  # emoticons\n",
    "        u\"\\U0001F300-\\U0001F5FF\"  # symbols & pictographs\n",
    "        u\"\\U0001F680-\\U0001F6FF\"  # transport & map symbols\n",
    "        u\"\\U0001F1E0-\\U0001F1FF\"  # flags (iOS)\n",
    "        u\"\\U00002500-\\U00002BEF\"  # chinese char\n",
    "        u\"\\U00002702-\\U000027B0\"\n",
    "        u\"\\U00002702-\\U000027B0\"\n",
    "        u\"\\U000024C2-\\U0001F251\"\n",
    "        u\"\\U0001f926-\\U0001f937\"\n",
    "        u\"\\U00010000-\\U0010ffff\"\n",
    "        u\"\\u2640-\\u2642\"\n",
    "        u\"\\u2600-\\u2B55\"\n",
    "        u\"\\u200d\"\n",
    "        u\"\\u23cf\"\n",
    "        u\"\\u23e9\"\n",
    "        u\"\\u231a\"\n",
    "        u\"\\ufe0f\"  # dingbats\n",
    "        u\"\\u3030\"\n",
    "        \"]+\", flags = re.UNICODE)\n",
    "    return regrex_pattern.sub(r'',text)\n",
    "\n",
    "\n",
    "for i in range(len(train_df)):\n",
    "    temp1 = deEmojify(train_df['text'][i])\n",
    "    train_df['text'][i] = temp1\n",
    "\n",
    "for j in range(len(valid_df)):\n",
    "    temp2 = deEmojify(valid_df['text'][j])\n",
    "    valid_df['text'][j] = temp2\n",
    "\n",
    "for k in range(len(test_df)):\n",
    "    temp3 = deEmojify(test_df['text'][k])\n",
    "    test_df['text'][k]=temp3"
   ]
  },
  {
   "cell_type": "code",
   "execution_count": 14,
   "metadata": {
    "colab": {
     "base_uri": "https://localhost:8080/"
    },
    "id": "ChYnt8dRI7pV",
    "outputId": "6d3d2d93-174c-491a-b40d-0616a3fde6a1"
   },
   "outputs": [
    {
     "name": "stdout",
     "output_type": "stream",
     "text": [
      "പൊളി ഡാൻസ് രക്ഷിത് ഷെട്ടി മാസ്സ്\n"
     ]
    }
   ],
   "source": [
    "print(train_df['text'][6208])"
   ]
  },
  {
   "cell_type": "code",
   "execution_count": 15,
   "metadata": {
    "id": "kvZOI__qZ7zd"
   },
   "outputs": [],
   "source": [
    "def preprocess_data(text):\n",
    "  user_name = '@[A-Za-z0-9]+' # Pattern for matching the user names in the tweet\n",
    "  has_tag = '#[A-Za-z0-9]+' # Pattern for matching the hasgtags in the tweer\n",
    "  url = 'https?:\\/\\/[A-Za-z0-9\\.\\/\\-]+' # Pattern for matching the URLs in the tweet\n",
    "  #emoji_pattern = r'/[x{1F600}-x{1F64F}]/u'\n",
    "  \n",
    "  x = text.lower()  # Lower casing all the characters\n",
    "  x = re.sub(user_name, '', x) # Replace the username with an empty characrer\n",
    "  x = re.sub(has_tag,'',x) # Replace the hashtags with an empty characrer\n",
    "  x = re.sub(url, '', x) # Replace the URLs with an empty characrer\n",
    "  #x = re.sub(emoji_pattern, '', x)\n",
    "  x = x.translate(str.maketrans('', '', string.punctuation)) # Replace all the characters except alphabets and digits from the tweet\n",
    "\n",
    "  return x"
   ]
  },
  {
   "cell_type": "code",
   "execution_count": 16,
   "metadata": {
    "id": "kXmiAchmcPq_"
   },
   "outputs": [],
   "source": [
    "train_df['text'] = train_df['text'].apply(lambda x: preprocess_data(x)) # Apply the clean_data() to all the entries in the dataframe\n",
    "valid_df['text'] = valid_df['text'].apply(lambda x: preprocess_data(x)) # Apply the clean_data() to all the entries in the dataframe\n",
    "test_df['text'] = test_df['text'].apply(lambda x: preprocess_data(x)) # Apply the clean_data() to all the entries in the dataframe"
   ]
  },
  {
   "cell_type": "code",
   "execution_count": 17,
   "metadata": {
    "colab": {
     "base_uri": "https://localhost:8080/",
     "height": 35
    },
    "id": "ZaxBiC7ByJJH",
    "outputId": "ae38c5e2-b462-4555-f29f-f75b45162824"
   },
   "outputs": [
    {
     "data": {
      "text/plain": [
       "'binduge saryagi ugithidira good go ahead  we are enjoying well'"
      ]
     },
     "execution_count": 17,
     "metadata": {},
     "output_type": "execute_result"
    }
   ],
   "source": [
    "valid_df['text'][0]"
   ]
  },
  {
   "cell_type": "code",
   "execution_count": 18,
   "metadata": {
    "colab": {
     "base_uri": "https://localhost:8080/"
    },
    "id": "l445loMxdKoP",
    "outputId": "8617819b-75bf-43bb-9698-2a86a0d8e68f"
   },
   "outputs": [
    {
     "name": "stdout",
     "output_type": "stream",
     "text": [
      "                                                   text        category\n",
      "0     ಒಂದು ದೇಶದ ಮುಂದುವರಿಯುವುದು ಅದರ ಆರ್ಥಿಕ ಸ್ಥಿತಿಯನ್ನ...        Negative\n",
      "1     ಕನ್ನಡದಲ್ಲಿ ಡೈಲಿ ಟೆಕ್ ಅಪ್ಡೇಟ್ಸ್ ಪಡೆಯಲು ಸಬ್ಸ್ಕ್ರ...        Positive\n",
      "2                                        super sar song     not-Kannada\n",
      "3     tiktokers present situation nನೋಡುವವರು ಯಾರು ನಮ್...        Negative\n",
      "4                                 super ಸಾಂಗ್ ವೆರಿ ನೈಸ್        Positive\n",
      "...                                                 ...             ...\n",
      "6207  rw   tumbad tanhaji andhadhun aise bahot hai p...     not-Kannada\n",
      "6208                   പൊളി ഡാൻസ് രക്ഷിത് ഷെട്ടി മാസ്സ്     not-Kannada\n",
      "6209  bronneen este roast madudruchina ne beku antha...        Negative\n",
      "6210  ಕೌಶಲ್ಯ ಇದ್ದವರ ಸಂಖ್ಯೆ ಕಡಿಮೆ ಇಲ್ಲ ಸರ್ ತುಂಬಾ ಪ್ರತ...        Positive\n",
      "6211                                         26 m views  Mixed feelings\n",
      "\n",
      "[6212 rows x 2 columns]\n",
      "\n",
      "                                                  text        category\n",
      "0    binduge saryagi ugithidira good go ahead  we a...  Mixed feelings\n",
      "1                                  yen song guru super        Positive\n",
      "2                                     my fevorat story     not-Kannada\n",
      "3                                    super ತೋಗರಿ ತೀಪ್ಪ        Positive\n",
      "4    ನಿಮ್ಮ ಮಾತುಗಳು ಅಕ್ಷರಶಃ ಸತ್ಯ ನಿಮ್ಮ ಈ ಸಾಮಾನ್ಯ ಜೀವ...        Positive\n",
      "..                                                 ...             ...\n",
      "686         parthasarathi ನಿಮ್ಮ ಅಪ್ಪ ದೊಡ್ ಗಾಂಡು ಸೂಳೆಮಗ        Negative\n",
      "687                               hugi guru badethawke        Negative\n",
      "688                                   trending no1 wow        Positive\n",
      "689   stupid fans naanu adikke kano helthirodu  nin...        Positive\n",
      "690   opinion ninu tika mucchuevattu kannada indust...        Positive\n",
      "\n",
      "[691 rows x 2 columns]\n",
      "\n",
      "          id                                               text\n",
      "0      Kan_1  ಈ ಹಾಡನ್ನು ಹಾಡಿದ ವಿಜಯ ಪ್ರಕಾಶ voice ಯಾರಿಗೆಲ್ಲಾ ಇ...\n",
      "1      Kan_2                                         jai d boss\n",
      "2      Kan_3                                     signature move\n",
      "3      Kan_4                                     super song bro\n",
      "4      Kan_5                        wow  super agi helidira sir\n",
      "..       ...                                                ...\n",
      "763  Kan_764                                thu thukali trailer\n",
      "764  Kan_765  siri gannadam galge haakbitallapa thu  yaro ni...\n",
      "765  Kan_766  ನಾವೇನಾದರು ಸ್ವಾಬಿಮಾನಿಯಾಗಿ ಬದುಕನ್ನು ಕಟ್ಟಿಕೊಳ್ಳಲು...\n",
      "766  Kan_767  ದಿಯಾ ನೀವು ಸೋಷಿಯಲ್ ಮೀಡಿಯಾ ಅಲ್ಲಿ ಕಾಣ್ತಿಲ್ಲnದಯವಿಟ...\n",
      "767  Kan_768  magaluru kade kalsi avanannu navu avanige madd...\n",
      "\n",
      "[768 rows x 2 columns]\n"
     ]
    }
   ],
   "source": [
    "print(train_df)\n",
    "print()\n",
    "#print(valid_df.head())\n",
    "#print()\n",
    "print(valid_df)\n",
    "print()\n",
    "print(test_df)"
   ]
  },
  {
   "cell_type": "code",
   "execution_count": 19,
   "metadata": {
    "id": "W9ClJ_HMdSnG"
   },
   "outputs": [],
   "source": [
    "train_text = train_df['text'].tolist()\n",
    "valid_text = valid_df['text'].tolist()\n",
    "test_text = test_df['text'].tolist()\n",
    "\n",
    "train_label = train_df['category'].tolist()\n",
    "valid_label = valid_df['category'].tolist()\n"
   ]
  },
  {
   "cell_type": "code",
   "execution_count": 20,
   "metadata": {
    "colab": {
     "base_uri": "https://localhost:8080/"
    },
    "id": "OOWw9McfrknT",
    "outputId": "276d272c-2294-442c-e1bb-611ec590818d"
   },
   "outputs": [
    {
     "data": {
      "text/plain": [
       "['ಈ ಹಾಡನ್ನು ಹಾಡಿದ ವಿಜಯ ಪ್ರಕಾಶ voice ಯಾರಿಗೆಲ್ಲಾ ಇಷ್ಟವಾಗಿದೆ ಲೈಕ್ ಮಾಡಿಗಾಳಿ ಮಾತಿನ ಬಜಾರು ಸುದ್ದಿ ಸಾರಿದೆ',\n",
       " 'jai d boss',\n",
       " 'signature move',\n",
       " 'super song bro',\n",
       " 'wow  super agi helidira sir',\n",
       " 'waiting  asn',\n",
       " 'film nodidmele ee song ge addict aadavaru like maadinyalllrigu thanks for 1000 likes',\n",
       " 'i like it',\n",
       " 'avanige gaya vasi agbeku andreavnu krishna na bhakti madivasi madbeku eela kaliyuga nasa agbeku',\n",
       " 'ಚಂದನ್ ಶೆಟ್ಟಿ ಟ್ರೊಲ್ ವಿಡಿಯೋ ನೀವು ನೋಡಿ ನೆಗಡ್ಡೆ ಇದ್ರೆ ನಾವ್ ಗ್ಯಾರಂಟಿ',\n",
       " 'ಮೊದಲು ನಿನ್ನ ಗುಲಾಮು ಜಾಮ್ ಬಿದ್ದಿದ್ದ ನೋಡು',\n",
       " 'sir nanu china apps na delete ಮಾಡಿದೀನಿ sir',\n",
       " 'super songs super steps',\n",
       " ' kudla kannadadalli nodi kannada version views jaasti maadi',\n",
       " 'supper bro chenngi ugdidira',\n",
       " 'ನಾನು ಸುಮಾರು ಈ ಹಾಡನ್ನು ಹದಿನೈದು ಬಾರಿ ನೋಡಿದ್ದೇನೆ ಯಾಕೆ ಗೊತ್ತಿಲ್ಲ ಇನ್ನು ನೋಡಬೇಕು ನೋಡಬೇಕು ಅನಿಸುತ್ತದೆ ಅದೇತರ ಒಂದಕ್ಕಿಂತ ಹೆಚ್ಚು ಬಾರಿ ನೋಡುತ್ತಲೇ ಇರುವವರು ಲೈಕ್ ಮಾಡಿ',\n",
       " 'nimmamman hogi alli kelsa madu gothagute',\n",
       " 'idu charitrae srushtiso cinemannae',\n",
       " 'yakappa yenaytu movie swalpa length jasti adre movie chennagide',\n",
       " 'enn guru bgm chindhi maadbitte',\n",
       " 'ಚಂದನ್ ಶೆಟ್ಟಿ ಟ್ರೊಲ್ ವಿಡಿಯೋ ನೀವು ನೋಡಿ ನೆಗಡ್ಡೆ ಇದ್ರೆ ನಾವ್ ಗ್ಯಾರಂಟಿ',\n",
       " 'ನಾನು ಸಣ್ಣಾವಿದ್ಧಾಗ ನಮ್ಮ ಅಜ್ಜ',\n",
       " 'ban maadirodakke tumba thanks matte ee tara aap barde irali',\n",
       " 'jai d bossssssssssssssssssss fan hits like',\n",
       " 'please upload drama song',\n",
       " 'as a d boss fan i support all kannada actors  kannada movies',\n",
       " 'super voice sir',\n",
       " 'god bless u ashwath sir nimma harogya chennagirali',\n",
       " 'ಈ ಚಿತ್ರದಲ್ಲಿ ಯಾವ್ ರೇಂಜ್ ಗೆ ಗ್ರಾಫಿಕ್ಸ್ ಮಾಡಿದ್ದಾರೆ ಅಂತ ಮತ್ತೊಬ್ಬ vfx ಆರ್ಟಿಸ್ಟ್ ಗೆ ಗೊತ್ತಾಗೋದು',\n",
       " 'all are fake',\n",
       " 'illa guru ashwatama na bhaashe ivrige barutte ansutte',\n",
       " 'ultimate bgm fantastic song',\n",
       " 'god bless you sir',\n",
       " 'nagaraj h jagavar a',\n",
       " ' parthasarathi ನಂದಿನಿ ಅವ್ರೆ ನಿಮ್ಮ ಹಾಲು ತುಂಬಾ ಕಾಸ್ಟ್ಲಿ ಅಂತೇ ಹೌದ',\n",
       " 'super boss nmake more vedio',\n",
       " 'ಡುಬೇಕ್ add ಕಾನುನುಬದ್ದವಾಗಿದೆಯ ಇಂಜಿನಿಯರಿಂಗ್ ಮಾಡಿ ಕೆಲಸ ಮಾಡೊದ ಬಿಟ್ಟು ಜೂಜ್ ಆಡ್ತನಂತೆ ಲಕ್ಷ  ಕಳೆದುಕೊಂಡು ಮೇಲೆ ಬುದ್ಧಿ ಬರತ್ತೆ',\n",
       " 'ನೋವು ನಲಿವಿಗೆ ಕಾರಣnಅವನೇ ಶ್ರೀಮನ್ನಾರಾಯಣ',\n",
       " 'sp song jai d boss',\n",
       " 'amazing song',\n",
       " 'first time kannada movie film video song full bittirodu',\n",
       " 'amazon prime music ali ide',\n",
       " 'ನಿಜವಾದ ಕನ್ನಡಿಗರು ಲೈಕ್ ಮಾಡಿ ಈ ಸಿನಿಮಾ ನಮ್ಮ ಸಿನಿಮಾ ಎಂದು ಗೆಲ್ಲಿಸೋಣ',\n",
       " 'ಗೋಲ್ಡನ್ ಸ್ಟಾರ್ ಗಣೇಶ್ ಅಭಿಮಾನಿಗಳಿಂದ all the best',\n",
       " 'i am kiccha fans super song',\n",
       " 'super song',\n",
       " ' t p iuuuiiuuua12l99iiiikkkjjmddeo01pokksķoo9919kkuuiuluuuuuuľiiii',\n",
       " 'ನಾನು ಅವರ ಫ್ಯಾನ್',\n",
       " 'naavu childhood days valag e story kelidde',\n",
       " 'sir nevu mele bande bartiraa neman tuldavru nem kaladi bartare aga nem time',\n",
       " 'nanu eduvaregu tik tok app install kuda madilla nan phone alli bro ede tara videos madi tik tok alli saitirorna ennomme tik tok hesar keladre bhaya padbeku aaa tara rost madi bro',\n",
       " 'steps r just lit',\n",
       " 'ನನ್ನ ಪ್ರಕಾರ ಈ ಫಿಲ್ಮ್ ಅನ್ನು rerelease ಮಾಡಸಬೇಕು',\n",
       " 'ಬಸವರಾಜ ಕೆಂಚರಡ್ಡಿ super',\n",
       " 'ಹೌದೋ ಹುಲಿಯ',\n",
       " 'olledaytu bidi mem',\n",
       " 'kera togondu odebeku nana magana',\n",
       " 'idella nam indiadaroge buddi barbeku alwa idkela tale odisidre navu yavthu munfe hogtifvi illi enidu hinduthwa jathi jagala idela beka tale odistare adrindane etara agtide',\n",
       " 'en edit madidya guru',\n",
       " 'bro suprbur voice is amazing',\n",
       " 'ನಿನಕ್ಕೂ ತುಂಬಾ ಪ್ರಾಮಿಸಿಂಗ್ ಆಗಿದೆ ಟ್ರೈಲರ್ ಟ್ರೈಲರ್ ನೋಡ್ತಾ ಇದ್ರೆ ಸಿನೆಮಾ ನೋಡಬೇಕು ಅಂತ ಅನ್ಸುತ್ತೆ ಪ್ರಜ್ವಲ್ ಸಿನಿ ಲೈಫ್ ಗೆ ಟರ್ನಿಂಗ್ ಕೊಡೋ ತರ ಇದೆ ಒಳ್ಳೆಯದಾಗಲಿ ಜಂಟಲ್ ಮನ್ ಸಿನಿಮಾ ಟೀಮ್ ಗೆ ಹಾಗೂ ಪ್ರಜ್ವಲ್ ದೇವರಾಜ್ ಗೆ',\n",
       " 'ಚರಿತ್ರೆ ಸೃಷ್ಟಿಸೋ ಅವತಾರಾ nlove you boss',\n",
       " ' sagar but create hindi muslim divide',\n",
       " 'ಏನ್ ಹೇಳಿದಿ ಗುರೂ ಸೂಪರ್ ಬಾಸ್n',\n",
       " 'nan nimm movie na theatre alle nodtini ',\n",
       " 'nam mane gu bandida',\n",
       " 'super guru tq',\n",
       " 'sir nivu thumba olle talent  iruva actor swalpa deha kammi madi modalnage stayilish agi idre nivu modalinage form ge barthira',\n",
       " 'addu pubg alla guru  sumney elbedda',\n",
       " 'awesome song',\n",
       " 'modi modi nyes papanbanning tik tok nno papan58 apps nhahaaaaaaa',\n",
       " ' videos nayyo mang badde thadhe n ಅಚ್ಚಗನ್ನಡ ಹಚ್ಚಗನ್ನಡnಅಚ್ಚಗನ್ನಡ ಸಾಮಾನ್ಯವಾಗಿ ಬಳಸುವುದು ವಾಡಿಕೆnಹಚ್ಚಹಸಿರು ಪದದಲ್ಲಿ ಹಸಿರನ್ನು ಉನ್ನತೀಕರಣಗೊಳಿಸಿ',\n",
       " 'ಇಪ್ಪತೈದು ವರ್ಷಗಳ ಹಿಂದೆ ಕೇಳಿದ್ದು ಮತ್ತೆ ಕೇಳಿದಾಗ ತುಂಬಾ ಸಂತೋಷ ವಾಯಿತು',\n",
       " 'ಕ್ಲೈಮಾಕ್ಸ್ ಚೇಂಜ್ ಮಾಡಿ ರೀ ರಿಲೀಸ್ ಮಾಡಿ ಚಿತ್ರ ಸುಪರ್ ಹಿಟ್ ಆಗುತ್ತೆ ಗ್ಯಾರೆಂಟಿ',\n",
       " 'guru pub g game',\n",
       " 'good job bro',\n",
       " 'namma galli goo bandiddru ashwatthama',\n",
       " 'ಅವಾಗ  ಕಬ್ಜ ದರ್ಶನ ಇವ್ರೆಲ್ಲಾ ಬಂದು  ಕೆಡವಕ್ತಾರೆ',\n",
       " 'hahahaha  lol nidiot beggar get lost',\n",
       " 'ಲಾಕ್ ಡೌನ್ ಸಮಯದಲ್ಲಿ ಕಾರ್ಮಿಕರು ವಲಸಿಗರು ರೆಸ್ತೆ ಮೇಲೆ ನಡೆದುಕೊಂಡು ಹೋಗುತ್ತಿರುವ ವಿಡೀಯೋಗಳನ್ನ tiktak ನಲ್ಲಿ ಜನರಿಗೆ ತೋರಿಸಲಾಯಿತ್ತು ಈ tiktak ಇಲ್ಲ ಅಂದಿದ್ದರೆ ಈ ದಳ್ಳಾಳಿ ಮಿಡಿಯಾ ಬುಲೆಟ್ ಟ್ರೈನ್ ಅಲ್ಲಿ ಹೋಗುವ ಆಗೆ ಜನರಿಗೆ ತೋರಿಸುತ್ತಿದ್ದರು ಜನರಿಂದ ಜನರಿಗೆ ಮಾಹಿತಿ ತಿಳಿಯುತ್ತಿತ್ತು\\u200c ಇದರಲ್ಲಿ ಸಾದಕ ಬಾದಕ ಇದೆಆದರೆ ಕೆಲ ಬಡ ಮಕ್ಕಳ ಟ್ಯಾಲೆಂಟ್\\u200c ಹೊರ ಜಗತ್ತಿಗೆ ತಲುಪುತ್ತಿತ್ತು ಏನು ಮಾಡೋದು ಈ ಕೆಲ ಜನ tiktak ban ಮಾಡಿದ್ದರೆ ದೇಶಭಕ್ತಿ ತರ ಫೋಸ್ ಕೊಡೋದು ನೋಡಿದರೆ ಅಸಹ್ಯ ಆಗುತ್ತದೆ ಒಳ್ಳೆಯದನ್ನು ತಗೋಳಿನಮ್ಮ ಹೆಮ್ಮೆಯ ಸೈನಿಕರಿಗೆ ಒಳ್ಳೆಯ ಆಹಾರ ಮತ್ತು ಸವಲತ್ತು ಒದಗಿಸಿ ಮತ್ತು ಚೈನಾ ಬಂಡವಾಳ ಹೂಡಿಕೆಗಳನ್ನ ನಿಲ್ಲಿಸಿ ಯಾವ ನಿಮ್ಮ ಯೋಗ್ಯತೆಗೆ ಸಣ್ಣ ಕೈಗಾರಿಕೆಗಳನ್ನ ಬುಡ ಸಮೇತ ಕಿತ್ತು ಅವರನ್ನ ರಸ್ತೆಗೆ ತಂದವರು ಯಾರು ದೇಶಭಕ್ತಿಯ ಹೆಸರಲ್ಲಿ ನಮ್ಮ ದೇಶದ ಜನಗಳ ಮೇಲೆ ದಬ್ಬಾಳಿಕೆ ಮಾಡುವ ಜನರನ್ನ ಮೊದಲು ಒದ್ದು ಹೊಡಿಸಬೇಕುಜೈಭಾರತ್',\n",
       " 'ಮ್ಯೂಸಿಕ್ ಡೈರೆಕ್ಟರ್ ಗೆ ಒಂದು ದೊಡ್ಡ ಸಲಾಂ ಯಾವುದೋ ಲೋಕಕ್ಕೆ ಹೋಗಿ ಬಂದಂಗಾಯ್ತು ನಿಜಕ್ಕೂ ಸಂಗೀತ ಮಾಂತ್ರಿಕ ಅಂದ್ರೆ ಇವ್ರರೆ',\n",
       " 'fan war shuru madbeda guru',\n",
       " 'adeno gottilla tumba ista ayta nimage',\n",
       " 'ಹೊಸ ಪ್ರಯೋಗ ಯಶಸ್ಸು ಸಿಗಲಿ',\n",
       " 'ಹೌದೋ ಹುಲಿಯಾಹಾಡು ಸೂಪರ್',\n",
       " 'ŕävîñđŕå02gøwđřú neenu beedhi soole maga neene bandu keliddu nan paadig naan comment maadidde oh neev italy yavru alva lowdre',\n",
       " 'gandu loafer jeena',\n",
       " 'bindu gowda ge sariyyagi batthi itree sir super sir neevu',\n",
       " 'dilip singh dilip dalit sangh ambedkar dalit singh song',\n",
       " 'super song',\n",
       " 'rasmika ಅಜ್ಞಾತ ',\n",
       " '465 lashmika fans found',\n",
       " 'ನೀನು ಸೂಪರ್ ಗುರು  ಆದರೆ ನಮ್ಮ ಈಗಿನ ಯುವ ಜನತೆ ಯಾಕೆ ಎ ತರ ಸಮಯ ಅಲ್ಮಾಡ್ತಾರೋ ಗೊತ್ತಿಲ',\n",
       " 'bro hubli mandi voice nallu madi chennagiruthe',\n",
       " 'song ge unlike kotiroo sulimakala',\n",
       " 'ಸೂಪರ್ ಗುರು ಟಿಕ್ ಟಾಕ್ ಗಳಿಗೆ ಮೆಟ್ಟಿನಲ್ಲಿ ಓದಿದ್ದೀಯಾ ನನ್ನತ್ರನೂ ಒಂದು ಹಳೆ ಮೆಟ್ಟಿದೆ ಕೊಡ್ತೀನಿ ತಗೊಂಡು ಬಿಡು',\n",
       " 'brother ಆ ನನ್ ಮಕ್ಳಿಗೆ ಅರ್ಥ ಆಗೋಥರ ಹೇಳಿದೀರಾ ಅವ್ರಿಗೆ ಹೀಗೆ ಹೇಳಿದ್ರೇನೇ ಅರ್ಥ ಆಗೋದು',\n",
       " 'super rakshit sir super super song super',\n",
       " 'ಹೇಡಿ ಅಶ್ವತ್ಥಾಮ ಚಕ್ರವ್ಯೂಹದಲ್ಲಿ ಅಭಿಮನ್ಯುವನ್ನು ಎದುರಿಸಲಾಗದೆ ಪ್ರಾರಂಭದಲ್ಲೇ ಜೀವ ಉಳಿಸಿಕೊಳ್ಳುವ ಸಲುವಾಗಿ ಪಲಾಯನ ಮಾಡಿಬಿಟ್ಟ ಕೊನೆಯಲ್ಲಿ ಲೋಫರ್ ದುರ್ಯೋಧನನ ಮಾತು ಕೇಳಿ ಶಾಪಗ್ರಸ್ಥನಾಗಿ ಕಲಿಯುಗದಲ್ಲೇ ತಿರುಗಾಡುತ್ತಿದ್ದಾನೆ ಒಂದು ವೇಳೆ ನನ್ನ ಕೈಗೆನಾದರೂ ಸಿಕ್ಕರೆ ಅವನನ್ನು ಛೇಡಿಸದೆ ಬಿಡಲಾರೆನು',\n",
       " 'avane shriman narayana',\n",
       " 'super song i like it',\n",
       " 'alla inta olle video gu dislike madtaralva avrige manaviyate manushyatva olle guna kuda illa ansutteenta swabhimani vyakti weekness na kuda strenth agi madkond swabhimani agi jeevna madtidaralva great sir',\n",
       " 'ಅವನೇ ಶ್ರೀಮನ್ನಾರಾಯಣ ಚಿತ್ರವು ಶತದಿನ ಆಚರಿಸಲೆಂದು ಅಖಿಲ ಕರ್ನಾಟಕ ಪವರ್ ಸ್ಟಾರ್ ಅಪ್ಪು ಬಾಸ್ ಅಭಿಮಾನಿಗಳ ಕಡೆಯಿಂದ ಶುಭ ಹಾರೈಸುತ್ತೇವೆಕೆಮಂಜು ಆದಿವಾಲ',\n",
       " 'namma janagalige taste illa avrige fighting',\n",
       " 'rs fance like here',\n",
       " 'next shankar nag born',\n",
       " 'mujhe kuch smjh nhi aaya but i luv this song',\n",
       " ' nayak ನಿಮ್ಮ ಅಮ್ಮ ಆಲ್ಸೋ ಫ್ಲಾಪ್',\n",
       " ' p  haagandre yenu nam hero yellakade gelbekalwa',\n",
       " 'd boss fanzzz in sakaleshpur',\n",
       " 'ಸೂಪರ್ ಸೂಪರ್ ಸೂಪರ್ ಫ್ಯಾನ್ ಆಗೋದೇ bro ನಿಮಗೆ',\n",
       " 'ಸುಪರ್ ಅವನೆ ಶ್ರೀಮನ ನಾರಾಯಣ',\n",
       " 'super song guru',\n",
       " 'hd move send kejiye',\n",
       " 'ಒಬ್ರು ಹೋಗಿ ಫಿಲ್ಮ್ ನೋಡಲ್ಲ',\n",
       " 'innu chenngi baidu helu bro tik tok user gee',\n",
       " 'ಇದು ಚರಿತ್ರೆ ಸೃಷ್ಟಿಸೂ ಅವತಾರ',\n",
       " 'video sir',\n",
       " 'vijayprakash sir yavagin haage the bestbut malayalam version voice maathra sakkatth ista aythu',\n",
       " 'ಅಣ್ಣ ಇನ್ನೊಂದ್ ಸ್ವಲ್ಪ ಉಗಿರಿ ಅವರಿಗೆ ನಮ್ಮ ಯೋಧರ ಬಗ್ಗೆ ಚಿಂತನೆ ಮಾಡುತ್ತಿಲ್ಲ ತಿರುಬೋಕಿ ಇನ್ನು ಸ್ವಲ್ಪ ಚೆನ್ನಾಗಿ ಉಗಿರಿ ಅಣ್ಣ',\n",
       " 'naveen raj d boss',\n",
       " 'nice movie',\n",
       " 'last scene nice guru',\n",
       " 'ಕಂಕಣ ಸೂರ್ಯ ಗ್ರಹಣದ ಸಮಯದಲ್ಲಿ ಯಾರ್ ಯಾರ್ ನೋಡ್ತಿದ್ದಿರಾ',\n",
       " 'belagavi dag release madro ',\n",
       " 'togari teeppa super',\n",
       " 'rashmika manddana goskra one sari  hogtini movie goskra dina hogtina',\n",
       " ' parthasarathi ಚಕ್ಕ ಮುಂಡೆ ನಿನ್ ತುಲ್ಲಗೆ ನನ್ ತುಣ್ಣಿ ಹಾಕ ಎಷ್ಟೇ ನಿನ್ ರೇಟು',\n",
       " 'trending no1 asn songnಮಂತ್ರ ಮುಗ್ಧಗೊಳಿಸೋ ಗೀತೆ ಕೇಳ್ತಾ ಕೇಳ್ತಾಮತ್ತೇರಿಸೋಹಾಡು',\n",
       " 'sumne irru guru yake kiriku',\n",
       " 'prajwal devraj is back',\n",
       " 'full movie upload madri ofter release pls',\n",
       " 'ಈ ಸಾಂಗ್ ಕೇಳಿ ರಶ್ಮಿಕಾ ಮಾದಣ್ಣ ಎಷ್ಟು ಹುರ್ಕೊಂಡಿದಾಳೊ ಅವ್ಳಿಗೆ ಒಂದು ಐಸ್',\n",
       " 'nange gottu ashwathama ellidane anta',\n",
       " 'sara super nivu holleya kalaviddaru sara nivu nuraru varusa chanagiri',\n",
       " 'idhu charithre shrushtiso haadu',\n",
       " 'ಇದು ಚರಿತ್ರೆ ಸೃಷ್ಟಿಸುವ ಸಾಂಗ್',\n",
       " 'sulemakale tic tok uninstall madi',\n",
       " 'super song',\n",
       " 'ಸಕ್ಕತ್ creatviity ಮ್ಯೂಸಿಕ್',\n",
       " 'super super super',\n",
       " ' shetty ಲೊ ಯಾರೋ ನಂದಿನಿ ಒನ್ ಲೀಟರ್ ಹಾಲು ಕೊಡ್ತಾಳ',\n",
       " 'nice movie deekshit super',\n",
       " 'nyc bro',\n",
       " 'ಈ ಹಾಡು ನೋಡ್ತಾ ಇದ್ರೆ ಶಂಕ್ರಣ್ಣ ನೆನಪಾಗ್ತರೆ',\n",
       " 'hollay hrudhayawantha ashwath sir hawra maganigey heee sthithi noowu',\n",
       " 'best madali olle  belavanige next level sandalwood',\n",
       " 'ಗೆದ್ದೇ ಗೆಲ್ಲುವೆ ಒಂದು ದಿನ ಗೆಲ್ಲಲೇ ಬೇಕು ನಿಮ್ಮ ಒಳ್ಳೆಯ ತನ',\n",
       " 'make avane srimanarayana part 2',\n",
       " ' parthasarathi ಉರ್ಕೊಂಡು ಊರ ಬಿದ್ದರು ಅಂದ್ರೆ ತಿಕ ಕುಡ್ಕೊಂಡು ಕಾಮೆಂಟ್ ಮಾಡಕ್ ಬಂದಿದ್ದೀರಾ',\n",
       " 'ಯಾರೇ ಆಗಲಿನನಗೆ ನನ್ನ ದೇಶದ ವಸ್ತು ಬೇಕುಬೇರೆ ದೇಶದ ವಸ್ತು ಎಷ್ಟೇ ಕಮ್ಮಿ ಬೆಲೆಗೆ ಸಿಕ್ಕರೂ ನಾನು ಕೊಂಡು ಕೊಳ್ಳುವುದಿಲ್ಲ ಅಂತ ಮನಸ್ಸು ಮಾಡಿದರೆಯಾರು ಏನು ಮಾಡಲಾಗಲ್ಲ',\n",
       " 'bindu gowda ge super agi ugididdeera',\n",
       " 'ರಕ್ಷಿತ್ ಶೆಟ್ಟಿ ಪಿಲ್ಮ ಯಾರಿಗೆ ಇಷ್ಟಯಿಂದೆ  ಅವರು ಲೈಕ್ ಮಾಡಿ ಪ್ಲೀಸ್',\n",
       " 'ನೋಡಿ ಸರ್ ಯಾವದನು ಅಲೆಗಳಗಿಲ್ಲ ನಾನು ದೇವರನ ನಂಬಲ ಅಂದರೆ ಕೃಷ್ಣನ ಖಂಡಿತಾ ನಂಬತಿನಿ',\n",
       " 'ಅನಿಸುತ್ತೆ ಬಂದಹಾಗಿದೆ ರಚಿಸಲು ಹೊಸ ಶಾಸನnಮೆರೆಯಲಿ ಗಗನದಿ ನಿಮ್ಮದೆ ಲಾಂಚನ',\n",
       " ' parthasarathi ನಂದಿನಿ ನಂದಿನಿ ನಿನ್ ತುಲ್ಲಗೆ ನನ್ ರಸ',\n",
       " 'ವೀ ವಾಂಟ್ ತಿಸ್ ಮೂವೀಸ್',\n",
       " 'game name yavdu bro',\n",
       " 'inspired by ranadheera  looks like modern ravi chandran ',\n",
       " 'nanna ballya jivana nenap aytu thanks aswini adio',\n",
       " 'ಮ್ಯುಸಿಕ್ ಅಧ್ಬುತವಾಗಿದೆ  5 ಭಾಷೆಯಲ್ಲೂ ಈ ಸಿನಿಮಾ ಶತದಿನೋತ್ಸವ ಆಚರಿಸಲೆಂದು ರಾಜವಂಶದ ಅಭಿಮಾನಿಗಳ ಪರವಾಗಿ ಶುಭ ಕೋರುತ್ತೇನೆ',\n",
       " 'hands up antha rashmika goskara bardang ide',\n",
       " ' shali ಲೈ ಶ್ಯಾಟ  ನಿನ್ ಅಯ್ಯನ್ ಯಾವ ಪ್ರಶ್ನೆ  ಕೆಳ್ದೆ ನೀನು  ಕೋಡು ನಿನ್ ನಂಬರ್ ಇಲ್ಲಾ  ಆಡ್ರಸ್ ಕೋಡು ದೆವ್ರಾಣೆ ಡೈರೆಕ್ಟ್ ಆಗಿ ಉತ್ತರ ಕೊಡ್ತೀನಿ',\n",
       " 'slow poisening song suuper',\n",
       " 'mode on',\n",
       " 'ನಮ್ಮನೆಗು ಬಂದಿದ್ದ ನಾನು ಅವನಿಗೆ ಹೇಳಿದೆ ನಿನ್ನ ಬಗ್ಗೆನೇ ಟಿವಿಯಲ್ಲಿ ತೋರಿಸುತ್ತಿದ್ದಾರೆ ಅಂದೆ ಅದಕ್ಕೆ ಅವನು ಹೇಳಿದ ಹೆಣ್ಣು ಕೋಡಬೇಕಂತ ಎಲ್ಲಾ ಕಡೆ ಹೋಡಕೋತ್ತಿದ್ದಾರೆ ಅಂತ ಹೇಳಿದಾ',\n",
       " ' s reddy 46449449494',\n",
       " 'ಇಂಡಿಯಾದಲ್ಲಿ ಚೈನಾಗೆ ಹುಟ್ಟಿರೋ ಚಕ್ಕಗಳ ತಿಕದಲ್ಲಿ ಇನ್ನು ಸ್ವಲ್ಪ ಕಾರಪುಡಿ  ಆಕ್ಬೇಕಿತ್ತು ಅನ್ಸುತ್ತೆ ಬ್ರಾ',\n",
       " 'super  maga',\n",
       " 'jana gali modlu mitron indian app bandide adanna use madbeku chaina app na modlu delete  mad beku',\n",
       " 'ನಾವೇ thukali stars ಅಂತ ಟಿಕ್ tak maritha idru ಕೆಲ sade ಗಳು ivaga ಮನೇಲಿ ಮುಸುರೆ ತಿಕ್ಕಿ baddetava',\n",
       " ' parthasarathi ನಿನ್ ತುಲ್ಲಗೆ 7ಅಪ್ ತುರ್ಕಾ',\n",
       " 'ನಾವು ಸಣ್ಣವರದ್ದೀಗಾ ಈ ನಾಟಕ ಹಳೇ ನೆನಪು ಬರತ್ತ ಇದೆ ಇದನ್ನ ಕೇಳಿ ಪುನಃ ಪುನಃ ಕೇಳಬೇಕು ಅನಿಸುತ್ತೆ ಶಂಭು ಬಳಿಗಾರ ದೊಡ್ಡ ನಮಸ್ಕಾರ ಇದೇ ತರ ನುಚ್ಚಿನ ಮಲ್ಲಯ್ಯ ನಾಟಕ ಆಪ್ ಲೋಡ್ ಮಾಡಿ',\n",
       " 'ಒಂದು ಅರ್ಥಪೂರ್ಣ ಕಥೆ ಕಾಣಿಸುವ ಸೂಚನೆ ಪ್ರಮೋದಣ್ಣ ನಿಜಕ್ಕೂ ಜೀವ ತುಂಬ್ತಾರೆ',\n",
       " 'ಪುಣ್ಯಕೋಟಿ ಮೂವಿ ಬರುವ ತನಕ ರಕ್ಷಿತ್ ಶೆಟ್ಟಿ ಯವರ ಮೂವಿ ವೇಟ್ ',\n",
       " 'prajakeeyada bagge videos madi please',\n",
       " 'nice dialogue',\n",
       " 'yarappa ee hadannu dislike madiddu  mostly rashmika 11k sarthi dislike maadirbeku ha ha ha ha',\n",
       " 'it deserves more like',\n",
       " 'superb bro ur righttiktokers ge sariyag heliddira',\n",
       " 'osm bro i vill support u',\n",
       " 'togari tippa super story',\n",
       " 'o my god supero super',\n",
       " ' kudla well said bro',\n",
       " 'song is amazing',\n",
       " 'suspense movie good kannada',\n",
       " 'bro ten minutes  video madi bro niuo mado video na nodta edre nodtane erbeku anisutte',\n",
       " 'ಮಹಾಭಾರತದ ಕಾಲದ ಭಾಷೆ ಯಾವುದಾಗಿತು',\n",
       " 'offter long back coming see kannada cinemanew multitalented shankarannakannadada gandu',\n",
       " 're release madi pakka node nodthare evaga yav theater allu ella nodoke movie tumba chennagide',\n",
       " 'ಕನ್ನಡವನ್ನು ಇನ್ನೊಂದು ಹಂತಕ್ಕೆ ಕೊಂಡೊಯ್ಯುವುದರಲ್ಲಿ ಸಂದೇಹವೇ ಇಲ್ಲnರಶ್ಮಿಕ ಕಕ್ಕ ಅವರೇ ನೋಡಿ ಉರ್ಕೊಳ್ಳಿ',\n",
       " 'barri dabba movie ne unn maado du',\n",
       " 'ಏನೋ ಪಾ ಅಷ್ಟ್ ಇಷ್ಟ ಆಗ್ಲಿಲ್ಲ ಏನೇನೋ ಇದೆ ಹಿಂದಿ ಪ್ರೇಕ್ಷಕರಿಗೆ ವಿಚಿತ್ರ ಎನ್ನಿಸ ಬಹದು',\n",
       " '31 m',\n",
       " 'hidden details in trailer of avane srimanarayana n',\n",
       " 'nane nam vasthu pradashnke bandidru gotha',\n",
       " 'dbøss munde ivanu baccha',\n",
       " 'ಈ ಚಿತ್ರದಲ್ಲಿ ಯಾವ್ ರೇಂಜ್ ಗೆ ಗ್ರಾಫಿಕ್ಸ್ ಮಾಡಿದ್ದಾರೆ ಅಂತ ಮತ್ತೊಬ್ಬ vfx ಆರ್ಟಿಸ್ಟ್ ಗೆ ಗೊತ್ತಾಗೋದು',\n",
       " 'ottinalli navu uddara',\n",
       " ' shaikh hesru adru nettug tilkolo',\n",
       " 'ayoo super annaaaa',\n",
       " 'nange aaki kastadalli idhene',\n",
       " 'superb trailer ',\n",
       " 'one next level movie',\n",
       " 'hindi version release in t series',\n",
       " 'upload volume 2 please',\n",
       " 'super kannada film industry changing',\n",
       " 'ರಕ್ಷಿತ್ ಶೆಟ್ಟಿ ಸಿನಿಮಾ ಹಾಗೂ ಹಾಡು  ಒಂದೇ  ರೀತಿ ಒಮ್ಮೆ ನೋಡಿದರೆ  ಅರ್ಥ  ಆಗಲ್ಲ ಮತ್ತೊಮ್ಮೆ  ನೋಡಿದರೆ ಮಾತ್ರ ಕನೆಕ್ಟ್  ಆಗುತ್ತೆ  ಎಂದು ಮತ್ತೊಮ್ಮೆ ಕೇಳುವವರು  ಹಾಗೂ ನೋಡುವವರು  ಲೈಕ್ ಮಾಡಿ',\n",
       " 'ಸಿನಿಮಾ ಮನೋಜ್ಞವಾಗಿದೆ ಮತ್ತೊಮ್ಮೆ ಮಗದೊಮ್ಮೆ ನೋಡಬೇಕೆನಿಸುವ ಚಿತ್ರ ಪ್ರತಿಯೊಂದು ಪಾತ್ರವು ಮನಮುಟ್ಟುತ್ತದೆ ಇಂತಹ ಚಿತ್ರಗಳನ್ನು ಕನ್ನಡಿಗರು ಎಂದಿಗೂ ಬಿಟ್ಟು ಕೊಡುವುದಿಲ್ಲ ಚಿತ್ರಮಂದಿರಗಳದವರು ತಪ್ಪು ಕಲ್ಪನೆಯಲ್ಲಿದ್ದಾರೆ ಚಿತ್ರವು ನಿಧಾನವಾಗಿ ಲಯಕ್ಕೆ ಮರಳುತ್ತಿತ್ತು ದಯವಿಟ್ಟು ಚಿತ್ರಮಂದಿರಗಳ ಸಂಖ್ಯೆಯನ್ನು ಹೆಚ್ಚಿಸಿ',\n",
       " 'ಈ ಹಾಡನ್ನು ಕೇಳುತ್ತಿದ್ದರೆ ನನಗೆ ಸ್ವಾಗ್ ಸೆ ಕರೆಂಗೆ ಸಬ್ಕಾ ಸ್ವಾಗತ್ ಹಾಡು ನೆನಪಾಗುತ್ತೆnಸ್ವಲ್ಪ ಹಾಗೇನೇ ಇದೆ ಮ್ಯೂಸಿಕ್ ಅಂತ ನನಗೆ ಅನ್ನಿಸ್ತುn',\n",
       " ' anna super',\n",
       " 'movie nodadmele bandhoru like madi nee movie kuda fan india movie agutthe annoru like madi',\n",
       " 'ಚಮಯ್ಯ ಮೇಸ್ಟ್ರು ಅವರ ಆಶೀರ್ವಾದ ಯಾವಾಗಲೂ ಇರುತ್ತೆ ನಿಮ್ಮಲ್ಲಿ ಸ್ವಾಭಿಮಾನ ಇದೆ ಆಗು ನಿಮ್ಮಲ್ಲಿ ಒಂದು ಛಲ ಇದೆ',\n",
       " 'yaradru sahitya haktara anta nodtidd',\n",
       " 'hands up  super song',\n",
       " 'idu charitre srutsiro song',\n",
       " 'thu yar guru karma ithara video gu dislike madtare ',\n",
       " 'kushi avare nimma mele thumba love aagide  great acting',\n",
       " 'i love rakshith',\n",
       " 'vijaykumar s kumsi  hotelnkumsi',\n",
       " 'ಸಕ್ಕತಾಗಿ ಹೇಳಿದ್ಯಾ ಗುರು',\n",
       " 'shankar nag boss tara yaru barala barake agala adu bandre adu uppi avru matra aste always king mekar is uppi and shankar nag bossssssssss',\n",
       " 'song starting english quote tegdu kannada dalle iddiddre chennagirtittu',\n",
       " 'ಕನ್ನಡ ಇಂಡಸ್ಟ್ರಿಯಲನಲ್ಲಿ ರಕ್ಷಿತ ಶೆಟ್ಟಿ ಅಂದ್ರೆ ಅಮೀರ ಖಾನ್ ಇದ್ದಂಗೆ',\n",
       " 'super kannda super',\n",
       " 'bari prayojanake barada films nododu facebook youtube li comments hodiyoduyaavalo hudugi siktale anta instagram li search madodo ede indians hanebaraha dhesha uddara hada hage ayyo',\n",
       " 'ganesh bhat ಅಯ್ಯೊ ಮರಾಯ ನನ್ನಗೆ ನಿನ್ನ ಮನೆ ಮಜ್ಜಿಗೆ ಯಾಕಪ್ಪಾ ಯಾರಾದರೂ ದಾರಿಹೊಕರಿಗೆ ನಿಡಪ್ಪಾ',\n",
       " ' parthasarathi ನಿನ್ ತುಲ್ಲು ಉರಿತ ಲೋಕಲ್ ಚಾಯ್ಸ್ ಕುಡುದೇ ಏನ್ ಕಿತ್ಕೊ ತಿಯ ಬ ನನ್ ತುಣ್ಣಿ ಉಣ್ಣು ಹ rmd ನೇ ತಿಂದೆ ನಿಂಗೇನು ತುಲ್ಲು ಉರಿ',\n",
       " 'ಚೈನಾ ಮಾಲ್ ಗಳ ಉತ್ಪಾದನೆ ರಫ್ತು ಹಾಗೂ ಮಾರ್ಕೆಟಿಂಗ್ ಬಗ್ಗೆ ಎಲ್ಲಾ ಮಾಹಿತಿ ನಿೇಡಿದ್ದಿೇರಿ  ನಮನ',\n",
       " 'miss ella madkololla bidi i can downlode in teligram or  swalpa dena odre tv nalle bharuthe',\n",
       " 'ನೀವು ಬಾಳ್ವೆ ನಡೆಸುತ್ತಿರುವ ರೀತಿ ತುಂಬಾನೇ ಚೆನ್ನಾಗಿದೆನಿಮ್ಮ ಮಾತಿನಲ್ಲಿ ತುಂಬಾ ತೂಕವಿದೆ',\n",
       " 'siddu c ramannavar',\n",
       " 'paapa yaro hair oil bagge helkodthidre niv yake oppose maadthiraadu avara ishta avaru yelli aadaru copy maadli niv yavathu yenu copy maadillvaniv hege nim opinion helidri avru ashte avara opinion helidru ashteniv maathadidu avarige sari ansalla',\n",
       " 'ಇದು ಚರಿತ್ರೆ ಸೃಷ್ಟಿಸೊ ಅವತಾರ',\n",
       " 'spr song guruuu',\n",
       " ' chiru le child chapati gala artha maadkolli film chennagidre yaar hero ne irli naan nodtini nim booos aagli',\n",
       " 'bindu gowdaaaaaa yakamma',\n",
       " 'सर आप लोगो से निवेदन है आप छत्तीसगढ़ मध्य्प्रदेश इस तरफ़ खुद की टाकीज खरीद लीजिये जिसमे सिर्फ साउथ की डब मूवी ही चलेगी आपसे रिक्वेस्ट है आप पैसा इन्वेस्ट करके दिखे छत्तीसगढ़ दुर्ग में तरुण बिग सिनेमा खाली हो रहा है आप दुर्ग में इन्वेस्ट कर सकते है nफिर क्या आप लोग धीरे धीरे पूरे हर जिलों में 1 सिनेमा घर आप अलॉट करते जाना फिर देखना आपकी हर मूवी को हम देख सकते है और अच्छा बिजनेस भी कर सकेगी',\n",
       " 'ಅವನೇ ಶ್ರೀಮಾನ್ ನಾರಾಯಣ  ಕುಡುಕನ ವರ್ಷನ್nnಹೇ ನಿಮ್ಮನ್ನೆಲ್ಲ ಯಾರೋ ಒಳಾಗ್ ಬಿಟ್ಟಿದ್ದೂnnನನ್ ಮುಖ ನೋಡಿ ಕೇಳ್ತಿದೀಯಾnnಬೋರ್ಡು ಕಾಣುಸ್ತಾ ಇಲ್ವಾ',\n",
       " 'adu nambike ashte',\n",
       " 'ನಮಗೆಲ್ಲ ನಮ್ಮ legendsನ ಕೆಲವರಲ್ಲಿ ಕಾಣುತ್ತೇವೆ               1ವಿಷ್ಣುವರ್ಧನ್ಕಿಚ್ಚ ಸುದೀಪ್      2ಡಾ',\n",
       " 'super song guru',\n",
       " 'sir nim left kaalu samasye  iruvudu  rinda neevu automatic gear iro gaadi odusbodu alva sir nimage tumba help agute',\n",
       " 'ದರ್ಶನ್ ಅಭಿಮಾನಿಗಳ ಕಡೆಯಿಂದ ಆಲ್ ದ ಬೆಸ್ಟ್ ಆಲ್ ದ ಬೆಸ್ಟ್',\n",
       " 'ದೂಳು ಮಗಾ ಸಾಂಗ್',\n",
       " 'ಕಮ್ಯೂನಿಸ್ಟ್\\u200c ರಾಷ್ಟ್ರ ಅಲ್ವಲ್ಲ ಭಾರತ',\n",
       " 'nam kannada songs yavglu super hit',\n",
       " 'ಇದು ಚರಿತ್ರೆ ಸೃಷ್ಟಿಸೋ ಅವತಾರn ಕಲಿಯುಗದಲ್ಲಿ ಕನ್ನಡಿಗನೇ ಸಾರ್ವಭೌಮ',\n",
       " ' parthasarathi ನಿಮ್ಮ ಅವ್ವುನ್ ತುಲ್ಲಗೆ ಹಳಸಿದ್ ಹೋಳಿಗೆ ಹಾಕ',\n",
       " 'yanta jana brother nam deshakkoskara 1 app delete madoke agalva avarige',\n",
       " 'bro nim maath keli china app hogli indian app nallu video madalla bidi',\n",
       " 'best song love it',\n",
       " 'ashwathamana bagge thiliyalu raktha rathri emba yakshagana nodiri',\n",
       " 'hands up english alva',\n",
       " 'iam vijay devara konda hater',\n",
       " 'kannada films next level',\n",
       " 'last  ತನಕ ನಕ್ಕಿ ನಕ್ಕಿ ಹೊಟ್ಟೆ ನೋವು ಬಂತು',\n",
       " 'hands up',\n",
       " ' parthasarathi kurukshethra hindi version relies madoke helu first dubbing madi yak waste madthira',\n",
       " 'ಸೂಪರ್ ಗುರು ಲೋವ್ ಯು',\n",
       " 'super song vj',\n",
       " 'bari sokuda film marre',\n",
       " ' asha good be happy',\n",
       " 'gta 5 bro',\n",
       " 'ಹೋದರೆ ಹೋಗ್ಲಿ ಬಿಡಿ ರಶ್ಮಿಕ ಅವಳೇನು ತ್ರಿಪುರ ಸುಂದರಿನಾ ಬಿಟ್ಟಾಕಿ',\n",
       " 'ಹಲೋ ಸರ್ ಅಪ್ಪಾಜಿ ತರ ಅದ್ಭುತ ಪಾತ್ರಗಳನ್ನು ನಿರ್ವಹಿಸಿ ಖಂಡಿತ ಯಶಸ್ವಿ ಆಗ್ತೀರಾ',\n",
       " 'rock siddu yaako gaandu soole magane naanu ninna thangina rape maadidna yelo mathannu ole mathanaadu nanagu baahi ide nanage gothilade thapagide neenu mathado reethi badalisiko ',\n",
       " 'super bari kalaberake bashe keli keli sustagittu adakke ee video swaccha sundara basheya balake agirodrinda ishtavaytu',\n",
       " 'i like prutvi ambar adi style',\n",
       " 'est sari kelidrunu kelbek anusutte',\n",
       " 'e trailer nodtidre eno ontaraa feel agutte but e movie ena ide annodu   tilibekide',\n",
       " 'ಸೂಪರ್ ಅಣ್ಣ ನೀಟಾಗಿ ಅರ್ಥ ಆಗೋ ಹಾಗೆ ಹೇಳಿದಿಯ  ಈ ಶಡೇಗಳು ಅರ್ಥ ಮಾಡ್ಕೋಬೇಕು',\n",
       " 'ಸರಿ ಬುಡ್ಲ ಅಣ್ತಮ್ಮ',\n",
       " 'nam kannada heroes ge support maadade dislike kodtiralla enro neevu  all the best from d boss fans',\n",
       " 'next song gu kuda alru andre evaga yar comment  madidera alla alrru like madi share madi nam industry na next level ge togond hogaona',\n",
       " ' a phoenix hm avarige ade helbku kushi padli swalp',\n",
       " ' of india  ನಮ್ಮ ದೇಶದ ಹಾ ಪಾರ್ಟಿ ದೇಶ ವನ್ನು ತುಂಡು ತುಂಡು ಹಾಗಿ ಮಾಡ್ತೀನಿ ಅಂತ ಹೇಳ್ತಾರೆ ಇದಕ್ಕಿಂತ ದೊಡ್ಡ ಮಾತು ಬೇಕಾ kanniya  kumar',\n",
       " 'dislike madiroru rashmika kade avre erbeku',\n",
       " 'sir nivu tumba olle olle programs madtira sir',\n",
       " 'superb video bro',\n",
       " 'superagi heludri bro',\n",
       " 'ಚರಿತ್ರೆ ಸೃಷ್ಠಿಸೋ ಅವತಾರದ ಈ ಸಾಂಗ್  ಸಿನಿಮಾಗೆಕಿಚ್ಚ ಫ್ಯಾನ್ಸ್ ಕಡೆಯಿಂದ ಆಲ್ ದ ಬೆಸ್ಟ್',\n",
       " 'ondu muttinantha kathe iruva cinema',\n",
       " 'super sir',\n",
       " 'nice togari tippa',\n",
       " ' k k hawdo nin amman gaandu dagaar fans avna yogyathe hendthi kayi murdu jail ge hogi petty thing ubsa jaasti aagi ashtottige saarati andre lion king movie remake release maadkottiddu nam kiccha  eega helu hendthi hodidu jail ge hodonu balegaarana jail olage idda kaami paravaagi film release maadkottinu balegaarana utra kodo nayi adukje helodu avnanna dagaar soolenagan antha nin amma haaku steppu alla thika muchkond',\n",
       " 'kgf chaffer 2 bega bara beku',\n",
       " 'sakat ag ede song bros yelru share madana plz nim whatsapp alli',\n",
       " 'ಮಸ್ತ್ ಇದೆ ಗುರೂ',\n",
       " 'yarella e hadige edict agidira like madi',\n",
       " 'god bless u sir',\n",
       " 'vere level bro',\n",
       " 'guru nin heliddu super nijaadre e bindu lowda avn ammun tukali sule maklige uriyutte ade indiyadalli gst jasti madidre strick madthare ade tik tok madi chinage amount hodre kushi agthare ivrella bharatiyaralla chinise tunnege uttdoru',\n",
       " 'super song amazing lyrics',\n",
       " ' nayak ನೇ ಮಿಂಡ್ರಿ ಮಗ',\n",
       " 'music sup company',\n",
       " 'vikranth dhanush  ನೀವೂ ಮಾಡಿರೋ ಪದ ಆಂಗ್ಲಭಾಷೆಯಲ್ಲಿ ಇದೆ ಅದು ಹಾಗೆ',\n",
       " 'namma manigu banndidda ashwathama',\n",
       " 'idu actually chenag irodu',\n",
       " 'ಮೂವಿಗಾಗಿ ಕಾಯುತ್ತಿರುವವರು ಲೈಕ್ ಮಾಡಿ',\n",
       " 'all di best for d boss fans',\n",
       " 'sir ಗೊತ್ತು sir ಈ video ಮಾಡಿ 1ವಾರ ಆಗಿದೆ ಅದುನ್ನ ಮೊದ್ಲು ನೋಡಿ sir',\n",
       " 'jack sparrow r s',\n",
       " ' parthasarathi ಹಡಿತೀನಿ ಬಂದ್ರೆ ತುಲ್ಲರೆ no ಹಾಕೆ ಬೇವರ್ಸಿ',\n",
       " 'rakshith shetty fans ondu like kodi nn',\n",
       " 'like kiccha fans',\n",
       " 'best film ide sirr love u alla ಯಾಕೆ ಇ film ಇಷ್ಟ ಅಂದ್ರೆ ಇದರಲ್ಲಿ ಬರುವ ಪಾತ್ರ ನಮ್ಮ್ಗ ಎನೂ link ಇದೇ ಅನ್ನೋ ಥರ ಇದೆ supper sir',\n",
       " ' parthasarathi kurishetra alla adu kurukshetra ',\n",
       " 'ayyo guru yelli tanka jana moodnambke bidalvo alli tanka inta shatnayakru useless videos haktane irrtare gurunmahabharata tumba olle moral story jeevanakke bekagiro tumba paata ide idralli adunella use madkondu olle jeevna madbeku aste',\n",
       " 'en helde guru super agi helde  tiktok',\n",
       " 'hands up nahi hands down',\n",
       " 'all da best',\n",
       " 'entha promotion illa hindi realise agutta annode doubt',\n",
       " 'ಆದರೆ ನಿಮ್ಮ ಕಾಮೆಂಟ್ ಗೆ ಲೈಕ್ ಮಾಡಿದವರು ರಕ್ಷಿತ್ ಫ್ಯಾನ್ಸ್',\n",
       " 'pruthvi avre nim acting super',\n",
       " 'ಇದು ಚರಿತ್ರೆ ಸೃಷ್ಟಿಸೊ ಅವತಾರ nಇದು ಚರಿತ್ರೆ ಸೃಷ್ಟಿಸೊ ಚಲನಚಿತ್ರ nಹೌದು ಹುಲಿಯ',\n",
       " 'love from kerala anteeri adre olle movie ge support madalla',\n",
       " 'sariyagi helidira bro',\n",
       " '36 m nvideo viral agthila',\n",
       " 'ŕävîñđŕå02gøwđřú noh ravindra lowdre naanu space nalli idini hudukikond baroke rocket beku nin yogyate ge adella illa bidu',\n",
       " 'super ri boss lovely jai kiccha fans jai rakshith shetty boss',\n",
       " 'omg  so good song',\n",
       " 'step was awesome',\n",
       " 'super gurusariyagi baydidya eshtu ugudhru enna buddi baralla kelavu mundegalige',\n",
       " 'ಸೂಪರ್ ಅದ್ಭುತವಾದ ಸಿನೆಮಾ',\n",
       " 'chindi guru tik tok ban agi yar thika urkoltha avree avru hogi indian army mathe modhiji naa keli lowda antha tik tok li questions madodala',\n",
       " 'ಕ್ರೇಜಿ ಸ್ಟಾರ್ ರವಿಚಂದ್ರನ್ ಸ್ಟೈಲ್ ಮೇಕಿಂಗ್ ಕಾಪಿ',\n",
       " 'ಸೂಪರ್  ಬ್ರದರ್',\n",
       " 'shobha  a',\n",
       " 'ಸರ್ ನಿಮ್ಮ ಸ್ವಾಭಿಮಾನ ನಮ್ಮ ಅಂತಾ ಎಷ್ಟೋ ಜನಕ್ಕೆ ಸ್ಫೂರ್ತಿ ಸರ್ ನಿಜವಾಗ್ಲೂ ನೀವು ಗ್ರೇಟ್ ಸರ್ ನಿಮಗೆ ಸೋಲು ಅನ್ನೋದೇ ಇಲ್ಲಾ ಸರ್ ಯಾಕಂದ್ರೆ ನೀವು ಜೀವನದಲ್ಲಿ ಗೆದ್ದು ಸೋತವರು ಅಲ್ಲಾ ಸರ್ ಸೋತು ಗೆದ್ದುವರು',\n",
       " 'super song ma',\n",
       " 'ನೀ ಬೇಳಿಬೇಕು ಬ್ರದರ್ nಇನ್ನೂ ಎತ್ತರಕ್ಕೆ',\n",
       " 'rasmika ge  uribeku nimma cenema successful kanabeku hagu nimma jodi shanvi madam rakshit shetty jote  maduve agabeku idu nimma abhimani asheya',\n",
       " 'shambu baligar avara maathaduva shaili super',\n",
       " ' raj arya nija kananna',\n",
       " 'super sir',\n",
       " 'sata bita jaga fill hagede dud',\n",
       " 'movie quality superb',\n",
       " 'ಒಳ್ಳೆಯ ಟೇಸ್ಟ್ ಅನ್ನೋದು ಎಲ್ಲರಿಗೂ ಇರೊಲ್ಲ ಕೆಲವರಿಗೆ ಮಾತ್ರ',\n",
       " 'ಸೂಪರ್ ಸಾಂಗ್ ಹುಚ್ಚೆಬ್ಬಿಸುವ ಸಾಂಗ್',\n",
       " ' vinu  hindu muslim cristian etc etc yella naav naav madkondirodu yella manushyaru onde',\n",
       " 'such a nice bro',\n",
       " 'a super bro',\n",
       " 'jai d boss jai simple',\n",
       " ' vn sule maga neenu ade bere ide bere',\n",
       " 'superb man',\n",
       " 'kannada cinema nimma antha budhijeevi na ullaskollalike agilla antha tumbaa bejaar aagute',\n",
       " 'barli guru innondu video sakaglilla begaaaaaaaaaaa',\n",
       " 'ಏನ್ ತುಕಾಲಿ ಫ್ಯಾನ್ಸ್ ಮರ್ರೆ ಟ್ರೈಲರ್ ಬಗ್ಗೆ ಕಾಮೆಂಟ್ ಮಾಡೋದು ಬಿಟ್ಟು ಆ ಫ್ಯಾನ್ಸ್  ಕಡೆಯಿಂದ ಅಲ್ ದಿ ಬೆಸ್ಟ್ ಈ ಫ್ಯಾನ್ ಕಡೆಯಿಂದ ಆಲ್ ದಿ ಬೆಸ್ಟ್ ಥು ಇವ್ರ ಜನ್ಮಕ್ಕೆ',\n",
       " 'asn film nodoru like maadi',\n",
       " 'ಸೂಪರ್ ಆಗಿ ಬಂದಿದೆ ನಿಮ್ಮ ಟ್ರೈಲರ್ ಈ ಫಿಲಂ ನಿಮ್ಮ ಲೈಫ್ ಅನ್ನು ಚೇಂಜ್ ಮಾಡಲಿ ಪ್ರಜ್ವಲ್ ಅವರೇ ಕೆಲವರಿರುತ್ತಾರೆ ಅವರ ಲೈಫಲ್ಲಿ ಏನೂ ಮಾಡಲಿಕ್ಕೆ ಆಗಲ್ಲ ಇನ್ನೊಬ್ಬರ ಬಗ್ಗೆ ಮಾತನಾಡುತ್ತಾರೆ ಅಂತ ರಿಗೆ ನೀವು ಏನು ಹೇಳಿದರೂ ಪ್ರಯೋಜನ ಇಲ್ಲ ನಿಮ್ಮ ಈ ಫಿಲ್ಮ್ ಯಶಸ್ಸು ಕಾಣಲಿ ಜೈ ಕರ್ನಾಟಕ',\n",
       " 'aagle tv li haaaktidaaralla guru',\n",
       " 'ಸೂಪರ್ ಬಗ್ರೌಂಡ್ music',\n",
       " 'olle kannada song anthane helbahudhu',\n",
       " 'black heart ala',\n",
       " 'basavaraj tambak artha madbeku movie na movie thara nodbeku',\n",
       " 'lo gaandu nan magne d boss fans yake sata tariyoke dislike madtara nbere avru nodi urkolokke en avru bucket and balegara fans he',\n",
       " 'ನನ್ನ ಗೆಲ್ಲೋದು ಊಹೆಗೂ ಮೀರಿದ ಸಾಹಸnosm line',\n",
       " 'super duper guru',\n",
       " 'sie good eveninig',\n",
       " 'nam kannada songs yavglu super hit',\n",
       " 'gubaal tennis ge ball',\n",
       " 'thumba vishaya galannu thilisi kotri amar prasad ravare thank you',\n",
       " ' manjithaya bro parabhase alla film chennagirod nodtare ashte',\n",
       " 'awesome moviefrm kolkata',\n",
       " 'movie yavaga boss',\n",
       " 'ಅಯ್ಯೇೂ ಅಲ್ಲು ಮಾಡ್ತಾರೆ tic toc  ನ',\n",
       " 'k g f ka baap',\n",
       " 'different ಮ್ಯೂಸಿಕ್ ಸರ್nಅಜನಿಶ್ ಸರ್ ಗೆ ಧನ್ಯವಾದಗಳು',\n",
       " ' monsterkannada bande iru haktini nim amman tulge sule khaan',\n",
       " 'jai hind  guru  nimge  ondu     super  agi madidira   hinta  nanna makkalige nanna  deshada bagge enu gottu avarige   tiktok alla nale  avaru  sattu  hogtare alva   tiktok nu baralla tamte hodiyakke  janru baralla   adannu  tiktok madkondu  aram agirli anta  tiktok madi kalastare nanna makligennnall videos  super  guru  nim no send madi',\n",
       " 'super song i love it',\n",
       " 'ಜನ ಯಾಕೆ ಥಿಯೇಟರ್ ಗೆ ಬರ್ತಿಲ್ಲ ಅಂದ್ರೆ piracy ಫೋನ್ ಅಲ್ಲೇ movie ಸಿಗುತ್ತೆ ಮತ್ಯಾಕೆ ಥಿಯೇಟರ್ ಗೆ ಹೋಗೋದು ಅಂತ ಬರೋಲ್ಲ ಜನ',\n",
       " ' nrj nijavada matu atleast navu avaranna nodi kaliyo pathagalu tumba irutte',\n",
       " 'ಕಳಪೆ ವಸ್ತುಗಳ್ನು ಉತ್ಪದಾನೆ ಮಾಡಿ ಬೇರೆಯವರ ಹೊಟ್ಟೆಮೇಲೆ ಒಡಿಯೋದು ತಪ್ಪಲ್ವ',\n",
       " 'enna views beku share madi frnds',\n",
       " 'ದೃಷ್ಟಿ ನನ್ನೋಬ್ಬನ ಮೇಲಿಡಿ ತಪ್ಪದು ನಿಜ ಮನರಂಜನೆ film nodo munchene ee song ista adavaru like madi',\n",
       " 'tik tok almadidu aythu innu instagram alva anna nam support ede anna',\n",
       " 'hundred persent true guruuu',\n",
       " 'awsme songs sir',\n",
       " 'meaningful video bro',\n",
       " 'anna e game yavadu',\n",
       " 'ಎನ್ ಗುರು ಎನ್ ಲಿರಿಕ್ ಎನ್ ಮ್ಯೂಸಿಕ್ ನಮ್ಮ ಮನೆಯಲ್ಲಿ ಈ ಹಾಡಿಗೆ ಫುಲ್ ಫೀದ ಆಗಿದರೆ',\n",
       " ' stupid fans halkat sulemagne nin amman thullu sulemagne gaandu nayi sulemakla d boss bagge matadidre sulemagne ninnamman keythini ashte nayi rande soole maga nim amman kalisu keythini soole rande magne',\n",
       " 'comments nali like madidre illi unlike madi super song  ni will coming soon back ⏳ n100 days super it move pakka',\n",
       " 'nivu madidu karekt',\n",
       " 'ಇದು ಚರಿತ್ರೆ ಸೃಷ್ಟಿಸೊ ಅವತಾರ ಕನ್ನಡ ಚಿತ್ರರಂಗಕ್ಕೆ ರಕ್ಷಿತ್ ಶೆಟ್ಟಿ  ಸಂಗೀತ ನಿರ್ದೇಶನ ಸುಪರ್ ಮತ್ತೊಂದು ಬ್ಲಾಕ್ ಬಸ್ಟರ್ ಚಿತ್ರ ಬರ್ತಾ ಇದೆ',\n",
       " 'nija super movie please re release maadi',\n",
       " '100 days pakka super',\n",
       " 'priswi perera changide guru',\n",
       " 'copycat raja rakshith shetty',\n",
       " 'ಗುರುಗಳೇ  ನನ್ನ ಹೆಸರು ಗವೀಶ್  ಕೊಪ್ಪಳnನಾನು ಚಿಕ್ಕವನಿದ್ದಾಗ ತೊಗರಿ ತಿಪ್ಪನ ಕಥೆಯನ್ನು  ಕೇಳಿದ್ದೆ',\n",
       " 'gichha song appsji',\n",
       " 'bro niv helladu nija',\n",
       " 'brother nange kanniranna control madlikke agalilla nanage nanna ammana nenapu kadtide jotege idu out of feeling',\n",
       " 'hands upn update on december 31stjai ',\n",
       " 'super togari tipa',\n",
       " 'bro niv sarige helidri',\n",
       " ' spalling misteek madbardu adu d boos',\n",
       " 'ಚಂದನ್ ಶೆಟ್ಟಿ ಟ್ರೊಲ್ ವಿಡಿಯೋ ನೀವು ನೋಡಿ ನೆಗಡ್ಡೆ ಇದ್ರೆ ನಾವ್ ಗ್ಯಾರಂಟಿ',\n",
       " 'togari tippa supar',\n",
       " 'ನಿಮ್ಮಯಲ್ಲ ವಿಡಿಯೋ ನೋಡೋಕೆ ತುಂಬಾ ಖುಷಿ ಆಗುತ್ತೆ ಇನ್ನು ಈ ರೀತಿ ವಿಡಿಯೋ ಗಳನು ಮಾಡಿ nthank u',\n",
       " 'ಲೈಕ್ ಯಾಪಿ ಚಿನ್ನದ ತಾನೆ',\n",
       " 'ಚಂದನ್ ಶೆಟ್ಟಿ ಟ್ರೊಲ್ ವಿಡಿಯೋ ನೀವು ನೋಡಿ ನೆಗಡ್ಡೆ ಇದ್ರೆ ನಾವ್ ಗ್ಯಾರಂಟಿ',\n",
       " 'super togari tippa',\n",
       " 'super songnಜೈ ಕರ್ನಾಟಕ ಜೈ ಕನ್ನಡ',\n",
       " 'super song nam kannada song',\n",
       " 'ನೀವ್ ಹೇಳೋದ್ರಲ್ಲಿ ಏನು ತಪ್ಪಿಲ್ಲ ಬ್ರದರ್',\n",
       " 'looks promising',\n",
       " 'yar guru ninusuper',\n",
       " 'ಹೊಲಸ ರಾಜಕಿಯ ದಿಂದ ನಮ್ಮ ದೆಶ ಅದಕ್ಕೆ ಹಿಂದ ಉಳಿದಿದೆ',\n",
       " 'ಯುದ್ಧ ಮಾಡಬೇಕು ಓದಬಾರದುnಕಟುಕರ ಮುಂದೆ ಭಗವದ್ಗೀತೆ nnಇದು ಚರಿತ್ರೆ ಸೃಷ್ಟಿಸೋ ಅವತಾರnರಕ್ಷಿತ್ ಸರ್',\n",
       " 'what does sanvi mean',\n",
       " 'movie chennagi ide',\n",
       " 'supar  love',\n",
       " ' dhanush handsup kannada pada yenu polsaru yava pada use madtare',\n",
       " 'this song like drinking',\n",
       " 'may be sanskrit',\n",
       " 'super song bro thank you vijay prakash sir great singer',\n",
       " 'nice song love u  song  nice dancee  superrrr',\n",
       " 'editing yar guru ',\n",
       " 'shivanand kattimani  12 9 2018',\n",
       " 'dharsha ge rost madu guru pls',\n",
       " 'good job bro',\n",
       " '  you tube ಕನ್ನಡದಲ್ಲಿ ಹೇಳಬೇಕೆಂದರೆ  ನೀನು ಕೊಳವೆ ',\n",
       " 'ಎಲ್ಲಾ ಸರಿ ಗುರು',\n",
       " 'मला भाषा समजली नाही पण गाणे खूप आवडले',\n",
       " 'very true bro',\n",
       " 'super tippa story',\n",
       " 'nangooo koodannan utube nalli nodide',\n",
       " 'i m waiting',\n",
       " 'meri tarah or kon ye song roj sunta h n',\n",
       " 'super bro i am happy tik tok ban agidu super our modi ji super hero',\n",
       " 'plz chance kodi nodi avar acting',\n",
       " 'super movie sir',\n",
       " 'ಚಿತ್ರರಂಗದಲ್ಲಿ ಸಂಚಲನ ಮೂಡಿಸಲಿ nಯಾರ್ ಯಾರಿಗೂ ಬಾಸ್ ಅಲ್ಲ ನಿಮ್ಮ ಸಿನಿಮಾ ಚೆನ್ನಾಗಿದ್ರೆ ಎಲ್ಲರೂ ನೋಡ್ತಾರೆ ಬಕೆಟ್ ಎಲ್ಲಾ ಮೂಲೆಗೆ ಹಾಕಿ ಇನ್ನೊಬ್ಬ ನಟ ಬಂದು ಹೇಳಿದ ಅಂತ ಯಾರು ಸಿನಿಮಾ ನೋಡಲ್ಲ ನಿಮ್ಮ ಅಭಿನಯ ಕಥೆ ಮನೋರಂಜನೆ ನೋಡಿ ಬರ್ತಾರೆ ಅಷ್ಟೇ nಶುಭವಾಗಲಿ',\n",
       " ' sudha avaru devategalu devategalige ella bhashe barutte',\n",
       " ' kal',\n",
       " 'yav movie remake hethidira sir',\n",
       " 'rakshit shettys fans like',\n",
       " 'ಲವ್ ಯು ಬಾಸ್  ಸೂಪರ್',\n",
       " 'sir ond mathelthini  ond sarkara minimom 20 varsha irbeku avaga desha abiruddiagokke ankula aguthe brastachara nilbeku',\n",
       " 'chinndikanna neenu neenu nam tharane madthadthiya super',\n",
       " 'lucchan tara para basheyavra thika nekkbardu ashte alva guru',\n",
       " 'supar hit song anna',\n",
       " 'ರಕ್ಷಿತ್ ಶೆಟ್ಟಿ ಅಭಿಮಾನಿಗಳು ಇಲ್ಲಿ ಲೈಕ್ ಮಾಡಿ',\n",
       " 'edu edu kannada industry olle kalavidrige',\n",
       " 'gauri keshav ಆಂಗ್ಲ ಭಾಷೆ ಬಳಸೋ ಕಾಲದಲ್ಲಿ ಅಚ್ಚ ಕನ್ನಡದಲ್ಲಿ ಸಾಹಿತ್ಯ ಬರೆದಿರುವ ಬರಹಗಾರರಿಗೆ ಕೋಟಿ ಕೋಟಿ ನಮನಗಳು',\n",
       " 'ಇದು ಚರಿತ್ರೆ ಸೃಷ್ಟಿಸೋ ಅವತಾರ',\n",
       " 'super  song',\n",
       " 'ಸಾಹಿತ್ಯ ಓದಿ ಹಾಡು ಕೇಳಿ ಆನಂದಿಸಿ',\n",
       " 'ನಮ್ಮ ಜನರನ್ನು ಕೇವಲ ಸುಳ್ಳಿನ ಭ್ರಮಾಲೋಕದಲ್ಲೇ ಸುತ್ತಿಸುವ ನಮ್ಮ ಕನ್ನಡದ ಮಾಧ್ಯಮದೊಳಗೆ ಸತ್ಯದ ಕಹಿಯನ್ನು ನೇರವಾಗಿ ತಿಳಿಸಿದ್ದಕ್ಕೆ ಧನ್ಯವಾದಗಳು ಅಮರ್ ರವರೇ',\n",
       " 'reshmabegam nadaf super',\n",
       " 'ಆಗೇ ಆಗತ್ತೆ 50 million  just wait',\n",
       " 'very nice video',\n",
       " 'spr kannadiga ',\n",
       " 'good news sir',\n",
       " 'malayalam singer is good',\n",
       " 'super bro keeping doing like this do more trollers jai  trollers i like trollers',\n",
       " 'bro movie ela undii bagundhii aa',\n",
       " 'super gurunjai hind jai indian army',\n",
       " 'yalla sule makkalu jasti thu',\n",
       " 'hands up    matte song kelbeku anta ansorige',\n",
       " 'ಶಂಭು ಬಳೆಗಾರ ಸರ್ ಗೆ ತುಂಬಾ ದನ್ಯವಾದಗಳು',\n",
       " 'ramesh snakannanavar wey',\n",
       " 'sannavridvi idanna caset haaki keltidvi vatta maryakaagangilla uttara karnatakad maat kati sobugandra hinga nodri namd',\n",
       " ' chapter 2 good',\n",
       " 'd boss  fans sapot iratte 100day',\n",
       " 'diya is super movie',\n",
       " ' x dia is kannada movie man mind ur comment',\n",
       " 'lyrics super guru',\n",
       " 'e tik tokrs ondisht jana mental galu bro avugalna tik tokrs anodkina chainis anbekku',\n",
       " 'nimge olledagli sir god bless you sir',\n",
       " 'music bayankara gurooo',\n",
       " 'super song annaliked it',\n",
       " '12 dislikes by gandu nanmakalu',\n",
       " 'ningappa  s  malekoppa',\n",
       " 'idu yaavdo tamil film remake guru',\n",
       " 'dignity of labour ಭಾರತದಲ್ಲಿ ಇಲ್ಲ ಅದನ್ನು ಭಾರತೀಯರು ಬೆಳೆಸಿಕೊಳ್ಳಬೇಕು',\n",
       " 'yappa huchhu hidustideasnawesom',\n",
       " ' guru avnu darshan fan alla yash fanu',\n",
       " '12pm start madi 5pm complete madde',\n",
       " 'ಅಬ್ಬಾ ಎಂತಹ bgm',\n",
       " 'sir ondhh hellla  nellaru kelsa antha ondhh madtirtare nnmathe biduvu madkondu film nodok barthivi navaga naav estu antha ollole film na nodbodhu neevu heli nnswalpa plan madkondu industry ella ottige bido yojane na hidkoldhe idre best ',\n",
       " 'comedy aggie nodorige comedy nee',\n",
       " ' parthasarathi ನಿಮ್ಮ ಅಪ್ಪ ಸೂಳೆಮಗ',\n",
       " 'yen film  guru super',\n",
       " 'kannada ne barolla',\n",
       " 'boli maklu ee tara videos nu dislike maadtare',\n",
       " 'all fake bro nija vishaya maatra heli bro ummane janara manasalli sullu nambike yanna huttisa bedi plzzzz',\n",
       " 'sorry filmna  naanu theater hogi nodlilla kshamisisuper movie mobile alli nodide tappige account no heli duddu haktini',\n",
       " 'masthundhi song mama nkikkea verabba aa retham looooo',\n",
       " ' nayak ನಿಮ್ಮ ಅವ್ವ ಹಾದರಗಿತ್ತಿ',\n",
       " ' heart guru modlu avr heeliddu artha madko',\n",
       " 'ನಿಮ್ಮ ಸ್ವಾವಲಂಬಿ ಬದುಕಿಗೆ ನನ್ನದೊಂದು ಸಲಾಂ ಸರ್',\n",
       " '28 m',\n",
       " 'ರಕ್ಷಿತ್ ಶೆಟ್ಟಿ ಅಭಿಮಾನಿಗಳು ಈ ಹಾಡಿಗೊಂದು ಲೈಕ್ ಮಾಡಿ',\n",
       " 'wow  diya soop',\n",
       " ' parthasarathi',\n",
       " 'china apps dayvitu ban madi superg hugdira innu hugiri nam india jana sariilla thu',\n",
       " 'ಚಂದನ್ ಶೆಟ್ಟಿ ಟ್ರೊಲ್ ವಿಡಿಯೋ ನೀವು ನೋಡಿ ನೆಗಡ್ಡೆ ಇದ್ರೆ ನಾವ್ ಗ್ಯಾರಂಟಿ',\n",
       " 'just woww  super prajju  anna gud luck',\n",
       " 'nice video song',\n",
       " 'ಬ್ರೋ ಅವರು ಗೆ ದೇಶದ ಬಗ್ಗೆ ಅಭಿಮಾನ ಇಲ್ಲಾ ಬಿಡಿ',\n",
       " 'yen guru nam kannada film industry na yellaru seri bere level ge tagondu hogthaa iddare superb music',\n",
       " 'super bro nim matalli satya ide',\n",
       " 'naan antha china app antha yaavaglo delete maadidene njai hind',\n",
       " 'rakshit bro nodi no1 tranding thogando bhandihivi saka bro',\n",
       " 'estu sari nodudru samadhana aagthilla awesome song',\n",
       " 'sakath anna nim haadu',\n",
       " 'kai kesaradare bai masaru supper ser',\n",
       " 'ಟಿಕ ಟಾಕ್ ಹೀರೋ ಹೀರೋಯಿನಗಳ  ತಿಥಿ ಊಟ ಹಾಕಸು ಗುರು creative ಕನ್ನಡಿಗ',\n",
       " 'en guru song edu',\n",
       " 'looks promising',\n",
       " 'ಟ್ರೈಲರ್ ನೋಡಿ ಮೈಯೆಲ್ಲ ರೋಮಾಂಚನವಾಯಿತು ಪ್ರಜ್ವಲ್ ದೇವರಾಜ್',\n",
       " 'anusha kumarswamy yes',\n",
       " 'sir deshadali shikshana jotege kwoshliya nu kalisabeku selp udyogada samartya barbeku nnrajakiya vektigalu adikara and hanke ase belde deshavanu munnadasabeku employment ge jobs sigo rieti nodka beku',\n",
       " 'nan lwda dalli edane band nodkondu ogo gandu',\n",
       " ' munira nice   songs',\n",
       " 'beautiful movies sar',\n",
       " 'sir dasara habbada shubashayagalu',\n",
       " 'uppi fans next like raksith setty',\n",
       " 'ಕೇಳ್ತಾ ಕೇಳ್ತಾ',\n",
       " 'ನಿಮಗೆ ಭಗವಂತನ ಅನುಗ್ರಹ ಅನವರತ ಇರಲಿnnಇವತ್ತಿಗೂ ನಮ್ಮದು ಮೈಸೂರು ಸಂಸ್ಥಾನವೇ ಮಹಾರಾಜರನ್ನು ಹೊರಗಿಟ್ಟು ಈ ಕಳ್ಳ ರಾಜಕಾರಣಿಗಳು ಮಾಡುವ ದಸರಾ ಮೆರವಣಿಗೆನೂ ಒಂದು ಮೆರವಣಿಗೆನೇ ಯಾವತ್ತೂ ಸಾಧ್ಯವಿಲ್ಲ ಇನ್ನಾದರೂ ಎಚ್ಛೆತ್ತು ಕೊಳ್ಳಿ',\n",
       " 'ಸೂಪರ್ ಹಿಟ್ ಕಾಮಿಡಿ',\n",
       " 'ವಾಸ್ತವದ ವಿವರಣೆಗೆ ಧನ್ಯವಾದ',\n",
       " 'raja vishnuvardhana it’s available only in kannada on amazon prime',\n",
       " ' gowda ಧನ್ಯವಾದ',\n",
       " 'guru chinese mobile yen madodu',\n",
       " 'ashwathvru badukiddaga saryagi nodkollalillva ivnu',\n",
       " 'super movie ',\n",
       " 'ಇದು ನಿಜಾವಾಗಿಯೂ ಚರಿತ್ರೆ ಸೃಷ್ಟಿಸೋ ಅವತಾರ',\n",
       " 'pakka guru same feelingu',\n",
       " 'share link maximum',\n",
       " 'song karnatakadalli ella hero fans film node nodtare but pls bere languages lli promotion madi',\n",
       " 'super togari tippa',\n",
       " 'super guru neevu',\n",
       " ' parthasarathi gottu neenu cheeti tulla fan antha change madbeda',\n",
       " 'i love u appaji',\n",
       " 'movie chindi chitranna best movie ever',\n",
       " 'kithodnan maklu galu alli saytha edare  elli yak madbeku uninstall madbeku anthare gandu galu',\n",
       " 'hindi version elli ide guru',\n",
       " 'supar sangs ',\n",
       " 'ಕನ್ನಡ ಸಿನೆಮಾ ಕೆ ಮತ್ತೊಂದು ಗರಿ',\n",
       " 'ಚೈನಾ ಟಿಕ್ ಟಾಕ್ ಯೂಸ್ ಮಾಡ್ಕೊಂಡು ಚೈನಾ ಬಗ್ಗೆ',\n",
       " 'nija helbekandre ee song yako sync aagtilla movie trailer type ge',\n",
       " ' mr nin kano bvc jaatrr',\n",
       " 'osm voice sir',\n",
       " 'ಚಂದನ್ ಶೆಟ್ಟಿ ಟ್ರೊಲ್ ವಿಡಿಯೋ ನೀವು ನೋಡಿ ನೆಗಡ್ಡೆ ಇದ್ರೆ ನಾವ್ ಗ್ಯಾರಂಟಿ',\n",
       " 'this year watch ondu shikariya kathe',\n",
       " 'ಯಾರ ಯಾರ 300k ಲೈಕ್ಸ್ ಗೆ ವೈಟಿಂಗ್n',\n",
       " ' gaming ನಂಗೆ ಎಲ್ಲೋ ಕಾಣಿಸ್ತಾ ಇಲ್ವೇ ಇಲ್ಲ',\n",
       " 'very nice togari tippa stori',\n",
       " 'houdu ri promote matadbeku',\n",
       " ' d boss fan kanda adhu bale alla kadgayeshte adru d boss obba gavne ge bari local gare kelsdavru',\n",
       " 'ಹಿಂದಿ song innu yake relise agilla',\n",
       " ' patil kgf',\n",
       " ' t b kitkobekaste ninu bandi nandu',\n",
       " 'ಡಿ ಬಾಸ್ ಫ್ಯಾನ್ಸ್ ಕಡೆಯಿಂದ ಆಲ್ ದ ಬೆಸ್ಟ್ ಮೂವಿ',\n",
       " 'i like good job',\n",
       " '  ದರ್ಶನ್ ಅಣ್ಣನ ಅಭಿಮಾನಿಗಳ ಕಡೆ ಇಂದ all the best',\n",
       " 'agreed virat kohli looks',\n",
       " 'i love rakshit anna super movie sule rasmika mandan ge chappali le hodibeku',\n",
       " 'unlike madiroru bevarsigalu',\n",
       " 'ಕಿರಣ್ ಶಾಲಿ ಇಲ್ಲಿ ಕೊಟ್ಟಿದೀನಿ ನೋಡು ಈ ಲಿಂಕ್  ಕ್ಲಿಕ್ ಮಾಡು',\n",
       " 'anjali devi   b  avinash  achari',\n",
       " 'ಬೀದಿ ಕಸ ಗುಡಿಸಿ ತನ್ನ ಮಕ್ಕಳನ್ನ ias',\n",
       " 'wow exlent verry new dfrent yellu kelilla nodilla danyavadagalu',\n",
       " 'super super super',\n",
       " 'innu aagilva tiktok ban',\n",
       " 'adre niv suprb bro',\n",
       " ' pu kannada bhashe sanskrit bhasheyinda sakastu padagalannu eravalubadigepadedukondideaaddarinda anthaha padagalannu balasuvudaralli tappenilla',\n",
       " ' parthasarathi ನಂದಿನಿ ನಂದಿನಿ ನಿನ್ ಶಾಟ ವಾಸ್ನಿ',\n",
       " 'ಪ್ರಾಣಿಯ ಶಿಕಾರಿ ಅಲ್ಲ ಅಂತ ತಿಳಿಯುತ್ತೆ ಯಾವ ಶಿಕಾರಿ ಕಾದು ನೋಡಬೇಕಾಗಿದೆ superb trailer',\n",
       " 'ondu likes ella',\n",
       " ' kannadiga eno ond bid gurunin maat keltirode chandaaaden matadtiya brochindi bro keep roasting',\n",
       " 'jai rakshith shetty',\n",
       " 'dislike madiroro rashmika fans irbeku',\n",
       " 'wwwwso super rakshit boss nim name nange tumbanee ista hagee nim movinu istanee nnnnnn',\n",
       " ' dull ಆತರ ಏನಿಲ್ಲ ಸಾಂಗ್ ಸೂಪರ್ ಆಗ ಇದೇ slow ಪೊಯ್ಸನ್',\n",
       " 'superb songsuperb making love you rakshith sir',\n",
       " 'super fantastic bro',\n",
       " 'rip to those 28k dislikers',\n",
       " 'movie releaseagli guru',\n",
       " 'thankz bro troll alla bro roast',\n",
       " 'ಹೊಸ ಪ್ರಯತ್ನ ಚೆನ್ನಾಗಿದೆ',\n",
       " 'ಸುಪರ್ ಮಚ್ಚ್ ಕಡಚ ಚೀನಾ ರಂಡಿಮಕ್ಕಳಿಗೆ ತಕ್ಕ ವೀಡೀಯೋ  ಜೈ ಹಿಂದ್',\n",
       " 'obba nata driver ägiddaru adakkintha obba driver natarägiddàre annothe hemme',\n",
       " 'pandavaru mamsa tinthidra',\n",
       " 'super super super super super super super super super super super super super super super super',\n",
       " 'all industries are going hands up 27kke avanu bandaga',\n",
       " 'bindu gowda  ನಿನಗೆ ಹೇಳ್ತಿನಿ ಕೇಳು tiktok ಮಾಲೀಕ ನಿಂಮತವರಿಗೆ ಅಂತಾನೆ ಈ app ಮಾಡಿದ್ದಾನೆ ಕೆಲಸ ಇಲ್ಲದೆ ಕಾಲಿ ಇರೋರಿಗೆ ಅಂತ ನಮ್ಮ ದೇಶಕ್ಕೊಸ್ಕರ ಒಂದ app delete ಮಾಡೋಕೆ ಆಗಲ್ಲ ಅಂದ್ರೆ ನಿನಗೆ ತೂ',\n",
       " 'sir nimm mathininda navu kalibeku agirodu ennu thumba edentqq u so muchnhelth na channagi nodkoli sirngod bless you',\n",
       " 'ಮೊಬೈಲ್ ಅಲ್ಲಿ ಮೂವೀ ನ ಬಿಟ್ಟಿದ್ದಾರೆ ಥಿಯೇಟರ್ ಗೆ ಯಾರ್ ಬರ್ತಾರೆ ನಾನ್ ಮೊಬೈಲ್ ಅಲ್ಲೇ 2 ಟೈಮ್ ನೋಡ್ದೆ',\n",
       " 'ಗುರು ನಿನಗೆ ಧನ್ಯವಾದಗಳು',\n",
       " 'hands up songnh i n d i   ',\n",
       " 'appani huttida video guru super',\n",
       " 'ತೊಗರಿ ತಿಪ್ಪ ಸೂಪರ್ ಸ್ಟಾರ್',\n",
       " 'super song  kannada',\n",
       " 'e film yarigella ista agide',\n",
       " ' gowda ninanthra elllide kithakokemathe trimer chahrge ulsakke ee gimickssule magne',\n",
       " 'now karabu is most liked song',\n",
       " 'super hit song in kannada',\n",
       " 'super  sar',\n",
       " 'adhi sprb acting olle avakashagalu sigli nimge idi team gu olled agli',\n",
       " 'cinema sakkathagide guru',\n",
       " 'swag se swagat',\n",
       " 'ಪ್ರಚಾರ ಇಲ್ಲದ ಕಾರಣ ನಮಗೆ ಒಳ್ಳೆಯ ಚಿತ್ರ ನೋಡಲು ಅವಕಾಶ ಆಗಲಿಲ್ಲ',\n",
       " 'anna e game yavudu',\n",
       " 'i like it',\n",
       " 'anyone after trending ',\n",
       " 'sandalwoodnalli  dhamaka mado avatara start agalide',\n",
       " 'super bro',\n",
       " 'whatsapp mumbai bazar group',\n",
       " 'ರಾಜಕಾರಣಿ ಗಳಿಂದ ನಮ್ಮ ದೇಶ ಹಾಳಾಗಿದೆ brother',\n",
       " 'anjali devi ಊಟ',\n",
       " 'ಇದೇ ಥರ ಕನ್ನಡ  ಚಲನಚಿತ್ರಗಳು ಚರಿತ್ರೆ ಸೃಷ್ಟಿಸಲಿ ಇದೆ ಚರಿತ್ರೆ ಸೃಷ್ಟಿಸುವ ಅವತಾರ  ಅವನೇ ಶ್ರೀಮನ್ ನಾರಾಯಣ',\n",
       " 'no bro y u asking  sorry',\n",
       " ' m s rakahith is shit man',\n",
       " 'ಮುಂದೆ ರೆಕಾರ್ಡ್ ಮಾಡುತ್ತೆ ಈ ಮೂವಿ',\n",
       " 'ossam asn super song',\n",
       " 'super kati sir keli bala varsha agittu namaskar shambhu sir',\n",
       " 'super trailer',\n",
       " 'thank you bro',\n",
       " 'boss akkun bidbede roste madi',\n",
       " 'nivu heliddu nija',\n",
       " 'shetre shoku aathnd',\n",
       " 'ಸೂಪರ್ ಅಜನಿಷ್ ಲೋಕನಾಥ್ ಬೆಲ್ ಬಾಟಮ್ ನಲ್ಲಿ ಏತಕೆ ಬೊಗಸೆ ತುಂಬಾ  ಇಂದು ಹೆಂಡಸಾಪ್ yuwar music ಸೂಪರ್',\n",
       " 'g mathapati k',\n",
       " ' anil nimmappa alvenro',\n",
       " 'gud job  nim nirdharakke nimma kelasakke namma gowrava namaskara kanditha nimge olle role kodo buddi nirdeshakarige  haagu kannda industry ge barabeku',\n",
       " ' hiremath ನೋಡುದ್ರೆ ಗೊತ್ತಾಗಲ್ವ ಎಷ್ಟು ಉರ್ಕೊಂಡಿದ್ದೀಯ',\n",
       " 'it is vvvvvvvvvsuper',\n",
       " 'ಸೂಪರ್ ಗುರು',\n",
       " '  are you from odissa',\n",
       " 'super super super',\n",
       " 'anna nin super anna',\n",
       " 'super bro im happy',\n",
       " 'amazing film       ',\n",
       " ' nayak ನಿಮ್ಮ ಅವ್ವುನ್ ಹತ್ರಾ ಹೋಗು ಕೊಡ್ತಾಳೆ ತಿಕಾ ನಾ',\n",
       " 'like madok agila andru parvagilayaru dislike madbedi',\n",
       " 'ಅದ್ಬುತವಾಗಿದೆ ಅವನೇ ಶ್ರೀಮನ್ನಾರಾಯಣ ಚಿತ್ರದ ಹಾಡು ಹ್ಯಾಂಡ್ಸಪ್',\n",
       " 'last scene nali spoon ogediddu rishab shetty na',\n",
       " 'number 1 movie',\n",
       " 'boring agidre all india trending agtirlilla',\n",
       " 'pls put it in jio saavn music',\n",
       " 'ಈ ಹಾಡು ಚರಿತ್ರೆ ಸೃಷ್ಟಿಸುತ್ತೆ ಅನ್ನೋರು ಲೈಕ್ ಮಾಡಿ',\n",
       " '೨೫ ವರ್ಷಗಳ ಹಿಂದಕ್ಕೆ ಕರೆದೊಯ್ದು ಬಿಸಾಕಿ ಬಿಟ್ಟಿತು ಈ ಕಥೆ',\n",
       " 'ನಮ್ಮ ದೇಶದಲ್ಲಿ ಇದ್ದು ನಮ್ಮ ದೇಶದ ಅನ್ನ ತಿಂದು ಬೇರೆ ದೇಶಕ್ಕೆ ಲಾಭ ಮಾಡ್ತಾ ಇದೀರಾ ನಾಚಿಕೆ ಆಗಬೇಕು ಹಿಂತವರಿಗೆ',\n",
       " 'prudvi supar acting sakkat suuuuuupar film',\n",
       " 'namma yalla sarkara nu hage ide bidi',\n",
       " 'bhai koi mysore se hai ky comment krre',\n",
       " ' m v',\n",
       " 'hands up ಇವ ಚರಿತ್ರೆ ಸೃಷ್ಟಿಸೋ ನಾರಾಯಣ',\n",
       " 'ಸುಂದರ ಕಲ್ಪನೆಯ ಹಾಸ್ಯ ಪ್ರಸಂಗಗಳುnಡಾ ಶಂಭು ಬಳಿಗಾರರ ಹೇಳುಗಾರಿಕೆ ಜನಮೆಚ್ಚುವಂಥದ್ದು',\n",
       " 'superb rakshit sir sobg superb macking',\n",
       " 'super film sir account number kodi amount hakabeku nijavgalu',\n",
       " 'yav ree dislike kodoru kannada movies belibek fist kannada next heros elru nammavare',\n",
       " 'hamsalekha feel yarige bantu like madi',\n",
       " ' monsterkannada nin amman sule maga me yello majestic alli',\n",
       " 'ಹೌದು ಹುಲಿಯಾ ',\n",
       " 'i hope salmaan vai didnt watch it',\n",
       " 'diadi nhuge fan from ntamilnadu',\n",
       " ' real life llu haage iddidre accept madabahuditthuu alvaa nespecially obba natananna thumbaa abhimaanigalu fallow maadthaare so avru nija jeevanadallu  maadhari aagirabeke vinaha thappu madbaardu alvaa baree film lli maathra hero aagidre saaladuu real life llu kooda hero agirbeku aaga avaru obba nijavaada  manushya aagoke saadhya ',\n",
       " 'idu charitre srushtiso cinemanee',\n",
       " 'superbb movie osm evthu movie nodied super',\n",
       " 'mutturaj melageri and',\n",
       " 'agtkelu kannada rap 2019',\n",
       " 'nija kano adhuneevgalu kathe katkondirodualla alla antha',\n",
       " 'super singing by vijay prakash',\n",
       " 'super brother           rajakiya laba yenidide    ano yochane',\n",
       " 'traditional man in karnataka',\n",
       " 'ban tik tok',\n",
       " 'ಸಾಹಿತ್ಯಗಾರರ ಕನ್ನಡನಾಡಿನಲ್ಲಿ ಸಾಹಿತ್ಯವನ್ನ ಅಚ್ಚ ಕನ್ನಡದಲ್ಲಿ ಬರೆದಿರುವ ಅ ಸಾಹಿತ್ಯಗಾರ ಯಾರು ಅಂತ ನನಗೆ ಗೊತ್ತಿಲ್ಲ ಆದರೆ ತುಂಬಾ ಸೊಗಸಾಗಿದೆ ಸಾಂಗ್',\n",
       " 'best song',\n",
       " 'albedi sir  novaaguthe sir neev albaardu',\n",
       " 'ಅಪ್ಪು ಅಭಿಮಾನಿಗಳು ಲೈಕ್ ಮಾಡ್ರೋ ',\n",
       " 'ಗುರು  ಉಪೇಂದ್ರ ಅವರ dialog  super',\n",
       " 'ಕುಮಾರವ್ಯಾಸ ಅಂದರೆ ಗದುಗಿನ ನಾರಣಪ್ಪ ನವರ ಬಗ್ಗೆ ಅಭ್ಯಾಸ ಮಾಡಿ',\n",
       " 'ಯಾದಗಿರಿ ಜಿಲ್ಲಾ ಶಾಪುರ್ ತಾಲ್ಲೂಕು ಡಿ ಬಾಸ್ ಅಭಿಮಾನಿಗಳು   ಕಡೆಯಿಂದ ಪ್ರಜ್ವಲ್ ದೇವರಾಜ್ ಮೂವಿ ಜೆಂಟಲ್ಮ್ಯಾನ್ all theಬೆಸ್ಟ್ ಸೂಪರ್ ಟ್ರೈಲರ್',\n",
       " ' naik tale mel hodiyoda ond kudlunu kithkollok agalla',\n",
       " 'love u sir',\n",
       " 'nivu thumba super',\n",
       " 'even me i like the step',\n",
       " 'sakath bro',\n",
       " 'super sir',\n",
       " 'ತುಂಬಾ  ಚೆನ್ನಾಗಿದೆ ಟ್ರಯ್ಲರ್ ಲುಕ್ ತುಂಬಾ  ಚೆನ್ನಾಗಿದೆ ಸೂಪರ್  ಒಳ್ಳೆಯದಾಗಲಿ',\n",
       " 'ಜಂಟಲ್ ಮ್ಯಾನ್ ಟ್ರೈಲರ್ ತುಂಬಾ ಅದ್ಭುತವಾಗಿ ಮೂಡಿ ಬಂದಿದೆ ಎಲ್ಲರೂ ನೋಡಿ ತಪ್ಪದೇ ಶೇರ್ ಮಾಡಿ ಜೆಂಟಲ್ ಮ್ಯಾನ್ ಚಿತ್ರ ತಂಡದವರಿಗೆ ಸಪೋರ್ಟ್ ಮಾಡಿn',\n",
       " 'vp sir super singing',\n",
       " 'oba mele hogutidane andre navanige melle hogokke sahay madobadallu avan kalu aledu kelage billisoke nodo janare nammalijas',\n",
       " 'harsith venktesh yake comedy anusathva kastadalli idhavarige help maadi punya siguthe',\n",
       " 'super lines bro',\n",
       " 'super songi am d boss fan',\n",
       " 'bro ನಿನ ಹತ್ರ ಏನಾದರೂ idea idre ಹೇಳಬಹುದು alva ',\n",
       " 'shyata yash',\n",
       " 'ಸೂಪರ್ ಜೈ ಡಿ ಬಾಸ್',\n",
       " 'super songs from',\n",
       " ' rao',\n",
       " 'super guru',\n",
       " 'youtubec3\\xa0nnಇದು ಚರಿತ್ರೆ ಸೃಷ್ಟಿಸೋ ಅವತಾರnಅವನೇ ಶ್ರೀಮನ್ ನಾರಾಯಣ nnhands up n',\n",
       " 'pakka movie channagiruttenn suspense movie for sure',\n",
       " 'ulti music ajanish sir',\n",
       " 'ಇದು ಚರಿತ್ರೆ ಸೃಷ್ಟಿಸೋ ಅವತಾರ',\n",
       " 'he is like ntr nntr fans support him always nriksht shetty awesome',\n",
       " 's sir niv helid not ja',\n",
       " 'dboss kade inda dodda wel come madtivi',\n",
       " 'super  rakasith  sir',\n",
       " 'dislike maddavrige en helbeku',\n",
       " 'ending nalli looti heg sikthu avnge movie nalli thorsode illa ',\n",
       " 'ರಂಗೇರಿದೆ ಮಾಯಜಾಲ ಅನುಭವಿಸು ಓ ಪ್ರೇಕ್ಷಕನೇnnnಇದು ಚರಿತ್ರೆ ಸೃಷ್ಟಿಸೋ ಅವತಾರಅವನೇ ಶ್ರೀಮನ್ನಾರಾಯಣnrakshit shettys brilliance',\n",
       " 'theatre alli nodokke nangu estatheatre alli movie ella andre henge nodokke aguttenimhantavare theatre alli nodirtiro elvo yarigottutilkondu matadi sir   naik',\n",
       " 'ಒಂದು angle ನಲ್ಲಿ ನೋಡಿದ್ರೆ ಚೀನಾ ಕಮ್ಯುನಿಸ್ಟ್ ಪಕ್ಷಗಳು ಬೆಸ್ಟ್',\n",
       " 'sir avrudu bhashe yavdu a doctor bali yav bhashe matanadid ',\n",
       " 'in ond trip nodbeku but but sinama chenge madbittru olle movi ge olle respans illa nam karnatakadalli',\n",
       " 'supeeeeeeeeeeeeeeeer   nam ajjii held nenap',\n",
       " 'ಭಗವಂತ ನಿಮ್ಮನ್ನು  ಮತ್ತು ನಿಮ್ಮ ಕುಟುಂಬವನ್ನು ಸದಾಕಾಲ ಕಾಪಾಡಲಿ ಒಳ್ಳೆಯವರಿಗೆ ಒಳ್ಳೆಯದೇ ಆಗುತ್ತದೆ',\n",
       " 'karnatakakke bandaddela sullu swami swalpa reel biduvaga alochane maadi bidu',\n",
       " 'ಡಿ ಬಾಸ್ ಅಭಿಮಾನಿಗಳಿಂದ all the best',\n",
       " 'abba en song superrr',\n",
       " 'ಈ ಕಾಲದಲ್ಲಿ ಒಳ್ಳೆತನಕ್ಕೆ ಬೆಲೆ ಇಲ್ಲ ಮತ್ತೆ ಗೆಲ್ಲುವುದು ಹೇಗೆ',\n",
       " 'ಸೆಕ್ಸ್ ಸೆಕ್ಸ್ ಸೆಕ್ಸ್ ವೀಡಿಯೋಸ್',\n",
       " 'ho guru adu pubg alla  adu yav game antha modlu thilko ninu',\n",
       " 'signature steps awesomepakka tag agthe',\n",
       " 'ennu   madu guru eee sule magllu du troll na',\n",
       " ' parthasarathi nimma yashini boobs gojjekesari acting ge oscar award fix',\n",
       " 'en helde guru its true',\n",
       " 'olledu ond pan india movie madro sumne yak eneno madkondu',\n",
       " 'sahitya kararige shata shata namana',\n",
       " 'tamil fan super movid',\n",
       " 'nkana nava gothala issur hudugaru',\n",
       " 'sanskrit language bro',\n",
       " 'ಕೆ ಜಿ ಎ ಪ್ ಮುಗಿದ ಮಾೄಲ ಇದ  ಕನಡದ ಛರಿತ್ರೇ ಸಿನಿಮಾ',\n",
       " 'sir nivu bhal chennag matadtiriall d best ',\n",
       " 'nijvaaglu sirolle information kottidiri',\n",
       " 'super i ತರಹದ song ಕೇಳಿ ತುಂಬಾ ದಿನ ಆಯ್ತು',\n",
       " 'ಹಾಡಿನ ಫುಲ್ ಅವನೇ ಶ್ರೀಮನ್ ನಾರಾಯಣ ಇದಾನೆಶ್ರೀ ಕೃಷ್ಣ ಅವನ ತತ್ವ ಗಳೇ ಇದಾವೆಲಿರಿಕ್ಸ್ bgm ಅಂದ್ರೆ ಇದು',\n",
       " 'super ulti song',\n",
       " ' medegar ಅಲ್ಲಿ ಕೂಡ ಕೆಲಸ ನಡೆಯುತ್ತಿದೆ ',\n",
       " 'ಈ ಸಿನಿಮಾ ಹೊಸ ಚರಿತ್ರೆ  ಬರೆಯುತ್ತೆ  ಅನ್ನೋರು ಲೈಕ್ ಕೊಡಿ',\n",
       " 'hindustani bhau timing',\n",
       " ' paramatma sumne irappa loss agoke avar en bikari ellaneev olle thukali build up kodta idira sumne',\n",
       " ' k n',\n",
       " 'nam boss avru nam boss ivru antha kachadtirornella onde kade  sersi maja kodone shree mannarayan',\n",
       " 'nagarjuna avaru lyrics bardirodhu',\n",
       " 'neen build up films nodkindu irappailli yake bande',\n",
       " 'bro ur voice nyc bro',\n",
       " 'super  fans',\n",
       " 'tamate song matra amazing',\n",
       " '4 ಜನ ಇರುವ ಈ ಸಿನಿಮಾ 4 ಕೋಟಿ ಕನ್ನಡ ಸಿನಿಮಾ ಪ್ರೇಕ್ಷಕರಿಗೆ ತಲುಪಲಿ ದೀಯಾ ಸಿನಿಮಾ ಅದ್ಬುತವಾಗಿದೆ ',\n",
       " 'ಈ ಒಂದ್ ಸಾಂಗ್ ಸಾಕು ಬುಡು ಗರು ನೀನ್ ಗೆದ್ದೆ jai  shetty',\n",
       " 'ಸಾರ್ ಈ ಮೂವಿ ಪಕ್ಕ ಚರಿತ್ರೆ ಸೃಷ್ಟಿ ಮಾಡುತ್ತೆ  ಕರುನಾಡ ಕಲಾ ಕೇಸರಿ ಚಾಲೆಂಜಿಂಗ್ ಸ್ಟಾರ್ ಡಿ ಬಾಸ್ ಅಭಿಮಾನಿಗಳ ಕಡೆಯಿಂದ ಆಲ್ ದ ಬೆಸ್ಟ್',\n",
       " ' r neen hange badko avaginda yaavno balegaara ante avn hesr badkothiddiya hogi aa balegaaran tunne unn hogu sumne harkollodalla',\n",
       " 'super song',\n",
       " ' think madirlilla',\n",
       " 'ಇದು ಚರತ್ರೆ ಸೃಷ್ಟಿಸೂೋ ಅವತಾರ ',\n",
       " 'ondu olle movie na theater nalli nodoke miss maadkonde',\n",
       " 'super song ŕákśhíťh bãï',\n",
       " ' dhf n',\n",
       " ' s yes',\n",
       " 'ಟಿಕ್ ಟಾಕ್ ಜೊತೆಗೆ ಚೈನೀಸ್ ಪ್ರೊಡೊಕ್ಟ್ ಎಲ್ಲಾನು ಬ್ಯಾನ್ ಮಾಡಬೇಕು',\n",
       " 'ajanish sir superb music',\n",
       " 'and rocking star fans also',\n",
       " 'proper promotion maadila sir',\n",
       " 'thu thukali trailer',\n",
       " 'siri gannadam galge haakbitallapa thu  yaro ninu lo gelge kano adhu',\n",
       " 'ನಾವೇನಾದರು ಸ್ವಾಬಿಮಾನಿಯಾಗಿ ಬದುಕನ್ನು ಕಟ್ಟಿಕೊಳ್ಳಲು ನಿಮ್ಮನ್ನು ನೋಡಿ ಕಲಿಯಬೇಕು ಸಾರ್ ನಮಗೆ ನಿಮ್ಮಂತವರು ಸ್ಪುರ್ತಿ',\n",
       " 'ದಿಯಾ ನೀವು ಸೋಷಿಯಲ್ ಮೀಡಿಯಾ ಅಲ್ಲಿ ಕಾಣ್ತಿಲ್ಲnದಯವಿಟ್ಟು ಪ್ರತಿಕ್ರಿಯಿಸಿ',\n",
       " 'magaluru kade kalsi avanannu navu avanige maddu kodthive']"
      ]
     },
     "execution_count": 20,
     "metadata": {},
     "output_type": "execute_result"
    }
   ],
   "source": [
    "test_text"
   ]
  },
  {
   "cell_type": "code",
   "execution_count": 21,
   "metadata": {
    "colab": {
     "base_uri": "https://localhost:8080/"
    },
    "id": "bMQmi9NBd31c",
    "outputId": "d173fa09-ef8b-4468-e9d8-5d5a8f1cd339"
   },
   "outputs": [
    {
     "data": {
      "text/plain": [
       "['Mixed feelings', 'Negative', 'not-Kannada', 'Positive', 'unknown state']"
      ]
     },
     "execution_count": 21,
     "metadata": {},
     "output_type": "execute_result"
    }
   ],
   "source": [
    "class_names = list(set(train_label))\n",
    "class_names"
   ]
  },
  {
   "cell_type": "code",
   "execution_count": 22,
   "metadata": {
    "colab": {
     "base_uri": "https://localhost:8080/"
    },
    "id": "RxUjnFZ1eCjm",
    "outputId": "e4a532d5-d169-4ee0-b1c3-1e963f37ed6d"
   },
   "outputs": [
    {
     "data": {
      "text/plain": [
       "Counter({'Negative': 1188,\n",
       "         'Positive': 2823,\n",
       "         'not-Kannada': 916,\n",
       "         'Mixed feelings': 574,\n",
       "         'unknown state': 711})"
      ]
     },
     "execution_count": 22,
     "metadata": {},
     "output_type": "execute_result"
    }
   ],
   "source": [
    "class_dist = Counter(train_label)\n",
    "class_dist"
   ]
  },
  {
   "cell_type": "code",
   "execution_count": 23,
   "metadata": {
    "colab": {
     "base_uri": "https://localhost:8080/"
    },
    "id": "8R_8V6g4jvmK",
    "outputId": "d3678914-526f-4a76-95a1-c9cb239254aa"
   },
   "outputs": [
    {
     "data": {
      "text/plain": [
       "array([1, 2, 3, ..., 1, 2, 0], dtype=int64)"
      ]
     },
     "execution_count": 23,
     "metadata": {},
     "output_type": "execute_result"
    }
   ],
   "source": [
    "le = LabelEncoder()\n",
    "\n",
    "train_label = le.fit_transform(train_label)\n",
    "train_label"
   ]
  },
  {
   "cell_type": "code",
   "execution_count": 24,
   "metadata": {
    "colab": {
     "base_uri": "https://localhost:8080/"
    },
    "id": "uOmQ_UBvqgdn",
    "outputId": "5ef6399e-08c0-405f-ede9-1fb1ca87b7d1"
   },
   "outputs": [
    {
     "data": {
      "text/plain": [
       "array([0, 2, 3, 2, 2, 2, 2, 2, 1, 3, 2, 2, 2, 1, 3, 1, 2, 2, 2, 0, 2, 2,\n",
       "       1, 1, 3, 0, 1, 2, 0, 4, 2, 2, 2, 1, 3, 1, 2, 2, 1, 4, 1, 1, 2, 4,\n",
       "       2, 1, 1, 2, 2, 4, 1, 2, 4, 2, 2, 2, 2, 2, 2, 3, 3, 1, 3, 2, 1, 2,\n",
       "       2, 1, 0, 2, 3, 4, 2, 4, 3, 1, 2, 2, 3, 2, 3, 3, 3, 0, 2, 4, 2, 0,\n",
       "       2, 3, 2, 2, 3, 2, 2, 2, 2, 0, 2, 4, 2, 3, 4, 2, 3, 1, 2, 3, 4, 1,\n",
       "       2, 1, 3, 2, 1, 2, 0, 2, 2, 3, 0, 1, 2, 1, 2, 4, 2, 2, 2, 3, 2, 2,\n",
       "       2, 1, 2, 4, 0, 2, 4, 4, 4, 2, 1, 2, 2, 3, 4, 1, 3, 2, 1, 2, 0, 2,\n",
       "       1, 2, 1, 2, 2, 2, 2, 3, 2, 4, 2, 1, 2, 1, 2, 3, 1, 2, 2, 1, 2, 4,\n",
       "       1, 0, 3, 4, 2, 1, 2, 0, 3, 2, 1, 1, 2, 2, 1, 4, 4, 4, 2, 1, 3, 2,\n",
       "       2, 0, 1, 2, 2, 2, 2, 2, 2, 2, 1, 1, 3, 3, 2, 1, 4, 2, 1, 2, 0, 2,\n",
       "       2, 2, 3, 1, 2, 2, 2, 2, 2, 2, 2, 2, 0, 2, 2, 1, 2, 1, 4, 1, 2, 1,\n",
       "       1, 3, 2, 1, 2, 1, 2, 2, 2, 3, 1, 2, 3, 2, 2, 2, 2, 1, 3, 3, 2, 2,\n",
       "       2, 3, 2, 2, 2, 1, 2, 4, 0, 3, 4, 1, 2, 2, 1, 2, 2, 1, 3, 2, 1, 2,\n",
       "       4, 2, 1, 2, 2, 3, 3, 2, 3, 3, 4, 2, 2, 4, 2, 1, 2, 4, 2, 1, 2, 1,\n",
       "       2, 1, 1, 2, 0, 2, 2, 4, 2, 2, 2, 1, 2, 2, 2, 2, 2, 2, 1, 1, 1, 3,\n",
       "       2, 3, 2, 2, 2, 3, 2, 2, 4, 0, 2, 2, 2, 2, 3, 1, 2, 3, 2, 0, 2, 2,\n",
       "       1, 0, 2, 1, 3, 4, 3, 3, 3, 1, 2, 3, 2, 3, 3, 0, 3, 0, 1, 4, 1, 2,\n",
       "       2, 4, 2, 4, 2, 2, 2, 1, 3, 2, 2, 2, 2, 4, 2, 1, 3, 2, 2, 0, 0, 2,\n",
       "       0, 1, 3, 4, 3, 1, 2, 1, 1, 2, 1, 2, 1, 4, 2, 1, 2, 2, 1, 1, 1, 4,\n",
       "       2, 2, 4, 3, 3, 3, 0, 2, 3, 1, 4, 2, 2, 4, 2, 2, 3, 2, 1, 1, 2, 2,\n",
       "       1, 2, 1, 3, 2, 2, 2, 2, 2, 2, 2, 3, 2, 1, 4, 1, 2, 2, 4, 3, 1, 1,\n",
       "       3, 1, 4, 2, 0, 2, 2, 2, 2, 2, 2, 2, 3, 2, 1, 4, 2, 0, 2, 2, 4, 1,\n",
       "       3, 2, 2, 2, 1, 3, 1, 3, 2, 1, 3, 2, 0, 0, 2, 0, 2, 2, 0, 2, 3, 2,\n",
       "       2, 4, 2, 0, 2, 1, 0, 2, 3, 2, 2, 2, 2, 1, 3, 2, 2, 2, 2, 2, 1, 2,\n",
       "       1, 3, 2, 2, 2, 1, 1, 3, 4, 4, 0, 2, 1, 1, 2, 1, 4, 2, 3, 1, 2, 1,\n",
       "       2, 2, 4, 0, 1, 4, 1, 0, 2, 0, 4, 2, 2, 1, 2, 3, 1, 2, 2, 3, 3, 2,\n",
       "       0, 0, 3, 2, 2, 4, 2, 2, 1, 1, 2, 3, 2, 2, 2, 3, 1, 2, 1, 4, 1, 1,\n",
       "       3, 2, 1, 3, 2, 2, 3, 2, 1, 2, 3, 1, 4, 2, 1, 2, 2, 3, 3, 2, 2, 4,\n",
       "       2, 4, 2, 3, 3, 3, 2, 3, 3, 2, 4, 0, 2, 4, 0, 2, 2, 2, 3, 3, 1, 0,\n",
       "       4, 2, 2, 2, 2, 3, 4, 3, 2, 2, 2, 3, 3, 2, 2, 2, 4, 0, 2, 3, 1, 0,\n",
       "       2, 1, 1, 1, 1, 2, 4, 0, 4, 3, 0, 2, 1, 0, 3, 2, 2, 1, 2, 0, 1, 3,\n",
       "       3, 4, 3, 0, 1, 1, 2, 2, 2], dtype=int64)"
      ]
     },
     "execution_count": 24,
     "metadata": {},
     "output_type": "execute_result"
    }
   ],
   "source": [
    "valid_label = le.fit_transform(valid_label)\n",
    "valid_label"
   ]
  },
  {
   "cell_type": "code",
   "execution_count": 25,
   "metadata": {
    "colab": {
     "base_uri": "https://localhost:8080/"
    },
    "id": "Go0uHvEZel75",
    "outputId": "6da76788-89c8-42fc-844f-d1a3a68579bb"
   },
   "outputs": [
    {
     "data": {
      "text/plain": [
       "array(['Mixed feelings', 'Negative', 'Positive', 'not-Kannada',\n",
       "       'unknown state'], dtype='<U14')"
      ]
     },
     "execution_count": 25,
     "metadata": {},
     "output_type": "execute_result"
    }
   ],
   "source": [
    "le.inverse_transform([0,1,2,3,4])"
   ]
  },
  {
   "cell_type": "code",
   "execution_count": 26,
   "metadata": {
    "colab": {
     "base_uri": "https://localhost:8080/"
    },
    "id": "MFegTSuMeqSb",
    "outputId": "491c6d6b-844e-47a9-d427-41bc7c63ae66"
   },
   "outputs": [
    {
     "data": {
      "text/plain": [
       "{0: 10.822299651567944,\n",
       " 1: 5.228956228956229,\n",
       " 2: 2.200495926319518,\n",
       " 3: 6.781659388646288,\n",
       " 4: 8.736990154711673}"
      ]
     },
     "execution_count": 26,
     "metadata": {},
     "output_type": "execute_result"
    }
   ],
   "source": [
    "class_weight = {0:sum(class_dist.values())/class_dist[le.inverse_transform([0])[0]],\n",
    "                1:sum(class_dist.values())/class_dist[le.inverse_transform([1])[0]],\n",
    "                2:sum(class_dist.values())/class_dist[le.inverse_transform([2])[0]],\n",
    "                3:sum(class_dist.values())/class_dist[le.inverse_transform([3])[0]],\n",
    "                4:sum(class_dist.values())/class_dist[le.inverse_transform([4])[0]]}\n",
    "\n",
    "class_weight"
   ]
  },
  {
   "cell_type": "code",
   "execution_count": 27,
   "metadata": {
    "id": "W3uxiyM4j-68"
   },
   "outputs": [],
   "source": [
    "training_labels = tf.keras.utils.to_categorical(train_label)\n",
    "validation_labels = tf.keras.utils.to_categorical(valid_label)"
   ]
  },
  {
   "cell_type": "code",
   "execution_count": 28,
   "metadata": {
    "colab": {
     "base_uri": "https://localhost:8080/"
    },
    "id": "jkjV9lB9d51D",
    "outputId": "6bbd75ad-d8d1-4894-da6b-c3463eeb1c16"
   },
   "outputs": [
    {
     "data": {
      "text/plain": [
       "[['ಒಂದು',\n",
       "  'ದೇಶದ',\n",
       "  'ಮುಂದುವರಿಯುವುದು',\n",
       "  'ಅದರ',\n",
       "  'ಆರ್ಥಿಕ',\n",
       "  'ಸ್ಥಿತಿಯನ್ನು',\n",
       "  'ಅವಲಂಬಿಸುವುದಿಲ್ಲ',\n",
       "  'ಅವರು',\n",
       "  'ಮಾನವೀಯತೆಯಲ್ಲಿ',\n",
       "  'ಎಷ್ಟು',\n",
       "  'ಸಮರ್ಥರು',\n",
       "  'ಎನ್ನುವುದನ್ನು',\n",
       "  'ಅವಲಂಬಿಸಿದೆ',\n",
       "  'ಭಾರತದಲ್ಲಿ',\n",
       "  'ಅನಕ್ಷರತೆ',\n",
       "  'ಇದೆ',\n",
       "  'ಆ',\n",
       "  'ಅನಕ್ಷರಸ್ಥರನ್ನು',\n",
       "  'ಅವರ',\n",
       "  'ಅನಕ್ಷರತೆಯೇ'],\n",
       " ['ಕನ್ನಡದಲ್ಲಿ',\n",
       "  'ಡೈಲಿ',\n",
       "  'ಟೆಕ್',\n",
       "  'ಅಪ್ಡೇಟ್ಸ್',\n",
       "  'ಪಡೆಯಲು',\n",
       "  'ಸಬ್ಸ್ಕ್ರೈಬ್',\n",
       "  'ಮಾಡಿ',\n",
       "  'ನಮ್ಮ',\n",
       "  'ಚನ್ನೆಲ್ಗೆ'],\n",
       " ['super', 'sar', 'song'],\n",
       " ['tiktokers',\n",
       "  'present',\n",
       "  'situation',\n",
       "  'nನೋಡುವವರು',\n",
       "  'ಯಾರು',\n",
       "  'ನಮ್ಮ',\n",
       "  'ವೀಡಿಯೋನೂ'],\n",
       " ['super', 'ಸಾಂಗ್', 'ವೆರಿ', 'ನೈಸ್']]"
      ]
     },
     "execution_count": 28,
     "metadata": {},
     "output_type": "execute_result"
    }
   ],
   "source": [
    "words_in_train = [sent.split() for sent in train_text] # Splitting the tweet into tokens\n",
    "words_in_train[0:5]"
   ]
  },
  {
   "cell_type": "code",
   "execution_count": 29,
   "metadata": {
    "colab": {
     "base_uri": "https://localhost:8080/"
    },
    "id": "tD9tzRqeeHCK",
    "outputId": "b26b7d90-4802-41dc-cd01-f06ee8a3c5af"
   },
   "outputs": [
    {
     "data": {
      "text/plain": [
       "[['binduge',\n",
       "  'saryagi',\n",
       "  'ugithidira',\n",
       "  'good',\n",
       "  'go',\n",
       "  'ahead',\n",
       "  'we',\n",
       "  'are',\n",
       "  'enjoying',\n",
       "  'well'],\n",
       " ['yen', 'song', 'guru', 'super'],\n",
       " ['my', 'fevorat', 'story'],\n",
       " ['super', 'ತೋಗರಿ', 'ತೀಪ್ಪ'],\n",
       " ['ನಿಮ್ಮ',\n",
       "  'ಮಾತುಗಳು',\n",
       "  'ಅಕ್ಷರಶಃ',\n",
       "  'ಸತ್ಯ',\n",
       "  'ನಿಮ್ಮ',\n",
       "  'ಈ',\n",
       "  'ಸಾಮಾನ್ಯ',\n",
       "  'ಜೀವನ',\n",
       "  'ನೋಡಿ',\n",
       "  'ಕುಷಿ',\n",
       "  'ಆಯಿತು']]"
      ]
     },
     "execution_count": 29,
     "metadata": {},
     "output_type": "execute_result"
    }
   ],
   "source": [
    "words_in_valid = [sent.split() for sent in valid_text] # Splitting the tweet into tokens\n",
    "words_in_valid[0:5]"
   ]
  },
  {
   "cell_type": "code",
   "execution_count": 30,
   "metadata": {
    "colab": {
     "base_uri": "https://localhost:8080/"
    },
    "id": "9CdT5ChSSvXD",
    "outputId": "981341a9-715e-44a3-ef11-81a447835f35"
   },
   "outputs": [
    {
     "data": {
      "text/plain": [
       "[['ಈ',\n",
       "  'ಹಾಡನ್ನು',\n",
       "  'ಹಾಡಿದ',\n",
       "  'ವಿಜಯ',\n",
       "  'ಪ್ರಕಾಶ',\n",
       "  'voice',\n",
       "  'ಯಾರಿಗೆಲ್ಲಾ',\n",
       "  'ಇಷ್ಟವಾಗಿದೆ',\n",
       "  'ಲೈಕ್',\n",
       "  'ಮಾಡಿಗಾಳಿ',\n",
       "  'ಮಾತಿನ',\n",
       "  'ಬಜಾರು',\n",
       "  'ಸುದ್ದಿ',\n",
       "  'ಸಾರಿದೆ'],\n",
       " ['jai', 'd', 'boss'],\n",
       " ['signature', 'move'],\n",
       " ['super', 'song', 'bro'],\n",
       " ['wow', 'super', 'agi', 'helidira', 'sir']]"
      ]
     },
     "execution_count": 30,
     "metadata": {},
     "output_type": "execute_result"
    }
   ],
   "source": [
    "words_in_test = [sent.split() for sent in test_text] # Splitting the tweet into tokens\n",
    "words_in_test[0:5]"
   ]
  },
  {
   "cell_type": "code",
   "execution_count": 31,
   "metadata": {
    "id": "Ol-a8g8OeLCl"
   },
   "outputs": [],
   "source": [
    "#words_in_test = [sent.split() for sent in test_text] # Splitting the tweet into tokens\n",
    "#words_in_test[0:5]"
   ]
  },
  {
   "cell_type": "code",
   "execution_count": 32,
   "metadata": {
    "colab": {
     "base_uri": "https://localhost:8080/"
    },
    "id": "nGt1UytVeN8w",
    "outputId": "f00dc344-308b-4a07-e2ad-c8068d86fa49"
   },
   "outputs": [
    {
     "data": {
      "text/plain": [
       "['ಒಂದು',\n",
       " 'ದೇಶದ',\n",
       " 'ಮುಂದುವರಿಯುವುದು',\n",
       " 'ಅದರ',\n",
       " 'ಆರ್ಥಿಕ',\n",
       " 'ಸ್ಥಿತಿಯನ್ನು',\n",
       " 'ಅವಲಂಬಿಸುವುದಿಲ್ಲ',\n",
       " 'ಅವರು',\n",
       " 'ಮಾನವೀಯತೆಯಲ್ಲಿ',\n",
       " 'ಎಷ್ಟು']"
      ]
     },
     "execution_count": 32,
     "metadata": {},
     "output_type": "execute_result"
    }
   ],
   "source": [
    "all_words_train = list(itertools.chain(*words_in_train)) # Making a flatlist of all the words in the corpus\n",
    "all_words_train[0:10]"
   ]
  },
  {
   "cell_type": "code",
   "execution_count": 33,
   "metadata": {
    "colab": {
     "base_uri": "https://localhost:8080/"
    },
    "id": "LsXmgJMdeTsx",
    "outputId": "468f118e-6ad2-4322-f1d3-45f090d9a8c6"
   },
   "outputs": [
    {
     "data": {
      "text/plain": [
       "['binduge',\n",
       " 'saryagi',\n",
       " 'ugithidira',\n",
       " 'good',\n",
       " 'go',\n",
       " 'ahead',\n",
       " 'we',\n",
       " 'are',\n",
       " 'enjoying',\n",
       " 'well']"
      ]
     },
     "execution_count": 33,
     "metadata": {},
     "output_type": "execute_result"
    }
   ],
   "source": [
    "all_words_valid = list(itertools.chain(*words_in_valid)) # Making a flatlist of all the words in the corpus\n",
    "all_words_valid[0:10]"
   ]
  },
  {
   "cell_type": "code",
   "execution_count": 34,
   "metadata": {
    "colab": {
     "base_uri": "https://localhost:8080/"
    },
    "id": "jA7L0evJeZ23",
    "outputId": "3c271850-15b7-492d-a85b-7588335c86e9"
   },
   "outputs": [
    {
     "data": {
      "text/plain": [
       "['ಈ',\n",
       " 'ಹಾಡನ್ನು',\n",
       " 'ಹಾಡಿದ',\n",
       " 'ವಿಜಯ',\n",
       " 'ಪ್ರಕಾಶ',\n",
       " 'voice',\n",
       " 'ಯಾರಿಗೆಲ್ಲಾ',\n",
       " 'ಇಷ್ಟವಾಗಿದೆ',\n",
       " 'ಲೈಕ್',\n",
       " 'ಮಾಡಿಗಾಳಿ']"
      ]
     },
     "execution_count": 34,
     "metadata": {},
     "output_type": "execute_result"
    }
   ],
   "source": [
    "all_words_test = list(itertools.chain(*words_in_test)) # Making a flatlist of all the words in the corpus\n",
    "all_words_test[0:10]"
   ]
  },
  {
   "cell_type": "code",
   "execution_count": 35,
   "metadata": {
    "colab": {
     "base_uri": "https://localhost:8080/"
    },
    "id": "P95OuslMecpt",
    "outputId": "08d44289-be41-4f3e-cfa9-df019a26373c"
   },
   "outputs": [
    {
     "data": {
      "text/plain": [
       "[('super', 919),\n",
       " ('song', 474),\n",
       " ('bro', 434),\n",
       " ('sir', 415),\n",
       " ('movie', 367),\n",
       " ('guru', 332),\n",
       " ('like', 260),\n",
       " ('boss', 200),\n",
       " ('kannada', 197),\n",
       " ('i', 176),\n",
       " ('madi', 173),\n",
       " ('ge', 169),\n",
       " ('ಈ', 160),\n",
       " ('ಸೂಪರ್', 152),\n",
       " ('anna', 148)]"
      ]
     },
     "execution_count": 35,
     "metadata": {},
     "output_type": "execute_result"
    }
   ],
   "source": [
    "word_counts_train = collections.Counter(all_words_train)  # Computing the number of occurrence of all the words in the corpus\n",
    "word_counts_train.most_common(15)"
   ]
  },
  {
   "cell_type": "code",
   "execution_count": 36,
   "metadata": {
    "colab": {
     "base_uri": "https://localhost:8080/"
    },
    "id": "kA0rdXg-eiXH",
    "outputId": "a3544285-165c-4039-a07b-1cf03b59fe68"
   },
   "outputs": [
    {
     "data": {
      "text/plain": [
       "[('super', 106),\n",
       " ('song', 62),\n",
       " ('sir', 50),\n",
       " ('bro', 48),\n",
       " ('movie', 39),\n",
       " ('guru', 37),\n",
       " ('like', 32),\n",
       " ('madi', 21),\n",
       " ('ಈ', 20),\n",
       " ('fans', 20),\n",
       " ('kannada', 19),\n",
       " ('nim', 19),\n",
       " ('e', 19),\n",
       " ('ge', 18),\n",
       " ('all', 15)]"
      ]
     },
     "execution_count": 36,
     "metadata": {},
     "output_type": "execute_result"
    }
   ],
   "source": [
    "word_counts_valid = collections.Counter(all_words_valid)  # Computing the number of occurrence of all the words in the corpus\n",
    "word_counts_valid.most_common(15)"
   ]
  },
  {
   "cell_type": "code",
   "execution_count": 37,
   "metadata": {
    "colab": {
     "base_uri": "https://localhost:8080/"
    },
    "id": "08AoagvYelwh",
    "outputId": "a733d1a1-f058-4eaf-c093-e3a11e98f6e0"
   },
   "outputs": [
    {
     "data": {
      "text/plain": [
       "[('super', 137),\n",
       " ('song', 66),\n",
       " ('sir', 57),\n",
       " ('bro', 55),\n",
       " ('movie', 46),\n",
       " ('guru', 44),\n",
       " ('ಈ', 34),\n",
       " ('like', 28),\n",
       " ('kannada', 27),\n",
       " ('madi', 25),\n",
       " ('boss', 24),\n",
       " ('ಸೂಪರ್', 24),\n",
       " ('ge', 23),\n",
       " ('film', 22),\n",
       " ('i', 22)]"
      ]
     },
     "execution_count": 37,
     "metadata": {},
     "output_type": "execute_result"
    }
   ],
   "source": [
    "word_counts_test = collections.Counter(all_words_test)  # Computing the number of occurrence of all the words in the corpus\n",
    "word_counts_test.most_common(15)"
   ]
  },
  {
   "cell_type": "code",
   "execution_count": 38,
   "metadata": {
    "colab": {
     "base_uri": "https://localhost:8080/"
    },
    "id": "cABBZtMSeujn",
    "outputId": "83b02ed8-a1b8-44c4-a5fd-32a5e55703c4"
   },
   "outputs": [
    {
     "name": "stdout",
     "output_type": "stream",
     "text": [
      "   words  count\n",
      "0  super    919\n",
      "1   song    474\n",
      "2    bro    434\n",
      "3    sir    415\n",
      "4  movie    367\n"
     ]
    }
   ],
   "source": [
    "# Creating a dataframe with words and corresponding frequency\n",
    "words_with_counts_train = pd.DataFrame(word_counts_train.most_common(len(all_words_train)), columns=['words', 'count']) \n",
    "print(words_with_counts_train.head())"
   ]
  },
  {
   "cell_type": "code",
   "execution_count": 39,
   "metadata": {
    "colab": {
     "base_uri": "https://localhost:8080/"
    },
    "id": "N4ECtFEefMMT",
    "outputId": "3e8e31fa-106e-41eb-a9c9-40e0a40a2574"
   },
   "outputs": [
    {
     "name": "stdout",
     "output_type": "stream",
     "text": [
      "   words  count\n",
      "0  super    106\n",
      "1   song     62\n",
      "2    sir     50\n",
      "3    bro     48\n",
      "4  movie     39\n"
     ]
    }
   ],
   "source": [
    "# Creating a dataframe with words and corresponding frequency\n",
    "words_with_counts_valid = pd.DataFrame(word_counts_valid.most_common(len(all_words_valid)), columns=['words', 'count']) \n",
    "print(words_with_counts_valid.head())"
   ]
  },
  {
   "cell_type": "code",
   "execution_count": 40,
   "metadata": {
    "colab": {
     "base_uri": "https://localhost:8080/"
    },
    "id": "JgrJKJFRCEEP",
    "outputId": "801c9aaf-eb87-44f6-d96c-75936b051c9d"
   },
   "outputs": [
    {
     "name": "stdout",
     "output_type": "stream",
     "text": [
      "   words  count\n",
      "0  super    137\n",
      "1   song     66\n",
      "2    sir     57\n",
      "3    bro     55\n",
      "4  movie     46\n"
     ]
    }
   ],
   "source": [
    "# Creating a dataframe with words and corresponding frequency\n",
    "words_with_counts_test = pd.DataFrame(word_counts_test.most_common(len(all_words_test)), columns=['words', 'count']) \n",
    "print(words_with_counts_test.head())"
   ]
  },
  {
   "cell_type": "code",
   "execution_count": 41,
   "metadata": {
    "id": "oEz6Ik75fl4S"
   },
   "outputs": [],
   "source": [
    "all_words = all_words_train + all_words_valid + all_words_test\n",
    "corpus = train_text + valid_text + test_text\n",
    "vocab_size = len(set(all_words)) # number of words to keep.\n",
    "embedding_dim = 100 # Dimension of the vector representation for each word \n",
    "max_length = 0\n",
    "for i in range(len(corpus)):\n",
    "  x = word_tokenize(corpus[i])\n",
    "  if len(x) > max_length:\n",
    "    max_length = len(x)\n",
    "\n",
    "oov_tok = \"<OOV>\"  # Token to represent Out-of-Vocabulary words"
   ]
  },
  {
   "cell_type": "code",
   "execution_count": 42,
   "metadata": {
    "id": "jW6TrRPcg24l"
   },
   "outputs": [],
   "source": [
    "tokenizer = tf.keras.preprocessing.text.Tokenizer(num_words = vocab_size, oov_token=oov_tok)\n",
    "tokenizer.fit_on_texts(train_text)\n",
    "word_index = tokenizer.word_index"
   ]
  },
  {
   "cell_type": "code",
   "execution_count": 43,
   "metadata": {
    "id": "O0MNdZiBhFZh"
   },
   "outputs": [],
   "source": [
    "# Pad the sequences so that they are all the same length\n",
    "training_sequences = tokenizer.texts_to_sequences(train_text)\n",
    "training_padded = tf.keras.preprocessing.sequence.pad_sequences(training_sequences,maxlen=max_length, padding='post')\n",
    "\n",
    "valid_sequences = tokenizer.texts_to_sequences(valid_text)\n",
    "valid_padded = tf.keras.preprocessing.sequence.pad_sequences(valid_sequences,maxlen=max_length, padding='post')\n",
    "\n",
    "\n",
    "test_sequences = tokenizer.texts_to_sequences(test_text)\n",
    "test_padded = tf.keras.preprocessing.sequence.pad_sequences(test_sequences,maxlen=max_length, padding='post')"
   ]
  },
  {
   "cell_type": "code",
   "execution_count": 44,
   "metadata": {
    "id": "WCOmevLrmUHO"
   },
   "outputs": [],
   "source": [
    "METRICS = [\n",
    "      #tf.keras.metrics.TruePositives(name='tp'),\n",
    "      #tf.keras.metrics.FalsePositives(name='fp'),\n",
    "      #tf.keras.metrics.TrueNegatives(name='tn'),\n",
    "      #tf.keras.metrics.FalseNegatives(name='fn'), \n",
    "      tf.keras.metrics.BinaryAccuracy(name='accuracy'),\n",
    "      tf.keras.metrics.Precision(name='precision'),\n",
    "      tf.keras.metrics.Recall(name='recall'),\n",
    "      tf.keras.metrics.AUC(name='auc'),\n",
    "]"
   ]
  },
  {
   "cell_type": "code",
   "execution_count": 45,
   "metadata": {
    "colab": {
     "base_uri": "https://localhost:8080/"
    },
    "id": "kS9-3gVVEuGF",
    "outputId": "de21bebf-a64e-4498-dfbb-985bef6ae2a0"
   },
   "outputs": [
    {
     "name": "stdout",
     "output_type": "stream",
     "text": [
      "(6212, 96)\n",
      "(691, 96)\n",
      "(768, 96)\n"
     ]
    }
   ],
   "source": [
    "print(np.shape(training_padded))\n",
    "print(np.shape(valid_padded))\n",
    "print(np.shape(test_padded))"
   ]
  },
  {
   "cell_type": "code",
   "execution_count": 46,
   "metadata": {
    "colab": {
     "base_uri": "https://localhost:8080/"
    },
    "id": "D7ggw2JBhhzk",
    "outputId": "76078701-e1a7-41b0-aa22-d2adf2f03b9e"
   },
   "outputs": [
    {
     "name": "stdout",
     "output_type": "stream",
     "text": [
      "Model: \"sequential\"\n",
      "_________________________________________________________________\n",
      "Layer (type)                 Output Shape              Param #   \n",
      "=================================================================\n",
      "embedding (Embedding)        (None, 96, 100)           1839900   \n",
      "_________________________________________________________________\n",
      "conv1d (Conv1D)              (None, 96, 128)           64128     \n",
      "_________________________________________________________________\n",
      "max_pooling1d (MaxPooling1D) (None, 20, 128)           0         \n",
      "_________________________________________________________________\n",
      "bidirectional (Bidirectional (None, 64)                41216     \n",
      "_________________________________________________________________\n",
      "dense (Dense)                (None, 32)                2080      \n",
      "_________________________________________________________________\n",
      "dense_1 (Dense)              (None, 5)                 165       \n",
      "=================================================================\n",
      "Total params: 1,947,489\n",
      "Trainable params: 1,947,489\n",
      "Non-trainable params: 0\n",
      "_________________________________________________________________\n"
     ]
    }
   ],
   "source": [
    "filter_size = 128\n",
    "kernel_size = 5\n",
    "pool_size = 5\n",
    "\n",
    "model = tf.keras.Sequential([\n",
    "    tf.keras.layers.Embedding(vocab_size, embedding_dim, input_length=max_length,\n",
    "                              embeddings_initializer='orthogonal', embeddings_regularizer='L2'),\n",
    "    tf.keras.layers.Conv1D(filter_size, kernel_size, activation='relu', padding='same'),\n",
    "    tf.keras.layers.MaxPooling1D(pool_size, padding='same'),\n",
    "    tf.keras.layers.Bidirectional(tf.keras.layers.LSTM(32)),\n",
    "    tf.keras.layers.Dense(32, activation=tf.nn.relu),\n",
    "    tf.keras.layers.Dense(5, activation=tf.nn.softmax)\n",
    "])\n",
    "\n",
    "model.compile(\n",
    "    loss=tf.keras.losses.CategoricalCrossentropy(),\n",
    "    optimizer=tf.keras.optimizers.Adam(learning_rate=0.01),\n",
    "    metrics=METRICS\n",
    ")\n",
    "\n",
    "model.summary()"
   ]
  },
  {
   "cell_type": "code",
   "execution_count": 47,
   "metadata": {
    "colab": {
     "base_uri": "https://localhost:8080/"
    },
    "id": "zNRmogOdhnbz",
    "outputId": "096a3577-fa61-4147-eeb7-66b5a0c3b3d3",
    "scrolled": false
   },
   "outputs": [
    {
     "name": "stdout",
     "output_type": "stream",
     "text": [
      "Epoch 1/100\n",
      "49/49 [==============================] - 26s 71ms/step - loss: 8.2191 - accuracy: 0.8047 - precision: 0.4389 - recall: 0.0754 - auc: 0.6589 - val_loss: 3.6183 - val_accuracy: 0.8284 - val_precision: 0.7663 - val_recall: 0.2041 - val_auc: 0.7761\n",
      "Epoch 2/100\n",
      "49/49 [==============================] - 1s 19ms/step - loss: 8.4416 - accuracy: 0.8310 - precision: 0.6801 - recall: 0.2957 - auc: 0.7994 - val_loss: 3.7650 - val_accuracy: 0.8397 - val_precision: 0.7147 - val_recall: 0.3300 - val_auc: 0.8411\n",
      "Epoch 3/100\n",
      "49/49 [==============================] - 1s 19ms/step - loss: 8.4334 - accuracy: 0.8449 - precision: 0.7101 - recall: 0.3796 - auc: 0.8314 - val_loss: 4.4836 - val_accuracy: 0.8307 - val_precision: 0.6803 - val_recall: 0.2894 - val_auc: 0.7918\n",
      "Epoch 4/100\n",
      "49/49 [==============================] - 1s 19ms/step - loss: 8.5939 - accuracy: 0.8430 - precision: 0.6979 - recall: 0.3801 - auc: 0.8412 - val_loss: 4.8282 - val_accuracy: 0.8420 - val_precision: 0.6986 - val_recall: 0.3690 - val_auc: 0.8306\n",
      "Epoch 5/100\n",
      "49/49 [==============================] - 1s 19ms/step - loss: 8.6184 - accuracy: 0.8613 - precision: 0.7369 - recall: 0.4765 - auc: 0.8733 - val_loss: 5.8447 - val_accuracy: 0.8463 - val_precision: 0.6961 - val_recall: 0.4110 - val_auc: 0.8309\n",
      "Epoch 6/100\n",
      "49/49 [==============================] - 1s 19ms/step - loss: 8.6605 - accuracy: 0.8770 - precision: 0.7530 - recall: 0.5713 - auc: 0.9022 - val_loss: 5.8610 - val_accuracy: 0.8420 - val_precision: 0.6845 - val_recall: 0.3893 - val_auc: 0.8326\n",
      "Epoch 7/100\n",
      "49/49 [==============================] - 1s 19ms/step - loss: 8.7046 - accuracy: 0.8899 - precision: 0.7910 - recall: 0.6117 - auc: 0.9139 - val_loss: 6.5820 - val_accuracy: 0.8391 - val_precision: 0.6552 - val_recall: 0.4124 - val_auc: 0.8290\n",
      "Epoch 8/100\n",
      "49/49 [==============================] - 1s 19ms/step - loss: 8.8934 - accuracy: 0.8953 - precision: 0.7895 - recall: 0.6504 - auc: 0.9271 - val_loss: 6.7981 - val_accuracy: 0.8504 - val_precision: 0.6667 - val_recall: 0.5036 - val_auc: 0.8428\n",
      "Epoch 9/100\n",
      "49/49 [==============================] - 1s 19ms/step - loss: 8.7280 - accuracy: 0.8992 - precision: 0.7903 - recall: 0.6755 - auc: 0.9337 - val_loss: 7.1892 - val_accuracy: 0.8530 - val_precision: 0.6763 - val_recall: 0.5080 - val_auc: 0.8456\n",
      "Epoch 10/100\n",
      "49/49 [==============================] - 1s 19ms/step - loss: 8.6453 - accuracy: 0.9126 - precision: 0.8133 - recall: 0.7310 - auc: 0.9452 - val_loss: 7.6546 - val_accuracy: 0.8246 - val_precision: 0.5750 - val_recall: 0.4718 - val_auc: 0.8199\n",
      "Epoch 11/100\n",
      "49/49 [==============================] - 1s 19ms/step - loss: 8.5204 - accuracy: 0.9217 - precision: 0.8352 - recall: 0.7584 - auc: 0.9558 - val_loss: 7.8328 - val_accuracy: 0.8234 - val_precision: 0.5740 - val_recall: 0.4544 - val_auc: 0.8212\n",
      "Epoch 12/100\n",
      "49/49 [==============================] - 1s 20ms/step - loss: 8.7164 - accuracy: 0.9194 - precision: 0.8280 - recall: 0.7536 - auc: 0.9547 - val_loss: 7.7683 - val_accuracy: 0.8411 - val_precision: 0.6228 - val_recall: 0.5210 - val_auc: 0.8503\n",
      "Epoch 13/100\n",
      "49/49 [==============================] - 1s 19ms/step - loss: 8.5443 - accuracy: 0.9266 - precision: 0.8407 - recall: 0.7808 - auc: 0.9634 - val_loss: 7.6728 - val_accuracy: 0.8394 - val_precision: 0.6172 - val_recall: 0.5181 - val_auc: 0.8391\n",
      "Epoch 14/100\n",
      "49/49 [==============================] - 1s 20ms/step - loss: 8.3958 - accuracy: 0.9288 - precision: 0.8494 - recall: 0.7831 - auc: 0.9662 - val_loss: 7.9216 - val_accuracy: 0.8310 - val_precision: 0.5848 - val_recall: 0.5340 - val_auc: 0.8356\n",
      "Epoch 15/100\n",
      "49/49 [==============================] - 1s 20ms/step - loss: 8.4210 - accuracy: 0.9308 - precision: 0.8455 - recall: 0.8003 - auc: 0.9687 - val_loss: 8.3145 - val_accuracy: 0.8339 - val_precision: 0.5983 - val_recall: 0.5152 - val_auc: 0.8427\n",
      "Epoch 16/100\n",
      "49/49 [==============================] - 1s 20ms/step - loss: 9.0030 - accuracy: 0.9317 - precision: 0.8524 - recall: 0.7962 - auc: 0.9683 - val_loss: 8.8927 - val_accuracy: 0.8177 - val_precision: 0.5493 - val_recall: 0.4920 - val_auc: 0.8163\n",
      "Epoch 17/100\n",
      "49/49 [==============================] - 1s 20ms/step - loss: 8.8107 - accuracy: 0.9314 - precision: 0.8454 - recall: 0.8039 - auc: 0.9693 - val_loss: 8.1511 - val_accuracy: 0.8336 - val_precision: 0.5932 - val_recall: 0.5340 - val_auc: 0.8404\n",
      "Epoch 18/100\n",
      "49/49 [==============================] - 1s 19ms/step - loss: 8.3243 - accuracy: 0.9406 - precision: 0.8680 - recall: 0.8289 - auc: 0.9753 - val_loss: 8.8118 - val_accuracy: 0.8243 - val_precision: 0.5675 - val_recall: 0.5109 - val_auc: 0.8326\n",
      "Epoch 19/100\n",
      "49/49 [==============================] - 1s 20ms/step - loss: 9.1203 - accuracy: 0.9408 - precision: 0.8695 - recall: 0.8283 - auc: 0.9746 - val_loss: 8.7830 - val_accuracy: 0.8185 - val_precision: 0.5516 - val_recall: 0.4949 - val_auc: 0.8213\n",
      "Epoch 20/100\n",
      "49/49 [==============================] - 1s 19ms/step - loss: 8.3017 - accuracy: 0.9424 - precision: 0.8712 - recall: 0.8353 - auc: 0.9768 - val_loss: 8.5827 - val_accuracy: 0.8269 - val_precision: 0.5739 - val_recall: 0.5224 - val_auc: 0.8141\n",
      "Epoch 21/100\n",
      "49/49 [==============================] - 1s 19ms/step - loss: 9.1034 - accuracy: 0.9338 - precision: 0.8524 - recall: 0.8094 - auc: 0.9732 - val_loss: 9.0445 - val_accuracy: 0.8182 - val_precision: 0.5498 - val_recall: 0.5036 - val_auc: 0.8250\n",
      "Epoch 22/100\n",
      "49/49 [==============================] - 1s 20ms/step - loss: 9.2366 - accuracy: 0.9424 - precision: 0.8741 - recall: 0.8316 - auc: 0.9769 - val_loss: 9.8108 - val_accuracy: 0.8281 - val_precision: 0.5757 - val_recall: 0.5340 - val_auc: 0.8443\n"
     ]
    }
   ],
   "source": [
    "#callback = tf.keras.callbacks.EarlyStopping(monitor='loss', patience=10)\n",
    "callback = tf.keras.callbacks.EarlyStopping(monitor='val_auc', patience=10, mode='max', restore_best_weights=True)\n",
    "\n",
    "num_epochs = 100\n",
    "history = model.fit(\n",
    "    training_padded,\n",
    "    training_labels,\n",
    "    epochs=num_epochs,\n",
    "    batch_size = 128,\n",
    "    callbacks=[callback],\n",
    "    validation_data=(valid_padded, validation_labels),\n",
    "    class_weight=class_weight\n",
    ")"
   ]
  },
  {
   "cell_type": "code",
   "execution_count": 48,
   "metadata": {
    "colab": {
     "base_uri": "https://localhost:8080/",
     "height": 661
    },
    "id": "fhzty8Tufzie",
    "outputId": "d41926e4-a4c3-4417-8c45-cbfc536dd70f"
   },
   "outputs": [
    {
     "data": {
      "image/png": "[encoded data removed]",
      "text/plain": [
       "<IPython.core.display.Image object>"
      ]
     },
     "execution_count": 48,
     "metadata": {},
     "output_type": "execute_result"
    }
   ],
   "source": [
    "tf.keras.utils.plot_model(\n",
    "    model,\n",
    "    to_file=\"CNN+BILSTM.png\",\n",
    "    show_shapes=False,\n",
    "    show_dtype=False,\n",
    "    show_layer_names=True,\n",
    "    rankdir=\"TB\",\n",
    "    expand_nested=False,\n",
    "    dpi=96,\n",
    ")"
   ]
  },
  {
   "cell_type": "code",
   "execution_count": 49,
   "metadata": {
    "colab": {
     "base_uri": "https://localhost:8080/",
     "height": 544
    },
    "id": "Rw8WDqSZhpCl",
    "outputId": "f873b720-8f0c-4ec9-9996-c5292ac2ae02"
   },
   "outputs": [
    {
     "data": {
      "image/png": "[encoded data removed]",
      "text/plain": [
       "<Figure size 432x288 with 1 Axes>"
      ]
     },
     "metadata": {
      "needs_background": "light"
     },
     "output_type": "display_data"
    },
    {
     "data": {
      "image/png": "[encoded data removed]",
      "text/plain": [
       "<Figure size 432x288 with 1 Axes>"
      ]
     },
     "metadata": {
      "needs_background": "light"
     },
     "output_type": "display_data"
    }
   ],
   "source": [
    "def plot_graphs(history, string):\n",
    "  plt.plot(history.history[string])\n",
    "  plt.plot(history.history['val_'+string])\n",
    "  plt.xlabel(\"Epochs\")\n",
    "  plt.ylabel(string)\n",
    "  plt.legend([string, 'val_'+string])\n",
    "  plt.show()\n",
    "  \n",
    "plot_graphs(history, \"auc\")\n",
    "plot_graphs(history, \"loss\")"
   ]
  },
  {
   "cell_type": "code",
   "execution_count": 50,
   "metadata": {
    "colab": {
     "base_uri": "https://localhost:8080/"
    },
    "id": "DfJokgM_ll7w",
    "outputId": "c88078ad-b070-46d6-8dd3-bf01e5f11448"
   },
   "outputs": [
    {
     "name": "stdout",
     "output_type": "stream",
     "text": [
      "22/22 [==============================] - 1s 15ms/step - loss: 7.7683 - accuracy: 0.8411 - precision: 0.6228 - recall: 0.5210 - auc: 0.8503\n",
      "Loss = 7.768267631530762\n",
      "Accuracy = 84.11%\n",
      "[7.768267631530762, 0.8410999774932861, 0.6228373646736145, 0.5209840536117554, 0.8503472805023193]\n"
     ]
    }
   ],
   "source": [
    "score = model.evaluate(valid_padded, validation_labels)\n",
    "print(\"Loss = {}\".format(score[0]))\n",
    "print(\"Accuracy = {0:.2f}%\".format(score[1]*100))\n",
    "print(score)"
   ]
  },
  {
   "cell_type": "code",
   "execution_count": 51,
   "metadata": {
    "colab": {
     "base_uri": "https://localhost:8080/"
    },
    "id": "5ToVHSgyni2H",
    "outputId": "5e79bd88-49b2-4c29-ef58-c4ff64834be0"
   },
   "outputs": [
    {
     "name": "stderr",
     "output_type": "stream",
     "text": [
      "C:\\Users\\phvpa\\anaconda3\\envs\\NLP\\lib\\site-packages\\tensorflow\\python\\keras\\engine\\sequential.py:450: UserWarning: `model.predict_classes()` is deprecated and will be removed after 2021-01-01. Please use instead:* `np.argmax(model.predict(x), axis=-1)`,   if your model does multi-class classification   (e.g. if it uses a `softmax` last-layer activation).* `(model.predict(x) > 0.5).astype(\"int32\")`,   if your model does binary classification   (e.g. if it uses a `sigmoid` last-layer activation).\n",
      "  warnings.warn('`model.predict_classes()` is deprecated and '\n"
     ]
    },
    {
     "name": "stdout",
     "output_type": "stream",
     "text": [
      "Accuracy = 58.47\n",
      "Precision = 0.5007\n",
      "Recall = 0.5248\n",
      "F1-score = 0.5085\n"
     ]
    }
   ],
   "source": [
    "y_pred = model.predict_classes(valid_padded)\n",
    "\n",
    "accuracy = accuracy_score(valid_label, y_pred)\n",
    "precision = precision_score(valid_label, y_pred, average='macro')\n",
    "recall = recall_score(valid_label, y_pred, average='macro')\n",
    "f1 = f1_score(valid_label, y_pred, average='macro')\n",
    "\n",
    "print(\"Accuracy = {0:.2f}\".format(accuracy*100))\n",
    "print(\"Precision = {0:.4f}\".format(precision))\n",
    "print(\"Recall = {0:.4f}\".format(recall))\n",
    "print(\"F1-score = {0:.4f}\".format(f1))"
   ]
  },
  {
   "cell_type": "code",
   "execution_count": 52,
   "metadata": {
    "colab": {
     "base_uri": "https://localhost:8080/"
    },
    "id": "4kzRK7MCzCtM",
    "outputId": "d6a48656-de78-44f7-a3db-3ae5fc6ae396"
   },
   "outputs": [
    {
     "data": {
      "text/plain": [
       "array([[ 13,  11,  19,   4,   5],\n",
       "       [ 15,  87,  27,   4,   6],\n",
       "       [ 26,  38, 198,  48,  11],\n",
       "       [  2,   5,  11,  75,  17],\n",
       "       [  9,   4,  10,  15,  31]], dtype=int64)"
      ]
     },
     "execution_count": 52,
     "metadata": {},
     "output_type": "execute_result"
    }
   ],
   "source": [
    "confusion_matrix(valid_label,y_pred)"
   ]
  },
  {
   "cell_type": "code",
   "execution_count": 53,
   "metadata": {
    "colab": {
     "base_uri": "https://localhost:8080/"
    },
    "id": "_N3CegKPzCtN",
    "outputId": "39bcea49-5b8d-44ba-abc8-05ad0274e0ec"
   },
   "outputs": [
    {
     "name": "stdout",
     "output_type": "stream",
     "text": [
      "              precision    recall  f1-score   support\n",
      "\n",
      "           0       0.20      0.25      0.22        52\n",
      "           1       0.60      0.63      0.61       139\n",
      "           2       0.75      0.62      0.68       321\n",
      "           3       0.51      0.68      0.59       110\n",
      "           4       0.44      0.45      0.45        69\n",
      "\n",
      "    accuracy                           0.58       691\n",
      "   macro avg       0.50      0.52      0.51       691\n",
      "weighted avg       0.61      0.58      0.59       691\n",
      "\n"
     ]
    }
   ],
   "source": [
    "print(classification_report(valid_label,y_pred))"
   ]
  },
  {
   "cell_type": "code",
   "execution_count": 54,
   "metadata": {
    "id": "Mur1SQptoWRD"
   },
   "outputs": [],
   "source": [
    "# Define a function to prepare the new reviews for use with a model\n",
    "# and then use the model to predict the sentiment of the new reviews           \n",
    "\n",
    "def predict_review(model, reviews):\n",
    "  # Create the sequences\n",
    "  padding_type='post'\n",
    "  sample_sequences = tokenizer.texts_to_sequences(reviews)\n",
    "  reviews_padded = tf.keras.preprocessing.sequence.pad_sequences(sample_sequences, padding=padding_type, \n",
    "                                 maxlen=max_length) \n",
    "  classes = model.predict_classes(reviews_padded)\n",
    "  classes_prob = model.predict(reviews_padded)\n",
    "  for x in range(len(reviews_padded)):\n",
    "    print(reviews[x])\n",
    "    print(le.inverse_transform([classes[x]]))\n",
    "    print(classes_prob[x])\n",
    "    print('\\n')\n"
   ]
  },
  {
   "cell_type": "code",
   "execution_count": 55,
   "metadata": {
    "colab": {
     "base_uri": "https://localhost:8080/"
    },
    "id": "BbdY1TznCEES",
    "outputId": "895443b3-dc26-433d-8c0c-1b1c181fc030"
   },
   "outputs": [
    {
     "data": {
      "text/plain": [
       "['ಈ ಹಾಡನ್ನು ಹಾಡಿದ ವಿಜಯ ಪ್ರಕಾಶ voice ಯಾರಿಗೆಲ್ಲಾ ಇಷ್ಟವಾಗಿದೆ ಲೈಕ್ ಮಾಡಿಗಾಳಿ ಮಾತಿನ ಬಜಾರು ಸುದ್ದಿ ಸಾರಿದೆ',\n",
       " 'jai d boss',\n",
       " 'signature move',\n",
       " 'super song bro',\n",
       " 'wow  super agi helidira sir',\n",
       " 'waiting  asn',\n",
       " 'film nodidmele ee song ge addict aadavaru like maadinyalllrigu thanks for 1000 likes',\n",
       " 'i like it',\n",
       " 'avanige gaya vasi agbeku andreavnu krishna na bhakti madivasi madbeku eela kaliyuga nasa agbeku',\n",
       " 'ಚಂದನ್ ಶೆಟ್ಟಿ ಟ್ರೊಲ್ ವಿಡಿಯೋ ನೀವು ನೋಡಿ ನೆಗಡ್ಡೆ ಇದ್ರೆ ನಾವ್ ಗ್ಯಾರಂಟಿ']"
      ]
     },
     "execution_count": 55,
     "metadata": {},
     "output_type": "execute_result"
    }
   ],
   "source": [
    "sample_test = test_text[0:10]\n",
    "sample_test"
   ]
  },
  {
   "cell_type": "code",
   "execution_count": 56,
   "metadata": {
    "colab": {
     "base_uri": "https://localhost:8080/"
    },
    "id": "6alsT-9kCEET",
    "outputId": "68ceba16-9341-459c-a53c-fb6449c0d321"
   },
   "outputs": [
    {
     "name": "stderr",
     "output_type": "stream",
     "text": [
      "C:\\Users\\phvpa\\anaconda3\\envs\\NLP\\lib\\site-packages\\tensorflow\\python\\keras\\engine\\sequential.py:450: UserWarning: `model.predict_classes()` is deprecated and will be removed after 2021-01-01. Please use instead:* `np.argmax(model.predict(x), axis=-1)`,   if your model does multi-class classification   (e.g. if it uses a `softmax` last-layer activation).* `(model.predict(x) > 0.5).astype(\"int32\")`,   if your model does binary classification   (e.g. if it uses a `sigmoid` last-layer activation).\n",
      "  warnings.warn('`model.predict_classes()` is deprecated and '\n"
     ]
    },
    {
     "name": "stdout",
     "output_type": "stream",
     "text": [
      "ಈ ಹಾಡನ್ನು ಹಾಡಿದ ವಿಜಯ ಪ್ರಕಾಶ voice ಯಾರಿಗೆಲ್ಲಾ ಇಷ್ಟವಾಗಿದೆ ಲೈಕ್ ಮಾಡಿಗಾಳಿ ಮಾತಿನ ಬಜಾರು ಸುದ್ದಿ ಸಾರಿದೆ\n",
      "['Positive']\n",
      "[0.0886775  0.00467732 0.8348756  0.02115365 0.05061603]\n",
      "\n",
      "\n",
      "jai d boss\n",
      "['not-Kannada']\n",
      "[0.06956279 0.00879061 0.10454042 0.512731   0.30437517]\n",
      "\n",
      "\n",
      "signature move\n",
      "['unknown state']\n",
      "[0.03613936 0.00272555 0.02093443 0.12647295 0.8137277 ]\n",
      "\n",
      "\n",
      "super song bro\n",
      "['not-Kannada']\n",
      "[1.11519014e-02 8.32408725e-04 1.01549774e-01 8.62175107e-01\n",
      " 2.42908802e-02]\n",
      "\n",
      "\n",
      "wow  super agi helidira sir\n",
      "['Positive']\n",
      "[0.03640031 0.01053178 0.6194187  0.27863407 0.05501514]\n",
      "\n",
      "\n",
      "waiting  asn\n",
      "['not-Kannada']\n",
      "[0.03117261 0.00448043 0.3618979  0.5454935  0.05695559]\n",
      "\n",
      "\n",
      "film nodidmele ee song ge addict aadavaru like maadinyalllrigu thanks for 1000 likes\n",
      "['Mixed feelings']\n",
      "[0.3573919  0.18061808 0.33193585 0.02925225 0.10080195]\n",
      "\n",
      "\n",
      "i like it\n",
      "['not-Kannada']\n",
      "[0.01154652 0.0009261  0.06256279 0.8589793  0.06598528]\n",
      "\n",
      "\n",
      "avanige gaya vasi agbeku andreavnu krishna na bhakti madivasi madbeku eela kaliyuga nasa agbeku\n",
      "['Positive']\n",
      "[0.02309982 0.02061191 0.9397819  0.0044318  0.01207452]\n",
      "\n",
      "\n",
      "ಚಂದನ್ ಶೆಟ್ಟಿ ಟ್ರೊಲ್ ವಿಡಿಯೋ ನೀವು ನೋಡಿ ನೆಗಡ್ಡೆ ಇದ್ರೆ ನಾವ್ ಗ್ಯಾರಂಟಿ\n",
      "['Positive']\n",
      "[0.02137107 0.01018523 0.95737666 0.00257148 0.00849564]\n",
      "\n",
      "\n"
     ]
    }
   ],
   "source": [
    "predict_review(model, sample_test)"
   ]
  },
  {
   "cell_type": "code",
   "execution_count": 57,
   "metadata": {
    "colab": {
     "base_uri": "https://localhost:8080/"
    },
    "id": "iy2qX-VbzdQQ",
    "outputId": "db949b9f-af67-4409-a9a4-8f496a9d8f62"
   },
   "outputs": [],
   "source": [
    "classes = model.predict_classes(test_padded)\n",
    "pred = []\n",
    "\n",
    "for i in range(len(classes)):\n",
    "  pred.append(le.inverse_transform([classes[i]])[0])"
   ]
  },
  {
   "cell_type": "code",
   "execution_count": 58,
   "metadata": {
    "id": "MsJlq9aoCEET"
   },
   "outputs": [],
   "source": [
    "#pred[:]"
   ]
  },
  {
   "cell_type": "code",
   "execution_count": 59,
   "metadata": {
    "colab": {
     "base_uri": "https://localhost:8080/",
     "height": 203
    },
    "id": "A4Rudh_KCEET",
    "outputId": "b050d708-d317-49ca-d6b7-270e631c7b22"
   },
   "outputs": [
    {
     "data": {
      "text/html": [
       "<div>\n",
       "<style scoped>\n",
       "    .dataframe tbody tr th:only-of-type {\n",
       "        vertical-align: middle;\n",
       "    }\n",
       "\n",
       "    .dataframe tbody tr th {\n",
       "        vertical-align: top;\n",
       "    }\n",
       "\n",
       "    .dataframe thead th {\n",
       "        text-align: right;\n",
       "    }\n",
       "</style>\n",
       "<table border=\"1\" class=\"dataframe\">\n",
       "  <thead>\n",
       "    <tr style=\"text-align: right;\">\n",
       "      <th></th>\n",
       "      <th>label</th>\n",
       "    </tr>\n",
       "  </thead>\n",
       "  <tbody>\n",
       "    <tr>\n",
       "      <th>0</th>\n",
       "      <td>Positive</td>\n",
       "    </tr>\n",
       "    <tr>\n",
       "      <th>1</th>\n",
       "      <td>not-Kannada</td>\n",
       "    </tr>\n",
       "    <tr>\n",
       "      <th>2</th>\n",
       "      <td>unknown state</td>\n",
       "    </tr>\n",
       "    <tr>\n",
       "      <th>3</th>\n",
       "      <td>not-Kannada</td>\n",
       "    </tr>\n",
       "    <tr>\n",
       "      <th>4</th>\n",
       "      <td>Positive</td>\n",
       "    </tr>\n",
       "  </tbody>\n",
       "</table>\n",
       "</div>"
      ],
      "text/plain": [
       "           label\n",
       "0       Positive\n",
       "1    not-Kannada\n",
       "2  unknown state\n",
       "3    not-Kannada\n",
       "4       Positive"
      ]
     },
     "execution_count": 59,
     "metadata": {},
     "output_type": "execute_result"
    }
   ],
   "source": [
    "pred_df = pd.DataFrame(pred, columns=['label'])\n",
    "pred_df.head()"
   ]
  },
  {
   "cell_type": "code",
   "execution_count": 60,
   "metadata": {
    "colab": {
     "base_uri": "https://localhost:8080/",
     "height": 203
    },
    "id": "hvmIIHeuCEET",
    "outputId": "053e88c8-db2a-437f-c9dd-2fe0cb349c9a"
   },
   "outputs": [
    {
     "data": {
      "text/html": [
       "<div>\n",
       "<style scoped>\n",
       "    .dataframe tbody tr th:only-of-type {\n",
       "        vertical-align: middle;\n",
       "    }\n",
       "\n",
       "    .dataframe tbody tr th {\n",
       "        vertical-align: top;\n",
       "    }\n",
       "\n",
       "    .dataframe thead th {\n",
       "        text-align: right;\n",
       "    }\n",
       "</style>\n",
       "<table border=\"1\" class=\"dataframe\">\n",
       "  <thead>\n",
       "    <tr style=\"text-align: right;\">\n",
       "      <th></th>\n",
       "      <th>id</th>\n",
       "      <th>text</th>\n",
       "      <th>label</th>\n",
       "    </tr>\n",
       "  </thead>\n",
       "  <tbody>\n",
       "    <tr>\n",
       "      <th>0</th>\n",
       "      <td>Kan_1</td>\n",
       "      <td>ಈ ಹಾಡನ್ನು ಹಾಡಿದ ವಿಜಯ ಪ್ರಕಾಶ voice ಯಾರಿಗೆಲ್ಲಾ ಇ...</td>\n",
       "      <td>Positive</td>\n",
       "    </tr>\n",
       "    <tr>\n",
       "      <th>1</th>\n",
       "      <td>Kan_2</td>\n",
       "      <td>jai d boss</td>\n",
       "      <td>not-Kannada</td>\n",
       "    </tr>\n",
       "    <tr>\n",
       "      <th>2</th>\n",
       "      <td>Kan_3</td>\n",
       "      <td>signature move</td>\n",
       "      <td>unknown state</td>\n",
       "    </tr>\n",
       "    <tr>\n",
       "      <th>3</th>\n",
       "      <td>Kan_4</td>\n",
       "      <td>super song bro</td>\n",
       "      <td>not-Kannada</td>\n",
       "    </tr>\n",
       "    <tr>\n",
       "      <th>4</th>\n",
       "      <td>Kan_5</td>\n",
       "      <td>wow  super agi helidira sir</td>\n",
       "      <td>Positive</td>\n",
       "    </tr>\n",
       "  </tbody>\n",
       "</table>\n",
       "</div>"
      ],
      "text/plain": [
       "      id                                               text          label\n",
       "0  Kan_1  ಈ ಹಾಡನ್ನು ಹಾಡಿದ ವಿಜಯ ಪ್ರಕಾಶ voice ಯಾರಿಗೆಲ್ಲಾ ಇ...       Positive\n",
       "1  Kan_2                                         jai d boss    not-Kannada\n",
       "2  Kan_3                                     signature move  unknown state\n",
       "3  Kan_4                                     super song bro    not-Kannada\n",
       "4  Kan_5                        wow  super agi helidira sir       Positive"
      ]
     },
     "execution_count": 60,
     "metadata": {},
     "output_type": "execute_result"
    }
   ],
   "source": [
    "result = pd.concat([test_df, pred_df], axis=1)\n",
    "result.head()"
   ]
  },
  {
   "cell_type": "code",
   "execution_count": 61,
   "metadata": {
    "id": "oSV8hfIICEEU"
   },
   "outputs": [],
   "source": [
    "result.to_csv('CNN+BiLSTM_Kannada_Test_Pred_Labels_22-06-2021.csv', sep = ',', index=False)"
   ]
  },
  {
   "cell_type": "code",
   "execution_count": 62,
   "metadata": {
    "colab": {
     "base_uri": "https://localhost:8080/"
    },
    "id": "z_7I4QA_CEEU",
    "outputId": "d5c32084-1797-4802-c53b-ec595b71d363"
   },
   "outputs": [
    {
     "name": "stderr",
     "output_type": "stream",
     "text": [
      "C:\\Users\\phvpa\\anaconda3\\envs\\NLP\\lib\\site-packages\\tensorflow\\python\\keras\\engine\\sequential.py:450: UserWarning: `model.predict_classes()` is deprecated and will be removed after 2021-01-01. Please use instead:* `np.argmax(model.predict(x), axis=-1)`,   if your model does multi-class classification   (e.g. if it uses a `softmax` last-layer activation).* `(model.predict(x) > 0.5).astype(\"int32\")`,   if your model does binary classification   (e.g. if it uses a `sigmoid` last-layer activation).\n",
      "  warnings.warn('`model.predict_classes()` is deprecated and '\n"
     ]
    }
   ],
   "source": [
    "Valid_classes = model.predict_classes(valid_padded)\n",
    "Valid_pred = []\n",
    "\n",
    "for i in range(len(Valid_classes)):\n",
    "    Valid_pred.append(le.inverse_transform([Valid_classes[i]])[0])"
   ]
  },
  {
   "cell_type": "code",
   "execution_count": 63,
   "metadata": {
    "colab": {
     "base_uri": "https://localhost:8080/"
    },
    "id": "5eJoK1hhCEEU",
    "outputId": "d2f147f9-f382-455d-d169-18d473de5f77"
   },
   "outputs": [
    {
     "data": {
      "text/plain": [
       "(691,)"
      ]
     },
     "execution_count": 63,
     "metadata": {},
     "output_type": "execute_result"
    }
   ],
   "source": [
    "Valid_classes.shape"
   ]
  },
  {
   "cell_type": "code",
   "execution_count": 64,
   "metadata": {
    "colab": {
     "base_uri": "https://localhost:8080/",
     "height": 203
    },
    "id": "DrjPrkBRCEEU",
    "outputId": "8db39709-8d2c-4d6d-ac84-b654c7de6d80"
   },
   "outputs": [
    {
     "data": {
      "text/html": [
       "<div>\n",
       "<style scoped>\n",
       "    .dataframe tbody tr th:only-of-type {\n",
       "        vertical-align: middle;\n",
       "    }\n",
       "\n",
       "    .dataframe tbody tr th {\n",
       "        vertical-align: top;\n",
       "    }\n",
       "\n",
       "    .dataframe thead th {\n",
       "        text-align: right;\n",
       "    }\n",
       "</style>\n",
       "<table border=\"1\" class=\"dataframe\">\n",
       "  <thead>\n",
       "    <tr style=\"text-align: right;\">\n",
       "      <th></th>\n",
       "      <th>Predicted label</th>\n",
       "    </tr>\n",
       "  </thead>\n",
       "  <tbody>\n",
       "    <tr>\n",
       "      <th>0</th>\n",
       "      <td>Mixed feelings</td>\n",
       "    </tr>\n",
       "    <tr>\n",
       "      <th>1</th>\n",
       "      <td>Positive</td>\n",
       "    </tr>\n",
       "    <tr>\n",
       "      <th>2</th>\n",
       "      <td>unknown state</td>\n",
       "    </tr>\n",
       "    <tr>\n",
       "      <th>3</th>\n",
       "      <td>not-Kannada</td>\n",
       "    </tr>\n",
       "    <tr>\n",
       "      <th>4</th>\n",
       "      <td>Positive</td>\n",
       "    </tr>\n",
       "  </tbody>\n",
       "</table>\n",
       "</div>"
      ],
      "text/plain": [
       "  Predicted label\n",
       "0  Mixed feelings\n",
       "1        Positive\n",
       "2   unknown state\n",
       "3     not-Kannada\n",
       "4        Positive"
      ]
     },
     "execution_count": 64,
     "metadata": {},
     "output_type": "execute_result"
    }
   ],
   "source": [
    "Valid_pred_df = pd.DataFrame(Valid_pred, columns=['Predicted label'])\n",
    "Valid_pred_df.head()"
   ]
  },
  {
   "cell_type": "code",
   "execution_count": 65,
   "metadata": {
    "colab": {
     "base_uri": "https://localhost:8080/",
     "height": 417
    },
    "id": "QxrnZyuXCEEU",
    "outputId": "8747b703-9f06-4c60-dfc8-c168055aad0c"
   },
   "outputs": [
    {
     "data": {
      "text/html": [
       "<div>\n",
       "<style scoped>\n",
       "    .dataframe tbody tr th:only-of-type {\n",
       "        vertical-align: middle;\n",
       "    }\n",
       "\n",
       "    .dataframe tbody tr th {\n",
       "        vertical-align: top;\n",
       "    }\n",
       "\n",
       "    .dataframe thead th {\n",
       "        text-align: right;\n",
       "    }\n",
       "</style>\n",
       "<table border=\"1\" class=\"dataframe\">\n",
       "  <thead>\n",
       "    <tr style=\"text-align: right;\">\n",
       "      <th></th>\n",
       "      <th>text</th>\n",
       "      <th>category</th>\n",
       "      <th>Predicted label</th>\n",
       "    </tr>\n",
       "  </thead>\n",
       "  <tbody>\n",
       "    <tr>\n",
       "      <th>0</th>\n",
       "      <td>binduge saryagi ugithidira good go ahead  we a...</td>\n",
       "      <td>Mixed feelings</td>\n",
       "      <td>Mixed feelings</td>\n",
       "    </tr>\n",
       "    <tr>\n",
       "      <th>1</th>\n",
       "      <td>yen song guru super</td>\n",
       "      <td>Positive</td>\n",
       "      <td>Positive</td>\n",
       "    </tr>\n",
       "    <tr>\n",
       "      <th>2</th>\n",
       "      <td>my fevorat story</td>\n",
       "      <td>not-Kannada</td>\n",
       "      <td>unknown state</td>\n",
       "    </tr>\n",
       "    <tr>\n",
       "      <th>3</th>\n",
       "      <td>super ತೋಗರಿ ತೀಪ್ಪ</td>\n",
       "      <td>Positive</td>\n",
       "      <td>not-Kannada</td>\n",
       "    </tr>\n",
       "    <tr>\n",
       "      <th>4</th>\n",
       "      <td>ನಿಮ್ಮ ಮಾತುಗಳು ಅಕ್ಷರಶಃ ಸತ್ಯ ನಿಮ್ಮ ಈ ಸಾಮಾನ್ಯ ಜೀವ...</td>\n",
       "      <td>Positive</td>\n",
       "      <td>Positive</td>\n",
       "    </tr>\n",
       "    <tr>\n",
       "      <th>...</th>\n",
       "      <td>...</td>\n",
       "      <td>...</td>\n",
       "      <td>...</td>\n",
       "    </tr>\n",
       "    <tr>\n",
       "      <th>686</th>\n",
       "      <td>parthasarathi ನಿಮ್ಮ ಅಪ್ಪ ದೊಡ್ ಗಾಂಡು ಸೂಳೆಮಗ</td>\n",
       "      <td>Negative</td>\n",
       "      <td>Negative</td>\n",
       "    </tr>\n",
       "    <tr>\n",
       "      <th>687</th>\n",
       "      <td>hugi guru badethawke</td>\n",
       "      <td>Negative</td>\n",
       "      <td>Positive</td>\n",
       "    </tr>\n",
       "    <tr>\n",
       "      <th>688</th>\n",
       "      <td>trending no1 wow</td>\n",
       "      <td>Positive</td>\n",
       "      <td>not-Kannada</td>\n",
       "    </tr>\n",
       "    <tr>\n",
       "      <th>689</th>\n",
       "      <td>stupid fans naanu adikke kano helthirodu  nin...</td>\n",
       "      <td>Positive</td>\n",
       "      <td>Negative</td>\n",
       "    </tr>\n",
       "    <tr>\n",
       "      <th>690</th>\n",
       "      <td>opinion ninu tika mucchuevattu kannada indust...</td>\n",
       "      <td>Positive</td>\n",
       "      <td>Negative</td>\n",
       "    </tr>\n",
       "  </tbody>\n",
       "</table>\n",
       "<p>691 rows × 3 columns</p>\n",
       "</div>"
      ],
      "text/plain": [
       "                                                  text        category  \\\n",
       "0    binduge saryagi ugithidira good go ahead  we a...  Mixed feelings   \n",
       "1                                  yen song guru super        Positive   \n",
       "2                                     my fevorat story     not-Kannada   \n",
       "3                                    super ತೋಗರಿ ತೀಪ್ಪ        Positive   \n",
       "4    ನಿಮ್ಮ ಮಾತುಗಳು ಅಕ್ಷರಶಃ ಸತ್ಯ ನಿಮ್ಮ ಈ ಸಾಮಾನ್ಯ ಜೀವ...        Positive   \n",
       "..                                                 ...             ...   \n",
       "686         parthasarathi ನಿಮ್ಮ ಅಪ್ಪ ದೊಡ್ ಗಾಂಡು ಸೂಳೆಮಗ        Negative   \n",
       "687                               hugi guru badethawke        Negative   \n",
       "688                                   trending no1 wow        Positive   \n",
       "689   stupid fans naanu adikke kano helthirodu  nin...        Positive   \n",
       "690   opinion ninu tika mucchuevattu kannada indust...        Positive   \n",
       "\n",
       "    Predicted label  \n",
       "0    Mixed feelings  \n",
       "1          Positive  \n",
       "2     unknown state  \n",
       "3       not-Kannada  \n",
       "4          Positive  \n",
       "..              ...  \n",
       "686        Negative  \n",
       "687        Positive  \n",
       "688     not-Kannada  \n",
       "689        Negative  \n",
       "690        Negative  \n",
       "\n",
       "[691 rows x 3 columns]"
      ]
     },
     "execution_count": 65,
     "metadata": {},
     "output_type": "execute_result"
    }
   ],
   "source": [
    "Valid_result = pd.concat([valid_df, Valid_pred_df], axis=1)\n",
    "Valid_result"
   ]
  },
  {
   "cell_type": "code",
   "execution_count": 66,
   "metadata": {
    "id": "rema4jEdCEEV"
   },
   "outputs": [],
   "source": [
    "Valid_result.to_csv('CNN+BiLSTM_Kannada_Valid_Pred_Labels_22-06-2021.csv', sep = ',', index=False)"
   ]
  },
  {
   "cell_type": "code",
   "execution_count": 67,
   "metadata": {
    "colab": {
     "base_uri": "https://localhost:8080/",
     "height": 417
    },
    "id": "iVSI24WdCEEV",
    "outputId": "dd0de614-4cb3-41a9-804d-51c96b5bc114"
   },
   "outputs": [
    {
     "data": {
      "text/html": [
       "<div>\n",
       "<style scoped>\n",
       "    .dataframe tbody tr th:only-of-type {\n",
       "        vertical-align: middle;\n",
       "    }\n",
       "\n",
       "    .dataframe tbody tr th {\n",
       "        vertical-align: top;\n",
       "    }\n",
       "\n",
       "    .dataframe thead th {\n",
       "        text-align: right;\n",
       "    }\n",
       "</style>\n",
       "<table border=\"1\" class=\"dataframe\">\n",
       "  <thead>\n",
       "    <tr style=\"text-align: right;\">\n",
       "      <th></th>\n",
       "      <th>text</th>\n",
       "      <th>category</th>\n",
       "    </tr>\n",
       "  </thead>\n",
       "  <tbody>\n",
       "    <tr>\n",
       "      <th>0</th>\n",
       "      <td>binduge saryagi ugithidira good go ahead  we a...</td>\n",
       "      <td>Mixed feelings</td>\n",
       "    </tr>\n",
       "    <tr>\n",
       "      <th>1</th>\n",
       "      <td>yen song guru super</td>\n",
       "      <td>Positive</td>\n",
       "    </tr>\n",
       "    <tr>\n",
       "      <th>2</th>\n",
       "      <td>my fevorat story</td>\n",
       "      <td>not-Kannada</td>\n",
       "    </tr>\n",
       "    <tr>\n",
       "      <th>3</th>\n",
       "      <td>super ತೋಗರಿ ತೀಪ್ಪ</td>\n",
       "      <td>Positive</td>\n",
       "    </tr>\n",
       "    <tr>\n",
       "      <th>4</th>\n",
       "      <td>ನಿಮ್ಮ ಮಾತುಗಳು ಅಕ್ಷರಶಃ ಸತ್ಯ ನಿಮ್ಮ ಈ ಸಾಮಾನ್ಯ ಜೀವ...</td>\n",
       "      <td>Positive</td>\n",
       "    </tr>\n",
       "    <tr>\n",
       "      <th>...</th>\n",
       "      <td>...</td>\n",
       "      <td>...</td>\n",
       "    </tr>\n",
       "    <tr>\n",
       "      <th>686</th>\n",
       "      <td>parthasarathi ನಿಮ್ಮ ಅಪ್ಪ ದೊಡ್ ಗಾಂಡು ಸೂಳೆಮಗ</td>\n",
       "      <td>Negative</td>\n",
       "    </tr>\n",
       "    <tr>\n",
       "      <th>687</th>\n",
       "      <td>hugi guru badethawke</td>\n",
       "      <td>Negative</td>\n",
       "    </tr>\n",
       "    <tr>\n",
       "      <th>688</th>\n",
       "      <td>trending no1 wow</td>\n",
       "      <td>Positive</td>\n",
       "    </tr>\n",
       "    <tr>\n",
       "      <th>689</th>\n",
       "      <td>stupid fans naanu adikke kano helthirodu  nin...</td>\n",
       "      <td>Positive</td>\n",
       "    </tr>\n",
       "    <tr>\n",
       "      <th>690</th>\n",
       "      <td>opinion ninu tika mucchuevattu kannada indust...</td>\n",
       "      <td>Positive</td>\n",
       "    </tr>\n",
       "  </tbody>\n",
       "</table>\n",
       "<p>691 rows × 2 columns</p>\n",
       "</div>"
      ],
      "text/plain": [
       "                                                  text        category\n",
       "0    binduge saryagi ugithidira good go ahead  we a...  Mixed feelings\n",
       "1                                  yen song guru super        Positive\n",
       "2                                     my fevorat story     not-Kannada\n",
       "3                                    super ತೋಗರಿ ತೀಪ್ಪ        Positive\n",
       "4    ನಿಮ್ಮ ಮಾತುಗಳು ಅಕ್ಷರಶಃ ಸತ್ಯ ನಿಮ್ಮ ಈ ಸಾಮಾನ್ಯ ಜೀವ...        Positive\n",
       "..                                                 ...             ...\n",
       "686         parthasarathi ನಿಮ್ಮ ಅಪ್ಪ ದೊಡ್ ಗಾಂಡು ಸೂಳೆಮಗ        Negative\n",
       "687                               hugi guru badethawke        Negative\n",
       "688                                   trending no1 wow        Positive\n",
       "689   stupid fans naanu adikke kano helthirodu  nin...        Positive\n",
       "690   opinion ninu tika mucchuevattu kannada indust...        Positive\n",
       "\n",
       "[691 rows x 2 columns]"
      ]
     },
     "execution_count": 67,
     "metadata": {},
     "output_type": "execute_result"
    }
   ],
   "source": [
    "valid_df"
   ]
  },
  {
   "cell_type": "code",
   "execution_count": 68,
   "metadata": {
    "colab": {
     "base_uri": "https://localhost:8080/",
     "height": 417
    },
    "id": "VXB2pEBVCEEV",
    "outputId": "cecc0a2e-59b4-4d97-912c-44f5f439059b"
   },
   "outputs": [
    {
     "data": {
      "text/html": [
       "<div>\n",
       "<style scoped>\n",
       "    .dataframe tbody tr th:only-of-type {\n",
       "        vertical-align: middle;\n",
       "    }\n",
       "\n",
       "    .dataframe tbody tr th {\n",
       "        vertical-align: top;\n",
       "    }\n",
       "\n",
       "    .dataframe thead th {\n",
       "        text-align: right;\n",
       "    }\n",
       "</style>\n",
       "<table border=\"1\" class=\"dataframe\">\n",
       "  <thead>\n",
       "    <tr style=\"text-align: right;\">\n",
       "      <th></th>\n",
       "      <th>text</th>\n",
       "      <th>category</th>\n",
       "      <th>Predicted label</th>\n",
       "    </tr>\n",
       "  </thead>\n",
       "  <tbody>\n",
       "    <tr>\n",
       "      <th>0</th>\n",
       "      <td>binduge saryagi ugithidira good go ahead  we a...</td>\n",
       "      <td>Mixed feelings</td>\n",
       "      <td>Mixed feelings</td>\n",
       "    </tr>\n",
       "    <tr>\n",
       "      <th>1</th>\n",
       "      <td>yen song guru super</td>\n",
       "      <td>Positive</td>\n",
       "      <td>Positive</td>\n",
       "    </tr>\n",
       "    <tr>\n",
       "      <th>2</th>\n",
       "      <td>my fevorat story</td>\n",
       "      <td>not-Kannada</td>\n",
       "      <td>unknown state</td>\n",
       "    </tr>\n",
       "    <tr>\n",
       "      <th>3</th>\n",
       "      <td>super ತೋಗರಿ ತೀಪ್ಪ</td>\n",
       "      <td>Positive</td>\n",
       "      <td>not-Kannada</td>\n",
       "    </tr>\n",
       "    <tr>\n",
       "      <th>4</th>\n",
       "      <td>ನಿಮ್ಮ ಮಾತುಗಳು ಅಕ್ಷರಶಃ ಸತ್ಯ ನಿಮ್ಮ ಈ ಸಾಮಾನ್ಯ ಜೀವ...</td>\n",
       "      <td>Positive</td>\n",
       "      <td>Positive</td>\n",
       "    </tr>\n",
       "    <tr>\n",
       "      <th>...</th>\n",
       "      <td>...</td>\n",
       "      <td>...</td>\n",
       "      <td>...</td>\n",
       "    </tr>\n",
       "    <tr>\n",
       "      <th>686</th>\n",
       "      <td>parthasarathi ನಿಮ್ಮ ಅಪ್ಪ ದೊಡ್ ಗಾಂಡು ಸೂಳೆಮಗ</td>\n",
       "      <td>Negative</td>\n",
       "      <td>Negative</td>\n",
       "    </tr>\n",
       "    <tr>\n",
       "      <th>687</th>\n",
       "      <td>hugi guru badethawke</td>\n",
       "      <td>Negative</td>\n",
       "      <td>Positive</td>\n",
       "    </tr>\n",
       "    <tr>\n",
       "      <th>688</th>\n",
       "      <td>trending no1 wow</td>\n",
       "      <td>Positive</td>\n",
       "      <td>not-Kannada</td>\n",
       "    </tr>\n",
       "    <tr>\n",
       "      <th>689</th>\n",
       "      <td>stupid fans naanu adikke kano helthirodu  nin...</td>\n",
       "      <td>Positive</td>\n",
       "      <td>Negative</td>\n",
       "    </tr>\n",
       "    <tr>\n",
       "      <th>690</th>\n",
       "      <td>opinion ninu tika mucchuevattu kannada indust...</td>\n",
       "      <td>Positive</td>\n",
       "      <td>Negative</td>\n",
       "    </tr>\n",
       "  </tbody>\n",
       "</table>\n",
       "<p>691 rows × 3 columns</p>\n",
       "</div>"
      ],
      "text/plain": [
       "                                                  text        category  \\\n",
       "0    binduge saryagi ugithidira good go ahead  we a...  Mixed feelings   \n",
       "1                                  yen song guru super        Positive   \n",
       "2                                     my fevorat story     not-Kannada   \n",
       "3                                    super ತೋಗರಿ ತೀಪ್ಪ        Positive   \n",
       "4    ನಿಮ್ಮ ಮಾತುಗಳು ಅಕ್ಷರಶಃ ಸತ್ಯ ನಿಮ್ಮ ಈ ಸಾಮಾನ್ಯ ಜೀವ...        Positive   \n",
       "..                                                 ...             ...   \n",
       "686         parthasarathi ನಿಮ್ಮ ಅಪ್ಪ ದೊಡ್ ಗಾಂಡು ಸೂಳೆಮಗ        Negative   \n",
       "687                               hugi guru badethawke        Negative   \n",
       "688                                   trending no1 wow        Positive   \n",
       "689   stupid fans naanu adikke kano helthirodu  nin...        Positive   \n",
       "690   opinion ninu tika mucchuevattu kannada indust...        Positive   \n",
       "\n",
       "    Predicted label  \n",
       "0    Mixed feelings  \n",
       "1          Positive  \n",
       "2     unknown state  \n",
       "3       not-Kannada  \n",
       "4          Positive  \n",
       "..              ...  \n",
       "686        Negative  \n",
       "687        Positive  \n",
       "688     not-Kannada  \n",
       "689        Negative  \n",
       "690        Negative  \n",
       "\n",
       "[691 rows x 3 columns]"
      ]
     },
     "execution_count": 68,
     "metadata": {},
     "output_type": "execute_result"
    }
   ],
   "source": [
    "d = pd.read_csv(\"CNN+BiLSTM_Kannada_Valid_Pred_Labels_22-06-2021.csv\", sep=',')\n",
    "d"
   ]
  },
  {
   "cell_type": "code",
   "execution_count": 69,
   "metadata": {
    "colab": {
     "base_uri": "https://localhost:8080/",
     "height": 417
    },
    "id": "4QTRtugLCEEV",
    "outputId": "1db4d310-6626-461d-d181-194ae22304f5"
   },
   "outputs": [
    {
     "data": {
      "text/html": [
       "<div>\n",
       "<style scoped>\n",
       "    .dataframe tbody tr th:only-of-type {\n",
       "        vertical-align: middle;\n",
       "    }\n",
       "\n",
       "    .dataframe tbody tr th {\n",
       "        vertical-align: top;\n",
       "    }\n",
       "\n",
       "    .dataframe thead th {\n",
       "        text-align: right;\n",
       "    }\n",
       "</style>\n",
       "<table border=\"1\" class=\"dataframe\">\n",
       "  <thead>\n",
       "    <tr style=\"text-align: right;\">\n",
       "      <th></th>\n",
       "      <th>id</th>\n",
       "      <th>text</th>\n",
       "      <th>label</th>\n",
       "    </tr>\n",
       "  </thead>\n",
       "  <tbody>\n",
       "    <tr>\n",
       "      <th>0</th>\n",
       "      <td>Kan_1</td>\n",
       "      <td>ಈ ಹಾಡನ್ನು ಹಾಡಿದ ವಿಜಯ ಪ್ರಕಾಶ voice ಯಾರಿಗೆಲ್ಲಾ ಇ...</td>\n",
       "      <td>Positive</td>\n",
       "    </tr>\n",
       "    <tr>\n",
       "      <th>1</th>\n",
       "      <td>Kan_2</td>\n",
       "      <td>jai d boss</td>\n",
       "      <td>not-Kannada</td>\n",
       "    </tr>\n",
       "    <tr>\n",
       "      <th>2</th>\n",
       "      <td>Kan_3</td>\n",
       "      <td>signature move</td>\n",
       "      <td>unknown state</td>\n",
       "    </tr>\n",
       "    <tr>\n",
       "      <th>3</th>\n",
       "      <td>Kan_4</td>\n",
       "      <td>super song bro</td>\n",
       "      <td>not-Kannada</td>\n",
       "    </tr>\n",
       "    <tr>\n",
       "      <th>4</th>\n",
       "      <td>Kan_5</td>\n",
       "      <td>wow  super agi helidira sir</td>\n",
       "      <td>Positive</td>\n",
       "    </tr>\n",
       "    <tr>\n",
       "      <th>...</th>\n",
       "      <td>...</td>\n",
       "      <td>...</td>\n",
       "      <td>...</td>\n",
       "    </tr>\n",
       "    <tr>\n",
       "      <th>763</th>\n",
       "      <td>Kan_764</td>\n",
       "      <td>thu thukali trailer</td>\n",
       "      <td>unknown state</td>\n",
       "    </tr>\n",
       "    <tr>\n",
       "      <th>764</th>\n",
       "      <td>Kan_765</td>\n",
       "      <td>siri gannadam galge haakbitallapa thu  yaro ni...</td>\n",
       "      <td>Negative</td>\n",
       "    </tr>\n",
       "    <tr>\n",
       "      <th>765</th>\n",
       "      <td>Kan_766</td>\n",
       "      <td>ನಾವೇನಾದರು ಸ್ವಾಬಿಮಾನಿಯಾಗಿ ಬದುಕನ್ನು ಕಟ್ಟಿಕೊಳ್ಳಲು...</td>\n",
       "      <td>Positive</td>\n",
       "    </tr>\n",
       "    <tr>\n",
       "      <th>766</th>\n",
       "      <td>Kan_767</td>\n",
       "      <td>ದಿಯಾ ನೀವು ಸೋಷಿಯಲ್ ಮೀಡಿಯಾ ಅಲ್ಲಿ ಕಾಣ್ತಿಲ್ಲnದಯವಿಟ...</td>\n",
       "      <td>Mixed feelings</td>\n",
       "    </tr>\n",
       "    <tr>\n",
       "      <th>767</th>\n",
       "      <td>Kan_768</td>\n",
       "      <td>magaluru kade kalsi avanannu navu avanige madd...</td>\n",
       "      <td>Positive</td>\n",
       "    </tr>\n",
       "  </tbody>\n",
       "</table>\n",
       "<p>768 rows × 3 columns</p>\n",
       "</div>"
      ],
      "text/plain": [
       "          id                                               text  \\\n",
       "0      Kan_1  ಈ ಹಾಡನ್ನು ಹಾಡಿದ ವಿಜಯ ಪ್ರಕಾಶ voice ಯಾರಿಗೆಲ್ಲಾ ಇ...   \n",
       "1      Kan_2                                         jai d boss   \n",
       "2      Kan_3                                     signature move   \n",
       "3      Kan_4                                     super song bro   \n",
       "4      Kan_5                        wow  super agi helidira sir   \n",
       "..       ...                                                ...   \n",
       "763  Kan_764                                thu thukali trailer   \n",
       "764  Kan_765  siri gannadam galge haakbitallapa thu  yaro ni...   \n",
       "765  Kan_766  ನಾವೇನಾದರು ಸ್ವಾಬಿಮಾನಿಯಾಗಿ ಬದುಕನ್ನು ಕಟ್ಟಿಕೊಳ್ಳಲು...   \n",
       "766  Kan_767  ದಿಯಾ ನೀವು ಸೋಷಿಯಲ್ ಮೀಡಿಯಾ ಅಲ್ಲಿ ಕಾಣ್ತಿಲ್ಲnದಯವಿಟ...   \n",
       "767  Kan_768  magaluru kade kalsi avanannu navu avanige madd...   \n",
       "\n",
       "              label  \n",
       "0          Positive  \n",
       "1       not-Kannada  \n",
       "2     unknown state  \n",
       "3       not-Kannada  \n",
       "4          Positive  \n",
       "..              ...  \n",
       "763   unknown state  \n",
       "764        Negative  \n",
       "765        Positive  \n",
       "766  Mixed feelings  \n",
       "767        Positive  \n",
       "\n",
       "[768 rows x 3 columns]"
      ]
     },
     "execution_count": 69,
     "metadata": {},
     "output_type": "execute_result"
    }
   ],
   "source": [
    "d1 = pd.read_csv(\"CNN+BiLSTM_Kannada_Test_Pred_Labels_22-06-2021.csv\", sep=',')\n",
    "d1"
   ]
  },
  {
   "cell_type": "code",
   "execution_count": null,
   "metadata": {
    "id": "q2uJylq-CEEV"
   },
   "outputs": [],
   "source": []
  }
 ],
 "metadata": {
  "accelerator": "GPU",
  "colab": {
   "collapsed_sections": [],
   "name": "CNN+LSTM_Kannada_Test_21_06_2021.ipynb",
   "provenance": []
  },
  "kernelspec": {
   "display_name": "Python 3",
   "language": "python",
   "name": "python3"
  },
  "language_info": {
   "codemirror_mode": {
    "name": "ipython",
    "version": 3
   },
   "file_extension": ".py",
   "mimetype": "text/x-python",
   "name": "python",
   "nbconvert_exporter": "python",
   "pygments_lexer": "ipython3",
   "version": "3.8.8"
  }
 },
 "nbformat": 4,
 "nbformat_minor": 1
}
