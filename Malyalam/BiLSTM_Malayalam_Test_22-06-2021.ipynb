{
 "cells": [
  {
   "cell_type": "code",
   "execution_count": 1,
   "metadata": {
    "colab": {
     "base_uri": "https://localhost:8080/"
    },
    "id": "Zfxs5vGpn8QB",
    "outputId": "011b7a23-406f-4162-c8de-2cd615e2efb0"
   },
   "outputs": [],
   "source": [
    "#!gdown --id 1HV6zeS_pqNrDOfHr3A7UvJKnyzy5u4K1\n",
    "#!gdown --id 1S6Eg67vDSUSx6usqnAYgHCR2oEYeNvmI"
   ]
  },
  {
   "cell_type": "code",
   "execution_count": 2,
   "metadata": {
    "colab": {
     "base_uri": "https://localhost:8080/"
    },
    "id": "3WRIsTi0zCs-",
    "outputId": "517d513d-2353-4672-fef5-2204f9302b56"
   },
   "outputs": [],
   "source": [
    "#!nvidia-smi"
   ]
  },
  {
   "cell_type": "code",
   "execution_count": 3,
   "metadata": {
    "id": "EbwLChlAzCs-"
   },
   "outputs": [],
   "source": [
    "#import tensorflow as tf\n",
    "\n",
    "#physical_devices = tf.config.list_physical_devices('GPU') \n",
    "#tf.config.experimental.set_memory_growth(physical_devices[0], True)"
   ]
  },
  {
   "cell_type": "code",
   "execution_count": 4,
   "metadata": {
    "colab": {
     "base_uri": "https://localhost:8080/"
    },
    "id": "OlFORVm4zCs_",
    "outputId": "78713c59-3e70-49e7-bd98-23a33458a6cf"
   },
   "outputs": [
    {
     "name": "stdout",
     "output_type": "stream",
     "text": [
      "1 Physical GPUs, 1 Logical GPUs\n"
     ]
    }
   ],
   "source": [
    "import tensorflow as tf\n",
    "gpus = tf.config.experimental.list_physical_devices('GPU')\n",
    "if gpus:\n",
    "  # Restrict TensorFlow to only allocate 4GB of memory on the first GPU\n",
    "  try:\n",
    "    tf.config.experimental.set_virtual_device_configuration(\n",
    "        gpus[0],\n",
    "        [tf.config.experimental.VirtualDeviceConfiguration(memory_limit=4096)])\n",
    "    logical_gpus = tf.config.experimental.list_logical_devices('GPU')\n",
    "    print(len(gpus), \"Physical GPUs,\", len(logical_gpus), \"Logical GPUs\")\n",
    "  except RuntimeError as e:\n",
    "    # Virtual devices must be set before GPUs have been initialized\n",
    "    print(e)"
   ]
  },
  {
   "cell_type": "code",
   "execution_count": 5,
   "metadata": {
    "colab": {
     "base_uri": "https://localhost:8080/"
    },
    "id": "NPsBVUt4CPFK",
    "outputId": "953cf603-64ba-45e3-85be-bc007232150e"
   },
   "outputs": [
    {
     "name": "stderr",
     "output_type": "stream",
     "text": [
      "[nltk_data] Downloading package treebank to\n",
      "[nltk_data]     C:\\Users\\phvpa\\AppData\\Roaming\\nltk_data...\n",
      "[nltk_data]   Package treebank is already up-to-date!\n",
      "[nltk_data] Downloading package stopwords to\n",
      "[nltk_data]     C:\\Users\\phvpa\\AppData\\Roaming\\nltk_data...\n",
      "[nltk_data]   Package stopwords is already up-to-date!\n",
      "[nltk_data] Downloading package punkt to\n",
      "[nltk_data]     C:\\Users\\phvpa\\AppData\\Roaming\\nltk_data...\n",
      "[nltk_data]   Package punkt is already up-to-date!\n",
      "[nltk_data] Downloading package wordnet to\n",
      "[nltk_data]     C:\\Users\\phvpa\\AppData\\Roaming\\nltk_data...\n",
      "[nltk_data]   Package wordnet is already up-to-date!\n",
      "[nltk_data] Downloading package averaged_perceptron_tagger to\n",
      "[nltk_data]     C:\\Users\\phvpa\\AppData\\Roaming\\nltk_data...\n",
      "[nltk_data]   Package averaged_perceptron_tagger is already up-to-\n",
      "[nltk_data]       date!\n",
      "C:\\Users\\phvpa\\anaconda3\\envs\\NLP\\lib\\site-packages\\gensim\\similarities\\__init__.py:15: UserWarning: The gensim.similarities.levenshtein submodule is disabled, because the optional Levenshtein package <https://pypi.org/project/python-Levenshtein/> is unavailable. Install Levenhstein (e.g. `pip install python-Levenshtein`) to suppress this warning.\n",
      "  warnings.warn(msg)\n"
     ]
    }
   ],
   "source": [
    "import pandas as pd\n",
    "import re\n",
    "import numpy as np\n",
    "import itertools\n",
    "import collections\n",
    "from collections import defaultdict, Counter\n",
    "import matplotlib.pyplot as plt\n",
    "import string\n",
    "from wordcloud import WordCloud\n",
    "\n",
    "import nltk\n",
    "nltk.download('treebank')\n",
    "nltk.download('stopwords')\n",
    "nltk.download('punkt')\n",
    "nltk.download('wordnet')\n",
    "nltk.download('averaged_perceptron_tagger')\n",
    "from nltk.corpus import stopwords\n",
    "from nltk.corpus import wordnet as wn\n",
    "from nltk.stem.wordnet import WordNetLemmatizer\n",
    "from nltk import word_tokenize, pos_tag\n",
    "\n",
    "from sklearn.metrics import classification_report\n",
    "from sklearn.model_selection import train_test_split\n",
    "from sklearn.preprocessing import LabelEncoder\n",
    "from sklearn.metrics import accuracy_score, f1_score, precision_score, recall_score, confusion_matrix\n",
    "from sklearn.svm import SVC\n",
    "from sklearn.neighbors import KNeighborsClassifier\n",
    "from sklearn.neural_network import MLPClassifier\n",
    "from sklearn.tree import DecisionTreeClassifier\n",
    "from sklearn.naive_bayes import GaussianNB\n",
    "from sklearn.ensemble import RandomForestClassifier\n",
    "from sklearn.feature_extraction.text import CountVectorizer, TfidfVectorizer \n",
    "\n",
    "import gensim\n",
    "from gensim.models import KeyedVectors, Word2Vec, FastText\n",
    "\n",
    "import tensorflow as tf\n",
    "import unicodedata"
   ]
  },
  {
   "cell_type": "code",
   "execution_count": 6,
   "metadata": {
    "colab": {
     "base_uri": "https://localhost:8080/"
    },
    "id": "6GV9JIe0CO2b",
    "outputId": "27988521-db2e-4bcf-fbf0-4116cd5497e0"
   },
   "outputs": [],
   "source": [
    "#ls"
   ]
  },
  {
   "cell_type": "code",
   "execution_count": 7,
   "metadata": {
    "colab": {
     "base_uri": "https://localhost:8080/"
    },
    "id": "b6f18C1DCRRT",
    "outputId": "4982a2f2-ca5a-42a8-80b8-35ae41d71c0b"
   },
   "outputs": [
    {
     "name": "stdout",
     "output_type": "stream",
     "text": [
      "15888\n",
      "1766\n"
     ]
    },
    {
     "data": {
      "text/plain": [
       "1962"
      ]
     },
     "execution_count": 7,
     "metadata": {},
     "output_type": "execute_result"
    }
   ],
   "source": [
    "#train_df = pd.read_csv(\"Mal_sentiment_full_train.tsv\", header=None, sep='\\t')\n",
    "train_df = pd.read_csv(\"Mal_sentiment_full_train.tsv\", sep='\\t')\n",
    "print(len(train_df))\n",
    "\n",
    "#test_df = pd.read_csv(\"Mal_sentiment_full_dev.tsv\", header=None, sep='\\t')\n",
    "valid_df = pd.read_csv(\"Mal_sentiment_full_dev.tsv\", sep='\\t')\n",
    "print(len(valid_df))\n",
    "\n",
    "test_df = pd.read_csv(\"Mal_sentiment_full_test_withoutlabels.tsv\", sep='\\t')\n",
    "len(test_df)"
   ]
  },
  {
   "cell_type": "code",
   "execution_count": 8,
   "metadata": {},
   "outputs": [
    {
     "data": {
      "text/html": [
       "<div>\n",
       "<style scoped>\n",
       "    .dataframe tbody tr th:only-of-type {\n",
       "        vertical-align: middle;\n",
       "    }\n",
       "\n",
       "    .dataframe tbody tr th {\n",
       "        vertical-align: top;\n",
       "    }\n",
       "\n",
       "    .dataframe thead th {\n",
       "        text-align: right;\n",
       "    }\n",
       "</style>\n",
       "<table border=\"1\" class=\"dataframe\">\n",
       "  <thead>\n",
       "    <tr style=\"text-align: right;\">\n",
       "      <th></th>\n",
       "      <th>id</th>\n",
       "      <th>text</th>\n",
       "    </tr>\n",
       "  </thead>\n",
       "  <tbody>\n",
       "    <tr>\n",
       "      <th>0</th>\n",
       "      <td>Mal_1</td>\n",
       "      <td>Teaserinu kurach samayamkoodi mathram. Cant wa...</td>\n",
       "    </tr>\n",
       "    <tr>\n",
       "      <th>1</th>\n",
       "      <td>Mal_2</td>\n",
       "      <td>അപ്പോൾ കഥയുടെ  റൂട്ട് മാറിയല്ലോ...</td>\n",
       "    </tr>\n",
       "    <tr>\n",
       "      <th>2</th>\n",
       "      <td>Mal_3</td>\n",
       "      <td>മൂത്തോൻ ട്രൈലെർ Trending List വരാത്തത് എന്താ ?</td>\n",
       "    </tr>\n",
       "    <tr>\n",
       "      <th>3</th>\n",
       "      <td>Mal_4</td>\n",
       "      <td>Nowadays 944k views is considered as 1M views ...</td>\n",
       "    </tr>\n",
       "    <tr>\n",
       "      <th>4</th>\n",
       "      <td>Mal_5</td>\n",
       "      <td>Maass.trailer ennu paranja ithaanU makkale.......</td>\n",
       "    </tr>\n",
       "    <tr>\n",
       "      <th>...</th>\n",
       "      <td>...</td>\n",
       "      <td>...</td>\n",
       "    </tr>\n",
       "    <tr>\n",
       "      <th>1957</th>\n",
       "      <td>Mal_1958</td>\n",
       "      <td>Expression വച്ചു നോക്കുമ്പോൾ മൂക്കുത്തി കട്ടത്...</td>\n",
       "    </tr>\n",
       "    <tr>\n",
       "      <th>1958</th>\n",
       "      <td>Mal_1959</td>\n",
       "      <td>എനിക്ക് ഒരു  100 like തരുമോ</td>\n",
       "    </tr>\n",
       "    <tr>\n",
       "      <th>1959</th>\n",
       "      <td>Mal_1960</td>\n",
       "      <td>Nannayi onnu poliyunna lakshnm unde...Thrill m...</td>\n",
       "    </tr>\n",
       "    <tr>\n",
       "      <th>1960</th>\n",
       "      <td>Mal_1961</td>\n",
       "      <td>Athikam eduthu kayatti vekkenda....direction k...</td>\n",
       "    </tr>\n",
       "    <tr>\n",
       "      <th>1961</th>\n",
       "      <td>Mal_1962</td>\n",
       "      <td>Ithupole mooonchiya Oru padam jeevithathil kan...</td>\n",
       "    </tr>\n",
       "  </tbody>\n",
       "</table>\n",
       "<p>1962 rows × 2 columns</p>\n",
       "</div>"
      ],
      "text/plain": [
       "            id                                               text\n",
       "0        Mal_1  Teaserinu kurach samayamkoodi mathram. Cant wa...\n",
       "1        Mal_2                 അപ്പോൾ കഥയുടെ  റൂട്ട് മാറിയല്ലോ...\n",
       "2        Mal_3     മൂത്തോൻ ട്രൈലെർ Trending List വരാത്തത് എന്താ ?\n",
       "3        Mal_4  Nowadays 944k views is considered as 1M views ...\n",
       "4        Mal_5  Maass.trailer ennu paranja ithaanU makkale.......\n",
       "...        ...                                                ...\n",
       "1957  Mal_1958  Expression വച്ചു നോക്കുമ്പോൾ മൂക്കുത്തി കട്ടത്...\n",
       "1958  Mal_1959                        എനിക്ക് ഒരു  100 like തരുമോ\n",
       "1959  Mal_1960  Nannayi onnu poliyunna lakshnm unde...Thrill m...\n",
       "1960  Mal_1961  Athikam eduthu kayatti vekkenda....direction k...\n",
       "1961  Mal_1962  Ithupole mooonchiya Oru padam jeevithathil kan...\n",
       "\n",
       "[1962 rows x 2 columns]"
      ]
     },
     "execution_count": 8,
     "metadata": {},
     "output_type": "execute_result"
    }
   ],
   "source": [
    "test_df"
   ]
  },
  {
   "cell_type": "code",
   "execution_count": 9,
   "metadata": {},
   "outputs": [
    {
     "name": "stdout",
     "output_type": "stream",
     "text": [
      "Oru pani-palal manakunnu again Mr. JR :/\n",
      "Ende ponno 68 vayasaya oraluda body thanneyano ith.... 🤩.. NAMICHU PONNIKKAAAA\n",
      "FDFS.. trailer kandu ithu vareyum njanithu paranjittilla..🤩🤩\n",
      "Degraders step BacK 🤫...  മമ്മൂക്ക\n",
      "ഈ പാട്ട് ഡിസ്‌ലൈക് ചെയ്തവരുടെ വീട്ടുകാരെ സമ്മതിക്കണം .....BIG SALUTE\n",
      "ഇത് ഏത് ഭാഷ ശിവനെ ഏത് ജില്ല 🤔🤔🤔🤔🤔🤔🤔\n",
      "ഇതൊക്കെ മമ്മുക്ക പറഞ്ഞാൽ പൊളിക്കും 🤩 🤩 🤩\n",
      "1:08 ST PIUS X KUTTIKANAM        *UYIR*🤩🤩🤩\n",
      "Ente ponno..... Heavy.... BGM... Ikka pinne parayanilla....2 looks kidilosky 🤩🤩 Overall kidukkachi aahn Mone...\n",
      "Song dislike adicha 90% perum phycho singles akum🤩\n",
      "അഭ്യർത്ഥന ____________________ മാമാങ്കം പലകുറി കൊണ്ടാടും  എന്ന ഗാനം ടൈറ്റിൽ സോങ്ങ് ആയി ഉൾപ്പെടുത്താമോ....  Album :vasantha geethangal Singer: K J YESUDAS\n"
     ]
    }
   ],
   "source": [
    "print(test_df['text'][279])\n",
    "print(test_df['text'][516])\n",
    "print(test_df['text'][546])\n",
    "print(test_df['text'][555])\n",
    "print(test_df['text'][559])\n",
    "print(test_df['text'][570])\n",
    "print(test_df['text'][825])\n",
    "print(test_df['text'][838])\n",
    "print(test_df['text'][860])\n",
    "print(test_df['text'][890])\n",
    "print(test_df['text'][1234])"
   ]
  },
  {
   "cell_type": "code",
   "execution_count": 10,
   "metadata": {
    "colab": {
     "base_uri": "https://localhost:8080/",
     "height": 35
    },
    "id": "fB0N5Wm7Ecat",
    "outputId": "fb10224f-235f-422e-87e5-c66f1e7462f7"
   },
   "outputs": [
    {
     "data": {
      "text/plain": [
       "'Sunny chechi fans evide like adichu power kaniku🤣🤣'"
      ]
     },
     "execution_count": 10,
     "metadata": {},
     "output_type": "execute_result"
    }
   ],
   "source": [
    "train_df['text'][0]"
   ]
  },
  {
   "cell_type": "code",
   "execution_count": 11,
   "metadata": {
    "colab": {
     "base_uri": "https://localhost:8080/",
     "height": 417
    },
    "id": "Sf-_l1oMqnwW",
    "outputId": "99a502f5-d0f5-49fa-809d-9cd6206138ef",
    "scrolled": false
   },
   "outputs": [
    {
     "data": {
      "text/html": [
       "<div>\n",
       "<style scoped>\n",
       "    .dataframe tbody tr th:only-of-type {\n",
       "        vertical-align: middle;\n",
       "    }\n",
       "\n",
       "    .dataframe tbody tr th {\n",
       "        vertical-align: top;\n",
       "    }\n",
       "\n",
       "    .dataframe thead th {\n",
       "        text-align: right;\n",
       "    }\n",
       "</style>\n",
       "<table border=\"1\" class=\"dataframe\">\n",
       "  <thead>\n",
       "    <tr style=\"text-align: right;\">\n",
       "      <th></th>\n",
       "      <th>text</th>\n",
       "      <th>category</th>\n",
       "    </tr>\n",
       "  </thead>\n",
       "  <tbody>\n",
       "    <tr>\n",
       "      <th>0</th>\n",
       "      <td>Sunny chechi fans evide like adichu power kani...</td>\n",
       "      <td>unknown_state</td>\n",
       "    </tr>\n",
       "    <tr>\n",
       "      <th>1</th>\n",
       "      <td>Angane july month ile ende aadyathe leave njan...</td>\n",
       "      <td>Positive</td>\n",
       "    </tr>\n",
       "    <tr>\n",
       "      <th>2</th>\n",
       "      <td>ഏട്ടന്റെ പുതിയ പടത്തിനു വേണ്ടി കാത്തിരിക്കുന്ന...</td>\n",
       "      <td>unknown_state</td>\n",
       "    </tr>\n",
       "    <tr>\n",
       "      <th>3</th>\n",
       "      <td>ഇനി ലാലേട്ടന്റെ വേട്ട തുടങ്ങാൻ പോകുന്നു..........</td>\n",
       "      <td>Positive</td>\n",
       "    </tr>\n",
       "    <tr>\n",
       "      <th>4</th>\n",
       "      <td>Trailer powli oru raksha illa . Pakshea padam ...</td>\n",
       "      <td>Positive</td>\n",
       "    </tr>\n",
       "    <tr>\n",
       "      <th>...</th>\n",
       "      <td>...</td>\n",
       "      <td>...</td>\n",
       "    </tr>\n",
       "    <tr>\n",
       "      <th>15883</th>\n",
       "      <td>Minimum 10 thavana kandavar maathram like adi</td>\n",
       "      <td>unknown_state</td>\n",
       "    </tr>\n",
       "    <tr>\n",
       "      <th>15884</th>\n",
       "      <td>Please cinema kaannaaan kothi aakunnu onnu rel...</td>\n",
       "      <td>Positive</td>\n",
       "    </tr>\n",
       "    <tr>\n",
       "      <th>15885</th>\n",
       "      <td>USA ok.. India No... Sadhacharam</td>\n",
       "      <td>unknown_state</td>\n",
       "    </tr>\n",
       "    <tr>\n",
       "      <th>15886</th>\n",
       "      <td>nama hero december 12 wait &amp; see  mamamaga mah...</td>\n",
       "      <td>Positive</td>\n",
       "    </tr>\n",
       "    <tr>\n",
       "      <th>15887</th>\n",
       "      <td>Madhuraraja 1 hour 40 k likes  Lucifer 1 min 4...</td>\n",
       "      <td>Mixed_feelings</td>\n",
       "    </tr>\n",
       "  </tbody>\n",
       "</table>\n",
       "<p>15888 rows × 2 columns</p>\n",
       "</div>"
      ],
      "text/plain": [
       "                                                    text        category\n",
       "0      Sunny chechi fans evide like adichu power kani...   unknown_state\n",
       "1      Angane july month ile ende aadyathe leave njan...        Positive\n",
       "2      ഏട്ടന്റെ പുതിയ പടത്തിനു വേണ്ടി കാത്തിരിക്കുന്ന...   unknown_state\n",
       "3      ഇനി ലാലേട്ടന്റെ വേട്ട തുടങ്ങാൻ പോകുന്നു..........        Positive\n",
       "4      Trailer powli oru raksha illa . Pakshea padam ...        Positive\n",
       "...                                                  ...             ...\n",
       "15883      Minimum 10 thavana kandavar maathram like adi   unknown_state\n",
       "15884  Please cinema kaannaaan kothi aakunnu onnu rel...        Positive\n",
       "15885                   USA ok.. India No... Sadhacharam   unknown_state\n",
       "15886  nama hero december 12 wait & see  mamamaga mah...        Positive\n",
       "15887  Madhuraraja 1 hour 40 k likes  Lucifer 1 min 4...  Mixed_feelings\n",
       "\n",
       "[15888 rows x 2 columns]"
      ]
     },
     "execution_count": 11,
     "metadata": {},
     "output_type": "execute_result"
    }
   ],
   "source": [
    "train_df"
   ]
  },
  {
   "cell_type": "code",
   "execution_count": 12,
   "metadata": {
    "colab": {
     "base_uri": "https://localhost:8080/",
     "height": 417
    },
    "id": "o2xrnA9DqstY",
    "outputId": "ee90db17-6cc2-43f4-ec6e-4987dbbbc6c9"
   },
   "outputs": [
    {
     "data": {
      "text/html": [
       "<div>\n",
       "<style scoped>\n",
       "    .dataframe tbody tr th:only-of-type {\n",
       "        vertical-align: middle;\n",
       "    }\n",
       "\n",
       "    .dataframe tbody tr th {\n",
       "        vertical-align: top;\n",
       "    }\n",
       "\n",
       "    .dataframe thead th {\n",
       "        text-align: right;\n",
       "    }\n",
       "</style>\n",
       "<table border=\"1\" class=\"dataframe\">\n",
       "  <thead>\n",
       "    <tr style=\"text-align: right;\">\n",
       "      <th></th>\n",
       "      <th>text</th>\n",
       "      <th>category</th>\n",
       "    </tr>\n",
       "  </thead>\n",
       "  <tbody>\n",
       "    <tr>\n",
       "      <th>0</th>\n",
       "      <td>Mammooka ninghal mass aa pwoli item</td>\n",
       "      <td>Positive</td>\n",
       "    </tr>\n",
       "    <tr>\n",
       "      <th>1</th>\n",
       "      <td>Waiting for Malayalam movie  For Tamil paiyan</td>\n",
       "      <td>not-malayalam</td>\n",
       "    </tr>\n",
       "    <tr>\n",
       "      <th>2</th>\n",
       "      <td>ദളപതി ഫാൻസിന്റെ വക ഒരു ഒന്നൊന്നര വിജയാശംസകൾ...</td>\n",
       "      <td>Positive</td>\n",
       "    </tr>\n",
       "    <tr>\n",
       "      <th>3</th>\n",
       "      <td>#Trailer pwolichuuuu ഓണത്തിന് വന്നങ്ങു തകർത്തേ...</td>\n",
       "      <td>Positive</td>\n",
       "    </tr>\n",
       "    <tr>\n",
       "      <th>4</th>\n",
       "      <td>Mammoookkaaaa polichadukkiii katta waiting nv 21</td>\n",
       "      <td>Positive</td>\n",
       "    </tr>\n",
       "    <tr>\n",
       "      <th>...</th>\n",
       "      <td>...</td>\n",
       "      <td>...</td>\n",
       "    </tr>\n",
       "    <tr>\n",
       "      <th>1761</th>\n",
       "      <td>Aa ചിരി uff എന്റെ പൊന്നോ ഇക്ക vere ലെവൽ</td>\n",
       "      <td>Positive</td>\n",
       "    </tr>\n",
       "    <tr>\n",
       "      <th>1762</th>\n",
       "      <td>Katta katta katta katta waiting....cant wait man</td>\n",
       "      <td>Positive</td>\n",
       "    </tr>\n",
       "    <tr>\n",
       "      <th>1763</th>\n",
       "      <td>Arjun reddy bgm poole thonniyathu enniku mathr...</td>\n",
       "      <td>unknown_state</td>\n",
       "    </tr>\n",
       "    <tr>\n",
       "      <th>1764</th>\n",
       "      <td>Fahad ikka ithilum polikum en urappayi</td>\n",
       "      <td>Positive</td>\n",
       "    </tr>\n",
       "    <tr>\n",
       "      <th>1765</th>\n",
       "      <td>Njan veendum kanan vannu 100 pravashyam enkilu...</td>\n",
       "      <td>Positive</td>\n",
       "    </tr>\n",
       "  </tbody>\n",
       "</table>\n",
       "<p>1766 rows × 2 columns</p>\n",
       "</div>"
      ],
      "text/plain": [
       "                                                   text       category\n",
       "0                   Mammooka ninghal mass aa pwoli item       Positive\n",
       "1         Waiting for Malayalam movie  For Tamil paiyan  not-malayalam\n",
       "2        ദളപതി ഫാൻസിന്റെ വക ഒരു ഒന്നൊന്നര വിജയാശംസകൾ...       Positive\n",
       "3     #Trailer pwolichuuuu ഓണത്തിന് വന്നങ്ങു തകർത്തേ...       Positive\n",
       "4      Mammoookkaaaa polichadukkiii katta waiting nv 21       Positive\n",
       "...                                                 ...            ...\n",
       "1761            Aa ചിരി uff എന്റെ പൊന്നോ ഇക്ക vere ലെവൽ       Positive\n",
       "1762   Katta katta katta katta waiting....cant wait man       Positive\n",
       "1763  Arjun reddy bgm poole thonniyathu enniku mathr...  unknown_state\n",
       "1764             Fahad ikka ithilum polikum en urappayi       Positive\n",
       "1765  Njan veendum kanan vannu 100 pravashyam enkilu...       Positive\n",
       "\n",
       "[1766 rows x 2 columns]"
      ]
     },
     "execution_count": 12,
     "metadata": {},
     "output_type": "execute_result"
    }
   ],
   "source": [
    "valid_df"
   ]
  },
  {
   "cell_type": "code",
   "execution_count": 13,
   "metadata": {
    "colab": {
     "base_uri": "https://localhost:8080/"
    },
    "id": "BY80vVjRCgpK",
    "outputId": "5c53f41a-c71a-418d-dbb2-ead51a4241b6"
   },
   "outputs": [
    {
     "data": {
      "text/plain": [
       "0                     Mammooka ninghal mass aa pwoli item\n",
       "1           Waiting for Malayalam movie  For Tamil paiyan\n",
       "2          ദളപതി ഫാൻസിന്റെ വക ഒരു ഒന്നൊന്നര വിജയാശംസകൾ...\n",
       "3       #Trailer pwolichuuuu ഓണത്തിന് വന്നങ്ങു തകർത്തേ...\n",
       "4        Mammoookkaaaa polichadukkiii katta waiting nv 21\n",
       "                              ...                        \n",
       "1761              Aa ചിരി uff എന്റെ പൊന്നോ ഇക്ക vere ലെവൽ\n",
       "1762     Katta katta katta katta waiting....cant wait man\n",
       "1763    Arjun reddy bgm poole thonniyathu enniku mathr...\n",
       "1764               Fahad ikka ithilum polikum en urappayi\n",
       "1765    Njan veendum kanan vannu 100 pravashyam enkilu...\n",
       "Name: text, Length: 1766, dtype: object"
      ]
     },
     "execution_count": 13,
     "metadata": {},
     "output_type": "execute_result"
    }
   ],
   "source": [
    "valid_df['text']"
   ]
  },
  {
   "cell_type": "code",
   "execution_count": 14,
   "metadata": {
    "id": "5M7bMSkdAhbS"
   },
   "outputs": [],
   "source": [
    "#removing all the emoji from the given data\n",
    "\n",
    "def deEmojify(text):\n",
    "    regrex_pattern = re.compile(pattern = \"[\"\n",
    "        u\"\\U0001F600-\\U0001F64F\"  # emoticons\n",
    "        u\"\\U0001F300-\\U0001F5FF\"  # symbols & pictographs\n",
    "        u\"\\U0001F680-\\U0001F6FF\"  # transport & map symbols\n",
    "        u\"\\U0001F1E0-\\U0001F1FF\"  # flags (iOS)\n",
    "        u\"\\U00002500-\\U00002BEF\"  # chinese char\n",
    "        u\"\\U00002702-\\U000027B0\"\n",
    "        u\"\\U00002702-\\U000027B0\"\n",
    "        u\"\\U000024C2-\\U0001F251\"\n",
    "        u\"\\U0001f926-\\U0001f937\"\n",
    "        u\"\\U00010000-\\U0010ffff\"\n",
    "        u\"\\u2640-\\u2642\"\n",
    "        u\"\\u2600-\\u2B55\"\n",
    "        u\"\\u200d\"\n",
    "        u\"\\u23cf\"\n",
    "        u\"\\u23e9\"\n",
    "        u\"\\u231a\"\n",
    "        u\"\\ufe0f\"  # dingbats\n",
    "        u\"\\u3030\"\n",
    "        \"]+\", flags = re.UNICODE)\n",
    "    return regrex_pattern.sub(r'',text)\n",
    "\n",
    "\n",
    "for i in range(len(train_df)):\n",
    "    temp1 = deEmojify(train_df['text'][i])\n",
    "    train_df['text'][i] = temp1\n",
    "\n",
    "for j in range(len(valid_df)):\n",
    "    temp2 = deEmojify(valid_df['text'][j])\n",
    "    valid_df['text'][j] = temp2\n",
    "\n",
    "for k in range(len(test_df)):\n",
    "    temp3 = deEmojify(test_df['text'][k])\n",
    "    test_df['text'][k]=temp3"
   ]
  },
  {
   "cell_type": "code",
   "execution_count": 15,
   "metadata": {
    "colab": {
     "base_uri": "https://localhost:8080/"
    },
    "id": "ChYnt8dRI7pV",
    "outputId": "7444161a-463e-44f2-c331-a971bce6e8c9"
   },
   "outputs": [
    {
     "name": "stdout",
     "output_type": "stream",
     "text": [
      "Ende ponno 68 vayasaya oraluda body thanneyano ith.... .. NAMICHU PONNIKKAAAA\n",
      "FDFS.. trailer kandu ithu vareyum njanithu paranjittilla..\n",
      "Degraders step BacK ...  മമ്മൂക്ക\n",
      "ഈ പാട്ട് ഡിസ്‌ലൈക് ചെയ്തവരുടെ വീട്ടുകാരെ സമ്മതിക്കണം .....BIG SALUTE\n",
      "ഇത് ഏത് ഭാഷ ശിവനെ ഏത് ജില്ല \n",
      "ഇതൊക്കെ മമ്മുക്ക പറഞ്ഞാൽ പൊളിക്കും   \n",
      "1:08 ST PIUS X KUTTIKANAM        *UYIR*\n",
      "Ente ponno..... Heavy.... BGM... Ikka pinne parayanilla....2 looks kidilosky  Overall kidukkachi aahn Mone...\n",
      "Song dislike adicha 90% perum phycho singles akum\n",
      "അഭ്യർത്ഥന ____________________ മാമാങ്കം പലകുറി കൊണ്ടാടും  എന്ന ഗാനം ടൈറ്റിൽ സോങ്ങ് ആയി ഉൾപ്പെടുത്താമോ....  Album :vasantha geethangal Singer: K J YESUDAS\n"
     ]
    }
   ],
   "source": [
    "print(test_df['text'][516])\n",
    "print(test_df['text'][546])\n",
    "print(test_df['text'][555])\n",
    "print(test_df['text'][559])\n",
    "print(test_df['text'][570])\n",
    "print(test_df['text'][825])\n",
    "print(test_df['text'][838])\n",
    "print(test_df['text'][860])\n",
    "print(test_df['text'][890])\n",
    "print(test_df['text'][1234])"
   ]
  },
  {
   "cell_type": "code",
   "execution_count": 16,
   "metadata": {
    "id": "kvZOI__qZ7zd"
   },
   "outputs": [],
   "source": [
    "def preprocess_data(text):\n",
    "  user_name = '@[A-Za-z0-9]+' # Pattern for matching the user names in the tweet\n",
    "  has_tag = '#[A-Za-z0-9]+' # Pattern for matching the hasgtags in the tweer\n",
    "  url = 'https?:\\/\\/[A-Za-z0-9\\.\\/\\-]+' # Pattern for matching the URLs in the tweet\n",
    "  #emoji_pattern = r'/[x{1F600}-x{1F64F}]/u'\n",
    "  \n",
    "  x = text.lower()  # Lower casing all the characters\n",
    "  x = re.sub(user_name, '', x) # Replace the username with an empty characrer\n",
    "  x = re.sub(has_tag,'',x) # Replace the hashtags with an empty characrer\n",
    "  x = re.sub(url, '', x) # Replace the URLs with an empty characrer\n",
    "  #x = re.sub(emoji_pattern, '', x)\n",
    "  x = x.translate(str.maketrans('', '', string.punctuation)) # Replace all the characters except alphabets and digits from the tweet\n",
    "\n",
    "  return x"
   ]
  },
  {
   "cell_type": "code",
   "execution_count": 17,
   "metadata": {
    "id": "kXmiAchmcPq_"
   },
   "outputs": [],
   "source": [
    "train_df['text'] = train_df['text'].apply(lambda x: preprocess_data(x)) # Apply the clean_data() to all the entries in the dataframe\n",
    "valid_df['text'] = valid_df['text'].apply(lambda x: preprocess_data(x)) # Apply the clean_data() to all the entries in the dataframe\n",
    "test_df['text'] = test_df['text'].apply(lambda x: preprocess_data(x)) # Apply the clean_data() to all the entries in the dataframe"
   ]
  },
  {
   "cell_type": "code",
   "execution_count": 18,
   "metadata": {},
   "outputs": [
    {
     "name": "stdout",
     "output_type": "stream",
     "text": [
      "oru panipalal manakunnu again mr jr \n",
      "ende ponno 68 vayasaya oraluda body thanneyano ith  namichu ponnikkaaaa\n",
      "fdfs trailer kandu ithu vareyum njanithu paranjittilla\n",
      "degraders step back   മമ്മൂക്ക\n",
      "ഈ പാട്ട് ഡിസ്‌ലൈക് ചെയ്തവരുടെ വീട്ടുകാരെ സമ്മതിക്കണം big salute\n",
      "ഇത് ഏത് ഭാഷ ശിവനെ ഏത് ജില്ല \n",
      "ഇതൊക്കെ മമ്മുക്ക പറഞ്ഞാൽ പൊളിക്കും   \n",
      "108 st pius x kuttikanam        uyir\n",
      "ente ponno heavy bgm ikka pinne parayanilla2 looks kidilosky  overall kidukkachi aahn mone\n",
      "song dislike adicha 90 perum phycho singles akum\n",
      "അഭ്യർത്ഥന  മാമാങ്കം പലകുറി കൊണ്ടാടും  എന്ന ഗാനം ടൈറ്റിൽ സോങ്ങ് ആയി ഉൾപ്പെടുത്താമോ  album vasantha geethangal singer k j yesudas\n"
     ]
    }
   ],
   "source": [
    "print(test_df['text'][279])\n",
    "print(test_df['text'][516])\n",
    "print(test_df['text'][546])\n",
    "print(test_df['text'][555])\n",
    "print(test_df['text'][559])\n",
    "print(test_df['text'][570])\n",
    "print(test_df['text'][825])\n",
    "print(test_df['text'][838])\n",
    "print(test_df['text'][860])\n",
    "print(test_df['text'][890])\n",
    "print(test_df['text'][1234])"
   ]
  },
  {
   "cell_type": "code",
   "execution_count": 19,
   "metadata": {
    "colab": {
     "base_uri": "https://localhost:8080/",
     "height": 35
    },
    "id": "ZaxBiC7ByJJH",
    "outputId": "309d6739-c912-43f9-d1f8-f5f88d0cef7b"
   },
   "outputs": [
    {
     "data": {
      "text/plain": [
       "'mammooka ninghal mass aa pwoli item'"
      ]
     },
     "execution_count": 19,
     "metadata": {},
     "output_type": "execute_result"
    }
   ],
   "source": [
    "valid_df['text'][0]"
   ]
  },
  {
   "cell_type": "code",
   "execution_count": 20,
   "metadata": {
    "colab": {
     "base_uri": "https://localhost:8080/"
    },
    "id": "l445loMxdKoP",
    "outputId": "fa177767-8c3a-44b4-f2bc-65d6b542f619"
   },
   "outputs": [
    {
     "name": "stdout",
     "output_type": "stream",
     "text": [
      "                                                    text        category\n",
      "0       sunny chechi fans evide like adichu power kaniku   unknown_state\n",
      "1      angane july month ile ende aadyathe leave njan...        Positive\n",
      "2      ഏട്ടന്റെ പുതിയ പടത്തിനു വേണ്ടി കാത്തിരിക്കുന്ന...   unknown_state\n",
      "3      ഇനി ലാലേട്ടന്റെ വേട്ട തുടങ്ങാൻ പോകുന്നു മുൻ കാ...        Positive\n",
      "4      trailer powli oru raksha illa  pakshea padam i...        Positive\n",
      "...                                                  ...             ...\n",
      "15883      minimum 10 thavana kandavar maathram like adi   unknown_state\n",
      "15884  please cinema kaannaaan kothi aakunnu onnu rel...        Positive\n",
      "15885                        usa ok india no sadhacharam   unknown_state\n",
      "15886  nama hero december 12 wait  see  mamamaga maha...        Positive\n",
      "15887  madhuraraja 1 hour 40 k likes  lucifer 1 min 4...  Mixed_feelings\n",
      "\n",
      "[15888 rows x 2 columns]\n",
      "\n",
      "                                                   text       category\n",
      "0                   mammooka ninghal mass aa pwoli item       Positive\n",
      "1         waiting for malayalam movie  for tamil paiyan  not-malayalam\n",
      "2           ദളപതി ഫാൻസിന്റെ വക ഒരു ഒന്നൊന്നര വിജയാശംസകൾ       Positive\n",
      "3            pwolichuuuu ഓണത്തിന് വന്നങ്ങു തകർത്തേക്ക്        Positive\n",
      "4      mammoookkaaaa polichadukkiii katta waiting nv 21       Positive\n",
      "...                                                 ...            ...\n",
      "1761            aa ചിരി uff എന്റെ പൊന്നോ ഇക്ക vere ലെവൽ       Positive\n",
      "1762       katta katta katta katta waitingcant wait man       Positive\n",
      "1763  arjun reddy bgm poole thonniyathu enniku mathr...  unknown_state\n",
      "1764             fahad ikka ithilum polikum en urappayi       Positive\n",
      "1765  njan veendum kanan vannu 100 pravashyam enkilu...       Positive\n",
      "\n",
      "[1766 rows x 2 columns]\n",
      "\n",
      "            id                                               text\n",
      "0        Mal_1    teaserinu kurach samayamkoodi mathram cant wait\n",
      "1        Mal_2                    അപ്പോൾ കഥയുടെ  റൂട്ട് മാറിയല്ലോ\n",
      "2        Mal_3      മൂത്തോൻ ട്രൈലെർ trending list വരാത്തത് എന്താ \n",
      "3        Mal_4  nowadays 944k views is considered as 1m views ...\n",
      "4        Mal_5  maasstrailer ennu paranja ithaanu makkalekatta...\n",
      "...        ...                                                ...\n",
      "1957  Mal_1958  expression വച്ചു നോക്കുമ്പോൾ മൂക്കുത്തി കട്ടത്...\n",
      "1958  Mal_1959                        എനിക്ക് ഒരു  100 like തരുമോ\n",
      "1959  Mal_1960  nannayi onnu poliyunna lakshnm undethrill main...\n",
      "1960  Mal_1961  athikam eduthu kayatti vekkendadirection kke k...\n",
      "1961  Mal_1962  ithupole mooonchiya oru padam jeevithathil kan...\n",
      "\n",
      "[1962 rows x 2 columns]\n"
     ]
    }
   ],
   "source": [
    "print(train_df)\n",
    "print()\n",
    "#print(valid_df.head())\n",
    "#print()\n",
    "print(valid_df)\n",
    "print()\n",
    "print(test_df)"
   ]
  },
  {
   "cell_type": "code",
   "execution_count": 21,
   "metadata": {
    "id": "W9ClJ_HMdSnG"
   },
   "outputs": [],
   "source": [
    "train_text = train_df['text'].tolist()\n",
    "valid_text = valid_df['text'].tolist()\n",
    "test_text = test_df['text'].tolist()\n",
    "\n",
    "train_label = train_df['category'].tolist()\n",
    "valid_label = valid_df['category'].tolist()\n"
   ]
  },
  {
   "cell_type": "code",
   "execution_count": 22,
   "metadata": {
    "id": "OOWw9McfrknT"
   },
   "outputs": [
    {
     "data": {
      "text/plain": [
       "['teaserinu kurach samayamkoodi mathram cant wait',\n",
       " 'അപ്പോൾ കഥയുടെ  റൂട്ട് മാറിയല്ലോ',\n",
       " 'മൂത്തോൻ ട്രൈലെർ trending list വരാത്തത് എന്താ ',\n",
       " 'nowadays 944k views is considered as 1m views in kerala',\n",
       " 'maasstrailer ennu paranja ithaanu makkalekatta waiting for ',\n",
       " 'ethu kandappol kgf orma vannathu enikku matram ano ',\n",
       " 'vere level  onnum parayan ella',\n",
       " 'idvere vere chilar parannadaaannn muruga nee theernnada ennn ini nangal mammookka fans sherikkum parayunnnu murugaaa nee theernnada ikka love',\n",
       " 'റിലീസ് ചെയ്ത അന്ന് തന്നെ പടം കാണാൻ ബോണി പറഞ്ഞു',\n",
       " 'lalettanu thulayam malayalam film industry yil latten mathram',\n",
       " 'chankurappulla ikka fans vaa 21 nu charithram kurikkum',\n",
       " 'മലയാളത്തിലെ ഏറ്റവും മാസ്സ് കഥാപാത്രം ആയിരിക്കും ഇത്',\n",
       " 'പാടുമ്പോൾ ഹിന്ദിക്കാരി ആയ പാവം ആ ശ്രേയ വല്ലോം അറിഞ്ഞോ ഈ പാട്ടിന്റെ ഗതി കഷ്ടം',\n",
       " 'മമ്മൂക്കയെ കാണാത്തതുകൊണ്ട് ആരും വിഷമിക്കേണ്ട മമ്മൂക്ക മൂക്കുത്തി കണ്ടു പിടിക്കാൻ പോയിരിക്കുകയാണ് കണ്ടു പിടിച്ച ഉടനെ വരുന്നതായിരിക്കും',\n",
       " 'ഉണ്ണി മുകുന്ദന്റെ നോട്ടം കണ്ടാലറിയ മൂക്കുത്തി എടുത്തത് ലവൻ തന്നെ ',\n",
       " 'ഈ സിനിമ കണ്ടവർ പറയു ഈ കുട്ടിടെ മൂക്കുത്തി കിട്ടിയോ',\n",
       " 'bgm pwolich gopy sir ikka katta waiting',\n",
       " 'my santa സിനിമ കാണാൻ ആഗ്രഹികുനവർ like അടി',\n",
       " ' trending trending aayadhin shesham kanunnavar like adi',\n",
       " 'ഇതിൽ ലാലേട്ടനായിരുന്നു വരേണ്ടത് ഈ കോഴി നിമ്പോളി ഇത്\\u200c നശിപ്പിച്ചു',\n",
       " 'slang bayankara bore aayi thonnibut fahadikka polikkum',\n",
       " 'എന്താ ഫീൽ മച്ചാനെ ഞാനും ഒരു കുമ്പളങ്ങി കാരൻ ആയി പോകുന്നു',\n",
       " 'new kochinte luck kond nalla story ulla film chackochan veendm kittie thudangii',\n",
       " 'youtube stuck aayi  views koodunnilla aarelum shraddicho',\n",
       " 'ഇത്  നടനകലയുടെ യൂണിവേഴ്സിറ്റി ആർക്കും ചെയ്യാൻ കഴിയാത്തത് ഇവിടെ സാധിക്കും ',\n",
       " 'bgm    yevideyo   oru game nte ',\n",
       " 'ശരിയാണ്  വയറും കാലും ശരീരവും ഒരുപോലെ കണ്ടു മൂക്കുത്തി കണ്ടില്ല എല്ലാം എന്റെ തെറ്റ്',\n",
       " 'എന്ത് ഊള എഡിറ്റിംഗ് ആടോ ഇത് ഒരുമാതിരി vivo videoorderil ചെയ്തപോലെ',\n",
       " 'avasanam rajadhiraja yile tone pole thonni',\n",
       " 'മക്കളേ  പടം കാണാത്ത degrade ചെയ്തവന്മാരുടെ അണ്ണാക്കിലേക്ക്  mamankam',\n",
       " 'last super man punch super ikka',\n",
       " 'മലയാള സിനിമ ഇന്റസ്ട്രി ഇത്ര നാൾ കാത്തിരുന്നത് ഇതു പോലൊരു കുഞ്ഞാലി മരയ്ക്കാർ ട്രൈലെറിൻ വേണ്ടി അല്ല  കുറച്ചു കൂടി ത്രില്ല് സ്ലാങ് changes ആവാമായിരുന്നു  മലയാളം സിനിമ പ്രേമി',\n",
       " 'mr pritviraj ithaano simple cinema ente romam ippozhum eneettu nilkkuva',\n",
       " 'വിനീതേട്ടൻ ഈ പടത്തിൽ ഒരു psycho ആണെന്ന് തോന്നുന്നു     ഇപ്പൊ അതാണല്ലോ ട്രെൻഡ്   trailer പൊളി   പടവും പൊളിക്കും',\n",
       " 'ethinu unlike adicha haters movie release akumbooo kandam vazi odan rediyayikkkoooooooettan fan',\n",
       " 'ഇവിടെ എത്ര പേർക്കു മനസ്സിലായീ ആ തലപാവും വെച്ച് നടക്കുന്ന ചെങ്ങായി മമ്മൂട്ടി ആണെന്ന്',\n",
       " 'o d i y a n',\n",
       " 'ന്റെമ്മോ ഒരു രക്ഷയുമില്ല അവാർഡ് ഉറപ്പാ നിവിൻ spr ആരും കമന്റ് ചെയ്യാത്ത വ്യക്തിയാണ് director ഗീതു മോഹൻ ദാസ് congrats',\n",
       " 'lalettanoke patoo ith poole illaa  nhat lalettan fansere degrade cheythu',\n",
       " 'തകർത്തു വാരി  waiting for the mega mass',\n",
       " 'song addict aayavar comment innu like adikk',\n",
       " 'check my new vid  ഹോളിവുഡിൽ ഈ വർഷം ഇനി ഇറങ്ങാനിരിക്കുന്ന വമ്പൻ ഹൊറർ ചിത്രങ്ങൾ',\n",
       " 'aravindraj rsgovtmodel bhss thycaud',\n",
       " 'ഗംഭീരം   തീയേറ്ററിൽ ഇതിനും മികച്ചത് പ്രതീക്ഷിക്കുന്നു',\n",
       " '128  raees laila main laila ',\n",
       " '4m viewsmammookka we are waiting',\n",
       " 'm jayachandraaa ennik chorinju veruvaaa pan indian movie de music aano ithuveruthey malayaligalde peru kalayaan',\n",
       " 'mamankam ഇപ്പോഴേ ടിക്കറ്റ് എടുത്ത chunks ഇവിടെ അടി like',\n",
       " 'bobby bt speaker il kelkkunna songs eathokke aanennu ariyavunnavar parayamo',\n",
       " 'മാമാങ്കം ട്രയ്ലറും ഈ ചാനലിൽ തന്നെ      റിലീസ് ചെയ്തിരുന്നേൽ 10m views കിട്ടുമെന്ന് അഭിപ്രായമുള്ളവരുണ്ടോ',\n",
       " 'box office thukkiyadikke ready ayikkoo makkaleee',\n",
       " 'ഈ പടം എട്ടുനിലയിൽ പൊട്ടും എന്ന് അഭിപ്രായം ഉള്ളവർ ലൈക്ക് അടിച്ചേ',\n",
       " 'padam kandavar like adichitte podee',\n",
       " 'വെറൈറ്റി റോൾ  ചെയ്യാത്തത് കൊണ്ട്  ഇഷ്ടമില്ല  പക്ഷെ  ഇത്  ഹെവി',\n",
       " 'കുഞ്ഞാലി മരക്കാരുടെ നാട്ടുകാരൻ  ആണ് ഞാൻ പച്ചേങ്കിൽ ഞങ്ങളാരും ഇമ്മാതിരി ഒലക്കേമ്മലെ ഭാഷ സംസാരിക്കൂല ഇത് ഒരുമാതിരി ഉഷ്മാനേ ഓടിക്കോ എന്നായി',\n",
       " 'super padam  cute song  ellarum  poli acting  dislike adicha kann adich pottikkum bonney parayan paranju',\n",
       " 'kannadachu kelkan vallatha oru feel',\n",
       " '115 ഓർത്ത് വെച്ചോ തീയേറ്റർ പൂര പരമ്പാകാനുള്ള സീൻ ',\n",
       " 'eee പടം adhar ayirikum enthoke suspense ഒളിഞ്ഞു irikunu',\n",
       " 'ഒരു അടാർ  ചാനൽ വന്നിട്ടുണ്ട് എല്ലാവരും subscribe ചെയ്യണേ',\n",
       " 'ചിരിച്ചു ചിരിച്ചു കട്ട വൈറ്റിംഗ് ലാലേട്ടാ',\n",
       " 'pullikkan stara pole undu trailerpowlikkane pisharadi eattathank you',\n",
       " 'mammooka fans vedipooram  vanne  adi like makkale',\n",
       " 'ഭാഷാ ഇപ്പോഴും മൂപ്പർക്ക് പ്രശ്നമാണ്  essath അല്ല  ezzath  അഭിമാനം  ',\n",
       " 'ഈ പാട്ടിലെ കോമഡികൽ കണ്ട് ചളിയായി തോന്നിയതു എനിക്ക് മാത്രമാണോ  ഈ സിനിമ വിജയിക്കുവൊന്നു സംശയം ഉണ്ട്',\n",
       " 'ഏന്തോന്നാ ഇത്   ഡാൻസിന് ചേരാത്ത  പാട്ട് ',\n",
       " 'bgm nalla parijayam undalloevidunnalem saggathi polichu',\n",
       " '030 ffc ക്ക് ഇനി വൻ ചാകര',\n",
       " 'trailer pwolichumammukka kalaki but bgm kurachukudi adipwoli akarnnu',\n",
       " 'something big is coming   അഞ്ചാം പാതിരാ',\n",
       " 'kidu trailer padam super aarikum ennadhil oru samshayom illaall the best team helen',\n",
       " 'ചെറിയ ചളികൾ ഉണ്ടല്ലോ ഒരു പേടി',\n",
       " 'ശെടാ ഇപ്പൊ ആരുടെ സൈഡ് നിക്കും കൻഫ്യൂഷൻ ആയല്ലോ',\n",
       " 'apooo engane pillere teater poora parabu aakuallleee',\n",
       " 'കളർഫുൾ ബോളിവുഡ് സിനിമയുടെ സോങ് സീനിലെ ബാക്ക്ഗ്രൗണ്ട് പോലുണ്ട്',\n",
       " 'mammootty anna telugu ārādhakar iviṭe iṣṭappeṭunnu',\n",
       " 'uff  ente ponoo wait chyan vayye ikka',\n",
       " 'അഭിനയം ഡയലോഗ് ഡെലിവറി രണ്ടു അപ്പൊ redy ആയില്ലേ',\n",
       " 'nalla story aanel vijayikkum trailer average',\n",
       " 'ഒരു ആമേൻ touch എവിടെയോ ഏയ് ഇല്ല',\n",
       " 'ഇതൊന്ന് ഇറങ്ങാൻ നോമ്പ് നോറ്റ് ഇരിക്കയിരുന്നു ദാസേട്ടൻ മമ്മൂക്ക  uff what a song',\n",
       " 'at 040kola kaandula iruken mavanea kollama vidamaatenpetta thalaivars dialoguerajinis reference',\n",
       " 'lalettante pillarde asamsakal mammokka',\n",
       " 'കുമ്പളങ്ങി nights\\xa0 uyiril thodum പാട്ടിന്റെ റീമിക്സ്',\n",
       " 'sound modulation എന്റെ പൊന്ന് ഇക്കാ നിങ്ങ മാസല്ല മരണ മാസാ',\n",
       " 'ithoru kidilol kidilan item ayirikumkatta waiting ikkaaa',\n",
       " 'ithu pattanokashtam malayam music ithraykum adhappathichu poyallokashtam kashttammamankam pala kuri kondadiiii',\n",
       " 'nta ponne ee movie pwoli anu nta chunkkk',\n",
       " 'ആരൊക്കെ എന്തൊക്കെ ശ്രെദ്ദിച്ചു എന്നറിയില്ലഎന്നാലും എന്റെ കണ്ണ് കണ്ടത് വിദ്യാസാഗർ എന്നാ ഒറ്റപ്പേര് മാത്രം the ultimate indian musician is back',\n",
       " 'ettante keyil ulla top gear ethu vandide',\n",
       " 'ethra thavana kandu ennu comment cheyyumoo',\n",
       " 'oru rakshem illaa  lalettan  prithvi',\n",
       " 'comments വായിക്കാൻ വന്നവർ ebde commomn',\n",
       " 'dislike adichavanmare aaradafilmine kurichu valla bodham undo ninakokkeaadhyam poye pashunte chanakam kazhikki oru bodham varum',\n",
       " 'നന്നായി cliche യിൽ നിന്ന് മോചനം ആകട്ടെ പ്രതീക്ഷ ഉണ്ട്',\n",
       " 'ooty ai karnataka udan inaika aarpatam',\n",
       " 'editing വൻ മോശംഇക്ക screen presence maaassssss',\n",
       " 'everything is connected ഇത് എവിടെയോ കണ്ടിട്ടുണ്ടല്ലൊ',\n",
       " 'soubin fans like adi makkale',\n",
       " 'sangi lalappanninte padam 8 nilayil pottumm',\n",
       " 'njan padicha school alla lalettan padicha school',\n",
       " 'eee muvie supperb aavumnnu urappullavar like hear',\n",
       " 'nte ponn ikka scn teaser ',\n",
       " 'happy birthday ikka   happy birthday ikka happy birthday ikka',\n",
       " 'ee padam vera level aakum ennuvevelark like adikam',\n",
       " '036 to 039en peru chinna raja annanoda thambi maari hit like for jai',\n",
       " 'ഈ പടം പൊളിയാരിക്കും അങ്ങനെ ആകല്ലേ എന്ന് പ്രാർത്ഥിക്കുന്നു കാരണം സിദ്ദിഖിന് കോമഡി ഫിലിം ആണ് നന്നായി ചെയ്യാൻ പറ്റുന്നത്ലാലേട്ടൻ  മീര ജാസ്മിനുമായി ചേർന്നുള്ള ഒരു പടം പൊട്ടിയത് നമ്മൾ കണ്ടതാണ്   ആക്ഷൻ ചെയ്തു വിജയിപ്പിച്ചിട്ടില്ല',\n",
       " 'mammokka ennum oru lahariyaanuannum ennum athbudappeduttiyittey ullu padam oru vambhan hittakumminimum 250cr  kadakkumlookam vaaythum mammotty enna',\n",
       " '100k like in one hour',\n",
       " '22k views ennanallo kanikkunne but 140k olam likes und athentha angane',\n",
       " 'feels like ‘unnimukundan is the hero’',\n",
       " 'soubin നെ ishtappedunnavar like അടിച്ചു pottikk',\n",
       " 'varika varika sahajare  listen old version',\n",
       " 'onnu urappa full entertainment movie yaa yente ponnu ikka fans onnu kaddak pidichaal oru blockbuster engu poorum ',\n",
       " 'എന്നാലും ആ മൂക്കുത്തി ആര എടുത്തേ ',\n",
       " '110 ee scene onnum cinemayil illa pattich',\n",
       " 'vivek ovaria ka carar barbad kar diya salman khan ne i het salman',\n",
       " 'amitha pratheesha vekunila anyway katta waiting ',\n",
       " '2020 first hit like  shylock comment  big brother',\n",
       " 'വിദ്യാജിയുടെ മാജിക്കൽ മ്യൂസിക്റിപീറ്റ് mode ഓൺ ആക്കിയിട്ടാ ട്രൈലെർ കാണണെ',\n",
       " 'plzzzzzz release the movie in telugu',\n",
       " 'story writer sajeve pilla yude name  ethilonnum evideyum kaanunillallo',\n",
       " 'im from telangana  love you mohanlal sir ',\n",
       " 'ആരും സഞ്ചരിക്കാത്ത വഴികളിലൂടെ നിവിൻ സഞ്ചരിച്ചു തുടങ്ങി',\n",
       " 'നിക്ഷ്പക്ഷമായി പറയുകയാണ് ട്രെയിലർ പോര ഒരു വാമനപുരം ബസ് റൂട്ട് മണക്കുന്നു   പടം കണ്ടിട്ട് ബാക്കി പറയാം best  of luck',\n",
       " 'പട൦ ഇഷ്ടമായവരു൦ പാട്ട് ഇഷ്ടമായവരു൦   അടി like',\n",
       " 'kidu kore kalamai malayalathil oru nalla crime triller irageet',\n",
       " '1912 702 am harifhfk once apon a time there was a കള്ളൻ  പോലീസ്    മവനെ കൊല ഗാണ്ടിലിറിക് കൊല്ലമേ വിടമാട്ടെ   നിനക്കിനി മലയാളം ഇൻഡസ്ട്രിയൽ കിടന്നു പോളക്കാൻ പറ്റും എന്ന് തോന്നുന്നുണ്ടോ ബോസേ  boss',\n",
       " 'ഇത് കണ്ടിട്ട് ഒന്നും മനസിലാവുന്നില്ല   ഏട്ടൻ ക്ലാസ്സ് ആണോ അതോ മാസ്സ് ആണോ',\n",
       " 'മൊത്തം 24 പ്രാവശ്യം കണ്ടു ഒരു മടുപ്പുമില്ല',\n",
       " 'aa katti yedukkunna kai kandal thanne yariyam posterile sreeenad basiyanu ithile christeferennu',\n",
       " 'srk filim fan  manam adikkunund',\n",
       " 'trailer undakiyarithi valare mosham ann ith kanumbol enik oru feelum vannilla',\n",
       " 'all the best ikkaaaaa  fan boy',\n",
       " 'kidu trailer  midhun manual thaoms kunchakko boban  team nte variety movie aayirikkum അഞ്ചാം പാതിര',\n",
       " 'ninyokke evade kedanu thallathe theatril poe kanuvode last dark aanu lag aanu ennoke paranju pottikathiruna mathi  this is not a mass movie plz note dat dnt expect',\n",
       " 'ഇപ്പോഴും ഒരു freshness ഉണ്ട് ഈ ശബ്ദത്തിന്  ഇന്നത്തെ പാട്ടുകാരുടെ ശബ്ദം ഇഷ്ടമാണെങ്കിലും ഈ ഒരു സുഖം കിട്ടുന്നില്ല  ഗാനഗന്ധർവന്റെ ശബ്ദത്തിനൊപ്പം മമ്മൂക്കയുടെ presence കൂടെ  ആയപ്പോൾ  വേറെ level ആയി  i lv ths sng vry mch and lyrics too',\n",
       " 'sathyam paranjaal trailer kandit vella majjeyonnullalla',\n",
       " 'shylock തിയ്യറ്ററിൽ പോയി കാണും എന്ന് ഉറപ്പ് ഉള്ളവർ ലൈക്ക് അടി',\n",
       " 'എജ്ജാതി ഹൌ ബല്ലാത്ത ജാതി എന്തൊരു സ്ക്രീൻ പ്രെസെന്റ്സ്',\n",
       " 'nammude aniyyannuu mamookka fans entha oru adipoli vijayashamskallll',\n",
       " 'മൂക്കുത്തി കാണാത്തത് കൊണ്ട് ആണ് ജോളി ചേച്ചി സൂപ്പ് ഉണ്ടാക്കിയത്',\n",
       " 'sathyam paranjaal trailer kandit vella majjeyonnullalla',\n",
       " 'പടം കണ്ടിട്ട് പാട്ടു kaanumbol ulla feel എന്താലേ',\n",
       " 'poli oru rakshayum illa  dileep ettan',\n",
       " 'anthoka ayalum ethu polikum annu thonnuvar ',\n",
       " 'nalla oru malayalam padam kandittu kurenal aayi പ്രതീക്ഷിക്കുന്നു',\n",
       " 'ee saturday padam  kodi  10 days  100 crore',\n",
       " 'k j yesudas sir fans like here',\n",
       " 'എല്ലാ ഇടവകയിലും ഉണ്ടാകും ഇങ്ങനത്തെ ഒരു സാധനം',\n",
       " 'katta dileep ettan fans um ee movie vijayikyum ennu ullavar adi like',\n",
       " 'മമ്മൂക്കയുടെ വണ്ടിയുടെ നമ്പർ അറിയുന്നവരെ അടിക്ക്  ലൈക്\\u200c',\n",
       " 'trailer dint excite me at all',\n",
       " 'idnoru malayalam filmo irakunna oro filmsilum vyathasthadha pularthunna abird shine polullavarilanu malayala cinemayude baavi nilkunnathu',\n",
       " 'nalla oombiya trailer mammootty kilavane kayaril ketti pokkunnathu kanan ente patti pokum',\n",
       " 'e aduthu kanda marana mass padam',\n",
       " 'uyante mone ith eeeeth lookkaa mammootty  vere level',\n",
       " '2m views  130k likes  12k comments',\n",
       " 'powlich laletta nigal  mass alla maranamassannnnn',\n",
       " 'ethu type roleum ettante kayil safe aanu sambhavam kidukum fans show bookedettan uyir',\n",
       " 'യാഥാർത്ഥ്യങ്ങളിൽ നെയ്ത് പ്രതികാരത്തിൽ തീർത്ത വിസ്മയ ചിത്രം ആയിരിക്കും മാമാങ്കം      മമ്മൂട്ടി',\n",
       " 'ലെ രുക്\\u200cമിണി മീശമാധവന്  പിന്നെ എന്റെ അരിഞാണം കാണാതെ പോയിട്ട് എനിക്ക് ഒന്നും ഇല്ലായിരുന്നു അപ്പോഴാ അവളുടെ ഒരു മൂക്കുത്തി',\n",
       " 'ella mass dialoguesum pakka classic from ikkaaaa ummaaa',\n",
       " 'im from tamilnadui like mamooty sir trailer',\n",
       " 'ഇക്കയുടെ  ചാവേർ പടകൾക്ക്  like അടിക്കാനുള്ള  സ്ഥലം',\n",
       " 'ithu fan 2016 hindi srk starrer movie pole aakum',\n",
       " 'chetta done deal wait trailer kollam  massss',\n",
       " 'ambili kandavroke onnu like adiche kanaathavar onnu kanade povalle nashtaman',\n",
       " 'after pulimurugan biggest blockbuster ku waitiing for tn fans',\n",
       " 'ikka fans',\n",
       " 'എന്റെ പൊന്നോ title  കേട്ടപ്പോ എന്തോ സാദാരണ സിനിമ ആകുമെന്നാണ് കരുതിയത്  ഇതു പക്ഷെ വേറേ ലെവൽ ആണല്ലോ  എന്തൊരു intensity ആണ് ഒരോ frame ലും christmas റിലീസുകളിൽ ആദ്യം കാണുന്നത് ഇതാവും  മഞ്ജു വാര്യർ തകർക്കുവല്ലേ',\n",
       " 'malayathile raksasan loadingggg  hit likes if u agree',\n",
       " 'mamangam mass trailer aayirunnupakshe padam ettu nilayil potti',\n",
       " 'ന്താപ്പോ ഇവിടെ ണ്ടായേ  ഇന്നെന്താ വിഷുവാ ',\n",
       " 'ikka polikku numma a10 pilleru kude ondu',\n",
       " 'rajayum rajede pillarum stonga tripple strong',\n",
       " 'dislike adichu tholpikan pattila makkaleaaa lalettan oru rakshem illa prethviraj pwlichu katta waiting for 28th',\n",
       " 'prithviraj poster kanditu pull evdelum kannan undonu thirakan vannavare porateeey',\n",
       " 'സിദ്ദിക്കാ കുറച്ച് കാലമായി നിരാശ മാത്രമേ സമ്മാനിച്ചിട്ടുള്ളൂ പക്ഷെ ഇന്നും ഒരു റാംജി റാവുവോ മാന്നാർ മത്തായിയോ വിയറ്റ് നാം കോളനിയോ പ്രതീക്ഷിച്ചു കൊണ്ടാണ് ആളുകൾ നിങ്ങടെ പടം കാണാൻ വരുന്നത് ചതിക്കരുത് ',\n",
       " 'ittichan da  mwne sanbavm pwlikm onam winner',\n",
       " 'ഒരു ഐറ്റം song ഇല്ലാതെ സിനിമയെടുക്കാൻ തന്തക്ക് പിറന്ന ആരുമില്ലേ സിനിമാ മേഘലയിൽ',\n",
       " 'katta lallettan fanaennalum trailer kollam variety ayitundnice bgm',\n",
       " 'ഇതൊക്കെ സ്കൂൾ പിള്ളേരോട് പോയി പറ സാറേഷൈലോകിനെ ഉദേശിച്ചാണോ',\n",
       " 'പ്രധാന വാർത്തഒരു പാവത്തിന്റ മൂക്കുത്തി വിൽക്കുന്നതിനിടെ മ്മളെ  മമ്മൂക്കയെ cbi പുതിയ ബസ്സ്റ്റാൻഡിൽ നിന്നും പൊക്കി',\n",
       " 'ആരോ ഒരാളല്ല എന്റെ ഏട്ടൻ big brother    ',\n",
       " 'ithoru nalla trailer aanenn aarum parayum ennitum dislike sammathikkanam mass class',\n",
       " 'ente channel kanathavar like adichu poykko',\n",
       " 'new delhi എന്ന സിനിമയിലൂടെ മമ്മൂട്ടിയേ സൂപ്പർ താര പദവിയിൽ എത്തിച്ച ജോഷി സാറിന് ജോജുവിനെയും ഒരു സൂപ്പർ തരാം ആക്കാൻ സാധിക്കട്ടെ',\n",
       " 'ഇതും പറഞ്ഞ് ലാലേട്ടന് ഒരോട്ടമായിരുന്നു തലശ്ശേരി സന്തോഷ് ഹോസ്പറ്റിലേക്ക് ',\n",
       " 'എന്ന് നിന്റെ മൊയ്തീനിലെ സോങ് ഓർമ വന്നവർ ലൈക് അടിക്കു കണ്ണുണ്ട് ചൊല്ലുന്ന സോങ്',\n",
       " 'nowdays  malayalam cinema is  like telugu  cinema',\n",
       " 'enthonnadei ithu pulimurugan tamil remake a',\n",
       " '1 divasam 3l kudutal tavane kanunavar arokke und',\n",
       " 'nasik doll tiltle bgm aane highlight',\n",
       " 'de mookkuththi aarelum eeuthittudel athngu koduthekkadeberthe avare ittu thullikkathe ',\n",
       " '014 and 022 ip man kerala version',\n",
       " 'എനിക്ക് തോന്നുന്നു അബി എന്ന മിമിക്രി താരം മകന് ഷൈൻ നിഗം എന്ന പേര് ഇട്ടത് തന്നെ നല്ലൊരു നടൻ ആവാൻ ആയിരിക്കണം ഇവൻ അഭിനയിച്ച ഒരു സീൻ പോലും ബോർ അടിച്ചില്ല',\n",
       " 'നിവിൻ പോളിക്ക് പിറന്നാൾ ആശംസകൾ നേരുന്നു കുഞ്ഞിക്കാ ഫാൻസ്\\u200c  മൂത്തോൻ മലയാള സിനിമയെ വേറെ ലെവലിലേക്ക് എത്തിക്കും',\n",
       " 'entho missing aanu',\n",
       " 'ജോസേട്ടാ first day ഞാനും കാണും theater ല്',\n",
       " 'ente ponno ithreyum kathu irunne trailer vere illa ikka uyir',\n",
       " 'ithu party based cast based movie anengil adi pidi vedi anengil ee padam poliyum',\n",
       " 'iruttinte aayussu sooriyan udhikkunathu vare mathram',\n",
       " 'ആരാടാ പറഞ്ഞത് കേരളത്തിൽ പ്രിറ്വിരാജിന് മാത്രെ roles റോയ്\\u200cസ് ഉള്ളു എന്ന്',\n",
       " 'enthonnadei ithu pulimurugan tamil remake a',\n",
       " 'innu ravile vare 181k likesippo varum 121k likes',\n",
       " 'കോഴി എന്ന് കേട്ടപ്പോൾ നടൻ ദിലീപണ്ണൻ ആണെന്ന് തെറ്റിദ്ധരിച്ചു ',\n",
       " 'മലയാള സിനിമാ സൂപ്പർസ്റ്റാർകളിൽ നിന്നും വഴിമാറി വരുന്നു ഒപ്പം വിജയങ്ങളും അടിപൊളി',\n",
       " 'youtube vare hang aaki ikkede piller',\n",
       " 'ഇൗ വർഷത്തെ ഏറ്റവും കൂതറ പടം ഇതായിരിക്കും കൊറേ കൂറ ഭാവവും നടപ്പും പിന്നെ തള്ളി തള്ളി മുകളിൽ എത്തിക്കാൻ കൊറേ മണ്ടന്മാരും ഒരു പോത്തെട്ടൻ ദുരന്തം',\n",
       " 'sreenath bhasi end cinemayalum aa jacket ath nirbanda',\n",
       " 'avalude mukkuthi sudevinte kayilund aa nottam kandal ariyam',\n",
       " 'fdfs locked ഒറ്റ പേര് megastar mamookka',\n",
       " 'മാസ്സ് തരംഗം സൃഷ്ട്ടിക്കാൻ നമ്മുടെ ലാലേട്ടൻ ട്രൈലെർ ഇഷ്ടപ്പട്ടവർ ലൈക്\\u200c അടി മക്കളെ',\n",
       " 'യേശുദാസ് ഇങ്ങനെ പാടുന്നതിൽ ഇനി നമ്മൾ അതിശയിക്കുകയില്ല അഭിമാനിക്കുകയെ ഉള്ളു',\n",
       " 'nammuk oru onnu onnara thriller padam ondenu paranjek',\n",
       " 'sambavam kollam but',\n",
       " 'ഇപ്പൊ പോവ്വാ പക്ഷെ അവനേം കൊണ്ടേ പോകു',\n",
       " 'right handers oru like adi  left handers oru comment itt ponae eeee',\n",
       " 'verey level maranamaass neeralikk polumilla 1 m views',\n",
       " 'padam kanditt trailer kandvar ivide common  trailer apeshich padam vere lvl',\n",
       " 'ith pole films aanu tamil telungu mass movies aakunnath',\n",
       " '68 subscribers ulla channel il ettittumkarikke ne tholpikkan aavilla makkale',\n",
       " 'mass kolla mass etra vattam kandu enne areyella ',\n",
       " 'മോന്തക്ക് ഒന്ന് കൊടുത്തിട്ട് കണ്ണാടി എടുത്ത് കാണിക്ക് അപ്പൊ കാണും മൂക്കുത്തി',\n",
       " 'സംഗതി ഏകദേശം കണ്ണോണ്ട് ചൊല്ലണ് മിണ്ടാതെ മിണ്ടാതെ പുന്നാര പനന്തത്ത ദൂരെ എന്ന് നിന്റെ മൊയ്തീൻ',\n",
       " 'nice  varampo kaanam engana nu ',\n",
       " 'e traileril ntha chekutan undo',\n",
       " 'katta ikka fans okke onnu like adichu pokke',\n",
       " 'daily oru pravashyamenkilum kandillel oru samadhanam illa',\n",
       " 'avide ethrayum aalkaarundayittum aa chechide mookilulla mookuthy edth kodkaan aarkkum thoniyillallo kashtam',\n",
       " 'omg megaaaaa massssss ikkkkaaaaaa outstanding ikkaaaaa and the bgm rocking',\n",
       " 'yenikki e movie teammil ulla yethengilum aalide phone number venam',\n",
       " 'വേറെ ലെവൽ ഇക്കക്ക് മാത്രം പറ്റുന്ന ഒന്ന് ഇനിയൊരായിരം പിറക്കാൻ ഇരിക്കുന്നു വ്യത്യസ്തമായി വിസ്മയിപ്പിക്കുന്ന നടൻ god bless you ikka stay live long',\n",
       " 'june 16 keralakara ilakki marikkum ikka',\n",
       " 'padam kandittu ivde vannavarkku like adikkaanulla comment',\n",
       " 'old mohanlaline same look nigam',\n",
       " 'ethakayo pundakal e myre eragiyal lucifer trailer  kadathum enokke paraniju enitte enthayi obiyille latettane thopikan avilla mammu',\n",
       " 'ith orumathiri metteduthe teaser ayi poipani ariyavunna pillarkk vallom editing kodukk',\n",
       " 'trailer kandapo oru karyam urapichu ',\n",
       " 'ജോസഫിന് ശേഷം ജോജുവേട്ടനെ ഒരുപാട് ഇഷ്ട്ടയവർ ഇവിടെയും എന്റെ പൊട്ട ചാനലിന് ഒരു ലൈക്\\u200c കൊടുക്കോ',\n",
       " 'mohal lal aa filmil thovinone kaanunne polum illaaaa filmil mohanlalinde aniyanaanhyendh aniyanprrrrrkaanunne poolum illaa',\n",
       " 'കുഞ്ഞിക്കൂനൻ  ചാന്ത്\\u200cപൊട്ട് ചക്കരമുത്ത്   സൗണ്ട് തോമ  മായാമോഹിനി  കമ്മാരൻ  ഇപ്പം ദേ സാന്തയും  ഇവിടെ എന്തും പോഗും  ദിലീപെട്ടൻ',\n",
       " 'ഇതിൽ mammootty രജനി ഫാൻ ആണെന്ന് തോന്നുന്നു',\n",
       " 'oru dubbing padathinte trailer pole  kidu',\n",
       " 'i am waiting katta mass padam muttila arum',\n",
       " 'mamookka super mega star only one mega star mamookka',\n",
       " '17k view 100k like 10k dislikeithengane',\n",
       " 'shylok teser ejjathi ithe atrakke anghatte pora but randd padavum naanvum mass',\n",
       " 'മലയാള സിനിമഗാന മേഖല എത്ര ദാരിദ്രതിൽ ആണന്നു അറിഞ്ഞില്ല',\n",
       " 'le abhram khureshi ith enne aanu enne thannannu enne mathramanu',\n",
       " 'കണ്ണോണ്ട് ചൊല്ലണ് മിണ്ടാണ്ട് മിണ്ടണ്\\u200c  ജയചന്ദ്രൻ സാറേ പിന്നേം അതു തന്നെ എടുത്തു പെടച്ചു ല്ലേ എന്നാലും രസമുണ്ട്',\n",
       " 'vijay baby sir adipoli trailer sir',\n",
       " 'prithvi inta kadha pola undalla kurch',\n",
       " 'from urumi  to marakar  i want to hit a “ parangii”  now',\n",
       " 'എന്റെ പൊന്നു ജോജോ നുമ്മ   കട്ട waiting സംഭവം പൊളിച്ചു ഇപ്പൊ മ്മടെ മലയാള സിനിമ വേറെ ലെവലാണ്',\n",
       " 'late ayalum latest aayee ikka varuu',\n",
       " 'ഇതിപ്പോ ഞാൻ എന്നെ തന്നെ സിനിമയിൽ കണ്ടപോലെ',\n",
       " 'padam kandu kaxhinju kanunvr like adi',\n",
       " 'ennem koode kootumooo nannayi abhinayikkam',\n",
       " 'padam kandu mammokka guest aanenkilum puthya piller pwolich  pina action fighting stunts okke vera level eenu',\n",
       " 'ee pattil lalettan step irangivarunna sceneohhh romanjamm',\n",
       " 'hater aanubut full support mamankam',\n",
       " 'annaakkil adikyaann kettittund abinayikkaanariyillaann paranjordokke vaayil adichittund',\n",
       " 'enada oru english comment kuda kanom',\n",
       " 'padam kand kili parannavarkk commentadikaanulla noolu ejjaathi padam',\n",
       " '135 aa purakil nikkunnath prithviraj aano',\n",
       " '1 kannada vech onnoode 1 nokkikoodayrunno',\n",
       " 'എന്റെ മമ്മൂക്ക നിങ്ങൾ അന്നും ഇന്നും ഇനിയെന്നും ഞങ്ങൾക്ക് ഒരു അത്ഭുതമാ',\n",
       " 'mammukka ഫാൻസിന്റെ  ella വിധ  ആശംസകൾ  ഇട്ടിച്ചായ',\n",
       " 'എന്റെ പൊന്നോ ട്രൈലെർ കണ്ടപോളെ ഉറപ്പിച്ചു പടം കാണണം എന്ന്',\n",
       " '630 muthal kaathirikkukayaayirunnu  1st comment idaanulla bhagyamee onam pwolikkum',\n",
       " 'fight scenes muzhuvan hvy  aayittind',\n",
       " 'അഭിനയ കലയുടെ ആറാം തമ്പുരാൻ ഏട്ടൻ ഉയിർ',\n",
       " 'lucifer trailer ethineka kuduthal repeat adich kandavar like adi',\n",
       " 'slr in pagaram kar 98 edukkaynu',\n",
       " 'dasettante sabdam mammootty kku perfect matchoru lalettan fan aanu njn enkilum mammootty sir did a grtt job n ths screen presence oru rakshayumillaa',\n",
       " 'enna oru look enna oru stylish enna glamouraadaidh pole oruthan vere evidundeda nammade malayala karayil',\n",
       " 'lalettan itra look il ee aduthengum kanditilla',\n",
       " 'oru panipalal manakunnu again mr jr ',\n",
       " 'ennalum pattezhuthukkara than enthonu thengayado ezhuthivachekkuney   poyi vadakkan veeragadha and pazhassi raja songs imposition ezhuthi padikk',\n",
       " 'oru onnonnara item varunnundu ready ayi ko makaleluving mammookka',\n",
       " 'മസ്സാണ് മനസുമാണ് എല്ലാം ആണ് love u ഏട്ടാ ',\n",
       " 'anu sitharayude dialogue oru dheerha vanithayudethanu athu parayendathu sangadapettalla',\n",
       " 'നിനക്കൊക്കെ  പ്രാന്താണോ  പെണ്ണുങ്ങളുടെ പിന്നാലെ  പോവാൻ   ചെക്കൻ  pwoli',\n",
       " 'padam kanda shesham trailer kandathukondu oru aaswasam',\n",
       " 'megastar fans like here  അടിച്ചു pottikkadeyy',\n",
       " 'thappa eduthukkatha eppadi ippadiyellam lyrics eluthiraungalkka ithellam konjam overa therleyappaaarodu parayan aaru kelkkan',\n",
       " 'ഒരു ചെറിയ മൂക്കുത്തി കാണാതായപ്പോൾ കൊട്ടാരത്തിലെ പെണ്ണുങ്ങളെ എല്ലാം വിളിച്ചു ഇതാണ്\\u200c ഡാൻസെങ്കിൽ പത്തു പവന്റെ മാല പോയാലുള്ള അവസ്ഥ ഒന്നു ആലോചിച്ചു നോക്കിയേ ',\n",
       " '28 lucifer release ente bday pwoli',\n",
       " 'eee onam ente ettan ingu edukkaaane ',\n",
       " 'ലാലേട്ടൻ ഒന്ന് കൂടി ലുക്ക്\\u200c ആയിട്ടുണ്ട്  എന്ന് തോന്നിയത് എനിക്ക് മാത്രമാണോ     പിന്നെയ്  ഗുഹൻസ്   2020ഏട്ടനിങ്\\u200c എടുത്തൂന്നു പറയാൻ പറഞ്ഞു',\n",
       " 'ee role cheyan lalettan mathrame pattu',\n",
       " 'manju varrier double role aanenu thonunnu',\n",
       " 'ഇന്ന് മൈസാന്റ ഞാൻ കണ്ടുഎജ്ജാതി പടംദിലീപേട്ടനും ആ രണ്ട് പെൺകുട്ടികളും തകർത്തഭിനയിച്ചു ജാക്ക് ഡാനിയലിന്റെ ക്ഷീണം ദിലീപേട്ടൻ ഇതിലൂടെ തീർത്തു ക്രിസ്തുമസ് ദിലീപേട്ടനങ്ങെടുത്തു വരും ദിവസങ്ങളിൽ തിയ്യേറ്ററിൽ പടം ഹൗസ്ഫുൾ ആകും എന്നുറപ്പിച്ചുഈ പടം കണ്ടില്ലങ്കിൽ വലിയ നഷ്ടമാകുംമനസ്സ് കീഴടക്കിയ ഒരു സിനിമ',\n",
       " 'മൂക്കുത്തി കട്ടത് ഉണ്ണിയാണ് ഓന്റെ ആ കള്ള നോട്ടം കണ്ടാലറിയാം ഓന്റെ അടുത്താണ് സംഭവം',\n",
       " 'lov uuuuuuuuuu etttaaaaaaa  romajam vanu chavum',\n",
       " 'once apon a time there was a കള്ളൻ  പോലീസ്    മവനെ കൊല ഗാണ്ടിലിറിക് കൊല്ലമേ വിടമാട്ടെ   നിനക്കിനി മലയാളം ഇൻഡസ്ട്രിയൽ കിടന്നു പോളക്കാൻ പറ്റും എന്ന് തോന്നുന്നുണ്ടോ ബോസേ  boss',\n",
       " 'ee songill 35 sec muthalulla bhagam eattum kooduthal ishttapattath enikk mathramaanoo',\n",
       " 'age is just a number  ikka',\n",
       " 'njan mammoty fan ann pakshe enikk ishtapettu',\n",
       " 'നിലപക്ഷി ടച്ച്\\u200c   മറഡോണ  സുഷിൻ വീണ്ടും',\n",
       " 'when you strike at a king',\n",
       " 'it is a malayalam movie upper bahubali no more words mammokka',\n",
       " 'വല്ലപ്പോഴും മാത്രമേ ഇക്ക ഡാൻസ് ചെയ്യൂ ചെയ്താൽ പിന്നെ ഹിറ്റ് ആക്കിയിട്ടേ പോവു നടനം ',\n",
       " 'ottum moshamakkilla mammokka ith anu oru nadante range hats off',\n",
       " 'cinema kandit vanavar like climax',\n",
       " 'എവിടെ ഈ വേഷത്തിൽ എന്റെ അനു അക്ക  ചതിച്ചോ ദേവിയെ',\n",
       " 'ayyo anashwara thadich valya  kutiyaayallo pinne nammale mookuthidevika plus 2 biolgy enna shortfilm fame cheechiyum undallo enikkvare kandaal marimayathile manju chechiye poole thoonum',\n",
       " '10million views aakkan vannavar undo l a l e t t a n',\n",
       " ' 1  1m views um 1lakh likes um 24 hrs nu munne adikkunnu urappullavar  like button ഞെക്കിയിട്ടു  പോവാ മോ',\n",
       " 'bgm semma    from tamilnadu',\n",
       " 'ee song theater il ninnu kelkkumbbo oru pratyekataram feelanu',\n",
       " 'ingerkku age kuraju varuvano  ennaa lookkaa   ingerkku extra padama mammookakku pakaram mammookka maatram  happy christmas',\n",
       " 'കാട്ടിലെ കാട്ടുകോഴി കറി  cooking and eating    ഈ ചാനല് സബ്\\u200cസ്\\u200cക്രൈബ് ചെയ്യൂ',\n",
       " 'ഷെയ്ൻ നീ മുത്താണ് പൊളിയാണ് മച്ചാനെ നീ',\n",
       " 'dislike adicha makkale okke onn kaanendi varum',\n",
       " 'ഇൗ പടം നാളെ തന്നെ ഒന്നു റിലീസ് ആക്കിയാൽ കൊള്ളാമെന്ന് താൽപര്യം ഉള്ളവർ ലൈക് ഇടാനുള്ള ഗ്യപ് ഇവിടെ',\n",
       " 'ഇതിന്റെ ഇടയ്ക്കും ഐറ്റം ഡാൻസ് കൊണ്ട് തിരുകിയോ ഭയങ്കരം',\n",
       " 'ഒരു രക്ഷയുല്ലാട്ടോമാരകം മാസ്മരികം ജോഷി തിരിച്ചു വന്നു ആശാനേ',\n",
       " 'ഇക്കയുടെ ചാവേറുകൾക്ക്\\u200c  like അടിക്കാനുള്ള സ്ഥലം',\n",
       " 'njan oru bangali aanu malayalam theriyale aanalum trailer romba super aayirukk',\n",
       " 'madhura raja nalla cinema ano plz reply',\n",
       " 'എന്താണ് ഇക്ക ഇത് uff ബല്ലാത്ത ജാതി',\n",
       " 'ഇപ്പോഴത്തെ പടങ്ങൾ  വ്യത്തിക്കെട്ട പേരിൽ വ്യത്തിക്കെട്ട കണ്ടന്റിൽ വ്യത്തിക്കെട്ട പാട്ടും ഉൾപ്പെടുത്തി ഇറക്കുന്നു ആൾക്കാർ കേറി എന്നത് വച്ച് പടം ജയിക്കുന്നു',\n",
       " 'ശ്രേയ ഘോഷാൽ വോയിസ്\\u200c ഉഫ്ഫ് ഒരു രക്ഷയും ഇല്ല',\n",
       " 'മാമാങ്കം  \\xa0ഇതൊരു\\xa0mass\\xa0entertainer\\xa0അല്ല\\xa0ഒരു\\xa0historic\\xa0drama ആണ് സാമൂതിരിയുടെ തലയറുക്കാനായി അയാളുടെ വലിയ പടയുടെ മുന്നിൽ ചെന്ന് മരണം വരെ അങ്കം വെട്ടുന്ന വള്ളുവനാട്ടിലെ ചാവേറുകളുടെ കഥയാണ് മാമാങ്കം   സ്ഥിരബുദ്ധിയുള്ള ആര് ചിന്തിച്ചാലും അസാധ്യം എന്ന് തോന്നുന്ന ഈ കാര്യത്തിൽ ആരും വിജയിച്ചതായി അറിവില്ല അതായത് ചാവേറുകൾ പോകുന്നത് മരിക്കാൻ വേണ്ടി തന്നെ ഇനിയൊരു തിരിച്ചു വരവ് ഉണ്ടാകില്ല ഉണ്ണിയെ എന്ന് പറഞ്ഞു ഇറങ്ങുന്ന ആ ബുദ്ധിശൂന്യരുടെയും അവരെ പകയുടെ ചൂട് കോപ്പ് എന്ന് പറഞ്ഞു വിടുന്ന വീട്ടിലെ സ്ത്രീകളുടെയും മണ്ടത്തരത്തിനു ധീരതത്യാഗം എന്നൊക്കെ വിളിക്കാൻ പറ്റുമോ എന്നറിയില്ല അന്ന് കായിക അഭ്യാസം അല്ലാതെ വകതിരിവ് പഠിപ്പിച്ചിരുന്നു എങ്കിൽ വളരെ നന്നായേനെ   നല്ല മൂലകഥ നല്ല അഭിനേതാക്കൾഎത്ര വേണേലും പണം മുടക്കാനായി നിർമാതാവ് എന്നിവരൊക്കെ ഉണ്ടായിട്ടും മാമാങ്കം എന്തുകൊണ്ട് നിരാശപ്പെടുത്തി എന്നത് ഉത്തരം ഇല്ലാതെ അവസാനിക്കുന്നു\\xa0പടം ഫുൾ ലാഗ്\\xa0ആണ്\\xa0vfx\\xa0ശോകം\\xa0ഇക്കയെ\\xa0ഇടക്ക്\\xa0മിന്നായം\\xa0പോലെ\\xa0കണ്ടു   അമിതപ്രതീക്ഷയുടെ\\xa0ഭാരം\\xa0ഇറക്കിവച്ചും\\xa0ചില\\xa0scenes\\xa0കണ്ണടച്ചും\\xa0വിട്ടൊരു\\xa0historic\\xa0drama\\xa0കാണാൻ\\xa0പോയാൽ\\xa0100\\xa0തൃപ്തി\\xa0നൽകുന്ന\\xa0ഒരു\\xa0ചിത്രമാണ്\\xa0മാമാങ്കംകാണുന്നെങ്കിൽ തിയേറ്ററിൽ തന്നെ കാണുക ഒരു ശരാശരി അനുഭവം ലഭിക്കും അല്ലാതെ മറ്റുള്ള പ്ലാറ്റുഫോമുകളിൽ കാണാൻ ശ്രമിക്കാതെ ഇരിക്കുക   ചുരുക്കത്തിൽ കൊള്ളാമോ എന്ന് ചോദിച്ചാൽ കൊള്ളാം കുഴപ്പമില്ല\\xa0rating\\xa0ഒക്കെ\\xa0കാണുന്നവരുടെ\\xa0ഇഷ്ടംപോലെ\\xa0ഇടാം',\n",
       " 'tovinodee oru mass padathinuu vendi waiting aarnuu  ethu polikuummm',\n",
       " 'oru rakshayum illa kidu padam thane ethra kandittum mathiyakunnilla',\n",
       " 'ithippo parayunnath endha manasilavanel malayalikalkk polum subtitle vazhikenda avastha aanallo  eadhayalum kanditt directionum musicum poli aan',\n",
       " ' on trending 1million views ikka  nov 21         ',\n",
       " 'എന്റെ സംശയം കേരളത്തിൽ രണ്ടു മമ്മൂട്ടി ഉണ്ടെന്നാണ് പേരൻപിൽ എല്ലാവരെയും സങ്കടത്തിലാക്കിയ മമ്മൂട്ടി തന്നെയാണോ ഇതിൽ ',\n",
       " 'srk movie fan   mallu version പോലെ und',\n",
       " 'ഇത് ഒരു  പൊളി പൊളിക്കും ',\n",
       " 'mammookka  enna  oru  etha',\n",
       " 'copy sundar bgm evidyo കേട്ടിട്ടുണ്ട്',\n",
       " 'mone romanjam enn parannal ithokke aaanmass venam enn parannavarude annakkilekkikkaaaaa',\n",
       " 'bgm കലക്കി നല്ലൊരു ക്രൈം ത്രില്ലെർ ആകുമെന്ന് പ്രതീക്ഷിക്കുന്നു best wishes for this movie',\n",
       " 'tamil movie polea undeallo  over aano',\n",
       " 'l  nu shesham pradhiksha koodathe erikkumo l alettaaa',\n",
       " 'മണിച്ചിത്രത്താഴ് വാര്യംപള്ളിലെ മീനാക്ഷിയെ പോലത്തെ ശക്തമായ  റോളാണ് ഇതിൽ swasikaക്ക് ഇടിക്കട്ട വെയ്റ്റിംഗ്',\n",
       " 'മമ്മുക്കയെ പൊറിഞ്ചു ആയി കാണാൻ ആഗ്രഹിച്ചവർ ഉണ്ടോ',\n",
       " 'trailer ndoke erakiyalum lalettante record thakarkan lalettanu matre pattu',\n",
       " 'ഇപ്പോൾ പോകുവാ പക്ഷെ അവനെയും കൊണ്ടേ പോകത്തുള്ളൂ pwoli dialogue',\n",
       " 'kaalame ini pirakkumoo ithpoloru vismayam   mamukka',\n",
       " 'തമ്പ്രാന്റെ കാലിന്റെടയിൽ   നിന്നും   കൊച്ചിന്റെ കളഞ്ഞു  പോയ  മൂക്കുത്തി  കിട്ടിയിട്ടുണ്ട്   തിരയാൻ സഹായിച്ച  എല്ലാവർക്കും  മണവാളൻ  സൺസിന്റെ പേരിൽ  ഒരായിരം  നന്ദി',\n",
       " 'next pullikaran stara or uncle loading ',\n",
       " 'kochu pillerode chodikkan eth rajayalla nattellulla stephen nedumpalliyaanu',\n",
       " 'പോളി ശരത് famous ആയെന് ശേഷം ട്രയ്ലർ കാണാൻ വന്ന ആരേലും ഉണ്ടാ ',\n",
       " 'സന്തോഷമായി അങ്ങനെ complete action mallu movie ഏതായാലും ഇത്രയും standard പ്രതീക്ഷിച്ചില്ല പൊളിച്ചു',\n",
       " 'lalettan  fan aya entea ella ashamasakalum',\n",
       " 'ee trailer vachaaanooo luciferinodu muttaan varunnath',\n",
       " 'vallatha oru addiction aanu  2 divasamaayi thudare kettallum mathi avunillaentha feeeeeeel hoooo',\n",
       " 'ഒടിയൻ സിനിമക്ക് ശേഷം ലാലേട്ടന്റെ bodylanguage ഒരുപാട് മാറ്റം വന്നു  പഴയ ലാലേട്ടനെ കാണാൻ സാധിക്കുന്നില്ല',\n",
       " 'കാത്തിരുന്ന ദാസേട്ടന്റെ മനോഹര ഗാനം  തിയേറ്ററിൽ ഏറ്റവും ആസ്വദിച്ച രംഗം  രസിപ്പിച്ചും അത്ഭുതപെടുത്തിയും മമ്മൂക്ക  മാമാങ്കത്തിലെ ഏറ്റവും മികച്ച വേഷപ്പകർച്ച ',\n",
       " 'ee onam ettante pillerk ullatha ettante kude ee aniyan marrum kanumenn parajekk',\n",
       " 'dileepettan kalakki xmas pattiye cinema  gabbira vijayamavatte',\n",
       " 'character eakadesham same aaanallo vyshakh sir',\n",
       " 'ngelike kuranjoautolikes 3g anyway trailer heavy',\n",
       " 'avasaanathe superman punch ath kalakkki ente ponnu ikka love uuuu',\n",
       " 'e songinu vendi katta waiting ayrnnavar like adi',\n",
       " 'ഉണ്ണിയേട്ടന്റെ കണ്ണിലെ തീ കണ്ടാൽ മനസിലാകാം  ഈ song കഴിഞ്ഞതും ഒരു masskabaappp',\n",
       " 'ini ippo ella padam achan nte molude koode akum',\n",
       " 'ithenthaa ithinidaikk illuminati symbol okke thalli ketyekkunnallo lucifer pidikkan nokkunnathaavum',\n",
       " 'trailer kandal thanee ariyam padam pollikum katta waiting',\n",
       " 'mega star fans undo like aadiki',\n",
       " '0048 sec ile portion kelkkumpol moideen film ile  kannondu chollanu  enna songumayi samyam und',\n",
       " 'ഞാൻ ഒരു lalettan fan ane but trailer കണ്ടപ്പോ മനസിലായി  8 നിലയിൽ ഈ പടം pott മനസിലായി അങ്ങനെ ഈ പ്രേതിക്ഷയും പോയി',\n",
       " 'padam kanditt veendum trailer kaanan vannavar aarengilum undo enne pole',\n",
       " 'ഇമ്മാതിരി  ബലി ഡാൻസ്  കളിച്ചാൽ  മൂക്കുത്തി  എങ്ങനെ കാണാൻ  ആണ് പൊന്നു ammachiiiiiiii',\n",
       " '909 k unlike adicha jimitt fans',\n",
       " 'എന്റെ പൊന്നോ ആ ചിരി കണ്ടോ ഇജ്ജാതി  കൊല്ലാമേ വിടമാട്ടേ',\n",
       " 'malayala sinimayile ore oru rajav ikka muthan',\n",
       " 'thriller movie',\n",
       " '1m views and 150k likes',\n",
       " 'i hate mohanlal koppile oru dance',\n",
       " 'ഞാനും ഒരു ഫാൻ ആണ് മമ്മൂക്ക മമ്മൂക്കയുടേത്',\n",
       " 'kallakki  kidukki  thimirthu  bgm oru rakshem illa  pwoli',\n",
       " 'ട്രോല്ലെന്മാരെ വളർത്തിയ യൂട്യൂബിൽ തന്നെ വരേണ്ടി വന്നു ഈ പാടിന്റെനയും നടന്റെയും മഹത്വം മനസിലാക്കാൻ',\n",
       " 'my review   കുമ്പളങ്ങി nights എന്ന കോളനി പടത്തിന് ശേഷം  വീണ്ടും ഒരു കോളനി പടം  vijay fan ആയ state സിലബസ്  കോളനി പയ്യൻ ഒരു standard ഉള്ള വീട്ടിലെ കൊച്ചിനെ line അടിക്കുന്നു  ബോധം ഇല്ലാത്ത കൊച്ച് ആ കോളനി ക്ക് set ആവുന്നു  same കുമ്പളങ്ങി story   ആളുകൾ മാത്രം വ്യത്യാസം  കൊച്ചിന്റെ അച്ഛനും അമ്മയും  പറഞ്ഞിട്ടും കൊച്ച് കേൾക്കുന്നില്ല  കോളിനി ചെറുക്കനെ ഇഷ്ടപെടുന്നു   കഥ അവിടെ തീരുന്നു  അത്യാവശ്യം കണ്ടിരിക്കാൻ പറ്റാത്ത first half and ത്രില്ല് അടിപ്പിക്കാൻ സാധിക്കാത്ത second half ഉം ഒഴിച്ച് നിർത്തിയാൽ  ticket എടുത്ത് കാശ് കളയാൻ പറ്റുന്ന അടിപൊളി കോളനി പടമാണ് തണ്ണിമത്തൻ ദിനങ്ങൾ  my rating 000001100  0 കൊടുക്കാത്തത് vijay അണ്ണൻ reference ഉള്ളത് കൊണ്ടാണ്   ഒരു പണിയും ഇല്ലാത്ത കോളനി boys ന് പടം ഇഷ്ടമാവും എന്ന് തോന്നുന്നു  അടുത്തിടെ മലയാള സിനിമയിൽ ഉണ്ടായ കോളനി വത്ക്കരണം ഇവിടെയും കാണാൻ സാധിക്കും',\n",
       " 'ivide nammal kandath oru 68kaarante poondu vilayaattam uffffvere level',\n",
       " '1 6 k dislike adichavan mare njgalk mansil avund mare',\n",
       " 'മലയാളത്തിൽ ഇതുപോലെ ഉള്ള ത്രില്ലർ സിനിമകൾ കുറവാണു ഈ സിനിമ വൻ വിജയമാകട്ടെ',\n",
       " 'koothara mass padam oru simbha touch',\n",
       " 'mwone eth kali verayamamagaam vera lvl massmarikam',\n",
       " 'ntha padam wohdaliyidhile paatt kelkum kallshapile song kitan  katta waiting anuiam discodance',\n",
       " 'ettante mattoru vismayamakum big brother   laletta muthei love laletta enne pole lalettane ishttamullavar arokke ondo avar replay thalike tha',\n",
       " 'മലയാളത്തിലെ  മറ്റൊരു  നാഴികകല്ലായി  മാറാൻ  പോകുന്ന  ഈ  മാമാങ്ക  മഹോത്സവം  നമ്മൾ  ഓരോരുത്തരും   വിജയിപ്പിക്കണം  ഏട്ടൻ  ഫാന്സിന്റെയും  സപ്പോർട്ട്  വേണം',\n",
       " 'nice trailar soubin ikka nammale vismaipikkum',\n",
       " 'കേസു കൊടുക്കണം പിള്ളച്ചാ  പോലീസ് അന്വേഷിക്കട്ടെ   അതെന്താ ഇൗ നാട്ടിൽ ക്രമസമാധാനം ഇല്ലാതായോ',\n",
       " 'çhūñk mammukkakkum vyshakettanum ente big salute  inganoru mass padam orukkithannathinu ikka bhakthans',\n",
       " 'adaar item orungikaathirunnolu ini ball njngalde kayil aan',\n",
       " 'chaaku teri gd mai ghusa dunga saale ente sireeee vere level acting kidu nivin achayaa ningal vere level',\n",
       " 'ettan mass kanikkan thudangiyath innum innaleyumonnumalle makkale',\n",
       " '4k dislike  waiting 4 kunjali',\n",
       " 'ഇതിലെ നായികക്    ധന്യ മേരി വർഗീസിന്റെ ഒരു ഛായ ഉണ്ട് പ്രേത്യേകിച്ചു ദ്രോണ മൂവിയിലെ അവർ അഭിനയിച്ച തമ്പുരാട്ടി കുട്ടിയെ പോലെ',\n",
       " 'all kerala lalettan fansite ellavida ashamsakkalum',\n",
       " 'പാട്ട് എഴഞ്ഞ പോലെ  നടിമാർ hot looking',\n",
       " 'ee padam hitakkamo ennnariyilla   pakshe ee onam oru theatrill full cinemakkala',\n",
       " 'yesu nammakku ariyatha aalonnumallallo wat a dialogue',\n",
       " 'സസ്പെൻഷൻ പോരതല്ലിപ്പൊളി വണ്ടിയാണ്   മത്തൻ ദിനങ്ങൾ',\n",
       " 'idakkatta waiting for mamangam ikkaa luv u',\n",
       " 'onnil koodutal tavana kandavar adi like',\n",
       " 'polik joju chettan katta support from mamootty fans',\n",
       " 'ഒടിയനിലെ പാട്ട് കണ്ട് കളിയാക്കി ഇപ്പം എന്തായി   karma is a bitch baby ',\n",
       " 'marana maaasssseyyyyy mammokaaaaaa tamil fans love always there for u man',\n",
       " 'അല്ല എല്ലാ മുസ്ലിംസും മലബാർ മലയാളം ആണോ സംസാരിക്കുന്നതുന്റെ അറിവിൽ അല്ല  grow up mrdirector ',\n",
       " 'മമ്മൂട്ടിക്ക് വയറുള്ളതാണോ അതോ പടത്തിന് വേണ്ടി വയറുചാടിച്ചതാണോ  എന്റെ ഒരു സംശയമാണ്',\n",
       " 'ente ponno  no raksha',\n",
       " 'anurag kashyap movie under ground  don drugs deep touch  anuraginte padam kandavark ariyamnivin poli',\n",
       " 'ende ponnoe ejathy trailer kandall ariyam ikka ethu rengill ulla allannennu',\n",
       " 'kollam short film polend vere vallo panikkm po man',\n",
       " 'ജോഷിയെട്ടാ new delhi കുഷേഷം  ഒരു മാജിക് besh wishes',\n",
       " 'അല്ല ഇത് മാമാങ്കത്തിൽ കണ്ട ഞങ്ങടെ ഇക്ക അല്ല ഇത് ',\n",
       " 'കാട്ടാളൻ പൊറിഞ്ചുന്ന് കേട്ടാ തൃശ്ശൂർ മൊത്തം കുലുങ്ങില്ലേ ജോജു ചേട്ടൻ വേറെ ലെവൽ ',\n",
       " 'kidukachi ene parja pora athukum mele  tovi ichaya',\n",
       " '147 vfx aavashyamillayirunnu mammukka mammukkayayi irikunnathane nallathe',\n",
       " 'ettan fansinte ella vitha supportum  padam hit aavatte',\n",
       " 'pakkadane pore kaliyude aattathe march 28',\n",
       " 'ഈ പടം comedy ആവും ഇമ്മാതിരി റോൾസ് set ആവില്ല നിവിനു കൊച്ചുണ്ണി യിൽ കണ്ടതാ  പൊങ്കാലയിടേണ്ടവർ ഇവടെ comeon',\n",
       " 'sushin shyam  vere level ……',\n",
       " 'tovinok pakaram unni mukundan mathiyarunnu',\n",
       " 'ഈ ഓണം ഏട്ടനും പിള്ളേരും ഇങ്ങു എടുക്കുവാണ്  ഏട്ടൻ uyir',\n",
       " 'chevittath nokki thanna kaanum  ante mookuthi',\n",
       " 'onnekil adutha pulimurugan alel adutha odiyan',\n",
       " 'വൻ team കുഞ്ചാക്കോ ഭാസി മിഥുൻ മാനുവൽ ഷൈജു ഖാലിദ് ആഷിക് ഉസ്മാൻ',\n",
       " 'kettiyadan ini veshangal backiyilla malayalathinte ore oru megastar the face of indian cinema ഉളുപ്പില്ലാത്ത കുരച്ചുകൊണ്ടിരുന്ന പിതൃശൂന്യരായ ശുനകപുത്രന്മാരോട് പുച്ഛം മാത്രം',\n",
       " 'ആരോ ഒരാളല്ല എന്റെ ഏട്ടൻ my big brother',\n",
       " 'eee filim pakuthiyum njangade avida shooting market polii poliii kottayam daaaa',\n",
       " 'മൂക്കത്തി കാണാതെ സന്തോഷിക്കുന്ന chechies  aarude angilum kayyil undangil onn aalpike paatt nirthikolum',\n",
       " 'വെറും രാജുവും സുരാജുവും  ഇത്തവണ തീ പാറിക്കും',\n",
       " 'njan vicharicha pole alla kettosambhavam kidukkiyittundu',\n",
       " 'video polich enn ullavar like adiche',\n",
       " 'കഴിഞ്ഞ പത്തു വർഷത്തിനിടയിൽ കണ്ടതു കേട്ടതും മായ ഏറ്റവും നല്ല ഗാനവും ഗാന രംഗവും നന്ദി മമ്മുക്ക നന്ദി ദാസേട്ട',\n",
       " 'ekkayude puthiya cbi sethuramayar movie varunennu kettu ee mookuthi kesanu anneshikkunnathennu  arinjilla',\n",
       " 'linto മച്ചാൻ  അല്ലെ  ടീസർ  cut credit സിൽ  ഡോൺ മാക്സ്  ന്റെ  പേര്  ആണല്ലോ',\n",
       " 'ട്രയ്ലർ കിടു അപ്പൊ പടമോ ന്റെ ശിവനെ കൂറ പടം',\n",
       " 'ഒരു 369 ലൈക്  എന്റെ ഒരു  ആഗ്രഹം ആണ്  മമ്മുക്ക ഫാൻസ്\\u200c  കമ്മോൺ',\n",
       " 'cinemakal koodumthorum age kuranju varuvanalloo kidu look  hbd ikka',\n",
       " 'dislikes illathe ituvare onnum hit aayittilla',\n",
       " 'ഞാൻ പഠിച്ച സ്കൂൾ ഞാൻ ഏറെ ഇഷ്ടപെടുന്ന വിനീത് fdfs locked',\n",
       " 'eante ponnu ikka mass love mammookka',\n",
       " 'adipoli set move ayirikum a10 thagarkum',\n",
       " 'moopar ottakka vannad ottak thanne kond povum raja',\n",
       " 'katta murali gopi fanzz adikada like',\n",
       " 'ee trailer il suraj prithviraj ne kaalum mass aan',\n",
       " 'jithan arun ellaavarum gonna rock heavy',\n",
       " 'pulli oru kollam etra films cheyyum',\n",
       " 'padam kandu vannavare adi like',\n",
       " 'appo 21 kanum   uff poli item',\n",
       " 'lucifer onnil kooduthal thavana kandavar onnu like adikku ',\n",
       " 'waiting ajai vasudev magical ikka ningal villan  ano  hero  ano',\n",
       " 'mammootty anna telugu ārādhakar iviṭe iṣṭappeṭunnu',\n",
       " 'crossed neeralee viewers within 1 day',\n",
       " 'ദിലീപ് തനിക്ക് നഷ്ടപെട്ട ഒന്നിന് പിറകെയാണ് ജനപ്രിയനടനുള്ള അവാർഡിന് പിറകെ',\n",
       " 'സീനും ഡയലോഗും തമ്മിൽ അങ്ങാട്ട് പൊരുത്തപ്പെടുന്നില്ലലോ ആ മൻസമ്മാർ മുതൽ അങ്ങോട്ട്ഒരു',\n",
       " 'തിയറ്ററി എറ്റവും കുടുതൻ കൈയാടി കിടിയ പാട്ട്',\n",
       " 'onam lalettan eduthu ennu parayan paranju',\n",
       " 'ഈ  പാട്ട്  വീണ്ടും  വീണ്ടും  കാണാൻ  തോന്നിയവർ  ലൈക് അടിക്കുക',\n",
       " 'ജോബി ജോർജ്  നിർമാണം ടിവി യില് വരുമ്പോൾ കാണാം',\n",
       " 'ethe enthu vaa dae ethe athinu kai addikaan kore fans oolagalum',\n",
       " 'mamookante scene oo romancham a scene matram njan vindum vindum kanunu',\n",
       " 'nth bhashayado ith vech ketti malabr bhasha samsarikkunnu mohanlal malabarine kaliyakkunnu',\n",
       " 'njaan mammoka faan aayi laletta aaa pazhashirajayum chathiyan chanduvum oke onnu poyi kaanu',\n",
       " 'പൂമരം ഫിലിമിലെ st ട്രീസ കോളേജ് chairman അല്ലെ നായിക',\n",
       " 'ഇങ്ങനെ ഇങ്ങനെ ആണാവോ composs ചെയ്യണേ really touchingg',\n",
       " '192k views',\n",
       " 'trending for 4 days',\n",
       " 'ആരോ ഒരാള് അല്ല എന്റെ ഏട്ടന്  my big brother',\n",
       " 'mmm thuthur thuthur thoo thumbi thuthur thuthr mmmm mmm',\n",
       " 'ee like button oru thavanaye adikkaan pattu allee',\n",
       " 'mammukka fans  suriya fans  vijay fans like adikk ivide',\n",
       " 'മാരകം ട്രെയ്\\u200cലർ പൊളിച്ചു ഇനി റിലീസ് ഡേ തകർക്കാം',\n",
       " 'sunny chechiye kannam vanna ver like adike',\n",
       " 'നശിപ്പിച്ചു  ഒരുമാതിരി മൂന്നാം കിട തമിഴ് പടത്തിന്റെ ട്രൈലെർ പോലെ',\n",
       " 'ഞാൻ സ്വന്തമായി ഉണ്ടാക്കിയ 4k projector കാണണൊ ',\n",
       " 'nthoru mookuthi aadokashtam oru vari enkilum maati pidichoode',\n",
       " 'nivin pauly mashup ആണ് കണ്ട് ഇഷ്ടപ്പെട്ടാൽ subscribe ചെയ്യാമോ സുഹൃത്തുക്കളെ',\n",
       " 'mammooka  rajuettam combo kaanan aaroke kaathirikunund',\n",
       " 'arbaz khan malayalatiloeni salman khane konduvarumallomalayala cinema orupad uyarangalil etthatte',\n",
       " 'ക്രിസ്ടിയാനി ഏന് നാമം മാത്രമുള്ള ക്രിസ്ത്യൻ സമൂഹത്തിന്റെ അധംപത്തനം  എല്ലാ മതങ്ങളും അവരുടെ മൂല്യങ്ങൾ സംരക്ഷിക്കുമ്പോൾ ക്രിസ്ടിയാനി ദൈവത്തെയും കർത്താവിനെയും കളിയാക്കിയും  കുടിച്ചും കൂത്താടിയും പല മതങ്ങളിൽ നിന്നും വിവാഹം കഴിച്ചുംജീവിക്കുന്നതായി പ്രദർശിപ്പിക്കപ്പെടുന്നു  ന്യായികരിക്കുന്നതോ കർത്താവു സ്നേഹമാണ് അതുകൊണ്ടു എന്തും ആകാം പഠനങ്ങൾ വക്തമാകുന്നത് 80  ക്രിസ്ടിയാനിക്കും ബൈബിൾ പരിഞ്ജാനം ഇല്ല                                                                                                                                                                                                            ഒരു ക്രിസ്ടിയാനി എങ്ങനെ ജീവിക്കണമെന്ന് ബൈബിൾ പറയുന്നോ അതിനു വിപരീതമായാണ്  ഒരു ക്രിസ്ടിയാനിയുടെ ജീവിതം സിനിമകളും ക്രിസ്ടിയാനിയുടെ ജീവിത യാഥാർത്യമാണ് വക്തമാകുന്നതാണ്  എന്നാൽ പാവം ക്രിസ്ടിയാനി ഇതു  ഒരു മഹത്വമായി കൊണ്ടുനടക്കുന്നു      വേറെ ഒരു മതത്തിലുള്ളവരും ഇതുപോലെ പെരുമാറില്ല  അവർ ഒന്നുകിൽ  ഹിന്ദുവോ മുസ്ലിമോ ആയിരിക്കും അല്ലെങ്കിൽ അവർ അവരുടെ മതം വിടും എന്നാൽ ക്രിസ്തുയാനി അവന്റെ മതത്തിൽ നിന്നുകൊണ്ട് തന്റെ ദൈവത്തെ നിന്ദിക്കും  ക്രിസ്തുവിന്റെ  പഠനങ്ങളൾക് എതിരായി ജീവിക്കും ഏക ദൈവമായ യഹോവയെ ആരാധിച്ചു വിശുദ്ധ ബൈബിൾ പറയുന്നതും അനുസരിച്ചുമാണ് ഒരു ക്രിസ്ടിയാനി ജീവിക്കേണ്ടത് ക്രിസ്തു ആകുന്നു ക്രിസ്ടിയാനിയുടെ മാതൃക മറ്റൊരു ക്രിസ്തുവായി ജീവിക്കണം എന്നർത്ഥം     ക്രിസ്ടിയാനി നന്മ മരം അകാൻ വല്ലാതെ പെടാപാടുപെടുന്നു ബൈബിൾ പറയുന്നു അന്യ മതക്കാരെ ബഹുമാനിക്കാൻ നിന്നെപോലെ നിന്റെ അയൽക്കാരനെ സ്നേഹിക്കാൻ ആ അയൽക്കാരൻ ഒരു ഹിന്ദുവോ മുസ്ലിമോ ആരും ആകാം എന്നാൽ  അതിനർത്ഥം അന്യ മത ദൈവങ്ങളെ ആരാധിക്കാനല്ല  ഒരു യഥാർത്ഥ ക്രിസ്ടിയാനി അന്യ മത ദൈവങ്ങളെ  നിന്ദിക്കാനും വന്ദിക്കാനും പാടില്ല ',\n",
       " 'dis like idunna mammuny fansukrude pratheka sradhkkuraajaye kaathu padakkathinte mahaniya shekram staginte baakil inddu sookshicha dukkkiknda',\n",
       " 'ഇത് imaika nodigal ലെ നയൻസിന്റെ മോൾ അല്ലെ',\n",
       " 'മാമാങ്കം കാണാൻ വച്ച പൈസ ഇങ്ങോട്ട് മറിക്കുന്നു',\n",
       " '13k dislike kodutha yethu mire adaaa',\n",
       " 'പലരെയും സൂപ്പർ താരങ്ങൾ ആക്കാൻ പങ്ക് വഹിച്ച മലയാള സിനിമയുടെ മാസ്സ് ഡയറക്ടർ   ജോഷി',\n",
       " 'വട കാണാൻ വന്നവർ ഞെക്ക് ലൈക്ക്',\n",
       " '100 k likes in 2 hr',\n",
       " 'any one 2019  ചുമ്മാ കിളി',\n",
       " 'dislike adichavarokea padam poi kaanu',\n",
       " 'i am a big mohanlal fanss',\n",
       " '233 ദേ മൂക്കുകുത്തി കണ്ടു പിടിക്കാൻ പോയ ആൾ മൂക്കുത്തിയും കൊണ്ട്   വന്നിട്ടുണ്ട് പെട്ടെന്ന് അത് തിരിച്ചുകൊടുത്ത് ആട്ടവും പാട്ടും നിർത്തണമെന്ന് അഭ്യർത്ഥിക്കുന്നു',\n",
       " 'രാജ കമ്മത്തിന്റെ ഫാൻസിന്റെ വക വിജയാശംസകൾ ദേവരാജ കമ്മത്',\n",
       " 'still in trending  mamangam ikkaa we r waiting ',\n",
       " 'sir telugu lo daping chesi riliez cheyyandi',\n",
       " '148 scene kanumbol thala karakiyath enikk mathram anoo',\n",
       " 'ആ സീരിയൽ കില്ലർ ആരാണാവോ കർത്താവെ ',\n",
       " 'give me good reason aah dialogue parayumbol sidil nilkkunnath prithvirajalla',\n",
       " 'തീയേറ്റർ ഇളകി മറിഞ്ഞ നിമിഷം  കുറത്തി  theatre exploded time song  mammoookkaaa',\n",
       " 'പീലി തിരുമുടിയുമായി മലയാളിയുടെ സ്വകാര്യ അഹങ്കാരം തിരശ്ശീലയിൽ വന്നപ്പോൾ സിനിമാ കോട്ടകൾ ഇളകി മറിഞ്ഞു',\n",
       " 'trailer kandal ariyam nalla oombiya padam aanunn',\n",
       " 'ട്രോൾ ഉണ്ടാക്കി കളിച്ച  ട്രോളൊളികൾ  ഒക്കെ ഇപ്പൊ  എവിടെ',\n",
       " 'ഈ ഡ്രൈവിങ്\\u200cലൈസൻസ് ഒരു ഒന്നൊന്നര ഹെവി ലൈസൻസ് ആവട്ടെ എന്ന് പ്രത്യാശിക്കുന്നു',\n",
       " 'endina  ithu pole abadhangalil chadunnad',\n",
       " 'shammi hero ada heromaster movie with a good messagemust watch moviemy rating 45fahad ikka soubin ikka shane bhaasi ningalokke kola maas allamarana maas aanu',\n",
       " 'കഞ്ഞി പ്രതീക്ഷിച്ചു വന്നവർക്ക് നല്ല മട്ടൻ ബിരിയാണി കിട്ടിയ ഒരു ഫീൽ  ഇജ്ജാതി ഐറ്റം ഹോ ആ സൈറ്റടി രോമം എണീറ്റ് നിന്ന് ദേ നോക്കിക്കേ',\n",
       " 'f f c യിൽ ഉള്ള ആരെങ്കിലും ഉണ്ടോ',\n",
       " 'dislike adikkan vendi kure peru keranindalla',\n",
       " 'katta waiting  maranamass  trailer',\n",
       " 'ഇപ്പോൾ തന്നെ  ഒരു  5പ്രാവശ്യം കണ്ടു',\n",
       " 'ഈ ടീസർ മലയാളത്തിലെ ആദ്യത്തെ 500k like നേടുമെന്ന് ഉറപ്പുള്ള മമ്മുക്ക fans like ചെയ്യുക',\n",
       " 'ഏട്ടനെ ഹണിറോസ്  റേപ്പ് ചെയ്യുന്ന സീൻ പൊളിക്കും',\n",
       " 'ഏട്ടാ  മാസ്സ്    വയ്യ  പൊളി ആണ്  no  words luv ഒരു ആയിരം ummmmaaaaaaaaaaaaaaaaaaaaaaaaaaaaaaaaaaaaaaa',\n",
       " 'മോഹൻലാലിനെ ഒരു മോഹൻലാലായി കിണുന്നുണ്ട് ഫ്രാൻജീയേട്ടനിലെമമ്മൂട്ടിയാകാൻ നോക്കിയതാ പറ്റണ പണിയെടുത്താൽ പോരെ',\n",
       " 'ഈ പാട്ട് ഇറങ്ങിയതിന് ശേഷം ഒരു പാട് പെണ്ണുങ്ങൾ മൂക്കുത്തിയതായി    കണ്ടു',\n",
       " 'a10 nte mass kanan vannavar addik oru   like',\n",
       " 'ende ponno 68 vayasaya oraluda body thanneyano ith  namichu ponnikkaaaa',\n",
       " 'padam heavy aanennu arinju trailer veendum kaaanam vannavar ivide like kkolim',\n",
       " 'mukkuthi okke pine kand pidikam ee padathil ikka undo ath para',\n",
       " 'nine film arkum venda matate arum agrahikunilla verutayalla malayalam film uyarcha ellate',\n",
       " 'e filim hit akanam  ethu malayala cinimaykku  puthiya energy akum',\n",
       " 'odiyan release inte ann harthal vechekunavan marude muhath nokki onnu kodukan thonniyavar like adi',\n",
       " 'katta waiting aanu makkale june 16th derick abraham entry',\n",
       " 'love frm kannada  we need kannada dub',\n",
       " 'എജാതി പടം jose പൊറിഞ്ചുന്റെ fan ആരെകിലും undo',\n",
       " 'മലയാളത്തിലെ  പൗരുഷത്തിന്റെ പ്രതികത്തിന്റെ പകർന്നാട്ടം ',\n",
       " 'kannante poomaram oru kolamakki ennitt ippo ee padam ingane',\n",
       " 'fahad oru rakshem illyaa  superb movie',\n",
       " 'nammde  chemban chettan kidu vinde fans undel aa button ang njekkpotticholiii ',\n",
       " 'acting ഒരു രക്ഷയും illa baki illathoke pinne',\n",
       " 'onnpodaaa challenge inne undo 1 hour 50 k likes annn  madhara rajj kalikann venda',\n",
       " 'ലാലേട്ടൻ and ഇക്ക ഫാൻസ് നീല പൂഷയ്  ഒരു 100 like',\n",
       " 'സുഗീതിന്റെ സിനിമയാണോ എന്നാൽ മഞ്ഞു മൂടിയ ഹൈറേഞ്ച് ലൊക്കേഷൻ നിർബന്ധമാ',\n",
       " 'mamooka unniyettan fans  like here',\n",
       " 'polich poli kure kalay nalla movie kanditt',\n",
       " 'കിടിലൻ പടം ആണ് ട്ടോ അല്ലേലും ഹൈപ്പ് ഇല്ലാതെ ഇറങ്ങുന്ന movies ആണ് ഇപ്പോൾ നമ്മളെ impress ചെയ്യുന്നത്',\n",
       " 'എവിടെയും തിരഞ്ഞു നടക്കേണ്ട മുഖത്ത് രണ്ടെണ്ണം പൊട്ടിച്ച് കണ്ണാടി കാണിച്ചു കൊടുക്ക് അപ്പോൾ കാണും മൂക്കുത്തി',\n",
       " 'ഒരു രക്ഷയും ഇല്ല നല്ല അടിപൊളി പാട്ട്  വിശ്വൽസ് അതിഗംഭീരം',\n",
       " 'മറിയം അവള് വെറ്തെ അങ്ങട് നിന്നാ മതി  അതെന്നെരു പെര്ന്നാളാ  നൈല ചേച്ചി തകർത്തടുക്കി',\n",
       " 'പല്ലവി അലകടലൊളി  ഉറുമി ഈ പാട്ടുപോലെ തോന്നിയവർ ഉണ്ടോ',\n",
       " 'trailer kandpo thnne film poi kaanan thonnindu',\n",
       " '4 mani avan wait cheyyunavar like adik',\n",
       " 'nalla trailer  ini ennathina padam kanunne',\n",
       " 'looks like netflix series oru film aayi coloring mach aavunnilla',\n",
       " 'fahad ikka  shain nigam randalum natural acting110 happy wedding filmile padammekuttyano',\n",
       " 'madhura rajakandadhil vechu adipoli thagarppan moviemammukka',\n",
       " 'fdfs trailer kandu ithu vareyum njanithu paranjittilla',\n",
       " 'njan oru katta ettan fan pakshe ikkayude ee unda pollikkum',\n",
       " 'pwlichh adukki mass trailer vere levell padamayirikkum katta support from an ikka fan',\n",
       " 'trailer kanndal arinjoode e padam  puliyakum ennu',\n",
       " 'mass enn paranja pora maranamassmammookka istham',\n",
       " 'trailer okke kalakki   but padam lag adippikkuooo oru chrya',\n",
       " 'വെല്ലുവിളി  ആണെന്ന്  കൂട്ടിക്കോ  ഈ റോൾ  ധൈര്യ പൂർവ്വം  ചെയ്യാൻ  ഒരു  നടൻ  മലയാളത്തിൽ ഉണ്ടോ',\n",
       " 'ithrem ammayi mar kidannu thulleettum masilaliyan entha masilu pidichirikkanath',\n",
       " 'agne aaro oraal alla nte ettan lalettan ',\n",
       " 'degraders step back   മമ്മൂക്ക',\n",
       " 'trailor kandappol padam flop aakum enn thooniyath enikk mathramano',\n",
       " 'wishwasich koode varunnavare geevan      kodutayalum samrakhikkum',\n",
       " 'aaahaaaa negative comment aayi kure pannikal vannallllloooo',\n",
       " 'ഈ പാട്ട് ഡിസ്\\u200cലൈക് ചെയ്തവരുടെ വീട്ടുകാരെ സമ്മതിക്കണം big salute',\n",
       " 'climax koodi kaanichirunenkil padathintey review parayarunnuu',\n",
       " 'iam tamil but i love malayalam',\n",
       " 'mohan laal ke saamne to to dusre sab actors fail ho gaye yaarkyaa acting ki he yaarnice movie',\n",
       " 'ithi varum rajavinta trailer matram iny pooram padathila',\n",
       " '312 ഈ ചിരി കാണാൻ വേണ്ടിമാത്രം വീണ്ടും വരുന്നവർ ഉണ്ടോ',\n",
       " 'swandam recordukal thanne thiruthunaa  nadan pulimuruganekal odane daivame',\n",
       " 'മമ്മൂട്ടി ഫാൻസ് എന്റെ ചാനൽ സബ്സ്ക്രൈബ് ചെയ്യുമോ  പ്ലീസ്',\n",
       " 'jbl headset vechu trailer kandavarundo enkil like idooo vere level',\n",
       " 'മലയാളത്തിന്റെ ഒരു രാത്സസൻ മണക്കുന്നു ഉഷാർ അവട്ടെ എന്തായാലും',\n",
       " 'mangeettu moongeetu povaan shenoyi vere janikanam',\n",
       " 'ഇത് ഏത് ഭാഷ ശിവനെ ഏത് ജില്ല ',\n",
       " 'lijo jose പേര് മാറ്റിയോ അതോ ജോഷി lijo jose നെ അനുകരിക്കുന്നതോ',\n",
       " 'trailer nalla iruku but onnum purila kerla green',\n",
       " 'trailer last seen onnu oorthu vecho',\n",
       " 'അച്ഛൻമർക് എനർജി കൊടുത്താൽ കുഴപ്പം അകും ഈജ്ഞതി',\n",
       " 'mookuthide director aan ee cinemayude director enn etre perk ariyam',\n",
       " 'മമ്മൂട്ടി reject ചെയ്ത സിനിമ അപ്പോൾ ഉറപ്പായും സൂപ്പർ ഹിറ്റ്  സുരാജ് ന്റ്റെ മുന്നിൽ പിടിച്ചു നിക്കാൻ കഴിയില്ല എന്ന് ഇക്കക്ക് മനസ്സിലായി അതാണ് ഇത് വേണ്ടെന്നു വെച്ചത്',\n",
       " 'ജയസൂര്യ ഫാൻസിന്റെ വിജയാശംസകൾ ദിലീപേട്ടാ  തൃശൂർ പൂരം ഡിസംബർ 20ന്',\n",
       " 'മഞ്ജു ചേച്ചിക് ഇരിക്കട്ടെ all kerala പൂവൻ കോഴി asosiation nte vaka ഒരു കുതിരപ്പവൻ ',\n",
       " 'മവനെ കോല ഗാൻഡിലെ ഇറുക്കെ കൊല്ലമേ വിടമാട്ടെ',\n",
       " 'നിനക്കിനി മലയാളം ഇൻഡസ്ട്രിയിൽ കിടന്ന് പോളയ്ക്കാൻ പറ്റുവോ എന്ന് തോന്നുന്നുണ്ടോ ബോസ്സേ 100cr വേൾഡ് wideചരിത്രമെഴുതി  മാമാങ്കം  ചരിത്ര നായകൻ ആണ് ചരിത്രം ആണ് ചരിത്രം  ആകും എന്ന് പറഞ്ഞത് അല്ലെ',\n",
       " 'lal jr making  kandapol ithil ara sherikm villian doubt ayii anik matrm anoo',\n",
       " 'film kande kazhinnitte trailer onnoode kaanumbool ore resam shoubin masss',\n",
       " 'അനുസിത്താര  എവിടെ   iam waiting',\n",
       " 'പ്രിയപ്പെട്ട ലാലേട്ടനെ നേരിട്ട് കാണാനും കൂടെ കുറച്ചു നേരം പങ്ക് വെക്കാനും ഒപ്പം നിന്ന് ഫോട്ടോ എടുക്കാനും പറ്റിയത് ഇട്ടിമാണിയുടെ ലോക്കേഷൻ വെച്ചാണ് ലാലേട്ടൻ ഇഷ്ട്ടം',\n",
       " 'തമിഴ് ത്രില്ലെർ സിനിമകൾ പാടി നടന്ന മലയാളികൾക്ക് ഇതാ ഒരു കിടു ഐറ്റം അഞ്ചാംപാതിര ട്രൈലെർ  ചാക്കോച്ചൻ മിഥുൻ മാനുവൽ കൂട്ടുകെട്ട് ഇത് പൊളിക്കും',\n",
       " 'വീണ്ടും തന്റെ ശബ്ദം കൊണ്ട് ഡബ്ബിങ് മികച്ചതാക്കി  വിനീതേട്ടൻ',\n",
       " 'joshi sureshgopi combo അച്ചായൻ movie വന്നിരുന്നെങ്കിൽ',\n",
       " 'hindi movie fan inte concept aanalo',\n",
       " 'etra pravishyam kandu ennariyila oro thavanem romanjam bgmdialogue',\n",
       " 'കുങ്ഫു പേര് പറഞ്ഞു വെല്ല റിവെന്ജ് കഥയായിരിക്കും',\n",
       " 'kidukkaaachi trailer machoooo   katta waitingggg',\n",
       " 'ഇത്രയും അടിപൊളി trailer ഇത്രയും കുറവ് subscribe  channel ൽ ഇടുന്നതാണ്  മലയാള സിനിമയുടെ വളർച്ച മുരടികുന്നത് ഇത്   എന്റെ മാത്രം അഭിപ്രായമാണ്   ',\n",
       " 'ഒരു ആവറെജ് ട്രൈലെർ  ഇത് കണ്ടിട്ട് ഹിറ്റ്\\u200c അടിക്കും എന്ന് യാതൊരുവിധ പ്രതീക്ഷയും ഇല്ല',\n",
       " 'pirates of the careebian kandavarkku othu koodaanolla nool',\n",
       " 'pokiriraja dialouge sema mass malaya super star mamooty',\n",
       " 'അന്നും ഇന്നും ഇനിയെന്നും ദിലീപേട്ടൻ ഉയിരാണ്വേഷപ്പകർച്ചയുടെ തമ്പുരാൻ ഒന്ന് മാത്രം ജനപ്രിയനായകൻ',\n",
       " 'l prithviraj  lalettanilude oru adaar item thanne kond vanno',\n",
       " 'storyline similar to hindi movie fan',\n",
       " 'ethu polikkum pinnalla',\n",
       " 'odiyanekaal kooduthal kanji vendivarum lucifarine',\n",
       " 'ithil comedy aanno udeshichathu  limitation manassilaakkunnathu nannayirikkum',\n",
       " 'adipoli ayitu undu nalla making ennu thonunu kanditu good luck to the team',\n",
       " 'pk ramdas nammude rajettan aanennu njn parajal nigalude abhiprayam',\n",
       " 'പാട്ടും ഡാൻസുമായി അഞ്ച് മിനുട്ട് കളയുന്നതിനും മുൻപ് കണ്ണാടിയിൽ nokkiyirunnel ഇതിന്റെ ഒക്കെ അവശ്യം ഉണ്ടാരുന്നോ',\n",
       " 'njaan ippo oru  83 thavana kandu',\n",
       " 'വിജയാശംസ കൾ  nerunnu 333 film magic film channel',\n",
       " 'പടം കിടുവാണ് ബോണി പറയാൻ പറഞ്ഞു',\n",
       " 'evidayokkayo oru aada movie touch thonniyathu enikku mathram aano',\n",
       " 'ith kazhinjittirangiya karikku video vare 1m adichu',\n",
       " 'ethu fan made trailer video aanu  fake',\n",
       " 'mohanlal tamilnadu fans  like here',\n",
       " 'promising trailer  ഈ അച്ചായൻ എന്ന് വിളിക്കുന്ന ഊളകൾക്ക് പോയി ചത്തൂടെ  എന്തൊരു വെറുപ്പിക്കൽ ആണ്  തെറിവിളി വേറേ ദാരിദ്ര്യം',\n",
       " 'ഒരു കാര്യം ഉറപ്പിച്ചു ഈ പടം മലയാളി നശിപ്പിക്കുംtrailer ന് എന്താ supportഎന്തായാലും നല്ലത് വരട്ടെ',\n",
       " 'auto like  16k views 79k likes',\n",
       " 'pulimurugante kurachu scene copy adichu nice aayittu',\n",
       " 'manju checgi murder cheytit kozheede mandel veykanathano',\n",
       " 'eee padam bann hit aakatte from die hard mamookka faan',\n",
       " '80 age ലും ദാസേട്ടന്റെ ശബ്\\u200cദം അപാരം തന്നെ വേറെ ആർക്കും ഈ വയസിൽ ഇങ്ങനെ പാടാൻ കഴിയില്ല ആരെങ്കിലും ഉണ്ടോ',\n",
       " 'eeee paheyente sthanethmohanlal annn 70am vayesill eee padem cheythirinnenkilledukampallikatilekh lal ettaneallenkil dehippikam',\n",
       " 'mamukka i  like  you',\n",
       " 'mammmokhaaa 69 vayyas ayye annetum look entaa ponooo',\n",
       " 'പാട്ട് ബോർ ആണ്  ഒരു 8 adi  ഉയരം ഉള്ള ചേച്ചിയും കുറേ വിഗ് വച്ച ചേട്ടന്മാരും ആ ലിറിക്\\u200cസ് എഴുതിയ ആൾക്ക് ഒരു നാരങ്ങാ വള്ളം എങ്കിലും മടിച്ചു കൊടുക്കണം ',\n",
       " 'ലാലേട്ടന്റെ ഇട്ടിമാണിക്ക് മമ്മൂക്ക ഫാൻസിന്റെ വിജയാശംസകൾ',\n",
       " 'trailer vere level ayittum response pora',\n",
       " 'stephene kaanan nale aarokke varunnundee',\n",
       " 'enikkith vare driving license kittiyittilla naalu thavana h test thottu anjamathe thavana h kitti pakshe road test kittiyilla 8 aadyame kittiyirunnu',\n",
       " 'ഒരു ഇതിഹാസ കഥയ്ക്ക് വേണ്ട പാട്ടുണ്ടാക്കാൻ ഇത്രയക്ക് ക്ഷാമമാണോ',\n",
       " 'pezhacha padamithu kaanan ethu baasha padikano ntho variety aakan aayirunnel vere nthelum cheyarnuuu',\n",
       " 'ഇതിനും കയറി dialiko എന്തുവാടെ നിന്റെ ഒക്കെ നിലവാരം ikka',\n",
       " 'ഇക്ക ഫാൻ ആണ്  കുറച്ച് വർഷങ്ങളായി ലാലേട്ടന്റെ ഒരു പടത്തിനു കാത്തുനിൽക്കുന്നത് ഇല്ലാത്തത് പക്ഷെ ഇതങ്ങോട്ട് ബോധിച്ചു സംഭവം കളറായിട്ടുണ്ട്  ഈ ഓണം ഇട്ടിമാണിക്ക് സ്വന്തം എന്ന് പ്രതീക്ഷിക്കുന്നു  ഓണാശംസകൾ',\n",
       " 'avalde pooroke adich pottichittundavum valla kollasangavum ',\n",
       " 'al veruppikkal mammotty ude vere oru adipoli veruppikkal padamayirikku ith',\n",
       " ' karikku kondoyi ketto sed',\n",
       " 'guys ഷൈലോക് ടീസർ കണ്ട ഓളം കിട്ടുന്നില്ല ട്രൈലെർ കട്ട്\\u200c ഇട്ടവൻ പോരാ  അതിലും നന്നാകേട്ടതായിരുന്നു  ഇനി ഇതും പറഞ്ഞു അവാന്മാർ കാളിയക്കോന്ന എന്റെ പേടി',\n",
       " 'poli film aanu kandt veendum theartil poi kaanaaan thonum',\n",
       " 'ഇപ്പോഴും ഈ  ട്രൈലെർ റിപീറ്റ് ചെയ്തു കാണാൻ ഇവിടെ വരുന്നവർ ഉണ്ടോ',\n",
       " 'ഫഹദ് അഫ്രിക്കൻ ഗേൾ ഫൈറ്റ് സീൻ repeat adichu കണ്ടവർ like അടിച്ചെ',\n",
       " 'pls support me pls       my channel subscribe pls pls',\n",
       " 'kandilenki venda kidu whatsapp status',\n",
       " 'siddique ഇല്ലാത്ത ഒരു പടം പോലും ഇല്ലല്ലാ ഇപ്പൊ   teaser kandappo padam  pokkiri raja rajamanikyam  rajathi raja ellam mix annu ennu thonnunu',\n",
       " 'trailer valare short aayipoyi enna abhiprayakkar ivde come onbtw kidu trailer',\n",
       " 'bilal john kurishinkal  john abraham palakkal',\n",
       " 'ingerum verum myran aan padukilavan mammooty myran',\n",
       " 'pwoli  ikka ningalu vere leval aanu',\n",
       " 'mamookkakk abhinayam ariyilla enn paranjal adhyam chirikkunnavar ivide like',\n",
       " 'adipoli fdfs thanne kaanum pulimurugan onnum ithite athra  varathilla katta waiting',\n",
       " '2003 ലെ നമ്പർ 1 വമ്പൻ ഗ്രോസ്സർ  bb ബാലേട്ടൻ ഇറങ്ങിയിട്ട് ഇന്നേക്ക് 16 വർഷം അന്ന് തന്നെ ഏട്ടന്റെ  ക്ലാസ് ഉം മാസ്സ് ഉം ചേർന്ന ഒരു കംപ്ലീറ്റ് എന്റർടൈൻമെന്റ് മൂവിയുടെ trailer ഉം  we are waiting lalettaaaa    ഒപ്പം വരുന്നവർ ഒന്ന് വിയർക്കും ഇട്ടിച്ചായന്റെ ഒപ്പം എത്താൻ   fdfs locked',\n",
       " 'മോശം  പാട്ട്  ആണ് വരികൾ  ഒരു  നിലവാരവും  ഇല്ല ഇതുപോലുള്ള  ബിഗ്  ബഡ്ജറ്റ് ചരിത്ര  സിനിമ  പിടിക്കുമ്പോൾ  ഊള  പാട്ടുകളുടെ  ആവിശ്യമേ  ഇല്ല',\n",
       " 'ee vesham cheyan pattiya 2 malayalam actor mare ollu  athu ikka prithviraj  sheriyannengil adi like',\n",
       " 'ചാക്കോച്ചന്റെ ഈ കിടിലൻ പടത്തിനു എന്റെ വിജയാശംസകൾ',\n",
       " 'കിടക്കട്ടെ എന്റെ വക ഒരു കുതിരപവൻ   fahad   waiting',\n",
       " '050 aa chiri  mass  poli bgm',\n",
       " 'ഞാനും ഒരു ഫാൻ ആണ് മമ്മൂക്കയുടെയും ലാലേട്ടന്റെയും അമിതാബ് ബച്ചന്റെയും',\n",
       " 'ഒരു പെണ്ണ് രാത്രി 1230 നു നടുറോഡിൽ 4 ചെറുപ്പക്കാരുമായി കെട്ടി പിടിച്ചു ഫ്രണ്ട്ഷിപ് നടത്തുന്നത് ഈ ഊള പടത്തിലേ പറ്റൂ',\n",
       " 'trailer varumboyekkum ethu naayinte makkalaa dislike adikene',\n",
       " 'aa teasernte athra pora villante name oru punch illa amar',\n",
       " 'ഈ മച്ചാനു  cris gale ന്റെ ഷേപ്പ് തോന്നിയ എത്ര പേരുണ്ട്',\n",
       " 'all the best unda movie and mammookka from all kerala kunjako boban fans',\n",
       " 'ente ethra kali ne kandittundu eee odukkathe kali koodii ne onnu kaaanu laletttaaaaa',\n",
       " 'machaane ith polikkumittichante vaka oru sample vedikett maathramini theater pooraparambaakkkaanittichan oru varavukoodi varunnundenn paranjekkkittimani',\n",
       " 'like only for vidya ji vidya jiyuda puthiya paattinayi kathirikuvarunu ',\n",
       " 'കുറുപ്പച്ചൻ  ഇക്കയുടെ കഥാപാത്രങ്ങളിൽ തന്നെ മറക്കാൻ ആവാത്ത ഒരു അനുഭവം ആയിരുന്നു അത്',\n",
       " 'ippam mazha kalamayond mannira nallanam kuthikunund  tovino ippam velland kuthikunnu',\n",
       " 'ജോഷി സാറിന് തെറ്റിയില്ല കാട്ടാളൻ പൊറഞ്ചുവായി മമ്മുട്ടിയേക്കാൾ എന്ത്കൊണ്ടും ബെസ്റ്റ് ജോജുതന്നെ',\n",
       " 'adipoli vere level  aayttam ethumathi fdfs polichadukkan',\n",
       " 'mere naam ka kachra karo sab mil k',\n",
       " 'looks like a visual treat 0040',\n",
       " 'shylock vs bigbrother ആരു  ജയിക്കും',\n",
       " 'jayasurya entry ulla bgm   arjun reddy pole arkenkilum thonniyoo',\n",
       " 'keerthi ne kaalum enik ishtam nammade clasile jaison ile avn nine odukathe nottattaaacute natural kutty',\n",
       " 'odiyanekaal kooduthal kanji vendivarum lucifarine',\n",
       " 'കുഞ്ഞാലി മരക്കാർ അറബികടലിന്റെ മുൻപ് ഒരു കിടിലൻ ഐറ്റം',\n",
       " 'pwoli pwoli neslin mwol verthe scn scn',\n",
       " 'ജനുവരി റിലീസിലെ തട്ടുപൊളിപ്പൻ മസാല മൂവി shylock ആണെന്ന് ഉറപ്പായ സ്ഥിതിക്ക് ഇനി വേണ്ടത് ഒരു ക്വാളിറ്റി ത്രില്ലെർ മൂവിയാണ്അത്  ബിഗ് ബ്രദർ  ആയിരിക്കട്ടെ എന്ന് ആഗ്രഹിക്കുന്നു',\n",
       " 'anusithaaraye kaanan veendi trailer kandavar ivide like cheythooli',\n",
       " 'padam kandu kollaam pakshe chila idangalil lag und ennu eniku thoni',\n",
       " 'വീണ്ടും വെള്ളിത്തിരയിൽ ഞങ്ങൾടെ എസ് എഫ് ഐ പിള്ളാര് പൊളിക്കും ട്ടാ',\n",
       " 'chirstiyanikaludeedayil avante  peru lucifer    adipowlidialog    ',\n",
       " 'even youtube vlogers have better editing',\n",
       " 'ജോജു ചേട്ടൻ മാസ്സ്after ജോസഫ്  കാട്ടാളൻ പൊറിഞ്ചു',\n",
       " 'nyan lalettan faanannu pakshe stylishaayitttu ijjathi padangal chyyan ikkakku kazhiyullu',\n",
       " 'അപ്പൊ ഇതൊരൊന്നൊരാ മൊതലാണല്ലേ  suraj ആണ് നടൻ ന്ന് തോന്നുന്നു',\n",
       " 'എല്ലാ കമെന്റ് തൊഴിലാളികൾക്കും അഡ്വാൻസ് ഹാപ്പി ക്രിസ്തുമസ് and ന്യൂ ഇയർ',\n",
       " 'മാമാങ്കം പ്രേത സിനിമയാണോ ഒരുപാട് വടകൾ കാണുന്നുണ്ടല്ലോ',\n",
       " 'ഇതുപോലേ ഒരു ഐറ്റം മലയാളത്തിൽ ഒന്നേ കാണു',\n",
       " 'psychoo ഷമ്മി വേറെ level  ഷമ്മി ഹീറോ ആടാ',\n",
       " 'eee moviel nayakane nayika eduthu madiyil eruthunna seen undenna thonnunne athinavum nayikaykku ethra hight',\n",
       " '100 kodi 200 kodi  alla 500 kodi aayirikkum',\n",
       " 'എന്തോന്ന് ഇതൊക്കെ നശിപ്പിക്കല്ലേ ഇമ്മാതിരി പാട്ടുകൾ ഇട്ട് che നശിപ്പിച്ചു',\n",
       " 'after neram',\n",
       " 'eദ്സംഘികൾ കാണുമോ എന്ന് സംശയമാണ് കാരണം  മോഹൻലാൽ മരക്കാർ ആയിട്ടല്ലേ  അഭിനയിക്കുന്നത്',\n",
       " 'variety story aanenn tonunvar like adi',\n",
       " 'അവസാനം മമ്മൂക്ക വരുമെന്ന് വിജരിച്ച് ചമ്മിയവർക്ക്  othucheranulla നൂൽ നിലം മുക്കിയലും',\n",
       " '11m views aayo ennu nokkan vannavarundo',\n",
       " 'ഇന്ത്യൻ  സിനിമയ്ക്ക് മലയാളം സമ്മാനിച്ച ഇതിഹാസതാരകം മമ്മൂക്ക ഇക്കയെ സ്നേഹിക്കുന്ന ചങ്കുകൾ എല്ലാരും ഒന്നിങ്ങു വന്നേ ',\n",
       " 'aiwaaa aaa last scene ente ponney ejjaathi trailer',\n",
       " '1m views in 19 hrs 2m views in 4 days',\n",
       " 'padam oru horror movie akkamarnnuuu kaanunnavar koodi pedikanarnu',\n",
       " 'swasu   മുത്തേ all  the best  ഞങ്ങളുടെ ച ങ്കിടി പായ ടwasu ന് എല്ലാവിധ ആശംസകള് love you  too',\n",
       " 'tamilnadu megastar fans like pannu',\n",
       " 'nivin pauliku pattiya role allaaa kanditu oru avg pragadanam',\n",
       " 'real video song eragiyappa chalardekka vayaadanj',\n",
       " 'ithoru powli powlikkum ikka marana mass',\n",
       " 'full song available on  jiosaavn     gaana',\n",
       " 'ithu polulla padam ikkanekkonde abhinayichu kanikkan pattu',\n",
       " 'poli pattu e kalkumpozhu intaa monjatii orma varum',\n",
       " 'laletttan thadi okkke kurach spr look',\n",
       " 'visuals choreography കൊള്ളാം പക്ഷെ പാട്ട് മഹാബോർ',\n",
       " ' l       abraham qureshi',\n",
       " 'ഉറപ്പായും മനസിന്\\u200c കുളിർമ നൽകുന്ന ഒരു നല്ല ഫീൽ ഗുഡ് മൂവി ആയിരിക്കും ഇത്\\u200c',\n",
       " 'lokathilie ettavum mikacha nadan',\n",
       " 'ജല്ലികെട്ട് ന്റെ hangover മാറിവരുമ്പോഴേക്കും ഇതാ മൂത്തോന്റെ വരവ്  മലയാള സിനിമയുടെ range ഒക്കെ മാറുകയാണല്ലോ  mollywood',\n",
       " '17k views 112k likes  youtube are u drunk',\n",
       " 'ഗീതു മോഹൻദാസ്  ഒരു ഗുണ്ട് എടുക്കട്ടെ',\n",
       " 'അനു ചേച്ചി ഈ ഡ്രസ്സിങിലാണോ പടത്തിൽ',\n",
       " '   ഷൈലോക്കിനേ വലിചു കീറി ട്രെ൯ഡിൽ 1',\n",
       " 'ചാക്കോ ച്ചന്ടെ  ഒന്നൊന്നര  വരവുണ്ട്  മോനെ',\n",
       " 'മൂക്കുത്തി അല്ലെ പോട്ടെ നമുക്ക് വേറെ ഒരു ഉള്ളി വെടിക്കാം',\n",
       " 'ഇത് dubbed voice ആണോ ഹിന്ദി നിവിൻ തന്നെയാണെങ്കിൽ പൊളിച്ചിട്ടുണ്ട്',\n",
       " 'ettante look oru rakshayilla chumma kasarii',\n",
       " 'mamooka mas alla marana mas aan',\n",
       " 'oru saada nalla naatin purathe kadaathre ulluaenike ishtta pettu',\n",
       " 'മിഥുൻ മാനുവൽ തോമസ്   അ അക്ഷരം വെച്ച് മാത്രമേ സിനിമാ പേരിടൂ എന്ന് നേർച്ചയുണ്ടോ മിസ്റ്റർ  1ആട് ഒരു ഭീകരജീവിയാണ്  2ആൻമരിയ കലിപ്പിലാണ്  3അലമാര  4ആട് 2  5അർജന്റീന ഫാൻസ് കാട്ടൂർകടവ്  6അഞ്ചാം പാതിര',\n",
       " 'pratheekshakalkum appuram kaatti thannu pratheeksha orupaad uyarthu prithivaraj enna nammude malayalikalude swakarya ahangari',\n",
       " 'fight scene kandupidikan peter hein vallandu bhudhimuteenu thonunu pulimurugan poleye illa',\n",
       " 'ജനപ്രീയ നായകന്റെ my santa വലിയൊരു വലിയൊരു വിജയമാകും എല്ലാവിധ വിജയാശംസകളും നേരുന്നു  love from megastar mammootty fans mamangam from tomorrow',\n",
       " 'ee paatu kiduvaane arum kaana hridhayaragamathil urukhi naanonnayi ',\n",
       " 'അതു മാത്രം ഞങ്ങളാരും തന്നെ കണ്ടില്ല കാണാത്ത മറ്റു പലതും കാണുകേം ചെയ്തു',\n",
       " 'മൂക്കുത്തി ഒഴികെ ബാക്കി എല്ലാം കണ്ടു ',\n",
       " 'telegramൽ വരാൻ വേണ്ടി കാത്തിരിക്കുന്നവർ ലൈക് അടിക്കുക',\n",
       " 'nta daivamme ponnu laletta  ningal muthannu',\n",
       " 'freezerinakathulla scene kandappo arkenkilum hollow man film orma varunnundo',\n",
       " 'egadhessam pulimurugan model thonniyavar അടിക്ക് മോനെ like',\n",
       " 'jayan muthal joju varejoshiy sir marana mass anu',\n",
       " 'mamookkante adutha pappada vandi varunneyini trollers njan oru prithvi fan anuenikk marupadi ayitt laalappane theri vilichal enikk verum mudi anufor me mammunni is a chaliyan and laalappan is a valiyan',\n",
       " 'pulimurugam team alle athinta oru chaaya evdokkeyo ondikka superman punch pwliyee',\n",
       " '2 nd trailer punch in koodan pokunne ullu mone ennu thonnunnavar ivide like',\n",
       " 'dislike chydha appa illaathavanmmaar bloody fools',\n",
       " 'nammal aaytt arudeyum nenjath kerarilla siree',\n",
       " 'hpy brthday mammookka 68 old young man',\n",
       " 'മാമാങ്കത്തിന് കിട്ടിയതിന് തുരിച്ചടി ആയിട്ട് മമ്മൂക്ക എത്തിയട',\n",
       " 'അജയ് വാസുദേവ്        രാജാധിരാജ       മാസ്റ്റർപീസ് രണ്ടും  all time blockbusters    ഇനി ഷൈലോക്കിന്റെ വമ്പൻ ഹിറ്റിനായി കാത്തിരിക്കുന്നു    ഇതിനോട്  മുട്ടാൻ big brother ന് പറ്റുമോ എന്ന് തോന്നണില്ല ',\n",
       " 'ഇതിന്റെ background music kittan valla vazhiyum undo kidilan',\n",
       " 'ikka mass kidilan  oru വെറൈറ്റി look  എന്തായാലും polikum',\n",
       " 'കൊല ഘാണ്ടിലിരുക്ക് മകനേ കൊല്ലാതെ വിടമാട്ടെshylock locked fdfs',\n",
       " 'manmagathil mammootty’s character name ariyano makkale   it’s kunjali marakar',\n",
       " 'padam kand kazhinjathin shesham vannavar like adikk',\n",
       " 'fdfs ഉറപ്പിച്ചവർ ഇവിടെ ലൈക്\\u200c ചെയ്തിട്ട് പോയാ മതി',\n",
       " '2countries okke pole kurch ayuse kuttan pattiya cinemaaaya mathi',\n",
       " 'ammo ntha ppo ethu oru rakshayum ella',\n",
       " 'maoist alla avnte achn vare namml adich odikkum ikkaaa',\n",
       " 'im from czechoslovakia im a fan of mohanlal muruka',\n",
       " 'കിടു  കിടുവേ  ഇനി വന്നങ്ങ് അടിച്ചു പൊളിച്ചാൽ മതി',\n",
       " 'ഇ 68 കാരൻ 2020 ഭരിക്കും കട്ട  വേതിങ്   love you ikka',\n",
       " 'അത്കൊണ്ട് ഇട്ടിച്ചന്റെ വക ഒരു സാമ്പിൾ വെടികെട്ടു കൂടി  ഈ ഓണം പൊടിപൊടിക്കാൻ കിടിലൻ നമ്പറുകളുമായി ഇട്ടിച്ചായൻ വരുന്നു  ലാലേട്ടൻ fans like',\n",
       " 'moonjiya warier tamilzhamarude oookal kazhinu parakoothi',\n",
       " 'aaaa mundum pookal shirtum vere arund ithra look',\n",
       " 'അപ്പ ഇതാണല്ലെ ഈ തൃശ്ശൂർ ഭാഷ മ് കൊഴപ്പമില്ല പോസിറ്റീവ് കിട്ടിയാ രക്ഷപ്പെടും മുട്ടണ്ടത് അച്ചായനോടാണ് പിന്നെ രാജുവേട്ടനും നല്ല കട്ട സ്റ്റ്രോങ്ങാണ് ആന്റണീടെ മാരക തള്ള് മാത്രം ആകാണ്ടിരുന്നാ മതി all the best team ഇട്ടിമാണി',\n",
       " 'ദിലീപ് ഫാൻ ഇവിടെ കാമോൺ    ഈ കമന്റ് വന്നോ സേട്ടാ',\n",
       " 'ഈ പട്ടം 100കോടി അടിക്കും എന്ന് പറയുന്നവർ ഒരു like അടിച്ച് പോയേക്ക്',\n",
       " 'എവിടെ വർക്ക്\\u200c ചെയ്യുന്നേ പാർട്ണർഷിപിൽ ഒരു തേപ്പു കടയുണ്ട്  ഷമ്മി ഹീറോ ഡാ  ഫഹദ് ഇക്ക സൂപ്പർ',\n",
       " 'വളരെ അച്ചടക്കത്തോടെ ചെയ്ത ഒരു ട്രാൻസ് ജൻഡർ വേഷം ഈ സിനിമയിലേ മമ്മൂക്കയുടെ ഏറ്റവും വിത്യസ്തമായ അഭിനയം  അല്ലേലും ഇതൊക്കെ ആരോട് പറയാൻചില ആളുകൾക്ക് ആകെ അറിയുന്നത് മീശ പിരിക്കാനും മുണ്ടുപറിച്ചു അടിക്കാനുമല്ലേ',\n",
       " 'tippikal kaine master editing pole und  editing ariyavunna nalla ale kittille boss enn ezudiyapol thanne manasilae',\n",
       " 'njan oru laletan fan anu but ee movie namude abimaanamaanu enthayalum mega hit avan prarythikkunnu',\n",
       " 'heavy look chakochaaaee oru padam koduthaneaa full image marum',\n",
       " 'song nu vendi  wait cheyyuna ikka fans like adi ',\n",
       " 'മലയാളികള്ക്ക് ത്രില്ലർ പറ്റില്ല എന്ന് പറയുന്നവര്കൈ  അഞ്ചാം പാതിരാ',\n",
       " 'super  tamil nadu rajini fan',\n",
       " 'dislike button adich kalikunaa tmzod pucham matram',\n",
       " 'indian cinema living legend mollywood king  universal hero  mohanlal   എട്ടൻ fans ഇങ്ങ് പോര് like ഇട്ട് പോയാൽ മതി',\n",
       " 'kandet valiya sugam ella haa nokkam',\n",
       " 'nink ini malayalam industryl kedann polakkan pattuo bosse waiting for mammookkas reply',\n",
       " 'pattu   kanda  kondu തീരുമാനം  aayi pada   kanand  ennu',\n",
       " 'ee role mammookkak aahnnu cherunathu anu arinjalalettan fans right now kurupottikal',\n",
       " 'ഇത് ഒരു ബാബ കലൃണി പടം തന്നെ യാണ്',\n",
       " 'പെയിൻറിംഗ്അറിവുകൾ ഞങ്ങളുടെ ചാനൽ സന്ദർശിക്കുക അതുപോലെ സബ്സ്ക്രൈബ് ചെയ്യാമോ',\n",
       " '156 ee seen kand romancham vannavar  adichek',\n",
       " 'ithrayum predisha koduthittu adutha odiyan akathirunna mathiyayirunnu',\n",
       " 'rajakannmar padanaiykum',\n",
       " 'മോഹൻലാൽ ന്റെ മാർഗ്ഗം കളി കിടുക്കി 302',\n",
       " '2014 ൽ ബാല്യകാലസഖിയ്ക്ക് ശേഷം 5 വർഷത്തിന് ഇപ്പുറമാണ് യേശുദാസ് മമ്മൂട്ടി chithrathil paadunnathu2019 ലെ top most song എന്ന് തന്നെ പറയാം lyricsmusic direction and singing are outstanding   കാരണം ഈ വർഷം ഇത് വരെ റീലിസ് ആയ പാട്ടുകളിൽ സംഗീതആലാപന മികവുകൾ കൊണ്ട് ഇനിയും വർഷങ്ങൾ ഓർക്കപ്പെടുന്ന പാട്ടുകൾ 1 പോലുമില്ല',\n",
       " 'venda kutaaa urutaaam  tovino ishtam katta waiting',\n",
       " 'mamooka ningal vismayipichu kontirikaanu ee prayathilum',\n",
       " 'im prithiviraj fan from tamilnadu love it',\n",
       " 'ആ ചിരി എങ്ങനുണ്ട്',\n",
       " 'ആർക്കും വേല ചെയ്യാൻ പറ്റാത്ത കാലം അടുത്ത് വരുകയാണ്',\n",
       " 'minimum 3 thavana kanathathayi arum kanilla',\n",
       " 'allatha idil aval vakkilina kandathokka veruthaa aaayinilllaaaaa',\n",
       " 'മവനെ ഗോള ഗാൻഡിൽര്ക്കു കൊല്ലാമെ  വിടമാട്ടെ',\n",
       " 'shine nigam fans adi like',\n",
       " 'മൂക്കുത്തി കിട്ടി ഡയറക്ടറുടെ  കയ്യിൽ ഉണ്ട്',\n",
       " 'trailer search cheythitt varunnilla channel il keriyanu kandathu trending lum varunnillallo',\n",
       " 'mookuthi enn paranjaal  pand undaayirunna oru kala roopamaann',\n",
       " 'jelli kettinte trailer bgm pole ind',\n",
       " 'matte വയസ്സായ താടി വെച്ച ആള്\\u200c anson paul aano',\n",
       " 'theatoril climax maathram kaanichal mathiyallo eny any ways good trailor',\n",
       " 'ariyikkendavare ariyicho malayalathinnu oru ejjathi itam verunnondannu',\n",
       " 'ithokke kanumbozha degreek pondaarn ennu thonnunatu',\n",
       " 'entho ishtam aanu ellarkum ee ittimaniye',\n",
       " 'എന്നാ എനർജിയാ ഈ പ്രായത്തിലും മമ്മുക്ക ലിന്റോ അണ്ണാ pwoliye',\n",
       " 'മലയാളത്തിലെ രാക്ഷസൻ ആവാനുള്ള എല്ലാ ലക്ഷണവുമുണ്ട്',\n",
       " 'ningalokke malayala cinemayude abhimanam ellavarum polichu txsss',\n",
       " 'views  likes yetra aayenn nokkan kerunnavar undo ',\n",
       " 'ജോഷി എന്ന പേര് കണ്ടപ്പോൾ രോമാഞ്ചം അടിച്ചവർ ഉണ്ടോ',\n",
       " 'rajuvettan chunkalla chunkidipaan adi makalle like neela adi chunk കളെ',\n",
       " 'padakkam loading ingerkku ithu pathivaanalle oru hit padam eduthaal pinne moonu naalu chavarukal edukkum eg drama neerali odiyan',\n",
       " 'romanjam ikka predhikshichadh pazham kanjiya but kittiyadh biriyani powli',\n",
       " 'ഇപ്പോൾ വന്നത് ക്\\u200cളാസ് ഇനി വരാനുള്ളത് ഒരു ഒന്ന ന്നര മാസ് ',\n",
       " 'malappuram jillakkarude padam malappuram jillakkar adi like',\n",
       " 'ഏട്ടൻ്റെ പിള്ളേർ like അടിക്കൂfan power nokkam',\n",
       " 'no malayalam film actor like mammokka always image breaking  raajamanikyam unda and now maamangam',\n",
       " 'nalla oru thriller predishikunnavar like adikke',\n",
       " 'trissur pooram mathramalla nalla  terror gundayisom ulla naadanu trissur ennu arkelum ariyo',\n",
       " 'athoru valya kathaya mone paranju thudangiyaal oru 1030kollathe charithram parayendivarum',\n",
       " 'today is my birthday enik oru 10 like tharavo',\n",
       " 'ikka and unni mukundan  nalla combo',\n",
       " 'eth kandit nere poi pulimurugante trailerum onn kandek 2 ilum enthelum vethyasom undo',\n",
       " '192 k viws 196 k like',\n",
       " 'trailer ishtapettu like ittitundu       june 14 kanam     ',\n",
       " 'ടോവിനോ ഇച്ചായൻ ഫാൻസിന്റെ എല്ലാവിധ ആശംസകളും ഇട്ടിമാണിക്ക് നേരുന്നു',\n",
       " 'manju chechiye jeevanu thulyam snehikkunnavaronn like adikk',\n",
       " 'namada channel suscribe cheyyooo ikkate valya aradhakan aneee',\n",
       " 'ജോഷി സാറിന്റെ ഒരു തിരിച്ചുവരവാകട്ടെ ഇത് ',\n",
       " 'eppam samayam 120 am 4million views 230 am akumbozhelum akumosaudi time',\n",
       " 'ഇതൊക്കെ മമ്മുക്ക പറഞ്ഞാൽ പൊളിക്കും   ',\n",
       " 'മഞ്ജു വാരിയർക്ക് 2019  ഏറ്റവും മികച്ച വര്ഷമായിരിക്കും 90കളിലെ പോലെ back to back  blockbusters',\n",
       " 'etta padam kandu oru rakshayillatta another 100cr loading',\n",
       " 'superayitunde pattu kandu kili poyavar ivide like adik',\n",
       " 'nice',\n",
       " 'you tube hang ayo views kanikkunnillallo',\n",
       " 'എനിക്ക് അവളെ പ്രേമിക്കാൻ ആണ് രൂപക്കൂട്ടിൽ എടുത്തു വെക്കാൻ അല്ല',\n",
       " 'പറ്റുന്ന പണിക് നിന്നാൽ പോരെ ലാലേട്ടാ തത്തുമ്മ പാത്തുമ്മ',\n",
       " 'mukil totte kanichitanomukutti kandillannu paranjathe vattanalle',\n",
       " 'trailerinayi ravile 11 mani muthal ivde kuthiyirikkunnavarundo',\n",
       " '33k kurugal kanunnylllle dislike duranthngal pyaavam lavanmarude pramughanu youtube views illathente sangadam aavum',\n",
       " 'bro katta waiting aane enna padam release aavaa   royal mech  entey ponnu  chetta ee onathine erakummo',\n",
       " 'sharafudheen trailer lu ilyaalo  athinartham vilian avan anenn aanno  ',\n",
       " '108 st pius x kuttikanam        uyir',\n",
       " 'മൂക്കുത്തി  കുണ്ടാമണ്ടി  എടുത്തോണ്ട് പോടെയ്',\n",
       " 'എന്നെ ആര് സപ്പോർട്ട് ചെയ്തോ അവനെ ഞാൻ സപ്പോർട്ട് ചെയ്യും',\n",
       " 'songnekal pwoli comments aanu chiripich kollan aayit',\n",
       " 'eettante kannil koodi lesham theeppori vannirunnel onnoode policheene uff',\n",
       " 'ho aaa bgm mammookka ithu oru pwoli pwolikkum',\n",
       " 'driving license ഇല്ലാത്ത എത്ര പേർ ഈ ട്രൈലർ കാണുന്നുണ്ട്  സിനിമ വൻ ഹിറ്റാവട്ടെ',\n",
       " 'കമന്റ് കണ്ട് ചിരിച്ചു ഒരു വിധത്തിൽ ആയവർ ഒരു ലൈക് തായോ',\n",
       " 'ith polikkum',\n",
       " 'താൻ ഇനി ലൈസൻസ് എടുത്തിട്ട് വണ്ടി ഓടിച്ചാൽ മതി സുരാജ് കിടു',\n",
       " 'tiyaan  kammara sambhavam   lallettan fance  like here',\n",
       " 'ഇത് ആരും ശ്രദ്ധിച്ചില്ലേ  059 നിനക്കിനി മലയാളം ഇൻഡസ്ട്രിയിൽ കിടന്നു പൊളക്കാൻ പറ്റുമെന്ന് തോന്നുന്നുണ്ടോ ബോസെ',\n",
       " 'donmax പൊളിച്ചു   വെടിക്കെട്ട് ട്രൈലെർ അജയ് കീ ജയ്',\n",
       " 'adhikam show kaanikkanda odiyan oruma undallo alle',\n",
       " 'ഒരു മടിയും കൂടാതെ എന്നും സപ്പോർട്ട് ചെയ്യുന്ന എല്ലാ ചേട്ടന്മാരും  ചേച്ചിമാരും ഞങ്ങളുടെ ഈ കുഞ്ഞു സംരംഭം കൂടി ഒന്നു വിജയിപ്പിച്ചു തരണേ',\n",
       " 'ee padathien ethra kali aaiiyalum mammuni enn parayunna nadante oru padathinum ithinte collection record thakarkan pattitilanthin pakuthi polum ilaaa',\n",
       " 'apppo hero aaranu',\n",
       " 'എന്റമ്മോ ഈ അസുരൻ പലതും അടിച്ചു തകർത്തിട്ടെ കളം വിടു എന്ന് തോന്നുന്നു',\n",
       " 'evidayokkayo oru aada movie touch thonniyathu enikku mathram aano',\n",
       " 'sreenath bhasi aan villain enn thonunnavark like adikkanulla comment',\n",
       " 'ഈയിടെ ഇറങ്ങിയതിൽ വെച്ചു എത്ര കണ്ടാലും കേട്ടാലും മതിവരാത്ത ഒരു പാട്ടു ശെരിക്കും മമ്മൂക്കയോടുള്ള ബഹുമാനം കൂടി വരികയാണ് അടിപൊളി',\n",
       " 'romanjifikation katta waiting lalletan fan dubaiiiiiii',\n",
       " 'ente ponno heavy bgm ikka pinne parayanilla2 looks kidilosky  overall kidukkachi aahn mone',\n",
       " 'fight scenes muzhuvan hvy  aayittind',\n",
       " 'mukkuthi mukuthi kandilla etu nthu patta nn sahoooo',\n",
       " 'സത്യം പറയാല്ലോദിലീപിന് പണ്ടത്തെ ജനപ്രിയൻ എന്ന image നഷ്ടപ്പെട്ടിരിക്കുന്നു',\n",
       " 'ഷൈലോക്  ടീസർ  കണ്ടു  രാജമാണിക്യം  ലെവൽ  ഇക്ക  നിങ്ങളുടെ  മനസ്സിൽ  മിന്നി  മറിയും',\n",
       " 'പ്രതീക്ഷിച്ച പോലെ തന്നെ ഇവന്റെ സംസാരം ഇ സിനിമയെ കൊല്ലും',\n",
       " 'malayalikalkku iru cinema jayipikkanel eh jathi pattu venamenna chila vattanmarude vicharam',\n",
       " 'ahaaanammude mukkuthi kaanandupoyathu ulsavam aakkiya chechi undallo',\n",
       " 'ഇനിയിപ്പോ അവരിട്ട മൂക്കുത്തി അവർക്ക് കാണാൻ പറ്റില്ലല്ലോ അതാവുമല്ലേ ഇങ്ങനെ പാടി കൊണ്ട് നടക്കുന്നത് ',\n",
       " 'ഈ സോങ് daily കേൾക്കുന്നവർ ഇവിടെ വാ',\n",
       " 'cinemayil nalla oru content undd ennu manasilayi e padam hit aakum',\n",
       " 'മലയാള സിനിമയുടെ പരിധികൾ അങ്ങനെ അവസാനിച്ചുകൊണ്ടിരിക്കുന്നു ഈ സിനിമ ഒരു മഹാ വിജയം ആകുമെന്ന് ഒരു മലയാളി എന്ന നിലയിൽ വിശ്വസിക്കുന്നു',\n",
       " 'havy trailer enikkoru 10 like  tharp',\n",
       " 'വടക്കൻ വീരഗാഥയിലെ  പോലത്തെ പാട്ടുകൾ വേണം അല്ലാതെ മൂക്കുത്തിയും  അരഞ്ഞാണവും പാടി ബോറാക്കല്ലേ',\n",
       " 'oru mukkuthi kananjitt ithrayum dancanenkil 10 pavante mala kalanjal entharikkum',\n",
       " 'laaletan fans undenkil  like adikkuikka fans comment cheyyuaaarkanu kooduthal fans ennu nokkaamm',\n",
       " 'ഡാൻസ് അറിയാത്ത നായികയെ അത് കളിപ്പിച്ച് ബുദ്ധിമുട്ടിക്കേണ്ടാരുന്നു',\n",
       " 'annaa njagal katta waiting aanu abudhabi dalma mallil annanem pillarem kanan',\n",
       " 'nirthathan samayamaii mammmokkka  prayam kurey ayyi',\n",
       " 'amen നും ജോസഫ്  സിനിമയും mix ano',\n",
       " 'oru puthan panam model padam anoo',\n",
       " 'ninakkokkai brandhano pennugaludi pennalai pokan  verai level dialogue  chekkan pwoli',\n",
       " 'മൂക്കുത്തി കണ്ടുകിട്ടിയാൽ അറിയിക്കാൻ ഇവിടെ ലൈക് ചെയ്യാവുന്നതാണ്',\n",
       " 'sthriikal aanungale pole perumaarunnath aann mass ennaann puthuthalamurayile chila viddikalude chintha ennaal enn sthri sthrii aakunno avdeyaann ellaa mass um class um bhalapradam aakunnath   manju warrior the queen right now in malayalam cinema',\n",
       " 'മൂക്കുത്തി കണ്ടിലെ പോയി തപ്പിനോക്ക്  ഒരു ഫീലും ഇല്ലാത്ത song',\n",
       " 'ohh damn trollaar adutha psycho ye pokki',\n",
       " 'kuzhapom illa paatu eniku ishtapettu sreya goshaal paadiya kondu',\n",
       " '15k views and 16k likes xd',\n",
       " 't e r r i f i c',\n",
       " 'ethe pulimuruganta music aanallo full enthayalum mamookka polichu',\n",
       " 'song dislike adicha 90 perum phycho singles akum',\n",
       " 'illuminati kurichu arinjitt trailer kanan vannavar  ingot comon',\n",
       " 'ഇനി ഇക്കാന്റെ charecter name മൂക്കുത്തി എന്നാണോ പുള്ളിയെ കാണുന്നുമില്ല',\n",
       " 'mass bap ka trailer hedset ഫുൾ വോളിയംത്തിൽ വച്ചു ഒന്ന് കേട്ട് നോക്ക് ബ്രോസ് വേറെ ലെവൽ ഐറ്റം',\n",
       " 'villain sharafudheen  ennu thonnunnavar likikkoooo',\n",
       " 'villan massanananullavar like adi fahadh fahadh thanne',\n",
       " 'veendum veendum vann kaanunnath njan maathramaano',\n",
       " 'അജയ് വാസുദേവ് കഥ റബര് ബാൻഡ് പോലെ വലിച്ചു നീട്ടതിരുന്നാൽ മതി കഴിഞ്ഞ 2 സിനിമകളിലും ഫ്ലാഷ്ബാക് എല്ലാം വലിച്ചു നീട്ടി സമയം നീട്ടി അജയ് വാസുദേവ്',\n",
       " 'thugs of hindhustan njan kandatha ',\n",
       " 'നല്ല ഊമ്പിയ bgm ടു ട്ടു ടു ട്ടൂ',\n",
       " 'ആദ്യം ഒരു ജിമ്മിക്കി കമ്മൽ  ഇപ്പൊ മൂക്കുത്തിയും  കാണാതായിരുക്കുന്നു മുഖ്യ മന്ത്രി രാജി വെക്കുക',\n",
       " 'ബാഹുബലിയിലും ഐറ്റം സോങ്ങ്\\u200c ഉണ്ടായിരുന്ന് നമ്മളായിട്ട്\\u200c കുറയ്ക്കണ്ട',\n",
       " 'odiyante odi vidya thudangi makkalemurugaaa ne sherikum theernu',\n",
       " 'ഇതെന്ത് കോപ്പാണ്   views  likes എനിക്ക് പ്രാന്തായതാണോ അതോ യൂട്യൂബിന് പ്രാന്തായതാണോ ',\n",
       " 'raju ettan powli',\n",
       " 'aa face koodi onn kandirinnu enkil',\n",
       " 'teaser undakkiya manekkedu theerth poli vijay level ilott povatirunna matiyarunn',\n",
       " 'ഇതിലെങ്കിലും പുതുതലമുറയ്ക്ക് വേണ്ടി മാമാങ്കം യഥാർത്ഥ ബോധത്തോടെ ചിത്രീരകരിക്കുമെന്നാണ് പ്രതീക്ഷിച്ചത് ഇതിപ്പോ എന്താകളഞ്ഞു കുളിച്ചല്ലോ',\n",
       " 'dileepum anusitrarem oreclassil irunnu padichatha ennude para adipoli cinema',\n",
       " 'anttemoo anthayith akkee kudee oru koritharip',\n",
       " 'oru yorker vanna enthu chaiyumkeri irikkan parayum',\n",
       " 'പടം വല്യ പ്രതീക്ഷ ഇല്ലപൊട്ടാൻ ചാൻസ് ഉണ്ട്',\n",
       " 'mammoonny  komali loka tholvi sammathikkunnavar like adikku',\n",
       " 'ith nice aakum  sure aanu',\n",
       " 'katta waiting 28  fdfs  son of devil',\n",
       " 'karikunnam sixersile surajettane pole ayirikkum aju varghees ennu thonniyavar like adi',\n",
       " 'love from chennai  superr movie adi polii',\n",
       " 'ഇങ്ങനെ ഒരു പാട്ടിന്റെ വല്ല ആവശ്യവും ഉണ്ടോ  ഇപ്പോൾ എല്ലാ big  budget  മൂവിയിലും item song കുത്തികയറ്റിയില്ലെങ്കിൽ ആർക്കും തൃപ്തിയില്ല eg ലൂസിഫർ  മധുരരാജാ ഇതൊന്നും ഇല്ലാതിരുന്നിട്ടും പുലിമുരുഗൻ വിജയിച്ചല്ലോ  പ്രേക്ഷകരെ ഇക്കിളിപ്പെടുത്താൻ വേണ്ടി മാത്രം ഉള്ള ഈ പരുപാടി നല്ല രീതിയിൽ എടുക്കുന്ന സിനിമയുടെ വില കളയും',\n",
       " 'koora trailer jattimaanii padam pottum 100percent lalappaaaaa',\n",
       " 'padam nallathanenkil ellavarum theateril thanne poyi kanuka',\n",
       " 'aww enthokya ee kaatikootunnathu poottile  trailer aayipoyi',\n",
       " 'waiting for the next blockbuster ',\n",
       " 'ഷമ്മി അണ്ണനെ ഇഷ്ടമുള്ളവർ ലൈക് അടിച്ചിട്ട് പോണേ',\n",
       " 'ഈ ഫിലിമിൽ ശബരീഷ് വർമ്മ അഭിനയിച്ചിട്ടുണ്ടോ  പ്രേമം ഫിലിമിൽ ശംഭു',\n",
       " '2019 ൽ എനിക്ക് ഏറ്റവും ഇഷ്ടപ്പെട്ട പാട്ടും സിനിമയും',\n",
       " 'ethonnum mohanlalnu cherilla',\n",
       " 'ഫഹദ് സൗബിൻ സൈനു അരെ വാ ഈ കൊമ്പൊ തകർക്കും',\n",
       " 'unni aah edutha mookuthi ang koduthek',\n",
       " 'aarkadee safe zonile abineykan ariyuu ennu paranjee',\n",
       " 'ഇ മൂക്കുത്തി നമ്മൾ ഏറ്റെടുത്തുമലയാള സിനിമയുടെ ചരിത്രം വഴിമാറാൻ പോകുന്നു m',\n",
       " 'ജോജു ചേട്ടൻ പൊളിക്കും എന്ന് ഉറപ്പുള്ളവർ  ബട്ടൺ അടിച്ചിട്ട് പോയേക്ക്',\n",
       " 'മൂക്കുത്തി ചന്ദനം പൊലികളി   മോഹിനിയാട്ടത്തിന്റെ വികൃതമാക്കപ്പെട്ട വകഭേദങ്ങൾ   പുരാതന കാലത്ത് വരത്തന്മാരായ പ്രമാണിമാരും നാടുവാഴികളും അവരുടെ അതിഥികൾക്കും കച്ചവടക്കാർക്കും വേണ്ടി ദാസിയാട്ടങ്ങൾ നടത്തിയിരുന്നു  മോഹിനിയാട്ടത്തിനും മുൻപേ ഈ ദാസിയാട്ടം നിലനിന്നിരുന്നു എന്നതിന് ആധികാരികമായ തെളിവുകൾ ചരിത്രത്താളുകളിൽ നിന്ന് ലഭിക്കുന്നതാണ്  ദേവദാസികൾ എന്ന വിഭാഗത്തിൽ നിലകൊണ്ടിരുന്ന സ്ത്രീകളുടെ ഉപജീവന മാർഗ്ഗം ആയിരുന്നു ഈ കലാരൂപം   കാലാനുസൃതമായ പരിഷ്\\u200cകാരങ്ങൾ ഇതിന്മേൽ സംഭവിക്കുകയും തദ്\\u200cഫലം മോഹിനിയാട്ടത്തിലേക്ക് വഴിമാറുകയും ചെയ്തു  നല്ല മാറ്റങ്ങൾക്ക് ഒപ്പം ചിലയിടങ്ങളിൽ സമാന്തരമായ് വികൃതമാക്കപ്പെടലുകൾക്കും ഈ ആട്ടം വിധേയമാക്കപ്പെട്ടു   അങ്ങനെ ഉണ്ടായ രൂപങ്ങളാണ് മുക്കൂത്തിയും ചന്ദനവും പൊലികളിയും തുടങ്ങിയവ   ചന്ദനം വിൽക്കാനെന്ന പോലെ കാണികൾക്ക് ഇടയിലേക്ക് ഇറങ്ങി ആടിപ്പാടി അവരുടെ സമ്മാനങ്ങൾ സ്വീകരിച്ചതിന് ശേഷം ചന്ദനം തൊട്ട് കൊടുക്കുക ആയിരുന്നു ചന്ദനത്തിന്റെ പതിവ്  സമാനമായി മൂക്കുത്തി നഷ്ടപ്പെട്ട് പോയെന്ന് പറഞ്ഞ് കാണികൾക്ക് ഇടയിൽ ചെന്ന് മൂക്കുത്തി തിരഞ്ഞ് അവരെ സന്തോഷിപ്പിച്ച് സമ്മാനങ്ങൾ സ്വീകരിച്ച് തിരിച്ചുപോരുന്നത് ആയിരുന്നു മൂക്കുത്തിയുടെ രീതി   നിരോധിക്കപ്പെട്ടു എന്ന് പറയുന്ന ഈ വക ദാസിയാട്ടങ്ങൾ ഇരുപതാം നൂറ്റാണ്ടിൽ വള്ളത്തോൾ തുടങ്ങിയ സാംസ്\\u200cകാരിക നായകരുടെ ഇടപെടലുകളോടെ ഇന്ന് കാണുന്ന പരിഷ്കൃത രൂപത്തിലേക്ക് മാറുകയായിരുന്നു       credits  abhijith santhosh',\n",
       " 'അമ്പൊ  എജ്ജാതി ഫീൽ ഷൈൻ മച്ചാൻ പൊളിച്ചു',\n",
       " 'ഈ പടം ഇതുവരെ കാണാൻ പറ്റാതെ ഈ പാട്ടിന് adict ആയത് ഞാൻ മാത്രം ആണോ ദൈവമേ',\n",
       " 'ഞാൻ ഒരു ലാലേട്ടൻ ഫാൻ ആണ് പക്ഷെ ഒരിക്കലും ഇക്കയെ തള്ളിപ്പറഞ്ഞിട്ടില്ല ദാസേട്ടന്റെ മാത്രികശബ്ദത്തിൽ പരുഷത്വത്തിന്റെ പ്രതീകമായ ഇക്ക ലാസ്യഭാവത്തിൽ നൃത്തമാടുന്നു e janma bhagyyam',\n",
       " 'മാമാങ്കവും മൈ സാന്റയും കാണാൻ ആരൊക്കെ കാത്തിരിക്കുന്നു എന്റെ ചാനൽ കുടെ subscribe ചെയ്യുമോ',\n",
       " '141 indian flags  ulta kyu hey',\n",
       " 'idikkatta waiting othiri thanks prithvirajinunjangalde ettane',\n",
       " '253 mukuthi eduthathu evanna   ah nottam kandal ariyam',\n",
       " 'രണ്ടു പ്രാവശ്യം മൂവി കണ്ടിട്ട് ട്രൈലർ കാണാൻ വന്ന ഞാൻ',\n",
       " 'copy cheythathu moshamayi poi chethatho cheythu korachu nannayi cheyyamayirunnu',\n",
       " '2k uchali mohanettan fens spottd  ithoke kandal ivattakalude kuru pottum  sureshot',\n",
       " 'ithokke cheyyumpo mamookkakku',\n",
       " 'njngalk 100 kodi onnum venda nammada ikka thaaa eee nilkunna pola onnu ninna mathiii pinna enth kodi',\n",
       " 'ta tataa taan hoyy hoyy tan taan taan hoo hooyy last bgm aana cycle chavitumbo kodukk gopiyeta big b oke cheythath sharikum ningal thanne aano',\n",
       " '30 pravashyathin melil kanda alkar ivide like',\n",
       " 'madhura raja theater poyi kandavar like adiche',\n",
       " 'മറ്റന്നാൾ വരുന്ന ടീസറിന് ഇന്നേ കത്തിരിക്കുന്നെങ്കിൽ അതിനുത്തരം ഒന്നെ ഒള്ളൂ  മമ്മൂക്ക',\n",
       " 'enikk ee actress inte pere aritilla',\n",
       " 'malayalam cinema pathiye telungu padam pole avukayano',\n",
       " 'entammo   semma   mass ka bap',\n",
       " 'super manju mam yuu looks promising love from tamilnadu',\n",
       " 'trailer kandu for sunny leone and mammokka',\n",
       " 'who decided the expire date of a women dreams ee വാക്ക് വച്ച് കുറച്ചധികം മാർക്ക് വാങ്ങിയവനാ ഞാൻ',\n",
       " 'മവനെ കൊല കാൻഡിലെ ഇറുക്ക്\\u200c കൊല്ലാമെ വിടമാട്ടെ തലൈവർ  superഡയലോഗ് from petta   അപ്പൊ മാസ്സ്  ആയിരിക്കും',\n",
       " 'tovinooo tovinoo tovinooo tovinoooo massskkaa valliyappaaa',\n",
       " '2020 ൽ കേൾക്കാൻ  ആഗ്രഹിക്കുന്നവർ ലൈക് അടിക്ക് ',\n",
       " 'heavy mass        പൊളി',\n",
       " 'എന്താ നിന്റെ ഉദ്ദേശം കുർബാന കൂടിസെമിത്തേരിയിൽ പ്രാർത്ഥിച്ചു ഇനി 2 കിലോ ബീഫ് മേടിച്ചു വീട്ടിൽ പോണംഅതാണല്ലോ നമ്മൾ നസ്രാണികളുടെ ശീലം',\n",
       " 'empuraan katta waiting cheyyunnavar like adich pokuka',\n",
       " 'എന്റെ ദാസേട്ടാ അങ്ങയ്ക്ക് എണ്ണൽ സംഖ്യ എത്രയുണ്ടോ അത്രയും പ്രണാമം പ്രണാമം പ്രണാമം അർക്ക് കഴിയും ലാകത്തിൽ 80 വയസിൽ ഇത് പോലെ അങ്ങയ്ക്ക് മാത്രം പ്രണാമം',\n",
       " 'watched odiyan35 out 5kidu movie korch lag ind but kandirikkammohanlal as swamy mass',\n",
       " 'ee pattu thudanguyapozhulla baby molude smile kalakkan aaa',\n",
       " 'മമ്മുക്കയുടെ ഈ പകർന്നാട്ടം ട്രോളിയവർ മൊത്തം മലയാളസിനിമയെ ആണ് നശിപ്പിക്കാൻ നോക്കിയത്മമ്മുക്കയുടെ കഴിവ് ഇനിയും 50ബാക്കിദീർഗായുസ് നേർന്നു',\n",
       " 'പടം പൊളിക്കും hbd mammokka       by die hard ettan fan',\n",
       " 'ആ സ്\\u200cക്രീനിന് ചുറ്റും ഓരോ പടം ഒട്ടിച്ചു വെക്കു t series lahari music  ദുരന്തം',\n",
       " 'ettan fansinte katta support to ikka',\n",
       " 'pwolimpadam',\n",
       " 'nalla poli cinema maaaspadam mammookka polichadukki',\n",
       " 'njanentha ipam kande ivide enna oru bgm',\n",
       " 'ithenthu killichundan mambazhama ithokke namude raju ettanu koduthal pollichadukiyene',\n",
       " 'മലയാളത്തിൽ ഇങ്ങനൊരു സിനിമക്ക് വേണ്ടിയാണ് ഇത്രയും കാലം കാത്തിരുന്നത് fdfs confirmed',\n",
       " 'ഇത് thugs of hindustan സിനിമയിലെ സീനുകൾ ആണ്',\n",
       " 'ഇക്കാ മാസ്സ് ആണ് അപ്പൊ പൊളി എല്ലാ ഭാവങ്ങൾ നേരുന്നു ഫിലിം സൂപ്പർ ഹിറ്റ്\\u200c ആവട്ടെ  ഫ്രം മോഹൻലാൽ ഫാൻസ്\\u200c ',\n",
       " 'ikka evide  evide ennu nokkuvayirunu vanapozhoo onnum parayan illa',\n",
       " 'makkale onnum nokkanda ninghal vanna bakkam enna 154',\n",
       " 'adipoli trailer lalettan faninte ella supportum undakum ikka kiduki',\n",
       " 'pan indian aakkikkoode content undengil pinne nokkanda padam njangal ingu edutholam',\n",
       " '35 oru pulimurukan touch vannu enthayaalum sambavam kidkeetund',\n",
       " '67k dislikes adichaa ooolanmarellam angott maaarininnnu mongikko',\n",
       " '049 il varunna acress ine ethoo cinema yil kanda orma ethayirunnu',\n",
       " 'we are ravanan family kollan padilla',\n",
       " 'oru rkshem illa makkale manikyam aayitulla angathin orungikko',\n",
       " 'ഒരു അടാര് love story fazalmanalaya',\n",
       " 'ലാലേട്ടൻ ഫാൻസ്\\u200c ലൈക്ക് button അടിച്ചു pwolikku',\n",
       " 'love you  swasuuuu   all the best da  ഇതൊരു പുതിയ തുടക്കം ആകട്ടെ പൊൻതൂവൽ ആകട്ടെ swasu ഇഷ്ടം   aksfa',\n",
       " 'enna njan oru kaaryam parayatteee padam pottumodiyan avashtha aavummark my words',\n",
       " 'തീ പാറും  മെഗാസ്റ്റാറിന്റെ മരണമാസ്സ്\\u200c ഐറ്റം   30k ഷോസ് കംപ്ലീറ്റ് ചെയ്തു ചാവേർ മുന്നേറുമ്പോൾ അസുരൻ വരവരിക്കുന്നു  fan boy movie  waiting',\n",
       " 'looks totally hopelessoru kannan thamarakulam level padam aakumnnu thonninu',\n",
       " '120  its not kannadan its kannadiga',\n",
       " 'trailer kollam pakshe annu blouse undayirunno',\n",
       " 'surajettan sound modulation kurach koodi nannakamayirunnu',\n",
       " 'trailer കണ്ടിട്ട് എന്നെ പോലെ ഒന്നും മനസ്സിലാവാത്തവരുണ്ടെങ്കിൽ ഒന്ന് like അടിച്ചേ',\n",
       " 'saleem kumarinu old look pokkiri rajayile look aayirunnu kooduthal chercha',\n",
       " 'e trailaril onnum  orukaryavum illa padam kidukkumnokkikko',\n",
       " 'mathukutty xavier  poliyeeeanchal set aayeeee',\n",
       " '100 cr aanannu antony parayaan paranju',\n",
       " 'ലാലേട്ടൻ ഫാൻസ് ലൈക് അടിക്കു മക്കളെ ',\n",
       " 'ithinthe like kurayunnund kurachu mumb 184k undaayirunu ippol 117k ullu enthaa sambavam',\n",
       " ' tovinok  nadakkoola  eee pani   police pani  cherunnilla soundum dressing onnum',\n",
       " ...]"
      ]
     },
     "execution_count": 22,
     "metadata": {},
     "output_type": "execute_result"
    }
   ],
   "source": [
    "test_text"
   ]
  },
  {
   "cell_type": "code",
   "execution_count": 23,
   "metadata": {
    "colab": {
     "base_uri": "https://localhost:8080/"
    },
    "id": "bMQmi9NBd31c",
    "outputId": "6120f651-ba9f-478d-ded4-d1ddc5d2a81c"
   },
   "outputs": [
    {
     "data": {
      "text/plain": [
       "['unknown_state', 'not-malayalam', 'Mixed_feelings', 'Negative', 'Positive']"
      ]
     },
     "execution_count": 23,
     "metadata": {},
     "output_type": "execute_result"
    }
   ],
   "source": [
    "class_names = list(set(train_label))\n",
    "class_names"
   ]
  },
  {
   "cell_type": "code",
   "execution_count": 24,
   "metadata": {
    "colab": {
     "base_uri": "https://localhost:8080/"
    },
    "id": "RxUjnFZ1eCjm",
    "outputId": "aee77052-f78a-40b7-bbf5-5cfda65da9f0"
   },
   "outputs": [
    {
     "data": {
      "text/plain": [
       "Counter({'unknown_state': 5279,\n",
       "         'Positive': 6421,\n",
       "         'Negative': 2105,\n",
       "         'Mixed_feelings': 926,\n",
       "         'not-malayalam': 1157})"
      ]
     },
     "execution_count": 24,
     "metadata": {},
     "output_type": "execute_result"
    }
   ],
   "source": [
    "class_dist = Counter(train_label)\n",
    "class_dist"
   ]
  },
  {
   "cell_type": "code",
   "execution_count": 25,
   "metadata": {
    "colab": {
     "base_uri": "https://localhost:8080/"
    },
    "id": "8R_8V6g4jvmK",
    "outputId": "1d0ffe14-75ec-4c89-82fc-f84465c6b390"
   },
   "outputs": [
    {
     "data": {
      "text/plain": [
       "array([4, 2, 4, ..., 4, 2, 0], dtype=int64)"
      ]
     },
     "execution_count": 25,
     "metadata": {},
     "output_type": "execute_result"
    }
   ],
   "source": [
    "le = LabelEncoder()\n",
    "\n",
    "train_label = le.fit_transform(train_label)\n",
    "train_label"
   ]
  },
  {
   "cell_type": "code",
   "execution_count": 26,
   "metadata": {
    "colab": {
     "base_uri": "https://localhost:8080/"
    },
    "id": "uOmQ_UBvqgdn",
    "outputId": "4445b81b-5a1d-4d36-f367-09d2a4ca9a53"
   },
   "outputs": [
    {
     "data": {
      "text/plain": [
       "array([2, 3, 2, ..., 4, 2, 2], dtype=int64)"
      ]
     },
     "execution_count": 26,
     "metadata": {},
     "output_type": "execute_result"
    }
   ],
   "source": [
    "valid_label = le.fit_transform(valid_label)\n",
    "valid_label"
   ]
  },
  {
   "cell_type": "code",
   "execution_count": 27,
   "metadata": {
    "colab": {
     "base_uri": "https://localhost:8080/"
    },
    "id": "Go0uHvEZel75",
    "outputId": "38172f85-4a8b-472a-8418-fc76e19e03d4"
   },
   "outputs": [
    {
     "data": {
      "text/plain": [
       "array(['Mixed_feelings', 'Negative', 'Positive', 'not-malayalam',\n",
       "       'unknown_state'], dtype='<U14')"
      ]
     },
     "execution_count": 27,
     "metadata": {},
     "output_type": "execute_result"
    }
   ],
   "source": [
    "le.inverse_transform([0,1,2,3,4])"
   ]
  },
  {
   "cell_type": "code",
   "execution_count": 28,
   "metadata": {
    "colab": {
     "base_uri": "https://localhost:8080/"
    },
    "id": "MFegTSuMeqSb",
    "outputId": "90580938-a327-40db-edbb-478be3093543"
   },
   "outputs": [
    {
     "data": {
      "text/plain": [
       "{0: 17.15766738660907,\n",
       " 1: 7.547743467933492,\n",
       " 2: 2.4743809375486685,\n",
       " 3: 13.732065687121867,\n",
       " 4: 3.009660920628907}"
      ]
     },
     "execution_count": 28,
     "metadata": {},
     "output_type": "execute_result"
    }
   ],
   "source": [
    "class_weight = {0:sum(class_dist.values())/class_dist[le.inverse_transform([0])[0]],\n",
    "                1:sum(class_dist.values())/class_dist[le.inverse_transform([1])[0]],\n",
    "                2:sum(class_dist.values())/class_dist[le.inverse_transform([2])[0]],\n",
    "                3:sum(class_dist.values())/class_dist[le.inverse_transform([3])[0]],\n",
    "                4:sum(class_dist.values())/class_dist[le.inverse_transform([4])[0]]}\n",
    "\n",
    "class_weight"
   ]
  },
  {
   "cell_type": "code",
   "execution_count": 29,
   "metadata": {
    "id": "W3uxiyM4j-68"
   },
   "outputs": [],
   "source": [
    "training_labels = tf.keras.utils.to_categorical(train_label)\n",
    "validation_labels = tf.keras.utils.to_categorical(valid_label)"
   ]
  },
  {
   "cell_type": "code",
   "execution_count": 30,
   "metadata": {
    "colab": {
     "base_uri": "https://localhost:8080/"
    },
    "id": "jkjV9lB9d51D",
    "outputId": "f90b2c7f-a20d-490f-b832-0a9b00725a90"
   },
   "outputs": [
    {
     "data": {
      "text/plain": [
       "[['sunny', 'chechi', 'fans', 'evide', 'like', 'adichu', 'power', 'kaniku'],\n",
       " ['angane',\n",
       "  'july',\n",
       "  'month',\n",
       "  'ile',\n",
       "  'ende',\n",
       "  'aadyathe',\n",
       "  'leave',\n",
       "  'njan',\n",
       "  'angu',\n",
       "  'edukuva',\n",
       "  'july',\n",
       "  '5',\n",
       "  'nu'],\n",
       " ['ഏട്ടന്റെ',\n",
       "  'പുതിയ',\n",
       "  'പടത്തിനു',\n",
       "  'വേണ്ടി',\n",
       "  'കാത്തിരിക്കുന്നവർ',\n",
       "  'ലൈക്\\u200c',\n",
       "  'ബട്ടൺ',\n",
       "  'അടിച്ചു',\n",
       "  'പോളിക്കോ'],\n",
       " ['ഇനി',\n",
       "  'ലാലേട്ടന്റെ',\n",
       "  'വേട്ട',\n",
       "  'തുടങ്ങാൻ',\n",
       "  'പോകുന്നു',\n",
       "  'മുൻ',\n",
       "  'കാല',\n",
       "  'collection',\n",
       "  'recordukal',\n",
       "  'ഭേതിച്ചിരിക്കും'],\n",
       " ['trailer',\n",
       "  'powli',\n",
       "  'oru',\n",
       "  'raksha',\n",
       "  'illa',\n",
       "  'pakshea',\n",
       "  'padam',\n",
       "  'irangattea',\n",
       "  'veruthea',\n",
       "  'over',\n",
       "  'degrade',\n",
       "  'venda',\n",
       "  'padam',\n",
       "  'irangittu',\n",
       "  'paraya']]"
      ]
     },
     "execution_count": 30,
     "metadata": {},
     "output_type": "execute_result"
    }
   ],
   "source": [
    "words_in_train = [sent.split() for sent in train_text] # Splitting the tweet into tokens\n",
    "words_in_train[0:5]"
   ]
  },
  {
   "cell_type": "code",
   "execution_count": 31,
   "metadata": {
    "colab": {
     "base_uri": "https://localhost:8080/"
    },
    "id": "tD9tzRqeeHCK",
    "outputId": "d7a59bdd-c610-413d-dfcd-04907d59c345"
   },
   "outputs": [
    {
     "data": {
      "text/plain": [
       "[['mammooka', 'ninghal', 'mass', 'aa', 'pwoli', 'item'],\n",
       " ['waiting', 'for', 'malayalam', 'movie', 'for', 'tamil', 'paiyan'],\n",
       " ['ദളപതി', 'ഫാൻസിന്റെ', 'വക', 'ഒരു', 'ഒന്നൊന്നര', 'വിജയാശംസകൾ'],\n",
       " ['pwolichuuuu', 'ഓണത്തിന്', 'വന്നങ്ങു', 'തകർത്തേക്ക്'],\n",
       " ['mammoookkaaaa', 'polichadukkiii', 'katta', 'waiting', 'nv', '21']]"
      ]
     },
     "execution_count": 31,
     "metadata": {},
     "output_type": "execute_result"
    }
   ],
   "source": [
    "words_in_valid = [sent.split() for sent in valid_text] # Splitting the tweet into tokens\n",
    "words_in_valid[0:5]"
   ]
  },
  {
   "cell_type": "code",
   "execution_count": 32,
   "metadata": {
    "id": "9CdT5ChSSvXD"
   },
   "outputs": [
    {
     "data": {
      "text/plain": [
       "[['teaserinu', 'kurach', 'samayamkoodi', 'mathram', 'cant', 'wait'],\n",
       " ['അപ്പോൾ', 'കഥയുടെ', 'റൂട്ട്', 'മാറിയല്ലോ'],\n",
       " ['മൂത്തോൻ', 'ട്രൈലെർ', 'trending', 'list', 'വരാത്തത്', 'എന്താ'],\n",
       " ['nowadays',\n",
       "  '944k',\n",
       "  'views',\n",
       "  'is',\n",
       "  'considered',\n",
       "  'as',\n",
       "  '1m',\n",
       "  'views',\n",
       "  'in',\n",
       "  'kerala'],\n",
       " ['maasstrailer',\n",
       "  'ennu',\n",
       "  'paranja',\n",
       "  'ithaanu',\n",
       "  'makkalekatta',\n",
       "  'waiting',\n",
       "  'for']]"
      ]
     },
     "execution_count": 32,
     "metadata": {},
     "output_type": "execute_result"
    }
   ],
   "source": [
    "words_in_test = [sent.split() for sent in test_text] # Splitting the tweet into tokens\n",
    "words_in_test[0:5]"
   ]
  },
  {
   "cell_type": "code",
   "execution_count": 33,
   "metadata": {
    "id": "Ol-a8g8OeLCl"
   },
   "outputs": [],
   "source": [
    "#words_in_test = [sent.split() for sent in test_text] # Splitting the tweet into tokens\n",
    "#words_in_test[0:5]"
   ]
  },
  {
   "cell_type": "code",
   "execution_count": 34,
   "metadata": {
    "colab": {
     "base_uri": "https://localhost:8080/"
    },
    "id": "nGt1UytVeN8w",
    "outputId": "32bd17c0-16be-420f-b2b4-e356f0a3304e"
   },
   "outputs": [
    {
     "data": {
      "text/plain": [
       "['sunny',\n",
       " 'chechi',\n",
       " 'fans',\n",
       " 'evide',\n",
       " 'like',\n",
       " 'adichu',\n",
       " 'power',\n",
       " 'kaniku',\n",
       " 'angane',\n",
       " 'july']"
      ]
     },
     "execution_count": 34,
     "metadata": {},
     "output_type": "execute_result"
    }
   ],
   "source": [
    "all_words_train = list(itertools.chain(*words_in_train)) # Making a flatlist of all the words in the corpus\n",
    "all_words_train[0:10]"
   ]
  },
  {
   "cell_type": "code",
   "execution_count": 35,
   "metadata": {
    "colab": {
     "base_uri": "https://localhost:8080/"
    },
    "id": "LsXmgJMdeTsx",
    "outputId": "cc3074af-57d4-4030-8888-834a912b9ecc"
   },
   "outputs": [
    {
     "data": {
      "text/plain": [
       "['mammooka',\n",
       " 'ninghal',\n",
       " 'mass',\n",
       " 'aa',\n",
       " 'pwoli',\n",
       " 'item',\n",
       " 'waiting',\n",
       " 'for',\n",
       " 'malayalam',\n",
       " 'movie']"
      ]
     },
     "execution_count": 35,
     "metadata": {},
     "output_type": "execute_result"
    }
   ],
   "source": [
    "all_words_valid = list(itertools.chain(*words_in_valid)) # Making a flatlist of all the words in the corpus\n",
    "all_words_valid[0:10]"
   ]
  },
  {
   "cell_type": "code",
   "execution_count": 36,
   "metadata": {
    "id": "jA7L0evJeZ23"
   },
   "outputs": [
    {
     "data": {
      "text/plain": [
       "['teaserinu',\n",
       " 'kurach',\n",
       " 'samayamkoodi',\n",
       " 'mathram',\n",
       " 'cant',\n",
       " 'wait',\n",
       " 'അപ്പോൾ',\n",
       " 'കഥയുടെ',\n",
       " 'റൂട്ട്',\n",
       " 'മാറിയല്ലോ']"
      ]
     },
     "execution_count": 36,
     "metadata": {},
     "output_type": "execute_result"
    }
   ],
   "source": [
    "all_words_test = list(itertools.chain(*words_in_test)) # Making a flatlist of all the words in the corpus\n",
    "all_words_test[0:10]"
   ]
  },
  {
   "cell_type": "code",
   "execution_count": 37,
   "metadata": {
    "colab": {
     "base_uri": "https://localhost:8080/"
    },
    "id": "P95OuslMecpt",
    "outputId": "51378a47-8eb9-4d31-b4da-f028df693c48"
   },
   "outputs": [
    {
     "data": {
      "text/plain": [
       "[('like', 1591),\n",
       " ('oru', 1415),\n",
       " ('ഒരു', 1378),\n",
       " ('trailer', 1179),\n",
       " ('ഈ', 1032),\n",
       " ('padam', 778),\n",
       " ('fans', 686),\n",
       " ('ee', 602),\n",
       " ('പടം', 598),\n",
       " ('ikka', 580),\n",
       " ('ഇത്', 515),\n",
       " ('mass', 513),\n",
       " ('movie', 453),\n",
       " ('ആണ്', 447),\n",
       " ('waiting', 447)]"
      ]
     },
     "execution_count": 37,
     "metadata": {},
     "output_type": "execute_result"
    }
   ],
   "source": [
    "word_counts_train = collections.Counter(all_words_train)  # Computing the number of occurrence of all the words in the corpus\n",
    "word_counts_train.most_common(15)"
   ]
  },
  {
   "cell_type": "code",
   "execution_count": 38,
   "metadata": {
    "colab": {
     "base_uri": "https://localhost:8080/"
    },
    "id": "kA0rdXg-eiXH",
    "outputId": "10093fcb-c891-44b5-de31-4958b4327f7c"
   },
   "outputs": [
    {
     "data": {
      "text/plain": [
       "[('ഒരു', 187),\n",
       " ('like', 166),\n",
       " ('oru', 165),\n",
       " ('ഈ', 125),\n",
       " ('trailer', 108),\n",
       " ('മൂക്കുത്തി', 90),\n",
       " ('ikka', 76),\n",
       " ('padam', 67),\n",
       " ('ee', 64),\n",
       " ('fans', 64),\n",
       " ('പടം', 63),\n",
       " ('movie', 60),\n",
       " ('waiting', 55),\n",
       " ('ഇത്', 54),\n",
       " ('mass', 48)]"
      ]
     },
     "execution_count": 38,
     "metadata": {},
     "output_type": "execute_result"
    }
   ],
   "source": [
    "word_counts_valid = collections.Counter(all_words_valid)  # Computing the number of occurrence of all the words in the corpus\n",
    "word_counts_valid.most_common(15)"
   ]
  },
  {
   "cell_type": "code",
   "execution_count": 39,
   "metadata": {
    "id": "08AoagvYelwh"
   },
   "outputs": [
    {
     "data": {
      "text/plain": [
       "[('ഒരു', 205),\n",
       " ('like', 202),\n",
       " ('oru', 181),\n",
       " ('trailer', 152),\n",
       " ('ഈ', 121),\n",
       " ('padam', 99),\n",
       " ('ikka', 84),\n",
       " ('fans', 80),\n",
       " ('movie', 74),\n",
       " ('ee', 70),\n",
       " ('മൂക്കുത്തി', 62),\n",
       " ('mass', 62),\n",
       " ('പടം', 61),\n",
       " ('എന്ന്', 61),\n",
       " ('ആണ്', 61)]"
      ]
     },
     "execution_count": 39,
     "metadata": {},
     "output_type": "execute_result"
    }
   ],
   "source": [
    "word_counts_test = collections.Counter(all_words_test)  # Computing the number of occurrence of all the words in the corpus\n",
    "word_counts_test.most_common(15)"
   ]
  },
  {
   "cell_type": "code",
   "execution_count": 40,
   "metadata": {
    "colab": {
     "base_uri": "https://localhost:8080/"
    },
    "id": "cABBZtMSeujn",
    "outputId": "f58a80fd-dadb-4c99-cfcc-4d6af00c54c4"
   },
   "outputs": [
    {
     "name": "stdout",
     "output_type": "stream",
     "text": [
      "     words  count\n",
      "0     like   1591\n",
      "1      oru   1415\n",
      "2      ഒരു   1378\n",
      "3  trailer   1179\n",
      "4        ഈ   1032\n"
     ]
    }
   ],
   "source": [
    "# Creating a dataframe with words and corresponding frequency\n",
    "words_with_counts_train = pd.DataFrame(word_counts_train.most_common(len(all_words_train)), columns=['words', 'count']) \n",
    "print(words_with_counts_train.head())"
   ]
  },
  {
   "cell_type": "code",
   "execution_count": 41,
   "metadata": {
    "colab": {
     "base_uri": "https://localhost:8080/"
    },
    "id": "N4ECtFEefMMT",
    "outputId": "e24d12ea-e06c-4392-999e-4942b2cf0bb1"
   },
   "outputs": [
    {
     "name": "stdout",
     "output_type": "stream",
     "text": [
      "     words  count\n",
      "0      ഒരു    187\n",
      "1     like    166\n",
      "2      oru    165\n",
      "3        ഈ    125\n",
      "4  trailer    108\n"
     ]
    }
   ],
   "source": [
    "# Creating a dataframe with words and corresponding frequency\n",
    "words_with_counts_valid = pd.DataFrame(word_counts_valid.most_common(len(all_words_valid)), columns=['words', 'count']) \n",
    "print(words_with_counts_valid.head())"
   ]
  },
  {
   "cell_type": "code",
   "execution_count": 42,
   "metadata": {},
   "outputs": [
    {
     "name": "stdout",
     "output_type": "stream",
     "text": [
      "     words  count\n",
      "0      ഒരു    205\n",
      "1     like    202\n",
      "2      oru    181\n",
      "3  trailer    152\n",
      "4        ഈ    121\n"
     ]
    }
   ],
   "source": [
    "# Creating a dataframe with words and corresponding frequency\n",
    "words_with_counts_test = pd.DataFrame(word_counts_test.most_common(len(all_words_test)), columns=['words', 'count']) \n",
    "print(words_with_counts_test.head())"
   ]
  },
  {
   "cell_type": "code",
   "execution_count": 43,
   "metadata": {
    "id": "oEz6Ik75fl4S"
   },
   "outputs": [],
   "source": [
    "all_words = all_words_train + all_words_valid + all_words_test\n",
    "corpus = train_text + valid_text + test_text\n",
    "vocab_size = len(set(all_words)) # number of words to keep.\n",
    "embedding_dim = 100 # Dimension of the vector representation for each word \n",
    "max_length = 0\n",
    "for i in range(len(corpus)):\n",
    "  x = word_tokenize(corpus[i])\n",
    "  if len(x) > max_length:\n",
    "    max_length = len(x)\n",
    "\n",
    "oov_tok = \"<OOV>\"  # Token to represent Out-of-Vocabulary words"
   ]
  },
  {
   "cell_type": "code",
   "execution_count": 44,
   "metadata": {
    "id": "jW6TrRPcg24l"
   },
   "outputs": [],
   "source": [
    "tokenizer = tf.keras.preprocessing.text.Tokenizer(num_words = vocab_size, oov_token=oov_tok)\n",
    "tokenizer.fit_on_texts(train_text)\n",
    "word_index = tokenizer.word_index"
   ]
  },
  {
   "cell_type": "code",
   "execution_count": 45,
   "metadata": {
    "id": "O0MNdZiBhFZh"
   },
   "outputs": [],
   "source": [
    "# Pad the sequences so that they are all the same length\n",
    "training_sequences = tokenizer.texts_to_sequences(train_text)\n",
    "training_padded = tf.keras.preprocessing.sequence.pad_sequences(training_sequences,maxlen=max_length, padding='post')\n",
    "\n",
    "valid_sequences = tokenizer.texts_to_sequences(valid_text)\n",
    "valid_padded = tf.keras.preprocessing.sequence.pad_sequences(valid_sequences,maxlen=max_length, padding='post')\n",
    "\n",
    "\n",
    "test_sequences = tokenizer.texts_to_sequences(test_text)\n",
    "test_padded = tf.keras.preprocessing.sequence.pad_sequences(test_sequences,maxlen=max_length, padding='post')"
   ]
  },
  {
   "cell_type": "code",
   "execution_count": 46,
   "metadata": {
    "id": "WCOmevLrmUHO"
   },
   "outputs": [],
   "source": [
    "METRICS = [\n",
    "      #tf.keras.metrics.TruePositives(name='tp'),\n",
    "      #tf.keras.metrics.FalsePositives(name='fp'),\n",
    "      #tf.keras.metrics.TrueNegatives(name='tn'),\n",
    "      #tf.keras.metrics.FalseNegatives(name='fn'), \n",
    "      tf.keras.metrics.BinaryAccuracy(name='accuracy'),\n",
    "      tf.keras.metrics.Precision(name='precision'),\n",
    "      tf.keras.metrics.Recall(name='recall'),\n",
    "      tf.keras.metrics.AUC(name='auc'),\n",
    "]"
   ]
  },
  {
   "cell_type": "code",
   "execution_count": 47,
   "metadata": {
    "colab": {
     "base_uri": "https://localhost:8080/"
    },
    "id": "kS9-3gVVEuGF",
    "outputId": "5fe8fc97-0f81-461b-835e-fe24c14f3292"
   },
   "outputs": [
    {
     "name": "stdout",
     "output_type": "stream",
     "text": [
      "(15888, 229)\n",
      "(1766, 229)\n",
      "(1962, 229)\n"
     ]
    }
   ],
   "source": [
    "print(np.shape(training_padded))\n",
    "print(np.shape(valid_padded))\n",
    "print(np.shape(test_padded))"
   ]
  },
  {
   "cell_type": "code",
   "execution_count": 48,
   "metadata": {
    "colab": {
     "base_uri": "https://localhost:8080/"
    },
    "id": "D7ggw2JBhhzk",
    "outputId": "a48cc280-6986-46b6-f28e-21015ac6dded"
   },
   "outputs": [
    {
     "name": "stdout",
     "output_type": "stream",
     "text": [
      "Model: \"sequential\"\n",
      "_________________________________________________________________\n",
      "Layer (type)                 Output Shape              Param #   \n",
      "=================================================================\n",
      "embedding (Embedding)        (None, 229, 100)          5122200   \n",
      "_________________________________________________________________\n",
      "bidirectional (Bidirectional (None, 64)                34048     \n",
      "_________________________________________________________________\n",
      "dense (Dense)                (None, 5)                 325       \n",
      "=================================================================\n",
      "Total params: 5,156,573\n",
      "Trainable params: 5,156,573\n",
      "Non-trainable params: 0\n",
      "_________________________________________________________________\n"
     ]
    }
   ],
   "source": [
    "model = tf.keras.Sequential([\n",
    "    tf.keras.layers.Embedding(vocab_size, embedding_dim, input_length=max_length,\n",
    "                              embeddings_initializer='orthogonal', embeddings_regularizer='L2'),\n",
    "    tf.keras.layers.Bidirectional(tf.keras.layers.LSTM(32)),\n",
    "    tf.keras.layers.Dense(5, activation=tf.nn.softmax)\n",
    "])\n",
    "\n",
    "model.compile(\n",
    "    loss=tf.keras.losses.CategoricalCrossentropy(),\n",
    "    optimizer=tf.keras.optimizers.Adam(learning_rate=0.01),\n",
    "    metrics=METRICS\n",
    ")\n",
    "\n",
    "model.summary()"
   ]
  },
  {
   "cell_type": "code",
   "execution_count": 49,
   "metadata": {
    "colab": {
     "base_uri": "https://localhost:8080/"
    },
    "id": "zNRmogOdhnbz",
    "outputId": "d6d49dae-812d-4f9e-e209-3b6e726e7e94",
    "scrolled": false
   },
   "outputs": [
    {
     "name": "stdout",
     "output_type": "stream",
     "text": [
      "Epoch 1/100\n",
      "249/249 [==============================] - 25s 76ms/step - loss: 9.6691 - accuracy: 0.8037 - precision: 0.4870 - recall: 0.0993 - auc: 0.6928 - val_loss: 9.0109 - val_accuracy: 0.8376 - val_precision: 0.6971 - val_recall: 0.3324 - val_auc: 0.8214\n",
      "Epoch 2/100\n",
      "249/249 [==============================] - 17s 67ms/step - loss: 12.8679 - accuracy: 0.8331 - precision: 0.6592 - recall: 0.3426 - auc: 0.8222 - val_loss: 10.1183 - val_accuracy: 0.8306 - val_precision: 0.6458 - val_recall: 0.3386 - val_auc: 0.8217\n",
      "Epoch 3/100\n",
      "249/249 [==============================] - 16s 64ms/step - loss: 13.0455 - accuracy: 0.8456 - precision: 0.6942 - recall: 0.4076 - auc: 0.8478 - val_loss: 10.5322 - val_accuracy: 0.8267 - val_precision: 0.6135 - val_recall: 0.3613 - val_auc: 0.8106\n",
      "Epoch 4/100\n",
      "249/249 [==============================] - 16s 65ms/step - loss: 12.8461 - accuracy: 0.8540 - precision: 0.7102 - recall: 0.4559 - auc: 0.8651 - val_loss: 9.1944 - val_accuracy: 0.8493 - val_precision: 0.6864 - val_recall: 0.4536 - val_auc: 0.8577\n",
      "Epoch 5/100\n",
      "249/249 [==============================] - 17s 67ms/step - loss: 12.5599 - accuracy: 0.8562 - precision: 0.7041 - recall: 0.4846 - auc: 0.8773 - val_loss: 9.9578 - val_accuracy: 0.8615 - val_precision: 0.7334 - val_recall: 0.4830 - val_auc: 0.8777\n",
      "Epoch 6/100\n",
      "249/249 [==============================] - 19s 74ms/step - loss: 12.3283 - accuracy: 0.8720 - precision: 0.7460 - recall: 0.5445 - auc: 0.9008 - val_loss: 10.5599 - val_accuracy: 0.8435 - val_precision: 0.6702 - val_recall: 0.4281 - val_auc: 0.8411\n",
      "Epoch 7/100\n",
      "249/249 [==============================] - 18s 73ms/step - loss: 12.5276 - accuracy: 0.8803 - precision: 0.7608 - recall: 0.5856 - auc: 0.9104 - val_loss: 10.4500 - val_accuracy: 0.8529 - val_precision: 0.6931 - val_recall: 0.4745 - val_auc: 0.8648\n",
      "Epoch 8/100\n",
      "249/249 [==============================] - 17s 69ms/step - loss: 11.7985 - accuracy: 0.8897 - precision: 0.7760 - recall: 0.6299 - auc: 0.9257 - val_loss: 10.1196 - val_accuracy: 0.8462 - val_precision: 0.6659 - val_recall: 0.4638 - val_auc: 0.8638\n",
      "Epoch 9/100\n",
      "249/249 [==============================] - 17s 68ms/step - loss: 12.1536 - accuracy: 0.8948 - precision: 0.7863 - recall: 0.6507 - auc: 0.9321 - val_loss: 11.0418 - val_accuracy: 0.8522 - val_precision: 0.6780 - val_recall: 0.4972 - val_auc: 0.8668\n",
      "Epoch 10/100\n",
      "249/249 [==============================] - 16s 65ms/step - loss: 12.2107 - accuracy: 0.9005 - precision: 0.7925 - recall: 0.6802 - auc: 0.9396 - val_loss: 11.8803 - val_accuracy: 0.8575 - val_precision: 0.6939 - val_recall: 0.5147 - val_auc: 0.8804\n",
      "Epoch 11/100\n",
      "249/249 [==============================] - 17s 67ms/step - loss: 12.3416 - accuracy: 0.9074 - precision: 0.8060 - recall: 0.7068 - auc: 0.9479 - val_loss: 13.7919 - val_accuracy: 0.8591 - val_precision: 0.6846 - val_recall: 0.5481 - val_auc: 0.8878\n",
      "Epoch 12/100\n",
      "249/249 [==============================] - 17s 69ms/step - loss: 13.3282 - accuracy: 0.9129 - precision: 0.8147 - recall: 0.7306 - auc: 0.9534 - val_loss: 12.7058 - val_accuracy: 0.8554 - val_precision: 0.6706 - val_recall: 0.5442 - val_auc: 0.8771\n",
      "Epoch 13/100\n",
      "249/249 [==============================] - 16s 65ms/step - loss: 12.3483 - accuracy: 0.9214 - precision: 0.8334 - recall: 0.7584 - auc: 0.9585 - val_loss: 13.9868 - val_accuracy: 0.8580 - val_precision: 0.6711 - val_recall: 0.5685 - val_auc: 0.8814\n",
      "Epoch 14/100\n",
      "249/249 [==============================] - 16s 66ms/step - loss: 13.1571 - accuracy: 0.9249 - precision: 0.8378 - recall: 0.7743 - auc: 0.9625 - val_loss: 15.3229 - val_accuracy: 0.8508 - val_precision: 0.6504 - val_recall: 0.5498 - val_auc: 0.8778\n",
      "Epoch 15/100\n",
      "249/249 [==============================] - 16s 65ms/step - loss: 13.6107 - accuracy: 0.9271 - precision: 0.8431 - recall: 0.7804 - auc: 0.9647 - val_loss: 15.5568 - val_accuracy: 0.8621 - val_precision: 0.6903 - val_recall: 0.5629 - val_auc: 0.8805\n",
      "Epoch 16/100\n",
      "249/249 [==============================] - 17s 68ms/step - loss: 14.0632 - accuracy: 0.9290 - precision: 0.8472 - recall: 0.7868 - auc: 0.9662 - val_loss: 16.2572 - val_accuracy: 0.8646 - val_precision: 0.6853 - val_recall: 0.5968 - val_auc: 0.8955\n",
      "Epoch 17/100\n",
      "249/249 [==============================] - 17s 69ms/step - loss: 14.4171 - accuracy: 0.9331 - precision: 0.8526 - recall: 0.8041 - auc: 0.9695 - val_loss: 18.1956 - val_accuracy: 0.8629 - val_precision: 0.6789 - val_recall: 0.5963 - val_auc: 0.8895\n",
      "Epoch 18/100\n",
      "249/249 [==============================] - 16s 66ms/step - loss: 14.8903 - accuracy: 0.9385 - precision: 0.8675 - recall: 0.8170 - auc: 0.9733 - val_loss: 16.5772 - val_accuracy: 0.8544 - val_precision: 0.6613 - val_recall: 0.5572 - val_auc: 0.8724\n",
      "Epoch 19/100\n",
      "249/249 [==============================] - 16s 66ms/step - loss: 14.0685 - accuracy: 0.9392 - precision: 0.8664 - recall: 0.8229 - auc: 0.9740 - val_loss: 17.9385 - val_accuracy: 0.8623 - val_precision: 0.6793 - val_recall: 0.5900 - val_auc: 0.8858\n",
      "Epoch 20/100\n",
      "249/249 [==============================] - 17s 69ms/step - loss: 15.3207 - accuracy: 0.9414 - precision: 0.8724 - recall: 0.8279 - auc: 0.9743 - val_loss: 18.9336 - val_accuracy: 0.8608 - val_precision: 0.6763 - val_recall: 0.5832 - val_auc: 0.8822\n",
      "Epoch 21/100\n",
      "249/249 [==============================] - 16s 66ms/step - loss: 15.3729 - accuracy: 0.9443 - precision: 0.8797 - recall: 0.8359 - auc: 0.9770 - val_loss: 21.2033 - val_accuracy: 0.8570 - val_precision: 0.6694 - val_recall: 0.5629 - val_auc: 0.8752\n",
      "Epoch 22/100\n",
      "249/249 [==============================] - 16s 66ms/step - loss: 17.2578 - accuracy: 0.9451 - precision: 0.8824 - recall: 0.8372 - auc: 0.9767 - val_loss: 21.2906 - val_accuracy: 0.8597 - val_precision: 0.6646 - val_recall: 0.6025 - val_auc: 0.8836\n",
      "Epoch 23/100\n",
      "249/249 [==============================] - 16s 66ms/step - loss: 17.2134 - accuracy: 0.9481 - precision: 0.8865 - recall: 0.8490 - auc: 0.9783 - val_loss: 21.6898 - val_accuracy: 0.8566 - val_precision: 0.6601 - val_recall: 0.5838 - val_auc: 0.8805\n",
      "Epoch 24/100\n",
      "249/249 [==============================] - 17s 70ms/step - loss: 17.3098 - accuracy: 0.9498 - precision: 0.8880 - recall: 0.8569 - auc: 0.9799 - val_loss: 19.3456 - val_accuracy: 0.8699 - val_precision: 0.6951 - val_recall: 0.6223 - val_auc: 0.8910\n",
      "Epoch 25/100\n",
      "249/249 [==============================] - 18s 71ms/step - loss: 16.4514 - accuracy: 0.9517 - precision: 0.8948 - recall: 0.8595 - auc: 0.9821 - val_loss: 24.0218 - val_accuracy: 0.8493 - val_precision: 0.6428 - val_recall: 0.5544 - val_auc: 0.8663\n",
      "Epoch 26/100\n",
      "249/249 [==============================] - 17s 68ms/step - loss: 19.5678 - accuracy: 0.9482 - precision: 0.8881 - recall: 0.8481 - auc: 0.9806 - val_loss: 23.2622 - val_accuracy: 0.8562 - val_precision: 0.6568 - val_recall: 0.5883 - val_auc: 0.8778\n"
     ]
    }
   ],
   "source": [
    "callback = tf.keras.callbacks.EarlyStopping(monitor= 'val_auc' , patience=10, mode='max', restore_best_weights=True)\n",
    "#callback = tf.keras.callbacks.EarlyStopping(monitor='loss', patience=10)\n",
    "num_epochs = 100\n",
    "history = model.fit(\n",
    "    training_padded, \n",
    "    training_labels,\n",
    "    epochs= num_epochs,\n",
    "    batch_size = 64,\n",
    "    callbacks=[callback],\n",
    "    validation_data=(valid_padded, validation_labels),\n",
    "    class_weight=class_weight)"
   ]
  },
  {
   "cell_type": "code",
   "execution_count": 50,
   "metadata": {
    "colab": {
     "base_uri": "https://localhost:8080/",
     "height": 661
    },
    "id": "fhzty8Tufzie",
    "outputId": "d4a42f72-a0ce-41ef-c214-92ff69459152"
   },
   "outputs": [
    {
     "data": {
      "image/png": "[encoded data removed]",
      "text/plain": [
       "<IPython.core.display.Image object>"
      ]
     },
     "execution_count": 50,
     "metadata": {},
     "output_type": "execute_result"
    }
   ],
   "source": [
    "tf.keras.utils.plot_model(\n",
    "    model,\n",
    "    to_file=\"model.png\",\n",
    "    show_shapes=False,\n",
    "    show_dtype=False,\n",
    "    show_layer_names=True,\n",
    "    rankdir=\"TB\",\n",
    "    expand_nested=False,\n",
    "    dpi=96,\n",
    ")"
   ]
  },
  {
   "cell_type": "code",
   "execution_count": 51,
   "metadata": {
    "colab": {
     "base_uri": "https://localhost:8080/",
     "height": 541
    },
    "id": "Rw8WDqSZhpCl",
    "outputId": "109887f1-b52e-4220-887a-4be52b48cbac"
   },
   "outputs": [
    {
     "data": {
      "image/png": "[encoded data removed]",
      "text/plain": [
       "<Figure size 432x288 with 1 Axes>"
      ]
     },
     "metadata": {
      "needs_background": "light"
     },
     "output_type": "display_data"
    },
    {
     "data": {
      "image/png": "[encoded data removed]",
      "text/plain": [
       "<Figure size 432x288 with 1 Axes>"
      ]
     },
     "metadata": {
      "needs_background": "light"
     },
     "output_type": "display_data"
    }
   ],
   "source": [
    "def plot_graphs(history, string):\n",
    "  plt.plot(history.history[string])\n",
    "  plt.plot(history.history['val_'+string])\n",
    "  plt.xlabel(\"Epochs\")\n",
    "  plt.ylabel(string)\n",
    "  plt.legend([string, 'val_'+string])\n",
    "  plt.show()\n",
    "  \n",
    "plot_graphs(history, \"auc\")\n",
    "plot_graphs(history, \"loss\")"
   ]
  },
  {
   "cell_type": "code",
   "execution_count": 52,
   "metadata": {
    "colab": {
     "base_uri": "https://localhost:8080/"
    },
    "id": "DfJokgM_ll7w",
    "outputId": "566af8a2-d160-4645-c28b-b0229e422927"
   },
   "outputs": [],
   "source": [
    "#score = model.evaluate(valid_padded, validation_labels)\n",
    "#print(\"Loss = {}\".format(score[0]))\n",
    "#print(\"Accuracy = {0:.2f}%\".format(score[1]*100))\n",
    "#print(score)"
   ]
  },
  {
   "cell_type": "code",
   "execution_count": 53,
   "metadata": {
    "colab": {
     "base_uri": "https://localhost:8080/"
    },
    "id": "5ToVHSgyni2H",
    "outputId": "1ee9be94-89b6-48b8-87fc-209d796bf00d"
   },
   "outputs": [
    {
     "name": "stderr",
     "output_type": "stream",
     "text": [
      "C:\\Users\\phvpa\\anaconda3\\envs\\NLP\\lib\\site-packages\\tensorflow\\python\\keras\\engine\\sequential.py:450: UserWarning: `model.predict_classes()` is deprecated and will be removed after 2021-01-01. Please use instead:* `np.argmax(model.predict(x), axis=-1)`,   if your model does multi-class classification   (e.g. if it uses a `softmax` last-layer activation).* `(model.predict(x) > 0.5).astype(\"int32\")`,   if your model does binary classification   (e.g. if it uses a `sigmoid` last-layer activation).\n",
      "  warnings.warn('`model.predict_classes()` is deprecated and '\n"
     ]
    },
    {
     "name": "stdout",
     "output_type": "stream",
     "text": [
      "Accuracy = 64.67\n",
      "Precision = 0.5797\n",
      "Recall = 0.6346\n",
      "F1-score = 0.5995\n"
     ]
    }
   ],
   "source": [
    "y_pred = model.predict_classes(valid_padded)\n",
    "\n",
    "accuracy = accuracy_score(valid_label, y_pred)\n",
    "precision = precision_score(valid_label, y_pred, average='macro')\n",
    "recall = recall_score(valid_label, y_pred, average='macro')\n",
    "f1 = f1_score(valid_label, y_pred, average='macro')\n",
    "\n",
    "print(\"Accuracy = {0:.2f}\".format(accuracy*100))\n",
    "print(\"Precision = {0:.4f}\".format(precision))\n",
    "print(\"Recall = {0:.4f}\".format(recall))\n",
    "print(\"F1-score = {0:.4f}\".format(f1))"
   ]
  },
  {
   "cell_type": "code",
   "execution_count": 54,
   "metadata": {
    "colab": {
     "base_uri": "https://localhost:8080/"
    },
    "id": "4kzRK7MCzCtM",
    "outputId": "2899da2a-7369-4ff8-9384-d3891bf09477"
   },
   "outputs": [
    {
     "data": {
      "text/plain": [
       "array([[ 50,  10,  26,   1,  15],\n",
       "       [ 29, 129,  33,   4,  42],\n",
       "       [ 57,  53, 470,  34,  92],\n",
       "       [  1,   2,  11, 116,  11],\n",
       "       [ 27,  53,  93,  30, 377]], dtype=int64)"
      ]
     },
     "execution_count": 54,
     "metadata": {},
     "output_type": "execute_result"
    }
   ],
   "source": [
    "confusion_matrix(valid_label,y_pred)"
   ]
  },
  {
   "cell_type": "code",
   "execution_count": 55,
   "metadata": {
    "colab": {
     "base_uri": "https://localhost:8080/"
    },
    "id": "_N3CegKPzCtN",
    "outputId": "27e99609-bef6-4076-bb75-0c958835c58a"
   },
   "outputs": [
    {
     "name": "stdout",
     "output_type": "stream",
     "text": [
      "              precision    recall  f1-score   support\n",
      "\n",
      "           0       0.30      0.49      0.38       102\n",
      "           1       0.52      0.54      0.53       237\n",
      "           2       0.74      0.67      0.70       706\n",
      "           3       0.63      0.82      0.71       141\n",
      "           4       0.70      0.65      0.68       580\n",
      "\n",
      "    accuracy                           0.65      1766\n",
      "   macro avg       0.58      0.63      0.60      1766\n",
      "weighted avg       0.67      0.65      0.65      1766\n",
      "\n"
     ]
    }
   ],
   "source": [
    "print(classification_report(valid_label,y_pred))"
   ]
  },
  {
   "cell_type": "code",
   "execution_count": null,
   "metadata": {},
   "outputs": [],
   "source": []
  },
  {
   "cell_type": "code",
   "execution_count": 56,
   "metadata": {
    "colab": {
     "base_uri": "https://localhost:8080/"
    },
    "id": "c-axMoRan6uV",
    "outputId": "ffb15532-71ed-4b41-e418-ad59a5f0de4c"
   },
   "outputs": [
    {
     "name": "stdout",
     "output_type": "stream",
     "text": [
      "['ഈ കിളവന് നിർത്താറായില്ലേ കല്യാണം കഴിക്കാൻ നടക്കൽ', 'i like mohanlal sirrr love from tamilnaduu', 'from tamilnadu mamukka fan vera level']\n"
     ]
    }
   ],
   "source": [
    "# Write some new reviews \n",
    "\n",
    "review1 = \"ഈ കിളവന് നിർത്താറായില്ലേ കല്യാണം കഴിക്കാൻ നടക്കൽ...\"\n",
    "review2 = \"I like mohanlal sirrr love from tamilnaduu\"\n",
    "review3 = \"From tamilnadu mamukka fan vera level\"\n",
    "\n",
    "review1 = preprocess_data(review1)\n",
    "review2 = preprocess_data(review2)\n",
    "review3 = preprocess_data(review3)\n",
    "\n",
    "new_reviews = [review1, review2, review3]\n",
    "print(new_reviews)"
   ]
  },
  {
   "cell_type": "code",
   "execution_count": 57,
   "metadata": {
    "colab": {
     "base_uri": "https://localhost:8080/"
    },
    "id": "Mur1SQptoWRD",
    "outputId": "a564a946-5352-4feb-a110-aa9aae39bb2e"
   },
   "outputs": [
    {
     "name": "stdout",
     "output_type": "stream",
     "text": [
      "ഈ കിളവന് നിർത്താറായില്ലേ കല്യാണം കഴിക്കാൻ നടക്കൽ\n",
      "['unknown_state']\n",
      "[0.01133229 0.20903146 0.36405793 0.01299978 0.40257853]\n",
      "\n",
      "\n",
      "i like mohanlal sirrr love from tamilnaduu\n",
      "['not-malayalam']\n",
      "[1.0117584e-04 2.9752198e-05 3.3369107e-04 9.9581820e-01 3.7171545e-03]\n",
      "\n",
      "\n",
      "from tamilnadu mamukka fan vera level\n",
      "['Positive']\n",
      "[0.01511108 0.00225769 0.6037646  0.33097118 0.04789547]\n",
      "\n",
      "\n"
     ]
    },
    {
     "name": "stderr",
     "output_type": "stream",
     "text": [
      "C:\\Users\\phvpa\\anaconda3\\envs\\NLP\\lib\\site-packages\\tensorflow\\python\\keras\\engine\\sequential.py:450: UserWarning: `model.predict_classes()` is deprecated and will be removed after 2021-01-01. Please use instead:* `np.argmax(model.predict(x), axis=-1)`,   if your model does multi-class classification   (e.g. if it uses a `softmax` last-layer activation).* `(model.predict(x) > 0.5).astype(\"int32\")`,   if your model does binary classification   (e.g. if it uses a `sigmoid` last-layer activation).\n",
      "  warnings.warn('`model.predict_classes()` is deprecated and '\n"
     ]
    }
   ],
   "source": [
    "# Define a function to prepare the new reviews for use with a model\n",
    "# and then use the model to predict the sentiment of the new reviews           \n",
    "\n",
    "def predict_review(model, reviews):\n",
    "  # Create the sequences\n",
    "  padding_type='post'\n",
    "  sample_sequences = tokenizer.texts_to_sequences(reviews)\n",
    "  reviews_padded = tf.keras.preprocessing.sequence.pad_sequences(sample_sequences, padding=padding_type, \n",
    "                                 maxlen=max_length) \n",
    "  classes = model.predict_classes(reviews_padded)\n",
    "  classes_prob = model.predict(reviews_padded)\n",
    "  for x in range(len(reviews_padded)):\n",
    "    print(reviews[x])\n",
    "    print(le.inverse_transform([classes[x]]))\n",
    "    print(classes_prob[x])\n",
    "    print('\\n')\n",
    "\n",
    "predict_review(model, new_reviews)"
   ]
  },
  {
   "cell_type": "code",
   "execution_count": 58,
   "metadata": {},
   "outputs": [
    {
     "data": {
      "text/plain": [
       "['teaserinu kurach samayamkoodi mathram cant wait',\n",
       " 'അപ്പോൾ കഥയുടെ  റൂട്ട് മാറിയല്ലോ',\n",
       " 'മൂത്തോൻ ട്രൈലെർ trending list വരാത്തത് എന്താ ',\n",
       " 'nowadays 944k views is considered as 1m views in kerala',\n",
       " 'maasstrailer ennu paranja ithaanu makkalekatta waiting for ',\n",
       " 'ethu kandappol kgf orma vannathu enikku matram ano ',\n",
       " 'vere level  onnum parayan ella',\n",
       " 'idvere vere chilar parannadaaannn muruga nee theernnada ennn ini nangal mammookka fans sherikkum parayunnnu murugaaa nee theernnada ikka love',\n",
       " 'റിലീസ് ചെയ്ത അന്ന് തന്നെ പടം കാണാൻ ബോണി പറഞ്ഞു',\n",
       " 'lalettanu thulayam malayalam film industry yil latten mathram']"
      ]
     },
     "execution_count": 58,
     "metadata": {},
     "output_type": "execute_result"
    }
   ],
   "source": [
    "sample_test = test_text[0:10]\n",
    "sample_test"
   ]
  },
  {
   "cell_type": "code",
   "execution_count": 59,
   "metadata": {},
   "outputs": [
    {
     "name": "stdout",
     "output_type": "stream",
     "text": [
      "teaserinu kurach samayamkoodi mathram cant wait\n",
      "['Positive']\n",
      "[0.03491107 0.27852243 0.4868803  0.04419033 0.1554958 ]\n",
      "\n",
      "\n",
      "അപ്പോൾ കഥയുടെ  റൂട്ട് മാറിയല്ലോ\n",
      "['unknown_state']\n",
      "[0.01422765 0.00512081 0.40977186 0.016922   0.55395764]\n",
      "\n",
      "\n",
      "മൂത്തോൻ ട്രൈലെർ trending list വരാത്തത് എന്താ \n",
      "['Negative']\n",
      "[0.00695707 0.49249318 0.33941796 0.00066848 0.16046329]\n",
      "\n",
      "\n",
      "nowadays 944k views is considered as 1m views in kerala\n",
      "['not-malayalam']\n",
      "[0.00215734 0.00287705 0.01122508 0.88892424 0.09481627]\n",
      "\n",
      "\n",
      "maasstrailer ennu paranja ithaanu makkalekatta waiting for \n",
      "['Positive']\n",
      "[0.02429274 0.00869764 0.95157874 0.00211168 0.01331934]\n",
      "\n",
      "\n",
      "ethu kandappol kgf orma vannathu enikku matram ano \n",
      "['Negative']\n",
      "[0.28634387 0.3180437  0.15665229 0.00055653 0.2384036 ]\n",
      "\n",
      "\n",
      "vere level  onnum parayan ella\n",
      "['Positive']\n",
      "[2.1969881e-02 1.5395364e-02 9.5013040e-01 2.6697732e-04 1.2237377e-02]\n",
      "\n",
      "\n",
      "idvere vere chilar parannadaaannn muruga nee theernnada ennn ini nangal mammookka fans sherikkum parayunnnu murugaaa nee theernnada ikka love\n",
      "['Positive']\n",
      "[0.02583376 0.03533247 0.8527978  0.00147574 0.08456021]\n",
      "\n",
      "\n",
      "റിലീസ് ചെയ്ത അന്ന് തന്നെ പടം കാണാൻ ബോണി പറഞ്ഞു\n",
      "['Mixed_feelings']\n",
      "[0.70619047 0.05527406 0.06836132 0.00095658 0.16921751]\n",
      "\n",
      "\n",
      "lalettanu thulayam malayalam film industry yil latten mathram\n",
      "['Positive']\n",
      "[0.00521441 0.01409788 0.84474164 0.00579366 0.13015236]\n",
      "\n",
      "\n"
     ]
    }
   ],
   "source": [
    "predict_review(model, sample_test)"
   ]
  },
  {
   "cell_type": "code",
   "execution_count": 60,
   "metadata": {
    "id": "iy2qX-VbzdQQ"
   },
   "outputs": [],
   "source": [
    "classes = model.predict_classes(test_padded)\n",
    "pred = []\n",
    "\n",
    "for i in range(len(classes)):\n",
    "  pred.append(le.inverse_transform([classes[i]])[0])"
   ]
  },
  {
   "cell_type": "code",
   "execution_count": 61,
   "metadata": {},
   "outputs": [],
   "source": [
    "#pred[:]"
   ]
  },
  {
   "cell_type": "code",
   "execution_count": 62,
   "metadata": {},
   "outputs": [
    {
     "data": {
      "text/html": [
       "<div>\n",
       "<style scoped>\n",
       "    .dataframe tbody tr th:only-of-type {\n",
       "        vertical-align: middle;\n",
       "    }\n",
       "\n",
       "    .dataframe tbody tr th {\n",
       "        vertical-align: top;\n",
       "    }\n",
       "\n",
       "    .dataframe thead th {\n",
       "        text-align: right;\n",
       "    }\n",
       "</style>\n",
       "<table border=\"1\" class=\"dataframe\">\n",
       "  <thead>\n",
       "    <tr style=\"text-align: right;\">\n",
       "      <th></th>\n",
       "      <th>label</th>\n",
       "    </tr>\n",
       "  </thead>\n",
       "  <tbody>\n",
       "    <tr>\n",
       "      <th>0</th>\n",
       "      <td>Positive</td>\n",
       "    </tr>\n",
       "    <tr>\n",
       "      <th>1</th>\n",
       "      <td>unknown_state</td>\n",
       "    </tr>\n",
       "    <tr>\n",
       "      <th>2</th>\n",
       "      <td>Negative</td>\n",
       "    </tr>\n",
       "    <tr>\n",
       "      <th>3</th>\n",
       "      <td>not-malayalam</td>\n",
       "    </tr>\n",
       "    <tr>\n",
       "      <th>4</th>\n",
       "      <td>Positive</td>\n",
       "    </tr>\n",
       "  </tbody>\n",
       "</table>\n",
       "</div>"
      ],
      "text/plain": [
       "           label\n",
       "0       Positive\n",
       "1  unknown_state\n",
       "2       Negative\n",
       "3  not-malayalam\n",
       "4       Positive"
      ]
     },
     "execution_count": 62,
     "metadata": {},
     "output_type": "execute_result"
    }
   ],
   "source": [
    "pred_df = pd.DataFrame(pred, columns=['label'])\n",
    "pred_df.head()"
   ]
  },
  {
   "cell_type": "code",
   "execution_count": 63,
   "metadata": {},
   "outputs": [
    {
     "data": {
      "text/html": [
       "<div>\n",
       "<style scoped>\n",
       "    .dataframe tbody tr th:only-of-type {\n",
       "        vertical-align: middle;\n",
       "    }\n",
       "\n",
       "    .dataframe tbody tr th {\n",
       "        vertical-align: top;\n",
       "    }\n",
       "\n",
       "    .dataframe thead th {\n",
       "        text-align: right;\n",
       "    }\n",
       "</style>\n",
       "<table border=\"1\" class=\"dataframe\">\n",
       "  <thead>\n",
       "    <tr style=\"text-align: right;\">\n",
       "      <th></th>\n",
       "      <th>id</th>\n",
       "      <th>text</th>\n",
       "      <th>label</th>\n",
       "    </tr>\n",
       "  </thead>\n",
       "  <tbody>\n",
       "    <tr>\n",
       "      <th>0</th>\n",
       "      <td>Mal_1</td>\n",
       "      <td>teaserinu kurach samayamkoodi mathram cant wait</td>\n",
       "      <td>Positive</td>\n",
       "    </tr>\n",
       "    <tr>\n",
       "      <th>1</th>\n",
       "      <td>Mal_2</td>\n",
       "      <td>അപ്പോൾ കഥയുടെ  റൂട്ട് മാറിയല്ലോ</td>\n",
       "      <td>unknown_state</td>\n",
       "    </tr>\n",
       "    <tr>\n",
       "      <th>2</th>\n",
       "      <td>Mal_3</td>\n",
       "      <td>മൂത്തോൻ ട്രൈലെർ trending list വരാത്തത് എന്താ</td>\n",
       "      <td>Negative</td>\n",
       "    </tr>\n",
       "    <tr>\n",
       "      <th>3</th>\n",
       "      <td>Mal_4</td>\n",
       "      <td>nowadays 944k views is considered as 1m views ...</td>\n",
       "      <td>not-malayalam</td>\n",
       "    </tr>\n",
       "    <tr>\n",
       "      <th>4</th>\n",
       "      <td>Mal_5</td>\n",
       "      <td>maasstrailer ennu paranja ithaanu makkalekatta...</td>\n",
       "      <td>Positive</td>\n",
       "    </tr>\n",
       "  </tbody>\n",
       "</table>\n",
       "</div>"
      ],
      "text/plain": [
       "      id                                               text          label\n",
       "0  Mal_1    teaserinu kurach samayamkoodi mathram cant wait       Positive\n",
       "1  Mal_2                    അപ്പോൾ കഥയുടെ  റൂട്ട് മാറിയല്ലോ  unknown_state\n",
       "2  Mal_3      മൂത്തോൻ ട്രൈലെർ trending list വരാത്തത് എന്താ        Negative\n",
       "3  Mal_4  nowadays 944k views is considered as 1m views ...  not-malayalam\n",
       "4  Mal_5  maasstrailer ennu paranja ithaanu makkalekatta...       Positive"
      ]
     },
     "execution_count": 63,
     "metadata": {},
     "output_type": "execute_result"
    }
   ],
   "source": [
    "result = pd.concat([test_df, pred_df], axis=1)\n",
    "result.head()"
   ]
  },
  {
   "cell_type": "code",
   "execution_count": 64,
   "metadata": {},
   "outputs": [],
   "source": [
    "result.to_csv('BiLSTM_Malyalam_Test_Pred_Labels_22-06-2021.csv', sep = ',', index=False)"
   ]
  },
  {
   "cell_type": "code",
   "execution_count": 65,
   "metadata": {},
   "outputs": [
    {
     "name": "stderr",
     "output_type": "stream",
     "text": [
      "C:\\Users\\phvpa\\anaconda3\\envs\\NLP\\lib\\site-packages\\tensorflow\\python\\keras\\engine\\sequential.py:450: UserWarning: `model.predict_classes()` is deprecated and will be removed after 2021-01-01. Please use instead:* `np.argmax(model.predict(x), axis=-1)`,   if your model does multi-class classification   (e.g. if it uses a `softmax` last-layer activation).* `(model.predict(x) > 0.5).astype(\"int32\")`,   if your model does binary classification   (e.g. if it uses a `sigmoid` last-layer activation).\n",
      "  warnings.warn('`model.predict_classes()` is deprecated and '\n"
     ]
    }
   ],
   "source": [
    "Valid_classes = model.predict_classes(valid_padded)\n",
    "Valid_pred = []\n",
    "\n",
    "for i in range(len(Valid_classes)):\n",
    "    Valid_pred.append(le.inverse_transform([Valid_classes[i]])[0])"
   ]
  },
  {
   "cell_type": "code",
   "execution_count": 66,
   "metadata": {},
   "outputs": [
    {
     "data": {
      "text/plain": [
       "(1766,)"
      ]
     },
     "execution_count": 66,
     "metadata": {},
     "output_type": "execute_result"
    }
   ],
   "source": [
    "Valid_classes.shape"
   ]
  },
  {
   "cell_type": "code",
   "execution_count": 67,
   "metadata": {},
   "outputs": [
    {
     "data": {
      "text/html": [
       "<div>\n",
       "<style scoped>\n",
       "    .dataframe tbody tr th:only-of-type {\n",
       "        vertical-align: middle;\n",
       "    }\n",
       "\n",
       "    .dataframe tbody tr th {\n",
       "        vertical-align: top;\n",
       "    }\n",
       "\n",
       "    .dataframe thead th {\n",
       "        text-align: right;\n",
       "    }\n",
       "</style>\n",
       "<table border=\"1\" class=\"dataframe\">\n",
       "  <thead>\n",
       "    <tr style=\"text-align: right;\">\n",
       "      <th></th>\n",
       "      <th>Predicted label</th>\n",
       "    </tr>\n",
       "  </thead>\n",
       "  <tbody>\n",
       "    <tr>\n",
       "      <th>0</th>\n",
       "      <td>Positive</td>\n",
       "    </tr>\n",
       "    <tr>\n",
       "      <th>1</th>\n",
       "      <td>not-malayalam</td>\n",
       "    </tr>\n",
       "    <tr>\n",
       "      <th>2</th>\n",
       "      <td>Positive</td>\n",
       "    </tr>\n",
       "    <tr>\n",
       "      <th>3</th>\n",
       "      <td>unknown_state</td>\n",
       "    </tr>\n",
       "    <tr>\n",
       "      <th>4</th>\n",
       "      <td>Positive</td>\n",
       "    </tr>\n",
       "  </tbody>\n",
       "</table>\n",
       "</div>"
      ],
      "text/plain": [
       "  Predicted label\n",
       "0        Positive\n",
       "1   not-malayalam\n",
       "2        Positive\n",
       "3   unknown_state\n",
       "4        Positive"
      ]
     },
     "execution_count": 67,
     "metadata": {},
     "output_type": "execute_result"
    }
   ],
   "source": [
    "Valid_pred_df = pd.DataFrame(Valid_pred, columns=['Predicted label'])\n",
    "Valid_pred_df.head()"
   ]
  },
  {
   "cell_type": "code",
   "execution_count": 68,
   "metadata": {},
   "outputs": [
    {
     "data": {
      "text/html": [
       "<div>\n",
       "<style scoped>\n",
       "    .dataframe tbody tr th:only-of-type {\n",
       "        vertical-align: middle;\n",
       "    }\n",
       "\n",
       "    .dataframe tbody tr th {\n",
       "        vertical-align: top;\n",
       "    }\n",
       "\n",
       "    .dataframe thead th {\n",
       "        text-align: right;\n",
       "    }\n",
       "</style>\n",
       "<table border=\"1\" class=\"dataframe\">\n",
       "  <thead>\n",
       "    <tr style=\"text-align: right;\">\n",
       "      <th></th>\n",
       "      <th>text</th>\n",
       "      <th>category</th>\n",
       "      <th>Predicted label</th>\n",
       "    </tr>\n",
       "  </thead>\n",
       "  <tbody>\n",
       "    <tr>\n",
       "      <th>0</th>\n",
       "      <td>mammooka ninghal mass aa pwoli item</td>\n",
       "      <td>Positive</td>\n",
       "      <td>Positive</td>\n",
       "    </tr>\n",
       "    <tr>\n",
       "      <th>1</th>\n",
       "      <td>waiting for malayalam movie  for tamil paiyan</td>\n",
       "      <td>not-malayalam</td>\n",
       "      <td>not-malayalam</td>\n",
       "    </tr>\n",
       "    <tr>\n",
       "      <th>2</th>\n",
       "      <td>ദളപതി ഫാൻസിന്റെ വക ഒരു ഒന്നൊന്നര വിജയാശംസകൾ</td>\n",
       "      <td>Positive</td>\n",
       "      <td>Positive</td>\n",
       "    </tr>\n",
       "    <tr>\n",
       "      <th>3</th>\n",
       "      <td>pwolichuuuu ഓണത്തിന് വന്നങ്ങു തകർത്തേക്ക്</td>\n",
       "      <td>Positive</td>\n",
       "      <td>unknown_state</td>\n",
       "    </tr>\n",
       "    <tr>\n",
       "      <th>4</th>\n",
       "      <td>mammoookkaaaa polichadukkiii katta waiting nv 21</td>\n",
       "      <td>Positive</td>\n",
       "      <td>Positive</td>\n",
       "    </tr>\n",
       "    <tr>\n",
       "      <th>...</th>\n",
       "      <td>...</td>\n",
       "      <td>...</td>\n",
       "      <td>...</td>\n",
       "    </tr>\n",
       "    <tr>\n",
       "      <th>1761</th>\n",
       "      <td>aa ചിരി uff എന്റെ പൊന്നോ ഇക്ക vere ലെവൽ</td>\n",
       "      <td>Positive</td>\n",
       "      <td>Positive</td>\n",
       "    </tr>\n",
       "    <tr>\n",
       "      <th>1762</th>\n",
       "      <td>katta katta katta katta waitingcant wait man</td>\n",
       "      <td>Positive</td>\n",
       "      <td>Positive</td>\n",
       "    </tr>\n",
       "    <tr>\n",
       "      <th>1763</th>\n",
       "      <td>arjun reddy bgm poole thonniyathu enniku mathr...</td>\n",
       "      <td>unknown_state</td>\n",
       "      <td>Mixed_feelings</td>\n",
       "    </tr>\n",
       "    <tr>\n",
       "      <th>1764</th>\n",
       "      <td>fahad ikka ithilum polikum en urappayi</td>\n",
       "      <td>Positive</td>\n",
       "      <td>Positive</td>\n",
       "    </tr>\n",
       "    <tr>\n",
       "      <th>1765</th>\n",
       "      <td>njan veendum kanan vannu 100 pravashyam enkilu...</td>\n",
       "      <td>Positive</td>\n",
       "      <td>Positive</td>\n",
       "    </tr>\n",
       "  </tbody>\n",
       "</table>\n",
       "<p>1766 rows × 3 columns</p>\n",
       "</div>"
      ],
      "text/plain": [
       "                                                   text       category  \\\n",
       "0                   mammooka ninghal mass aa pwoli item       Positive   \n",
       "1         waiting for malayalam movie  for tamil paiyan  not-malayalam   \n",
       "2           ദളപതി ഫാൻസിന്റെ വക ഒരു ഒന്നൊന്നര വിജയാശംസകൾ       Positive   \n",
       "3            pwolichuuuu ഓണത്തിന് വന്നങ്ങു തകർത്തേക്ക്        Positive   \n",
       "4      mammoookkaaaa polichadukkiii katta waiting nv 21       Positive   \n",
       "...                                                 ...            ...   \n",
       "1761            aa ചിരി uff എന്റെ പൊന്നോ ഇക്ക vere ലെവൽ       Positive   \n",
       "1762       katta katta katta katta waitingcant wait man       Positive   \n",
       "1763  arjun reddy bgm poole thonniyathu enniku mathr...  unknown_state   \n",
       "1764             fahad ikka ithilum polikum en urappayi       Positive   \n",
       "1765  njan veendum kanan vannu 100 pravashyam enkilu...       Positive   \n",
       "\n",
       "     Predicted label  \n",
       "0           Positive  \n",
       "1      not-malayalam  \n",
       "2           Positive  \n",
       "3      unknown_state  \n",
       "4           Positive  \n",
       "...              ...  \n",
       "1761        Positive  \n",
       "1762        Positive  \n",
       "1763  Mixed_feelings  \n",
       "1764        Positive  \n",
       "1765        Positive  \n",
       "\n",
       "[1766 rows x 3 columns]"
      ]
     },
     "execution_count": 68,
     "metadata": {},
     "output_type": "execute_result"
    }
   ],
   "source": [
    "Valid_result = pd.concat([valid_df, Valid_pred_df], axis=1)\n",
    "Valid_result"
   ]
  },
  {
   "cell_type": "code",
   "execution_count": 69,
   "metadata": {},
   "outputs": [],
   "source": [
    "Valid_result.to_csv('BiLSTM_Malyalam_Valid_Pred_Labels_22-06-2021.csv', sep = ',', index=False)"
   ]
  },
  {
   "cell_type": "code",
   "execution_count": 70,
   "metadata": {},
   "outputs": [
    {
     "data": {
      "text/html": [
       "<div>\n",
       "<style scoped>\n",
       "    .dataframe tbody tr th:only-of-type {\n",
       "        vertical-align: middle;\n",
       "    }\n",
       "\n",
       "    .dataframe tbody tr th {\n",
       "        vertical-align: top;\n",
       "    }\n",
       "\n",
       "    .dataframe thead th {\n",
       "        text-align: right;\n",
       "    }\n",
       "</style>\n",
       "<table border=\"1\" class=\"dataframe\">\n",
       "  <thead>\n",
       "    <tr style=\"text-align: right;\">\n",
       "      <th></th>\n",
       "      <th>text</th>\n",
       "      <th>category</th>\n",
       "    </tr>\n",
       "  </thead>\n",
       "  <tbody>\n",
       "    <tr>\n",
       "      <th>0</th>\n",
       "      <td>mammooka ninghal mass aa pwoli item</td>\n",
       "      <td>Positive</td>\n",
       "    </tr>\n",
       "    <tr>\n",
       "      <th>1</th>\n",
       "      <td>waiting for malayalam movie  for tamil paiyan</td>\n",
       "      <td>not-malayalam</td>\n",
       "    </tr>\n",
       "    <tr>\n",
       "      <th>2</th>\n",
       "      <td>ദളപതി ഫാൻസിന്റെ വക ഒരു ഒന്നൊന്നര വിജയാശംസകൾ</td>\n",
       "      <td>Positive</td>\n",
       "    </tr>\n",
       "    <tr>\n",
       "      <th>3</th>\n",
       "      <td>pwolichuuuu ഓണത്തിന് വന്നങ്ങു തകർത്തേക്ക്</td>\n",
       "      <td>Positive</td>\n",
       "    </tr>\n",
       "    <tr>\n",
       "      <th>4</th>\n",
       "      <td>mammoookkaaaa polichadukkiii katta waiting nv 21</td>\n",
       "      <td>Positive</td>\n",
       "    </tr>\n",
       "    <tr>\n",
       "      <th>...</th>\n",
       "      <td>...</td>\n",
       "      <td>...</td>\n",
       "    </tr>\n",
       "    <tr>\n",
       "      <th>1761</th>\n",
       "      <td>aa ചിരി uff എന്റെ പൊന്നോ ഇക്ക vere ലെവൽ</td>\n",
       "      <td>Positive</td>\n",
       "    </tr>\n",
       "    <tr>\n",
       "      <th>1762</th>\n",
       "      <td>katta katta katta katta waitingcant wait man</td>\n",
       "      <td>Positive</td>\n",
       "    </tr>\n",
       "    <tr>\n",
       "      <th>1763</th>\n",
       "      <td>arjun reddy bgm poole thonniyathu enniku mathr...</td>\n",
       "      <td>unknown_state</td>\n",
       "    </tr>\n",
       "    <tr>\n",
       "      <th>1764</th>\n",
       "      <td>fahad ikka ithilum polikum en urappayi</td>\n",
       "      <td>Positive</td>\n",
       "    </tr>\n",
       "    <tr>\n",
       "      <th>1765</th>\n",
       "      <td>njan veendum kanan vannu 100 pravashyam enkilu...</td>\n",
       "      <td>Positive</td>\n",
       "    </tr>\n",
       "  </tbody>\n",
       "</table>\n",
       "<p>1766 rows × 2 columns</p>\n",
       "</div>"
      ],
      "text/plain": [
       "                                                   text       category\n",
       "0                   mammooka ninghal mass aa pwoli item       Positive\n",
       "1         waiting for malayalam movie  for tamil paiyan  not-malayalam\n",
       "2           ദളപതി ഫാൻസിന്റെ വക ഒരു ഒന്നൊന്നര വിജയാശംസകൾ       Positive\n",
       "3            pwolichuuuu ഓണത്തിന് വന്നങ്ങു തകർത്തേക്ക്        Positive\n",
       "4      mammoookkaaaa polichadukkiii katta waiting nv 21       Positive\n",
       "...                                                 ...            ...\n",
       "1761            aa ചിരി uff എന്റെ പൊന്നോ ഇക്ക vere ലെവൽ       Positive\n",
       "1762       katta katta katta katta waitingcant wait man       Positive\n",
       "1763  arjun reddy bgm poole thonniyathu enniku mathr...  unknown_state\n",
       "1764             fahad ikka ithilum polikum en urappayi       Positive\n",
       "1765  njan veendum kanan vannu 100 pravashyam enkilu...       Positive\n",
       "\n",
       "[1766 rows x 2 columns]"
      ]
     },
     "execution_count": 70,
     "metadata": {},
     "output_type": "execute_result"
    }
   ],
   "source": [
    "valid_df"
   ]
  },
  {
   "cell_type": "code",
   "execution_count": 71,
   "metadata": {},
   "outputs": [
    {
     "data": {
      "text/html": [
       "<div>\n",
       "<style scoped>\n",
       "    .dataframe tbody tr th:only-of-type {\n",
       "        vertical-align: middle;\n",
       "    }\n",
       "\n",
       "    .dataframe tbody tr th {\n",
       "        vertical-align: top;\n",
       "    }\n",
       "\n",
       "    .dataframe thead th {\n",
       "        text-align: right;\n",
       "    }\n",
       "</style>\n",
       "<table border=\"1\" class=\"dataframe\">\n",
       "  <thead>\n",
       "    <tr style=\"text-align: right;\">\n",
       "      <th></th>\n",
       "      <th>text</th>\n",
       "      <th>category</th>\n",
       "      <th>Predicted label</th>\n",
       "    </tr>\n",
       "  </thead>\n",
       "  <tbody>\n",
       "    <tr>\n",
       "      <th>0</th>\n",
       "      <td>mammooka ninghal mass aa pwoli item</td>\n",
       "      <td>Positive</td>\n",
       "      <td>Positive</td>\n",
       "    </tr>\n",
       "    <tr>\n",
       "      <th>1</th>\n",
       "      <td>waiting for malayalam movie  for tamil paiyan</td>\n",
       "      <td>not-malayalam</td>\n",
       "      <td>not-malayalam</td>\n",
       "    </tr>\n",
       "    <tr>\n",
       "      <th>2</th>\n",
       "      <td>ദളപതി ഫാൻസിന്റെ വക ഒരു ഒന്നൊന്നര വിജയാശംസകൾ</td>\n",
       "      <td>Positive</td>\n",
       "      <td>Positive</td>\n",
       "    </tr>\n",
       "    <tr>\n",
       "      <th>3</th>\n",
       "      <td>pwolichuuuu ഓണത്തിന് വന്നങ്ങു തകർത്തേക്ക്</td>\n",
       "      <td>Positive</td>\n",
       "      <td>unknown_state</td>\n",
       "    </tr>\n",
       "    <tr>\n",
       "      <th>4</th>\n",
       "      <td>mammoookkaaaa polichadukkiii katta waiting nv 21</td>\n",
       "      <td>Positive</td>\n",
       "      <td>Positive</td>\n",
       "    </tr>\n",
       "    <tr>\n",
       "      <th>...</th>\n",
       "      <td>...</td>\n",
       "      <td>...</td>\n",
       "      <td>...</td>\n",
       "    </tr>\n",
       "    <tr>\n",
       "      <th>1761</th>\n",
       "      <td>aa ചിരി uff എന്റെ പൊന്നോ ഇക്ക vere ലെവൽ</td>\n",
       "      <td>Positive</td>\n",
       "      <td>Positive</td>\n",
       "    </tr>\n",
       "    <tr>\n",
       "      <th>1762</th>\n",
       "      <td>katta katta katta katta waitingcant wait man</td>\n",
       "      <td>Positive</td>\n",
       "      <td>Positive</td>\n",
       "    </tr>\n",
       "    <tr>\n",
       "      <th>1763</th>\n",
       "      <td>arjun reddy bgm poole thonniyathu enniku mathr...</td>\n",
       "      <td>unknown_state</td>\n",
       "      <td>Mixed_feelings</td>\n",
       "    </tr>\n",
       "    <tr>\n",
       "      <th>1764</th>\n",
       "      <td>fahad ikka ithilum polikum en urappayi</td>\n",
       "      <td>Positive</td>\n",
       "      <td>Positive</td>\n",
       "    </tr>\n",
       "    <tr>\n",
       "      <th>1765</th>\n",
       "      <td>njan veendum kanan vannu 100 pravashyam enkilu...</td>\n",
       "      <td>Positive</td>\n",
       "      <td>Positive</td>\n",
       "    </tr>\n",
       "  </tbody>\n",
       "</table>\n",
       "<p>1766 rows × 3 columns</p>\n",
       "</div>"
      ],
      "text/plain": [
       "                                                   text       category  \\\n",
       "0                   mammooka ninghal mass aa pwoli item       Positive   \n",
       "1         waiting for malayalam movie  for tamil paiyan  not-malayalam   \n",
       "2           ദളപതി ഫാൻസിന്റെ വക ഒരു ഒന്നൊന്നര വിജയാശംസകൾ       Positive   \n",
       "3            pwolichuuuu ഓണത്തിന് വന്നങ്ങു തകർത്തേക്ക്        Positive   \n",
       "4      mammoookkaaaa polichadukkiii katta waiting nv 21       Positive   \n",
       "...                                                 ...            ...   \n",
       "1761            aa ചിരി uff എന്റെ പൊന്നോ ഇക്ക vere ലെവൽ       Positive   \n",
       "1762       katta katta katta katta waitingcant wait man       Positive   \n",
       "1763  arjun reddy bgm poole thonniyathu enniku mathr...  unknown_state   \n",
       "1764             fahad ikka ithilum polikum en urappayi       Positive   \n",
       "1765  njan veendum kanan vannu 100 pravashyam enkilu...       Positive   \n",
       "\n",
       "     Predicted label  \n",
       "0           Positive  \n",
       "1      not-malayalam  \n",
       "2           Positive  \n",
       "3      unknown_state  \n",
       "4           Positive  \n",
       "...              ...  \n",
       "1761        Positive  \n",
       "1762        Positive  \n",
       "1763  Mixed_feelings  \n",
       "1764        Positive  \n",
       "1765        Positive  \n",
       "\n",
       "[1766 rows x 3 columns]"
      ]
     },
     "execution_count": 71,
     "metadata": {},
     "output_type": "execute_result"
    }
   ],
   "source": [
    "d = pd.read_csv(\"BiLSTM_Malyalam_Valid_Pred_Labels_22-06-2021.csv\", sep=',')\n",
    "d"
   ]
  },
  {
   "cell_type": "code",
   "execution_count": 72,
   "metadata": {},
   "outputs": [
    {
     "data": {
      "text/html": [
       "<div>\n",
       "<style scoped>\n",
       "    .dataframe tbody tr th:only-of-type {\n",
       "        vertical-align: middle;\n",
       "    }\n",
       "\n",
       "    .dataframe tbody tr th {\n",
       "        vertical-align: top;\n",
       "    }\n",
       "\n",
       "    .dataframe thead th {\n",
       "        text-align: right;\n",
       "    }\n",
       "</style>\n",
       "<table border=\"1\" class=\"dataframe\">\n",
       "  <thead>\n",
       "    <tr style=\"text-align: right;\">\n",
       "      <th></th>\n",
       "      <th>id</th>\n",
       "      <th>text</th>\n",
       "      <th>label</th>\n",
       "    </tr>\n",
       "  </thead>\n",
       "  <tbody>\n",
       "    <tr>\n",
       "      <th>0</th>\n",
       "      <td>Mal_1</td>\n",
       "      <td>teaserinu kurach samayamkoodi mathram cant wait</td>\n",
       "      <td>Positive</td>\n",
       "    </tr>\n",
       "    <tr>\n",
       "      <th>1</th>\n",
       "      <td>Mal_2</td>\n",
       "      <td>അപ്പോൾ കഥയുടെ  റൂട്ട് മാറിയല്ലോ</td>\n",
       "      <td>unknown_state</td>\n",
       "    </tr>\n",
       "    <tr>\n",
       "      <th>2</th>\n",
       "      <td>Mal_3</td>\n",
       "      <td>മൂത്തോൻ ട്രൈലെർ trending list വരാത്തത് എന്താ</td>\n",
       "      <td>Negative</td>\n",
       "    </tr>\n",
       "    <tr>\n",
       "      <th>3</th>\n",
       "      <td>Mal_4</td>\n",
       "      <td>nowadays 944k views is considered as 1m views ...</td>\n",
       "      <td>not-malayalam</td>\n",
       "    </tr>\n",
       "    <tr>\n",
       "      <th>4</th>\n",
       "      <td>Mal_5</td>\n",
       "      <td>maasstrailer ennu paranja ithaanu makkalekatta...</td>\n",
       "      <td>Positive</td>\n",
       "    </tr>\n",
       "    <tr>\n",
       "      <th>...</th>\n",
       "      <td>...</td>\n",
       "      <td>...</td>\n",
       "      <td>...</td>\n",
       "    </tr>\n",
       "    <tr>\n",
       "      <th>1957</th>\n",
       "      <td>Mal_1958</td>\n",
       "      <td>expression വച്ചു നോക്കുമ്പോൾ മൂക്കുത്തി കട്ടത്...</td>\n",
       "      <td>unknown_state</td>\n",
       "    </tr>\n",
       "    <tr>\n",
       "      <th>1958</th>\n",
       "      <td>Mal_1959</td>\n",
       "      <td>എനിക്ക് ഒരു  100 like തരുമോ</td>\n",
       "      <td>unknown_state</td>\n",
       "    </tr>\n",
       "    <tr>\n",
       "      <th>1959</th>\n",
       "      <td>Mal_1960</td>\n",
       "      <td>nannayi onnu poliyunna lakshnm undethrill main...</td>\n",
       "      <td>unknown_state</td>\n",
       "    </tr>\n",
       "    <tr>\n",
       "      <th>1960</th>\n",
       "      <td>Mal_1961</td>\n",
       "      <td>athikam eduthu kayatti vekkendadirection kke k...</td>\n",
       "      <td>unknown_state</td>\n",
       "    </tr>\n",
       "    <tr>\n",
       "      <th>1961</th>\n",
       "      <td>Mal_1962</td>\n",
       "      <td>ithupole mooonchiya oru padam jeevithathil kan...</td>\n",
       "      <td>Positive</td>\n",
       "    </tr>\n",
       "  </tbody>\n",
       "</table>\n",
       "<p>1962 rows × 3 columns</p>\n",
       "</div>"
      ],
      "text/plain": [
       "            id                                               text  \\\n",
       "0        Mal_1    teaserinu kurach samayamkoodi mathram cant wait   \n",
       "1        Mal_2                    അപ്പോൾ കഥയുടെ  റൂട്ട് മാറിയല്ലോ   \n",
       "2        Mal_3      മൂത്തോൻ ട്രൈലെർ trending list വരാത്തത് എന്താ    \n",
       "3        Mal_4  nowadays 944k views is considered as 1m views ...   \n",
       "4        Mal_5  maasstrailer ennu paranja ithaanu makkalekatta...   \n",
       "...        ...                                                ...   \n",
       "1957  Mal_1958  expression വച്ചു നോക്കുമ്പോൾ മൂക്കുത്തി കട്ടത്...   \n",
       "1958  Mal_1959                        എനിക്ക് ഒരു  100 like തരുമോ   \n",
       "1959  Mal_1960  nannayi onnu poliyunna lakshnm undethrill main...   \n",
       "1960  Mal_1961  athikam eduthu kayatti vekkendadirection kke k...   \n",
       "1961  Mal_1962  ithupole mooonchiya oru padam jeevithathil kan...   \n",
       "\n",
       "              label  \n",
       "0          Positive  \n",
       "1     unknown_state  \n",
       "2          Negative  \n",
       "3     not-malayalam  \n",
       "4          Positive  \n",
       "...             ...  \n",
       "1957  unknown_state  \n",
       "1958  unknown_state  \n",
       "1959  unknown_state  \n",
       "1960  unknown_state  \n",
       "1961       Positive  \n",
       "\n",
       "[1962 rows x 3 columns]"
      ]
     },
     "execution_count": 72,
     "metadata": {},
     "output_type": "execute_result"
    }
   ],
   "source": [
    "d1 = pd.read_csv(\"BiLSTM_Malyalam_Test_Pred_Labels_22-06-2021.csv\", sep=',')\n",
    "d1"
   ]
  },
  {
   "cell_type": "code",
   "execution_count": null,
   "metadata": {},
   "outputs": [],
   "source": []
  }
 ],
 "metadata": {
  "accelerator": "GPU",
  "colab": {
   "collapsed_sections": [],
   "name": "CNN(2)_malayalam_Valid.ipynb",
   "provenance": []
  },
  "kernelspec": {
   "display_name": "Python 3",
   "language": "python",
   "name": "python3"
  },
  "language_info": {
   "codemirror_mode": {
    "name": "ipython",
    "version": 3
   },
   "file_extension": ".py",
   "mimetype": "text/x-python",
   "name": "python",
   "nbconvert_exporter": "python",
   "pygments_lexer": "ipython3",
   "version": "3.8.8"
  }
 },
 "nbformat": 4,
 "nbformat_minor": 1
}
